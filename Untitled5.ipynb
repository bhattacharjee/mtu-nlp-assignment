{
  "nbformat": 4,
  "nbformat_minor": 0,
  "metadata": {
    "colab": {
      "name": "Untitled5.ipynb",
      "provenance": [],
      "authorship_tag": "ABX9TyMkqa42GD5eVBgOr8pswZxr",
      "include_colab_link": true
    },
    "kernelspec": {
      "name": "python3",
      "display_name": "Python 3"
    },
    "language_info": {
      "name": "python"
    }
  },
  "cells": [
    {
      "cell_type": "markdown",
      "metadata": {
        "id": "view-in-github",
        "colab_type": "text"
      },
      "source": [
        "<a href=\"https://colab.research.google.com/github/bhattacharjee/mtu-nlp-assignment/blob/main/Untitled5.ipynb\" target=\"_parent\"><img src=\"https://colab.research.google.com/assets/colab-badge.svg\" alt=\"Open In Colab\"/></a>"
      ]
    },
    {
      "cell_type": "code",
      "execution_count": 1,
      "metadata": {
        "colab": {
          "base_uri": "https://localhost:8080/"
        },
        "id": "QZLH4OrMeCS-",
        "outputId": "4ccf6764-f6b2-4b60-a798-935740a7cd8e"
      },
      "outputs": [
        {
          "output_type": "stream",
          "name": "stdout",
          "text": [
            "/bin/bash: gh: command not found\n"
          ]
        }
      ],
      "source": [
        "!gh repo clone bhattacharjee/mtu-nlp-assignment\n"
      ]
    },
    {
      "cell_type": "code",
      "source": [
        "#!git config --global user.name \"rajbir.bhattacharjee@gmail.com\"\n",
        "\n",
        "!git clone https://github.com/bhattacharjee/mtu-nlp-assignment.git\n"
      ],
      "metadata": {
        "colab": {
          "base_uri": "https://localhost:8080/"
        },
        "id": "pHHtrPV6eGKW",
        "outputId": "572d31c8-c14a-49b0-bddb-d52cca83056a"
      },
      "execution_count": 2,
      "outputs": [
        {
          "output_type": "stream",
          "name": "stdout",
          "text": [
            "Cloning into 'mtu-nlp-assignment'...\n",
            "fatal: could not read Username for 'https://github.com': No such device or address\n"
          ]
        }
      ]
    },
    {
      "cell_type": "code",
      "source": [
        "π∏"
      ],
      "metadata": {
        "id": "Zlq_mGcAeKq9"
      },
      "execution_count": null,
      "outputs": []
    }
  ]
}