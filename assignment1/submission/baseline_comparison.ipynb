{
 "cells": [
  {
   "cell_type": "markdown",
   "metadata": {
    "colab_type": "text",
    "id": "view-in-github"
   },
   "source": [
    "<a href=\"https://colab.research.google.com/github/bhattacharjee/mtu-nlp-assignment/blob/main/assignment1/submission/baseline_comparison.ipynb\" target=\"_parent\"><img src=\"https://colab.research.google.com/assets/colab-badge.svg\" alt=\"Open In Colab\"/></a>"
   ]
  },
  {
   "cell_type": "code",
   "execution_count": 1,
   "metadata": {
    "id": "ERvBOEn0wss6"
   },
   "outputs": [],
   "source": [
    "!pip install spacy  nltk spacymoji huggingface -q       >/dev/null 2>&1         \n",
    "!pip install -q -U tensorflow-text                      >/dev/null 2>&1\n",
    "!pip install -q tf-models-official                      >/dev/null 2>&1\n",
    "!python -m spacy download de_core_news_sm               >/dev/null 2>&1\n",
    "!python -m spacy download de_dep_news_trf               >/dev/null 2>&1\n",
    "!pip install transformers                               >/dev/null 2>&1\n",
    "\n",
    "!python -m spacy download de_core_news_sm               >/dev/null 2>&1\n",
    "!python -m spacy download de_dep_news_trf               >/dev/null 2>&1\n",
    "\n",
    "!pip install mlxtend                                    >/dev/null 2>&1\n",
    "!pip install imblearn                                   >/dev/null 2>&1\n",
    "\n",
    "# handling emojis\n",
    "!pip install demoji                                     >/dev/null 2>&1"
   ]
  },
  {
   "cell_type": "code",
   "execution_count": 2,
   "metadata": {
    "id": "a-DAX9VLZlw3"
   },
   "outputs": [],
   "source": [
    "import requests\n",
    "from functools import lru_cache\n",
    "import sklearn\n",
    "\n",
    "@lru_cache(maxsize=10)\n",
    "def get_train_test_files():\n",
    "    TRAIN_FILE = 'https://raw.githubusercontent.com/bhattacharjee/mtu-nlp-assignment/main/assignment1/Assessment1_Toxic_Train.csv'\n",
    "    TEST_FILE = 'https://raw.githubusercontent.com/bhattacharjee/mtu-nlp-assignment/main/assignment1/Assessment1_Toxic_Test_For_Evaluation.csv'\n",
    "    TRAIN_FILE_LOCAL = 'Assessment1_Toxic_Train.csv'\n",
    "    TEST_FILE_LOCAL = 'Assessment1_Toxic_Test.csv'\n",
    "\n",
    "    def download(url, localfile):\n",
    "        with open(localfile, 'wb') as f:\n",
    "            r = requests.get(url, allow_redirects=True)\n",
    "            f.write(r.content)\n",
    "\n",
    "    download(TRAIN_FILE, TRAIN_FILE_LOCAL)\n",
    "    download(TEST_FILE, TEST_FILE_LOCAL)\n",
    "\n",
    "    return TRAIN_FILE_LOCAL, TEST_FILE_LOCAL\n",
    "\n",
    "def seed_random():\n",
    "    import numpy as np\n",
    "    import random\n",
    "    np.random.seed(0)\n",
    "    random.seed(0)\n",
    "\n",
    "sklearn.set_config(display=\"diagram\")"
   ]
  },
  {
   "cell_type": "markdown",
   "metadata": {
    "id": "nrlJ1H1maDxM"
   },
   "source": [
    "# Functions to read the CSV and do basic cleaning\n",
    "\n",
    "\n",
    "Cleaning with Python\n",
    "The data was first loaded using pandas. After that, regular expressions were used to perform the following:\n",
    "1.\tConvert to lowercase\n",
    "2.\tEmojis were replaced with their descriptions. Certain emojis can be relevant to the tasks at hand. The descriptions were modified to be a single word separated by underscores, eg. __thumbs_down__. These emojis are not German, but that should not make any difference to the models.\n",
    "3.\tThe roles like @user, @moderator, etc. was removed. This was done because it was assumed that this might introduce bias into the classification, although the description of. The dataset says that chances of a bias are very unlikely.\n",
    "4.\tEllipses are removed\n",
    "5.\tAny numbers are replaced with a tag, like NUM\n",
    "6.\tURL’s and links are removed\n",
    "7.\tRemove any punctuations\n",
    "8.\tPunctuations at the beginning or end of words are removed"
   ]
  },
  {
   "cell_type": "code",
   "execution_count": 3,
   "metadata": {
    "id": "JVfYulLnuGVJ"
   },
   "outputs": [],
   "source": [
    "import re\n",
    "import pandas as pd\n",
    "import demoji\n",
    "from functools import lru_cache\n",
    "\n",
    "def remove_roles(line:str)->str:\n",
    "    # Remove texts like @USER, @MODERATOR etc\n",
    "    pat = re.compile(u'\\@[A-Za-z]+')\n",
    "    return re.sub(pat, '', line)\n",
    "\n",
    "@lru_cache(maxsize=3)\n",
    "def get_train_test_df_cached():\n",
    "    train_csv, test_csv = get_train_test_files()\n",
    "    train_df = pd.read_csv(train_csv)\n",
    "    test_df = pd.read_csv(test_csv)\n",
    "    return train_df, test_df\n",
    "\n",
    "def get_train_test_df():\n",
    "    tr, te = get_train_test_df_cached()\n",
    "    return tr.copy(), te.copy()\n",
    "\n",
    "\n",
    "def remove_emojis(line:str)->str:\n",
    "    # Replace emojis with their description, eg __thumbs_down__\n",
    "    demoji_str = demoji.replace_with_desc(line, sep=\" ::: \")\n",
    "    if (demoji_str == line):\n",
    "        return line\n",
    "    \n",
    "    inEmoji = False\n",
    "    currentEmojiWords = []\n",
    "    allWords = []\n",
    "\n",
    "    def accumulate(word:str)->None:\n",
    "        nonlocal inEmoji\n",
    "        nonlocal currentEmojiWords\n",
    "        nonlocal allWords\n",
    "        if not inEmoji and word != \":::\":\n",
    "            allWords.append(word)\n",
    "        elif inEmoji:\n",
    "            if word == ':::':\n",
    "                currentEmoji = \"_\".join(currentEmojiWords)\n",
    "                currentEmoji = \"__\" + currentEmoji + \"__\"\n",
    "                allWords.append(currentEmoji)\n",
    "                currentEmojiWords = []\n",
    "            else:\n",
    "                currentEmojiWords.append(word)\n",
    "        else: # Not in emoji but ::: is true\n",
    "            inEmoji = True\n",
    "\n",
    "    [accumulate(word) for word in demoji_str.split()]\n",
    "\n",
    "    sentence = \" \".join(allWords)\n",
    "    return sentence\n",
    "\n",
    "\n",
    "def remove_ellipses(line:str)->str:\n",
    "    pat = re.compile(u'\\.\\.+')\n",
    "    return re.sub(pat, ' ', line)\n",
    "\n",
    "def to_lower(line:str)->str:\n",
    "    return line.lower()\n",
    "\n",
    "def replace_number_with_tag(line:str)->str:\n",
    "    line = re.sub(\"\\s\\d*((\\.|\\,)\\d+)?\\s\", \" nummer \", line)\n",
    "    line = re.sub('\\s\\d+$', '', line)\n",
    "    line = re.sub('^\\d+\\s', '', line)\n",
    "    return line\n",
    "\n",
    "def remove_urls(line:str)->str:\n",
    "    return re.sub('https?:\\/\\/\\S+', ' hyperlink ', line)\n",
    "\n",
    "def basic_clean(s:pd.Series)->pd.Series:\n",
    "    return s.map(to_lower)                                                  \\\n",
    "            .map(remove_emojis)                                             \\\n",
    "            .map(remove_roles)                                              \\\n",
    "            .map(remove_ellipses)                                           \\\n",
    "            .map(replace_number_with_tag)                                   \\\n",
    "            .map(remove_urls)\n",
    "\n",
    "@lru_cache(maxsize=3)\n",
    "def get_clean_train_test_df_cached()->tuple:\n",
    "    train_df, test_df = get_train_test_df()\n",
    "    train_df['comment_text'] = basic_clean(train_df['comment_text'])\n",
    "    test_df['comment_text'] = basic_clean(test_df['comment_text'])\n",
    "    return train_df, test_df\n",
    "\n",
    "def get_clean_train_test_df():\n",
    "    tr, te = get_clean_train_test_df_cached()\n",
    "    return tr.copy(), te.copy()"
   ]
  },
  {
   "cell_type": "markdown",
   "metadata": {
    "id": "u6_dto2JaR2f"
   },
   "source": [
    "# Clean using Spacy and Enrich\n",
    "\n",
    "\n",
    "\n",
    "Cleaning with Spacy\n",
    "After the above set of steps, further cleaning was performed via a dedicated NLP toolkit. NLTK and spacy were both evaluated, but spacy seemed to be a better library for some tasks, and this was chosen for all asks as a result. The following operations were performed with spacy.\n",
    "1.\tNumbers or symbols are removed, we have already performed this step earlier, but some numbers may still be present.\n",
    "2.\tStopwords are removed\n",
    "3.\tPunctuations are removed, again this was already done via regular expressions but some may still remain.\n",
    "4.\tWords are lemmatized\n",
    "Parts of Speech Tagging and Named Entity Recognition\n",
    "Experiments were tried with both POS tagging and removal of named entities, and without POS tagging and still having named entities. It was found that removal of named entities gave a big boost to model performance. Also, it was found that POS tagging gave a further small gain in model performance.\n",
    "Both POS tagging and named entity removal were performed by use of the spacy library.\n",
    "Additional Features\n",
    "Taking inspiration from the approaches taken by various teams in the GermEval2021 competition, the following features were added:\n",
    "1.\tNumber of words with length greater than 3 that have all letters in capital\n",
    "2.\tNumber of exclamations\n",
    "3.\tRatio of exclamations to number of characters\n"
   ]
  },
  {
   "cell_type": "code",
   "execution_count": 4,
   "metadata": {
    "id": "s8YSZZ4vxTk5"
   },
   "outputs": [],
   "source": [
    "import nltk\n",
    "from nltk.corpus import stopwords\n",
    "from nltk.tokenize import word_tokenize\n",
    "from nltk.stem import SnowballStemmer\n",
    "import string\n",
    "import spacy\n",
    "from spacymoji import Emoji\n",
    "import  de_core_news_sm\n",
    "\n",
    "def is_punct_only(token:str)->bool:\n",
    "    for c in list(token):\n",
    "        if c not in string.punctuation:\n",
    "            return False\n",
    "    return True\n",
    "\n",
    "def is_same(l1:list, l2:list)->bool:\n",
    "    if (len(l1) != len(l2)):\n",
    "        return False\n",
    "    for x, y in zip(l1, l2):\n",
    "        if x != y:\n",
    "            return False\n",
    "    return True\n",
    "\n",
    "def get_num_of_allcap_words(s:str)->int:\n",
    "    def is_allcaps(s:str)->bool:\n",
    "        if (len(s) < 3):\n",
    "            return False\n",
    "        for c in list(s):\n",
    "            if not (\\\n",
    "                    (ord(c) <=ord('Z') and ord(c) >= ord('A')) or           \\\n",
    "                    (ord(c) >= ord('0') and ord(c) <= ord('9'))             \\\n",
    "                    ):\n",
    "                return False\n",
    "        return True\n",
    "\n",
    "    if len(s) < 3:\n",
    "        return 0\n",
    "    tokens = [w.strip() for w in s.split()]\n",
    "    return sum([1 for t in tokens if is_allcaps(t)])\n",
    "\n",
    "def get_percentage_of_excalamations(s:str)->float:\n",
    "    if len(s) == 0:\n",
    "        return 0.0\n",
    "    exclamation_count = sum([1 for c in list(s) if c == '!'])\n",
    "    return exclamation_count / len(s)\n",
    "\n",
    "\n",
    "def is_empty_string(s:str)->bool:\n",
    "    if s == '' or s == None:\n",
    "        return True\n",
    "    return False\n",
    "\n",
    "def do_basic_nlp_cleaning(line:str)->str:\n",
    "    nltk.download('stopwords', quiet=True)\n",
    "    nltk.download('punkt', quiet=True)\n",
    "    nltk.download('wordnet', quiet=True)\n",
    "\n",
    "    # Tokenize\n",
    "    tokens = word_tokenize(line)\n",
    "\n",
    "    # Some tokens start with a punctuation, remove the first one\n",
    "    def remove_first_punctuation(tok:str)->str:\n",
    "        return                                                              \\\n",
    "            tok[1:]                                                         \\\n",
    "            if tok[0] in set(string.punctuation) and len(tok) != 0          \\\n",
    "            else tok\n",
    "\n",
    "    tokens = [remove_first_punctuation(w) for w in tokens]\n",
    "\n",
    "    # Remove stop words\n",
    "    stop_words = set(stopwords.words(\"german\"))\n",
    "    tokens = [w for w in tokens if w not in stop_words]\n",
    "\n",
    "    # Remove punctuations\n",
    "    tokens = [w for w in tokens if not is_punct_only(w)]\n",
    "\n",
    "    # Stem words\n",
    "    stem = SnowballStemmer('german')\n",
    "    tokens = [stem.stem(w) for w in tokens]\n",
    "\n",
    "    return \" \".join(tokens)\n",
    "\n",
    "def get_cleaning_function(remove_named_ents:bool=True, pos_tagging:bool=False):\n",
    "    #nlp = spacy.load(\"de_dep_news_trf\")\n",
    "    #nlp = spacy.load(\"de_core_news_sm\")\n",
    "    nlp = de_core_news_sm.load()\n",
    "    emoji = Emoji(nlp)\n",
    "    nlp.add_pipe(emoji, first=True)\n",
    "    stopwords = spacy.lang.de.stop_words.STOP_WORDS\n",
    "\n",
    "    def do_basic_nlp_cleaning(line:str)->str:\n",
    "        def is_interesting_token(token, doc):\n",
    "            if token.pos_ in set(['NUM', 'SYM']):\n",
    "                return False\n",
    "            if remove_named_ents:\n",
    "                for e in doc.ents:\n",
    "                    for t in e:\n",
    "                        if token.text == t.text:\n",
    "                            return False\n",
    "            if token.text in stopwords:\n",
    "                return False\n",
    "            if (token.is_punct):\n",
    "                return False\n",
    "            #if token._.is_emoji:\n",
    "            #    return False\n",
    "            return True\n",
    "\n",
    "        def remove_terminal_punctuations(word):\n",
    "            word = word.strip()\n",
    "            while word != \"\" and word[0] in list(string.punctuation):\n",
    "                word = word[1:]\n",
    "            while word != \"\" and word[-1] in list(string.punctuation):\n",
    "                word = word[:-1]\n",
    "            return word\n",
    "\n",
    "        def get_final_string(tok, doc):\n",
    "            lemma = tok.lemma_.lower()\n",
    "            if pos_tagging:\n",
    "                lemma = lemma + \":\" + tok.pos_\n",
    "                lemma = lemma + \":\" + tok.tag_\n",
    "            return lemma\n",
    "\n",
    "        doc = nlp(line)\n",
    "        words = [get_final_string(tok, doc) for tok in doc if is_interesting_token(tok, doc)]\n",
    "        words = [remove_terminal_punctuations(word) for word in words]\n",
    "        words = [word for word in words if word != \"\"]\n",
    "        return  \" \".join(words)\n",
    "\n",
    "    return do_basic_nlp_cleaning\n",
    "\n",
    "def get_enriched_dataset(df):\n",
    "    cleaning_fn = get_cleaning_function(remove_named_ents=True, pos_tagging=True)\n",
    "    df['cleaned_comment_text'] = df['comment_text'].map(cleaning_fn)\n",
    "    df['n_all_caps'] = df['comment_text'].map(get_num_of_allcap_words)\n",
    "    df['perc_exclamations'] = df['comment_text'].map(get_percentage_of_excalamations)\n",
    "    df['num_exclamations'] = df['comment_text'].map(lambda s: sum([1 for x in list(s) if x == '!']))\n",
    "    return df\n",
    "\n",
    "@lru_cache(maxsize=3)\n",
    "def get_enriched_train_test_dataset_cached():\n",
    "    train_df, test_df = get_clean_train_test_df()\n",
    "    train_df = get_enriched_dataset(train_df)\n",
    "    test_df = get_enriched_dataset(test_df)\n",
    "    return train_df, test_df\n",
    "\n",
    "def get_enriched_train_test_dataset():\n",
    "    train, test = get_enriched_train_test_dataset_cached()\n",
    "    return train.copy(), test.copy()\n",
    "\n",
    "train_df, test_df = get_enriched_train_test_dataset()"
   ]
  },
  {
   "cell_type": "markdown",
   "metadata": {
    "id": "wWTtxHw0aa4N"
   },
   "source": [
    "# Print Enriched Training DF"
   ]
  },
  {
   "cell_type": "code",
   "execution_count": 5,
   "metadata": {
    "colab": {
     "base_uri": "https://localhost:8080/",
     "height": 423
    },
    "id": "n3q-TKbwZRBJ",
    "outputId": "e814e17b-29d0-4c5c-e00c-cf5c868902c8"
   },
   "outputs": [
    {
     "data": {
      "text/html": [
       "<div>\n",
       "<style scoped>\n",
       "    .dataframe tbody tr th:only-of-type {\n",
       "        vertical-align: middle;\n",
       "    }\n",
       "\n",
       "    .dataframe tbody tr th {\n",
       "        vertical-align: top;\n",
       "    }\n",
       "\n",
       "    .dataframe thead th {\n",
       "        text-align: right;\n",
       "    }\n",
       "</style>\n",
       "<table border=\"1\" class=\"dataframe\">\n",
       "  <thead>\n",
       "    <tr style=\"text-align: right;\">\n",
       "      <th></th>\n",
       "      <th>comment_text</th>\n",
       "      <th>Sub1_Toxic</th>\n",
       "      <th>Sub2_Engaging</th>\n",
       "      <th>Sub3_FactClaiming</th>\n",
       "      <th>cleaned_comment_text</th>\n",
       "      <th>n_all_caps</th>\n",
       "      <th>perc_exclamations</th>\n",
       "      <th>num_exclamations</th>\n",
       "    </tr>\n",
       "  </thead>\n",
       "  <tbody>\n",
       "    <tr>\n",
       "      <th>0</th>\n",
       "      <td>gestern bei illner, montag bei nummer  ist das...</td>\n",
       "      <td>1</td>\n",
       "      <td>0</td>\n",
       "      <td>1</td>\n",
       "      <td>gestern:ADV:ADV illner:ADJ:ADJA montag:NOUN:NN...</td>\n",
       "      <td>0</td>\n",
       "      <td>0.000000</td>\n",
       "      <td>0</td>\n",
       "    </tr>\n",
       "    <tr>\n",
       "      <th>1</th>\n",
       "      <td>mein gott der war erst gestern bei illner. die...</td>\n",
       "      <td>1</td>\n",
       "      <td>0</td>\n",
       "      <td>1</td>\n",
       "      <td>gestern:ADV:ADV redaktionen:NOUN:NN versagen:V...</td>\n",
       "      <td>0</td>\n",
       "      <td>0.000000</td>\n",
       "      <td>0</td>\n",
       "    </tr>\n",
       "    <tr>\n",
       "      <th>2</th>\n",
       "      <td>die cdu lässt das so wie so nicht zu . sagen ...</td>\n",
       "      <td>1</td>\n",
       "      <td>0</td>\n",
       "      <td>1</td>\n",
       "      <td>SPACE:_SP lässt:VERB:VVFIN sagen:VERB:VVFIN re...</td>\n",
       "      <td>0</td>\n",
       "      <td>0.000000</td>\n",
       "      <td>0</td>\n",
       "    </tr>\n",
       "    <tr>\n",
       "      <th>3</th>\n",
       "      <td>bei meiner beschissenen rente als 2x geschiede...</td>\n",
       "      <td>1</td>\n",
       "      <td>0</td>\n",
       "      <td>1</td>\n",
       "      <td>beschissen:ADJ:ADJA rente:NOUN:NN geschieden:A...</td>\n",
       "      <td>0</td>\n",
       "      <td>0.000000</td>\n",
       "      <td>0</td>\n",
       "    </tr>\n",
       "    <tr>\n",
       "      <th>4</th>\n",
       "      <td>wer nummer jahre zum mindestlohn arbeiten muß,...</td>\n",
       "      <td>1</td>\n",
       "      <td>1</td>\n",
       "      <td>1</td>\n",
       "      <td>nummer:ADJ:ADJA mindestlohn:NOUN:NN arbeiten:V...</td>\n",
       "      <td>0</td>\n",
       "      <td>0.005025</td>\n",
       "      <td>3</td>\n",
       "    </tr>\n",
       "    <tr>\n",
       "      <th>...</th>\n",
       "      <td>...</td>\n",
       "      <td>...</td>\n",
       "      <td>...</td>\n",
       "      <td>...</td>\n",
       "      <td>...</td>\n",
       "      <td>...</td>\n",
       "      <td>...</td>\n",
       "      <td>...</td>\n",
       "    </tr>\n",
       "    <tr>\n",
       "      <th>3189</th>\n",
       "      <td>hier mal eine info. flüchtlinge werden nummer ...</td>\n",
       "      <td>0</td>\n",
       "      <td>0</td>\n",
       "      <td>0</td>\n",
       "      <td>mal:ADV:ADV info:NOUN:NN flüchtlinge:NOUN:NN n...</td>\n",
       "      <td>0</td>\n",
       "      <td>0.000000</td>\n",
       "      <td>0</td>\n",
       "    </tr>\n",
       "    <tr>\n",
       "      <th>3190</th>\n",
       "      <td>.aha .mal abwarten kommt bei uns auch .firmen ...</td>\n",
       "      <td>1</td>\n",
       "      <td>0</td>\n",
       "      <td>1</td>\n",
       "      <td>aha:X:XY mal:X:XY abwarten:NOUN:NN entlassen:P...</td>\n",
       "      <td>0</td>\n",
       "      <td>0.000000</td>\n",
       "      <td>0</td>\n",
       "    </tr>\n",
       "    <tr>\n",
       "      <th>3191</th>\n",
       "      <td>.so ist es</td>\n",
       "      <td>0</td>\n",
       "      <td>0</td>\n",
       "      <td>0</td>\n",
       "      <td>SPACE:_SP so:PROPN:NE</td>\n",
       "      <td>0</td>\n",
       "      <td>0.000000</td>\n",
       "      <td>0</td>\n",
       "    </tr>\n",
       "    <tr>\n",
       "      <th>3192</th>\n",
       "      <td>.die warten da</td>\n",
       "      <td>0</td>\n",
       "      <td>0</td>\n",
       "      <td>0</td>\n",
       "      <td>SPACE:_SP die:X:XY warten:NOUN:NN</td>\n",
       "      <td>0</td>\n",
       "      <td>0.000000</td>\n",
       "      <td>0</td>\n",
       "    </tr>\n",
       "    <tr>\n",
       "      <th>3193</th>\n",
       "      <td>.das bekommen die gesagt wie sich verhalten s...</td>\n",
       "      <td>1</td>\n",
       "      <td>0</td>\n",
       "      <td>0</td>\n",
       "      <td>SPACE:_SP bekommen:VERB:VVFIN verhalten:VERB:V...</td>\n",
       "      <td>0</td>\n",
       "      <td>0.000000</td>\n",
       "      <td>0</td>\n",
       "    </tr>\n",
       "  </tbody>\n",
       "</table>\n",
       "<p>3194 rows × 8 columns</p>\n",
       "</div>"
      ],
      "text/plain": [
       "                                           comment_text  ...  num_exclamations\n",
       "0     gestern bei illner, montag bei nummer  ist das...  ...                 0\n",
       "1     mein gott der war erst gestern bei illner. die...  ...                 0\n",
       "2      die cdu lässt das so wie so nicht zu . sagen ...  ...                 0\n",
       "3     bei meiner beschissenen rente als 2x geschiede...  ...                 0\n",
       "4     wer nummer jahre zum mindestlohn arbeiten muß,...  ...                 3\n",
       "...                                                 ...  ...               ...\n",
       "3189  hier mal eine info. flüchtlinge werden nummer ...  ...                 0\n",
       "3190  .aha .mal abwarten kommt bei uns auch .firmen ...  ...                 0\n",
       "3191                                         .so ist es  ...                 0\n",
       "3192                                     .die warten da  ...                 0\n",
       "3193   .das bekommen die gesagt wie sich verhalten s...  ...                 0\n",
       "\n",
       "[3194 rows x 8 columns]"
      ]
     },
     "execution_count": 5,
     "metadata": {},
     "output_type": "execute_result"
    }
   ],
   "source": [
    "train_df"
   ]
  },
  {
   "cell_type": "markdown",
   "metadata": {
    "id": "68DFX_fjYgQz"
   },
   "source": [
    "# Multinomial NB (Vectorization Approach 1)\n",
    "## Use CountVectorizer, Term Frequency, and TF-IDF simultaneously\n",
    "\n",
    "With experimentation it is found that using all three produces better results"
   ]
  },
  {
   "cell_type": "code",
   "execution_count": 13,
   "metadata": {
    "colab": {
     "base_uri": "https://localhost:8080/",
     "height": 1000
    },
    "id": "zL5Boe5qYfF4",
    "outputId": "8688c91b-b185-49d0-fea3-3ece723a4401"
   },
   "outputs": [
    {
     "name": "stderr",
     "output_type": "stream",
     "text": [
      "/usr/local/lib/python3.7/dist-packages/sklearn/svm/_base.py:1208: ConvergenceWarning: Liblinear failed to converge, increase the number of iterations.\n",
      "  ConvergenceWarning,\n"
     ]
    },
    {
     "name": "stdout",
     "output_type": "stream",
     "text": [
      "LinearSVC_nosmote    Sub1_Toxic           accuracy=0.662              f1=0.471   smote=False\n"
     ]
    },
    {
     "name": "stderr",
     "output_type": "stream",
     "text": [
      "/usr/local/lib/python3.7/dist-packages/sklearn/svm/_base.py:1208: ConvergenceWarning: Liblinear failed to converge, increase the number of iterations.\n",
      "  ConvergenceWarning,\n"
     ]
    },
    {
     "name": "stdout",
     "output_type": "stream",
     "text": [
      "LinearSVC_nosmote    Sub2_Engaging        accuracy=0.816              f1=0.584   smote=False\n"
     ]
    },
    {
     "name": "stderr",
     "output_type": "stream",
     "text": [
      "/usr/local/lib/python3.7/dist-packages/sklearn/svm/_base.py:1208: ConvergenceWarning: Liblinear failed to converge, increase the number of iterations.\n",
      "  ConvergenceWarning,\n"
     ]
    },
    {
     "name": "stdout",
     "output_type": "stream",
     "text": [
      "LinearSVC_nosmote    Sub3_FactClaiming    accuracy=0.741              f1=0.578   smote=False\n"
     ]
    },
    {
     "name": "stderr",
     "output_type": "stream",
     "text": [
      "/usr/local/lib/python3.7/dist-packages/sklearn/svm/_base.py:1208: ConvergenceWarning: Liblinear failed to converge, increase the number of iterations.\n",
      "  ConvergenceWarning,\n"
     ]
    },
    {
     "name": "stdout",
     "output_type": "stream",
     "text": [
      "LinearSVC            Sub1_Toxic           accuracy=0.645              f1=0.470   smote=True\n"
     ]
    },
    {
     "name": "stderr",
     "output_type": "stream",
     "text": [
      "/usr/local/lib/python3.7/dist-packages/sklearn/svm/_base.py:1208: ConvergenceWarning: Liblinear failed to converge, increase the number of iterations.\n",
      "  ConvergenceWarning,\n"
     ]
    },
    {
     "name": "stdout",
     "output_type": "stream",
     "text": [
      "LinearSVC            Sub2_Engaging        accuracy=0.810              f1=0.582   smote=True\n"
     ]
    },
    {
     "name": "stderr",
     "output_type": "stream",
     "text": [
      "/usr/local/lib/python3.7/dist-packages/sklearn/svm/_base.py:1208: ConvergenceWarning: Liblinear failed to converge, increase the number of iterations.\n",
      "  ConvergenceWarning,\n"
     ]
    },
    {
     "name": "stdout",
     "output_type": "stream",
     "text": [
      "LinearSVC            Sub3_FactClaiming    accuracy=0.745              f1=0.587   smote=True\n",
      "AdaBoost             Sub1_Toxic           accuracy=0.656              f1=0.328   smote=False\n",
      "AdaBoost             Sub2_Engaging        accuracy=0.812              f1=0.597   smote=False\n",
      "AdaBoost             Sub3_FactClaiming    accuracy=0.711              f1=0.524   smote=False\n",
      "SVC                  Sub1_Toxic           accuracy=0.653              f1=0.074   smote=False\n",
      "SVC                  Sub2_Engaging        accuracy=0.827              f1=0.543   smote=False\n",
      "SVC                  Sub3_FactClaiming    accuracy=0.731              f1=0.453   smote=False\n",
      "RBF SVC              Sub1_Toxic           accuracy=0.643              f1=0.007   smote=False\n",
      "RBF SVC              Sub2_Engaging        accuracy=0.765              f1=0.060   smote=False\n",
      "RBF SVC              Sub3_FactClaiming    accuracy=0.676              f1=0.044   smote=False\n",
      "MultinomialNB_nosmot Sub1_Toxic           accuracy=0.660              f1=0.205   smote=False\n",
      "MultinomialNB_nosmot Sub2_Engaging        accuracy=0.797              f1=0.580   smote=False\n",
      "MultinomialNB_nosmot Sub3_FactClaiming    accuracy=0.735              f1=0.600   smote=False\n",
      "RandomForestClassifi Sub1_Toxic           accuracy=0.660              f1=0.253   smote=True\n",
      "RandomForestClassifi Sub2_Engaging        accuracy=0.830              f1=0.624   smote=True\n",
      "RandomForestClassifi Sub3_FactClaiming    accuracy=0.736              f1=0.548   smote=True\n",
      "RandomForestClassifi Sub1_Toxic           accuracy=0.660              f1=0.166   smote=False\n",
      "RandomForestClassifi Sub2_Engaging        accuracy=0.829              f1=0.554   smote=False\n",
      "RandomForestClassifi Sub3_FactClaiming    accuracy=0.756              f1=0.530   smote=False\n",
      "BernoulliNB_nosmote  Sub1_Toxic           accuracy=0.672              f1=0.220   smote=False\n",
      "BernoulliNB_nosmote  Sub2_Engaging        accuracy=0.815              f1=0.493   smote=False\n",
      "BernoulliNB_nosmote  Sub3_FactClaiming    accuracy=0.737              f1=0.456   smote=False\n"
     ]
    },
    {
     "name": "stderr",
     "output_type": "stream",
     "text": [
      "/usr/local/lib/python3.7/dist-packages/sklearn/discriminant_analysis.py:878: UserWarning: Variables are collinear\n",
      "  warnings.warn(\"Variables are collinear\")\n"
     ]
    },
    {
     "name": "stdout",
     "output_type": "stream",
     "text": [
      "Quadratic Discrimina Sub1_Toxic           accuracy=0.472              f1=0.463   smote=False\n"
     ]
    },
    {
     "name": "stderr",
     "output_type": "stream",
     "text": [
      "/usr/local/lib/python3.7/dist-packages/sklearn/discriminant_analysis.py:878: UserWarning: Variables are collinear\n",
      "  warnings.warn(\"Variables are collinear\")\n"
     ]
    },
    {
     "name": "stdout",
     "output_type": "stream",
     "text": [
      "Quadratic Discrimina Sub2_Engaging        accuracy=0.299              f1=0.399   smote=False\n"
     ]
    },
    {
     "name": "stderr",
     "output_type": "stream",
     "text": [
      "/usr/local/lib/python3.7/dist-packages/sklearn/discriminant_analysis.py:878: UserWarning: Variables are collinear\n",
      "  warnings.warn(\"Variables are collinear\")\n"
     ]
    },
    {
     "name": "stdout",
     "output_type": "stream",
     "text": [
      "Quadratic Discrimina Sub3_FactClaiming    accuracy=0.369              f1=0.505   smote=False\n",
      "================================================================================\n",
      "================================================================================\n",
      "\n",
      "--------------------------------------------------------------------------------\n",
      "LinearSVC_nosmote Sub1_Toxic :\n",
      "\n"
     ]
    },
    {
     "data": {
      "text/html": [
       "<style>#sk-5ef45aa8-e856-4785-a5d6-df9e627830b1 {color: black;background-color: white;}#sk-5ef45aa8-e856-4785-a5d6-df9e627830b1 pre{padding: 0;}#sk-5ef45aa8-e856-4785-a5d6-df9e627830b1 div.sk-toggleable {background-color: white;}#sk-5ef45aa8-e856-4785-a5d6-df9e627830b1 label.sk-toggleable__label {cursor: pointer;display: block;width: 100%;margin-bottom: 0;padding: 0.3em;box-sizing: border-box;text-align: center;}#sk-5ef45aa8-e856-4785-a5d6-df9e627830b1 div.sk-toggleable__content {max-height: 0;max-width: 0;overflow: hidden;text-align: left;background-color: #f0f8ff;}#sk-5ef45aa8-e856-4785-a5d6-df9e627830b1 div.sk-toggleable__content pre {margin: 0.2em;color: black;border-radius: 0.25em;background-color: #f0f8ff;}#sk-5ef45aa8-e856-4785-a5d6-df9e627830b1 input.sk-toggleable__control:checked~div.sk-toggleable__content {max-height: 200px;max-width: 100%;overflow: auto;}#sk-5ef45aa8-e856-4785-a5d6-df9e627830b1 div.sk-estimator input.sk-toggleable__control:checked~label.sk-toggleable__label {background-color: #d4ebff;}#sk-5ef45aa8-e856-4785-a5d6-df9e627830b1 div.sk-label input.sk-toggleable__control:checked~label.sk-toggleable__label {background-color: #d4ebff;}#sk-5ef45aa8-e856-4785-a5d6-df9e627830b1 input.sk-hidden--visually {border: 0;clip: rect(1px 1px 1px 1px);clip: rect(1px, 1px, 1px, 1px);height: 1px;margin: -1px;overflow: hidden;padding: 0;position: absolute;width: 1px;}#sk-5ef45aa8-e856-4785-a5d6-df9e627830b1 div.sk-estimator {font-family: monospace;background-color: #f0f8ff;border: 1px dotted black;border-radius: 0.25em;box-sizing: border-box;margin-bottom: 0.5em;}#sk-5ef45aa8-e856-4785-a5d6-df9e627830b1 div.sk-estimator:hover {background-color: #d4ebff;}#sk-5ef45aa8-e856-4785-a5d6-df9e627830b1 div.sk-parallel-item::after {content: \"\";width: 100%;border-bottom: 1px solid gray;flex-grow: 1;}#sk-5ef45aa8-e856-4785-a5d6-df9e627830b1 div.sk-label:hover label.sk-toggleable__label {background-color: #d4ebff;}#sk-5ef45aa8-e856-4785-a5d6-df9e627830b1 div.sk-serial::before {content: \"\";position: absolute;border-left: 1px solid gray;box-sizing: border-box;top: 2em;bottom: 0;left: 50%;}#sk-5ef45aa8-e856-4785-a5d6-df9e627830b1 div.sk-serial {display: flex;flex-direction: column;align-items: center;background-color: white;padding-right: 0.2em;padding-left: 0.2em;}#sk-5ef45aa8-e856-4785-a5d6-df9e627830b1 div.sk-item {z-index: 1;}#sk-5ef45aa8-e856-4785-a5d6-df9e627830b1 div.sk-parallel {display: flex;align-items: stretch;justify-content: center;background-color: white;}#sk-5ef45aa8-e856-4785-a5d6-df9e627830b1 div.sk-parallel::before {content: \"\";position: absolute;border-left: 1px solid gray;box-sizing: border-box;top: 2em;bottom: 0;left: 50%;}#sk-5ef45aa8-e856-4785-a5d6-df9e627830b1 div.sk-parallel-item {display: flex;flex-direction: column;position: relative;background-color: white;}#sk-5ef45aa8-e856-4785-a5d6-df9e627830b1 div.sk-parallel-item:first-child::after {align-self: flex-end;width: 50%;}#sk-5ef45aa8-e856-4785-a5d6-df9e627830b1 div.sk-parallel-item:last-child::after {align-self: flex-start;width: 50%;}#sk-5ef45aa8-e856-4785-a5d6-df9e627830b1 div.sk-parallel-item:only-child::after {width: 0;}#sk-5ef45aa8-e856-4785-a5d6-df9e627830b1 div.sk-dashed-wrapped {border: 1px dashed gray;margin: 0 0.4em 0.5em 0.4em;box-sizing: border-box;padding-bottom: 0.4em;background-color: white;position: relative;}#sk-5ef45aa8-e856-4785-a5d6-df9e627830b1 div.sk-label label {font-family: monospace;font-weight: bold;background-color: white;display: inline-block;line-height: 1.2em;}#sk-5ef45aa8-e856-4785-a5d6-df9e627830b1 div.sk-label-container {position: relative;z-index: 2;text-align: center;}#sk-5ef45aa8-e856-4785-a5d6-df9e627830b1 div.sk-container {display: inline-block;position: relative;}</style><div id=\"sk-5ef45aa8-e856-4785-a5d6-df9e627830b1\" class\"sk-top-container\"><div class=\"sk-container\"><div class=\"sk-item sk-dashed-wrapped\"><div class=\"sk-label-container\"><div class=\"sk-label sk-toggleable\"><input class=\"sk-toggleable__control sk-hidden--visually\" id=\"cd6e5f24-5fcd-40a7-9eda-a62c1332d557\" type=\"checkbox\" ><label class=\"sk-toggleable__label\" for=\"cd6e5f24-5fcd-40a7-9eda-a62c1332d557\">Pipeline</label><div class=\"sk-toggleable__content\"><pre>Pipeline(steps=[('column_transformer',\n",
       "                 ColumnTransformer(remainder=MinMaxScaler(),\n",
       "                                   transformers=[('countvectorizer',\n",
       "                                                  CountVectorizer(),\n",
       "                                                  'cleaned_comment_text'),\n",
       "                                                 ('tfidfvectorizer-1',\n",
       "                                                  TfidfVectorizer(),\n",
       "                                                  'cleaned_comment_text'),\n",
       "                                                 ('tfidfvectorizer-2',\n",
       "                                                  TfidfVectorizer(use_idf=False),\n",
       "                                                  'cleaned_comment_text')])),\n",
       "                ('dense', DenseTransformer()), ('clf', LinearSVC())])</pre></div></div></div><div class=\"sk-serial\"><div class=\"sk-item sk-dashed-wrapped\"><div class=\"sk-label-container\"><div class=\"sk-label sk-toggleable\"><input class=\"sk-toggleable__control sk-hidden--visually\" id=\"4d86295a-f3ab-4fc3-a33e-bf3a59291fc4\" type=\"checkbox\" ><label class=\"sk-toggleable__label\" for=\"4d86295a-f3ab-4fc3-a33e-bf3a59291fc4\">column_transformer: ColumnTransformer</label><div class=\"sk-toggleable__content\"><pre>ColumnTransformer(remainder=MinMaxScaler(),\n",
       "                  transformers=[('countvectorizer', CountVectorizer(),\n",
       "                                 'cleaned_comment_text'),\n",
       "                                ('tfidfvectorizer-1', TfidfVectorizer(),\n",
       "                                 'cleaned_comment_text'),\n",
       "                                ('tfidfvectorizer-2',\n",
       "                                 TfidfVectorizer(use_idf=False),\n",
       "                                 'cleaned_comment_text')])</pre></div></div></div><div class=\"sk-parallel\"><div class=\"sk-parallel-item\"><div class=\"sk-item\"><div class=\"sk-label-container\"><div class=\"sk-label sk-toggleable\"><input class=\"sk-toggleable__control sk-hidden--visually\" id=\"84047421-60a6-4492-b587-180669c70042\" type=\"checkbox\" ><label class=\"sk-toggleable__label\" for=\"84047421-60a6-4492-b587-180669c70042\">countvectorizer</label><div class=\"sk-toggleable__content\"><pre>cleaned_comment_text</pre></div></div></div><div class=\"sk-serial\"><div class=\"sk-item\"><div class=\"sk-estimator sk-toggleable\"><input class=\"sk-toggleable__control sk-hidden--visually\" id=\"09cbbd38-b294-4720-baae-422c8076dfbd\" type=\"checkbox\" ><label class=\"sk-toggleable__label\" for=\"09cbbd38-b294-4720-baae-422c8076dfbd\">CountVectorizer</label><div class=\"sk-toggleable__content\"><pre>CountVectorizer()</pre></div></div></div></div></div></div><div class=\"sk-parallel-item\"><div class=\"sk-item\"><div class=\"sk-label-container\"><div class=\"sk-label sk-toggleable\"><input class=\"sk-toggleable__control sk-hidden--visually\" id=\"d03f9af4-aecb-4b71-9aa6-7ef0e3e8ee09\" type=\"checkbox\" ><label class=\"sk-toggleable__label\" for=\"d03f9af4-aecb-4b71-9aa6-7ef0e3e8ee09\">tfidfvectorizer-1</label><div class=\"sk-toggleable__content\"><pre>cleaned_comment_text</pre></div></div></div><div class=\"sk-serial\"><div class=\"sk-item\"><div class=\"sk-estimator sk-toggleable\"><input class=\"sk-toggleable__control sk-hidden--visually\" id=\"bfb47661-3cdf-4f18-9098-69f4cff00239\" type=\"checkbox\" ><label class=\"sk-toggleable__label\" for=\"bfb47661-3cdf-4f18-9098-69f4cff00239\">TfidfVectorizer</label><div class=\"sk-toggleable__content\"><pre>TfidfVectorizer()</pre></div></div></div></div></div></div><div class=\"sk-parallel-item\"><div class=\"sk-item\"><div class=\"sk-label-container\"><div class=\"sk-label sk-toggleable\"><input class=\"sk-toggleable__control sk-hidden--visually\" id=\"4eaebd5b-48b4-45cc-939d-43dfd49ae9e4\" type=\"checkbox\" ><label class=\"sk-toggleable__label\" for=\"4eaebd5b-48b4-45cc-939d-43dfd49ae9e4\">tfidfvectorizer-2</label><div class=\"sk-toggleable__content\"><pre>cleaned_comment_text</pre></div></div></div><div class=\"sk-serial\"><div class=\"sk-item\"><div class=\"sk-estimator sk-toggleable\"><input class=\"sk-toggleable__control sk-hidden--visually\" id=\"8f6ec928-983f-44a2-b439-425a380816b1\" type=\"checkbox\" ><label class=\"sk-toggleable__label\" for=\"8f6ec928-983f-44a2-b439-425a380816b1\">TfidfVectorizer</label><div class=\"sk-toggleable__content\"><pre>TfidfVectorizer(use_idf=False)</pre></div></div></div></div></div></div><div class=\"sk-parallel-item\"><div class=\"sk-item\"><div class=\"sk-label-container\"><div class=\"sk-label sk-toggleable\"><input class=\"sk-toggleable__control sk-hidden--visually\" id=\"5a04beb7-1a42-498f-b8bc-06d35c05017e\" type=\"checkbox\" ><label class=\"sk-toggleable__label\" for=\"5a04beb7-1a42-498f-b8bc-06d35c05017e\">remainder</label><div class=\"sk-toggleable__content\"><pre>['n_all_caps', 'perc_exclamations', 'num_exclamations']</pre></div></div></div><div class=\"sk-serial\"><div class=\"sk-item\"><div class=\"sk-estimator sk-toggleable\"><input class=\"sk-toggleable__control sk-hidden--visually\" id=\"c5c41ba9-3adf-40a3-ba62-c5e504ea3e1c\" type=\"checkbox\" ><label class=\"sk-toggleable__label\" for=\"c5c41ba9-3adf-40a3-ba62-c5e504ea3e1c\">MinMaxScaler</label><div class=\"sk-toggleable__content\"><pre>MinMaxScaler()</pre></div></div></div></div></div></div></div></div><div class=\"sk-item\"><div class=\"sk-estimator sk-toggleable\"><input class=\"sk-toggleable__control sk-hidden--visually\" id=\"9a453030-a86e-49f5-8b9d-b0e4b022ef41\" type=\"checkbox\" ><label class=\"sk-toggleable__label\" for=\"9a453030-a86e-49f5-8b9d-b0e4b022ef41\">DenseTransformer</label><div class=\"sk-toggleable__content\"><pre>DenseTransformer()</pre></div></div></div><div class=\"sk-item\"><div class=\"sk-estimator sk-toggleable\"><input class=\"sk-toggleable__control sk-hidden--visually\" id=\"3d5f359a-8d66-428b-83f8-1baee3f26fcb\" type=\"checkbox\" ><label class=\"sk-toggleable__label\" for=\"3d5f359a-8d66-428b-83f8-1baee3f26fcb\">LinearSVC</label><div class=\"sk-toggleable__content\"><pre>LinearSVC()</pre></div></div></div></div></div></div></div>"
      ],
      "text/plain": [
       "Pipeline(steps=[('column_transformer',\n",
       "                 ColumnTransformer(remainder=MinMaxScaler(),\n",
       "                                   transformers=[('countvectorizer',\n",
       "                                                  CountVectorizer(),\n",
       "                                                  'cleaned_comment_text'),\n",
       "                                                 ('tfidfvectorizer-1',\n",
       "                                                  TfidfVectorizer(),\n",
       "                                                  'cleaned_comment_text'),\n",
       "                                                 ('tfidfvectorizer-2',\n",
       "                                                  TfidfVectorizer(use_idf=False),\n",
       "                                                  'cleaned_comment_text')])),\n",
       "                ('dense', DenseTransformer()), ('clf', LinearSVC())])"
      ]
     },
     "metadata": {},
     "output_type": "display_data"
    },
    {
     "name": "stdout",
     "output_type": "stream",
     "text": [
      "\n",
      "--------------------------------------------------------------------------------\n",
      "LinearSVC_nosmote Sub2_Engaging :\n",
      "\n"
     ]
    },
    {
     "data": {
      "text/html": [
       "<style>#sk-e023fc78-0c6a-4bbf-8360-10e09a5ba4e9 {color: black;background-color: white;}#sk-e023fc78-0c6a-4bbf-8360-10e09a5ba4e9 pre{padding: 0;}#sk-e023fc78-0c6a-4bbf-8360-10e09a5ba4e9 div.sk-toggleable {background-color: white;}#sk-e023fc78-0c6a-4bbf-8360-10e09a5ba4e9 label.sk-toggleable__label {cursor: pointer;display: block;width: 100%;margin-bottom: 0;padding: 0.3em;box-sizing: border-box;text-align: center;}#sk-e023fc78-0c6a-4bbf-8360-10e09a5ba4e9 div.sk-toggleable__content {max-height: 0;max-width: 0;overflow: hidden;text-align: left;background-color: #f0f8ff;}#sk-e023fc78-0c6a-4bbf-8360-10e09a5ba4e9 div.sk-toggleable__content pre {margin: 0.2em;color: black;border-radius: 0.25em;background-color: #f0f8ff;}#sk-e023fc78-0c6a-4bbf-8360-10e09a5ba4e9 input.sk-toggleable__control:checked~div.sk-toggleable__content {max-height: 200px;max-width: 100%;overflow: auto;}#sk-e023fc78-0c6a-4bbf-8360-10e09a5ba4e9 div.sk-estimator input.sk-toggleable__control:checked~label.sk-toggleable__label {background-color: #d4ebff;}#sk-e023fc78-0c6a-4bbf-8360-10e09a5ba4e9 div.sk-label input.sk-toggleable__control:checked~label.sk-toggleable__label {background-color: #d4ebff;}#sk-e023fc78-0c6a-4bbf-8360-10e09a5ba4e9 input.sk-hidden--visually {border: 0;clip: rect(1px 1px 1px 1px);clip: rect(1px, 1px, 1px, 1px);height: 1px;margin: -1px;overflow: hidden;padding: 0;position: absolute;width: 1px;}#sk-e023fc78-0c6a-4bbf-8360-10e09a5ba4e9 div.sk-estimator {font-family: monospace;background-color: #f0f8ff;border: 1px dotted black;border-radius: 0.25em;box-sizing: border-box;margin-bottom: 0.5em;}#sk-e023fc78-0c6a-4bbf-8360-10e09a5ba4e9 div.sk-estimator:hover {background-color: #d4ebff;}#sk-e023fc78-0c6a-4bbf-8360-10e09a5ba4e9 div.sk-parallel-item::after {content: \"\";width: 100%;border-bottom: 1px solid gray;flex-grow: 1;}#sk-e023fc78-0c6a-4bbf-8360-10e09a5ba4e9 div.sk-label:hover label.sk-toggleable__label {background-color: #d4ebff;}#sk-e023fc78-0c6a-4bbf-8360-10e09a5ba4e9 div.sk-serial::before {content: \"\";position: absolute;border-left: 1px solid gray;box-sizing: border-box;top: 2em;bottom: 0;left: 50%;}#sk-e023fc78-0c6a-4bbf-8360-10e09a5ba4e9 div.sk-serial {display: flex;flex-direction: column;align-items: center;background-color: white;padding-right: 0.2em;padding-left: 0.2em;}#sk-e023fc78-0c6a-4bbf-8360-10e09a5ba4e9 div.sk-item {z-index: 1;}#sk-e023fc78-0c6a-4bbf-8360-10e09a5ba4e9 div.sk-parallel {display: flex;align-items: stretch;justify-content: center;background-color: white;}#sk-e023fc78-0c6a-4bbf-8360-10e09a5ba4e9 div.sk-parallel::before {content: \"\";position: absolute;border-left: 1px solid gray;box-sizing: border-box;top: 2em;bottom: 0;left: 50%;}#sk-e023fc78-0c6a-4bbf-8360-10e09a5ba4e9 div.sk-parallel-item {display: flex;flex-direction: column;position: relative;background-color: white;}#sk-e023fc78-0c6a-4bbf-8360-10e09a5ba4e9 div.sk-parallel-item:first-child::after {align-self: flex-end;width: 50%;}#sk-e023fc78-0c6a-4bbf-8360-10e09a5ba4e9 div.sk-parallel-item:last-child::after {align-self: flex-start;width: 50%;}#sk-e023fc78-0c6a-4bbf-8360-10e09a5ba4e9 div.sk-parallel-item:only-child::after {width: 0;}#sk-e023fc78-0c6a-4bbf-8360-10e09a5ba4e9 div.sk-dashed-wrapped {border: 1px dashed gray;margin: 0 0.4em 0.5em 0.4em;box-sizing: border-box;padding-bottom: 0.4em;background-color: white;position: relative;}#sk-e023fc78-0c6a-4bbf-8360-10e09a5ba4e9 div.sk-label label {font-family: monospace;font-weight: bold;background-color: white;display: inline-block;line-height: 1.2em;}#sk-e023fc78-0c6a-4bbf-8360-10e09a5ba4e9 div.sk-label-container {position: relative;z-index: 2;text-align: center;}#sk-e023fc78-0c6a-4bbf-8360-10e09a5ba4e9 div.sk-container {display: inline-block;position: relative;}</style><div id=\"sk-e023fc78-0c6a-4bbf-8360-10e09a5ba4e9\" class\"sk-top-container\"><div class=\"sk-container\"><div class=\"sk-item sk-dashed-wrapped\"><div class=\"sk-label-container\"><div class=\"sk-label sk-toggleable\"><input class=\"sk-toggleable__control sk-hidden--visually\" id=\"3bf03486-1844-4032-924c-9bfbc57cdaa2\" type=\"checkbox\" ><label class=\"sk-toggleable__label\" for=\"3bf03486-1844-4032-924c-9bfbc57cdaa2\">Pipeline</label><div class=\"sk-toggleable__content\"><pre>Pipeline(steps=[('column_transformer',\n",
       "                 ColumnTransformer(remainder=MinMaxScaler(),\n",
       "                                   transformers=[('countvectorizer',\n",
       "                                                  CountVectorizer(),\n",
       "                                                  'cleaned_comment_text'),\n",
       "                                                 ('tfidfvectorizer-1',\n",
       "                                                  TfidfVectorizer(),\n",
       "                                                  'cleaned_comment_text'),\n",
       "                                                 ('tfidfvectorizer-2',\n",
       "                                                  TfidfVectorizer(use_idf=False),\n",
       "                                                  'cleaned_comment_text')])),\n",
       "                ('dense', DenseTransformer()), ('clf', LinearSVC())])</pre></div></div></div><div class=\"sk-serial\"><div class=\"sk-item sk-dashed-wrapped\"><div class=\"sk-label-container\"><div class=\"sk-label sk-toggleable\"><input class=\"sk-toggleable__control sk-hidden--visually\" id=\"e79f58f3-7308-4443-8ec0-cc7a5ef64476\" type=\"checkbox\" ><label class=\"sk-toggleable__label\" for=\"e79f58f3-7308-4443-8ec0-cc7a5ef64476\">column_transformer: ColumnTransformer</label><div class=\"sk-toggleable__content\"><pre>ColumnTransformer(remainder=MinMaxScaler(),\n",
       "                  transformers=[('countvectorizer', CountVectorizer(),\n",
       "                                 'cleaned_comment_text'),\n",
       "                                ('tfidfvectorizer-1', TfidfVectorizer(),\n",
       "                                 'cleaned_comment_text'),\n",
       "                                ('tfidfvectorizer-2',\n",
       "                                 TfidfVectorizer(use_idf=False),\n",
       "                                 'cleaned_comment_text')])</pre></div></div></div><div class=\"sk-parallel\"><div class=\"sk-parallel-item\"><div class=\"sk-item\"><div class=\"sk-label-container\"><div class=\"sk-label sk-toggleable\"><input class=\"sk-toggleable__control sk-hidden--visually\" id=\"294bd56c-fb53-4820-a72b-d3cb7bede437\" type=\"checkbox\" ><label class=\"sk-toggleable__label\" for=\"294bd56c-fb53-4820-a72b-d3cb7bede437\">countvectorizer</label><div class=\"sk-toggleable__content\"><pre>cleaned_comment_text</pre></div></div></div><div class=\"sk-serial\"><div class=\"sk-item\"><div class=\"sk-estimator sk-toggleable\"><input class=\"sk-toggleable__control sk-hidden--visually\" id=\"0f34e37d-8136-4387-9260-5bfe9d9f2a05\" type=\"checkbox\" ><label class=\"sk-toggleable__label\" for=\"0f34e37d-8136-4387-9260-5bfe9d9f2a05\">CountVectorizer</label><div class=\"sk-toggleable__content\"><pre>CountVectorizer()</pre></div></div></div></div></div></div><div class=\"sk-parallel-item\"><div class=\"sk-item\"><div class=\"sk-label-container\"><div class=\"sk-label sk-toggleable\"><input class=\"sk-toggleable__control sk-hidden--visually\" id=\"08dbaafb-f9e2-4cf5-9a96-0cc496c1b851\" type=\"checkbox\" ><label class=\"sk-toggleable__label\" for=\"08dbaafb-f9e2-4cf5-9a96-0cc496c1b851\">tfidfvectorizer-1</label><div class=\"sk-toggleable__content\"><pre>cleaned_comment_text</pre></div></div></div><div class=\"sk-serial\"><div class=\"sk-item\"><div class=\"sk-estimator sk-toggleable\"><input class=\"sk-toggleable__control sk-hidden--visually\" id=\"f17f90ee-8cdd-4d7b-be3c-cfe3c2a4f9cf\" type=\"checkbox\" ><label class=\"sk-toggleable__label\" for=\"f17f90ee-8cdd-4d7b-be3c-cfe3c2a4f9cf\">TfidfVectorizer</label><div class=\"sk-toggleable__content\"><pre>TfidfVectorizer()</pre></div></div></div></div></div></div><div class=\"sk-parallel-item\"><div class=\"sk-item\"><div class=\"sk-label-container\"><div class=\"sk-label sk-toggleable\"><input class=\"sk-toggleable__control sk-hidden--visually\" id=\"bcc67ef6-fa23-453b-a555-a69083bdf30f\" type=\"checkbox\" ><label class=\"sk-toggleable__label\" for=\"bcc67ef6-fa23-453b-a555-a69083bdf30f\">tfidfvectorizer-2</label><div class=\"sk-toggleable__content\"><pre>cleaned_comment_text</pre></div></div></div><div class=\"sk-serial\"><div class=\"sk-item\"><div class=\"sk-estimator sk-toggleable\"><input class=\"sk-toggleable__control sk-hidden--visually\" id=\"1cd748de-21de-4973-a779-a94036abd24e\" type=\"checkbox\" ><label class=\"sk-toggleable__label\" for=\"1cd748de-21de-4973-a779-a94036abd24e\">TfidfVectorizer</label><div class=\"sk-toggleable__content\"><pre>TfidfVectorizer(use_idf=False)</pre></div></div></div></div></div></div><div class=\"sk-parallel-item\"><div class=\"sk-item\"><div class=\"sk-label-container\"><div class=\"sk-label sk-toggleable\"><input class=\"sk-toggleable__control sk-hidden--visually\" id=\"c75940b9-1fe5-4e8b-b76b-dfc3fb18768e\" type=\"checkbox\" ><label class=\"sk-toggleable__label\" for=\"c75940b9-1fe5-4e8b-b76b-dfc3fb18768e\">remainder</label><div class=\"sk-toggleable__content\"><pre>['n_all_caps', 'perc_exclamations', 'num_exclamations']</pre></div></div></div><div class=\"sk-serial\"><div class=\"sk-item\"><div class=\"sk-estimator sk-toggleable\"><input class=\"sk-toggleable__control sk-hidden--visually\" id=\"4a0a9295-ba41-43fe-b122-96dc5a96f3fc\" type=\"checkbox\" ><label class=\"sk-toggleable__label\" for=\"4a0a9295-ba41-43fe-b122-96dc5a96f3fc\">MinMaxScaler</label><div class=\"sk-toggleable__content\"><pre>MinMaxScaler()</pre></div></div></div></div></div></div></div></div><div class=\"sk-item\"><div class=\"sk-estimator sk-toggleable\"><input class=\"sk-toggleable__control sk-hidden--visually\" id=\"e4ff1c93-8d8f-4087-a6fa-ff0fd4fc19fa\" type=\"checkbox\" ><label class=\"sk-toggleable__label\" for=\"e4ff1c93-8d8f-4087-a6fa-ff0fd4fc19fa\">DenseTransformer</label><div class=\"sk-toggleable__content\"><pre>DenseTransformer()</pre></div></div></div><div class=\"sk-item\"><div class=\"sk-estimator sk-toggleable\"><input class=\"sk-toggleable__control sk-hidden--visually\" id=\"66a8c0d2-4875-4772-a015-502645297764\" type=\"checkbox\" ><label class=\"sk-toggleable__label\" for=\"66a8c0d2-4875-4772-a015-502645297764\">LinearSVC</label><div class=\"sk-toggleable__content\"><pre>LinearSVC()</pre></div></div></div></div></div></div></div>"
      ],
      "text/plain": [
       "Pipeline(steps=[('column_transformer',\n",
       "                 ColumnTransformer(remainder=MinMaxScaler(),\n",
       "                                   transformers=[('countvectorizer',\n",
       "                                                  CountVectorizer(),\n",
       "                                                  'cleaned_comment_text'),\n",
       "                                                 ('tfidfvectorizer-1',\n",
       "                                                  TfidfVectorizer(),\n",
       "                                                  'cleaned_comment_text'),\n",
       "                                                 ('tfidfvectorizer-2',\n",
       "                                                  TfidfVectorizer(use_idf=False),\n",
       "                                                  'cleaned_comment_text')])),\n",
       "                ('dense', DenseTransformer()), ('clf', LinearSVC())])"
      ]
     },
     "metadata": {},
     "output_type": "display_data"
    },
    {
     "name": "stdout",
     "output_type": "stream",
     "text": [
      "\n",
      "--------------------------------------------------------------------------------\n",
      "LinearSVC_nosmote Sub3_FactClaiming :\n",
      "\n"
     ]
    },
    {
     "data": {
      "text/html": [
       "<style>#sk-22f4cdd8-f61b-4bb7-863d-df684f2a0eae {color: black;background-color: white;}#sk-22f4cdd8-f61b-4bb7-863d-df684f2a0eae pre{padding: 0;}#sk-22f4cdd8-f61b-4bb7-863d-df684f2a0eae div.sk-toggleable {background-color: white;}#sk-22f4cdd8-f61b-4bb7-863d-df684f2a0eae label.sk-toggleable__label {cursor: pointer;display: block;width: 100%;margin-bottom: 0;padding: 0.3em;box-sizing: border-box;text-align: center;}#sk-22f4cdd8-f61b-4bb7-863d-df684f2a0eae div.sk-toggleable__content {max-height: 0;max-width: 0;overflow: hidden;text-align: left;background-color: #f0f8ff;}#sk-22f4cdd8-f61b-4bb7-863d-df684f2a0eae div.sk-toggleable__content pre {margin: 0.2em;color: black;border-radius: 0.25em;background-color: #f0f8ff;}#sk-22f4cdd8-f61b-4bb7-863d-df684f2a0eae input.sk-toggleable__control:checked~div.sk-toggleable__content {max-height: 200px;max-width: 100%;overflow: auto;}#sk-22f4cdd8-f61b-4bb7-863d-df684f2a0eae div.sk-estimator input.sk-toggleable__control:checked~label.sk-toggleable__label {background-color: #d4ebff;}#sk-22f4cdd8-f61b-4bb7-863d-df684f2a0eae div.sk-label input.sk-toggleable__control:checked~label.sk-toggleable__label {background-color: #d4ebff;}#sk-22f4cdd8-f61b-4bb7-863d-df684f2a0eae input.sk-hidden--visually {border: 0;clip: rect(1px 1px 1px 1px);clip: rect(1px, 1px, 1px, 1px);height: 1px;margin: -1px;overflow: hidden;padding: 0;position: absolute;width: 1px;}#sk-22f4cdd8-f61b-4bb7-863d-df684f2a0eae div.sk-estimator {font-family: monospace;background-color: #f0f8ff;border: 1px dotted black;border-radius: 0.25em;box-sizing: border-box;margin-bottom: 0.5em;}#sk-22f4cdd8-f61b-4bb7-863d-df684f2a0eae div.sk-estimator:hover {background-color: #d4ebff;}#sk-22f4cdd8-f61b-4bb7-863d-df684f2a0eae div.sk-parallel-item::after {content: \"\";width: 100%;border-bottom: 1px solid gray;flex-grow: 1;}#sk-22f4cdd8-f61b-4bb7-863d-df684f2a0eae div.sk-label:hover label.sk-toggleable__label {background-color: #d4ebff;}#sk-22f4cdd8-f61b-4bb7-863d-df684f2a0eae div.sk-serial::before {content: \"\";position: absolute;border-left: 1px solid gray;box-sizing: border-box;top: 2em;bottom: 0;left: 50%;}#sk-22f4cdd8-f61b-4bb7-863d-df684f2a0eae div.sk-serial {display: flex;flex-direction: column;align-items: center;background-color: white;padding-right: 0.2em;padding-left: 0.2em;}#sk-22f4cdd8-f61b-4bb7-863d-df684f2a0eae div.sk-item {z-index: 1;}#sk-22f4cdd8-f61b-4bb7-863d-df684f2a0eae div.sk-parallel {display: flex;align-items: stretch;justify-content: center;background-color: white;}#sk-22f4cdd8-f61b-4bb7-863d-df684f2a0eae div.sk-parallel::before {content: \"\";position: absolute;border-left: 1px solid gray;box-sizing: border-box;top: 2em;bottom: 0;left: 50%;}#sk-22f4cdd8-f61b-4bb7-863d-df684f2a0eae div.sk-parallel-item {display: flex;flex-direction: column;position: relative;background-color: white;}#sk-22f4cdd8-f61b-4bb7-863d-df684f2a0eae div.sk-parallel-item:first-child::after {align-self: flex-end;width: 50%;}#sk-22f4cdd8-f61b-4bb7-863d-df684f2a0eae div.sk-parallel-item:last-child::after {align-self: flex-start;width: 50%;}#sk-22f4cdd8-f61b-4bb7-863d-df684f2a0eae div.sk-parallel-item:only-child::after {width: 0;}#sk-22f4cdd8-f61b-4bb7-863d-df684f2a0eae div.sk-dashed-wrapped {border: 1px dashed gray;margin: 0 0.4em 0.5em 0.4em;box-sizing: border-box;padding-bottom: 0.4em;background-color: white;position: relative;}#sk-22f4cdd8-f61b-4bb7-863d-df684f2a0eae div.sk-label label {font-family: monospace;font-weight: bold;background-color: white;display: inline-block;line-height: 1.2em;}#sk-22f4cdd8-f61b-4bb7-863d-df684f2a0eae div.sk-label-container {position: relative;z-index: 2;text-align: center;}#sk-22f4cdd8-f61b-4bb7-863d-df684f2a0eae div.sk-container {display: inline-block;position: relative;}</style><div id=\"sk-22f4cdd8-f61b-4bb7-863d-df684f2a0eae\" class\"sk-top-container\"><div class=\"sk-container\"><div class=\"sk-item sk-dashed-wrapped\"><div class=\"sk-label-container\"><div class=\"sk-label sk-toggleable\"><input class=\"sk-toggleable__control sk-hidden--visually\" id=\"c3b497ea-6692-455c-bca5-e72a1354e5e3\" type=\"checkbox\" ><label class=\"sk-toggleable__label\" for=\"c3b497ea-6692-455c-bca5-e72a1354e5e3\">Pipeline</label><div class=\"sk-toggleable__content\"><pre>Pipeline(steps=[('column_transformer',\n",
       "                 ColumnTransformer(remainder=MinMaxScaler(),\n",
       "                                   transformers=[('countvectorizer',\n",
       "                                                  CountVectorizer(),\n",
       "                                                  'cleaned_comment_text'),\n",
       "                                                 ('tfidfvectorizer-1',\n",
       "                                                  TfidfVectorizer(),\n",
       "                                                  'cleaned_comment_text'),\n",
       "                                                 ('tfidfvectorizer-2',\n",
       "                                                  TfidfVectorizer(use_idf=False),\n",
       "                                                  'cleaned_comment_text')])),\n",
       "                ('dense', DenseTransformer()), ('clf', LinearSVC())])</pre></div></div></div><div class=\"sk-serial\"><div class=\"sk-item sk-dashed-wrapped\"><div class=\"sk-label-container\"><div class=\"sk-label sk-toggleable\"><input class=\"sk-toggleable__control sk-hidden--visually\" id=\"ab14b1a8-63ab-4de2-8cfb-5d037cd8c7e4\" type=\"checkbox\" ><label class=\"sk-toggleable__label\" for=\"ab14b1a8-63ab-4de2-8cfb-5d037cd8c7e4\">column_transformer: ColumnTransformer</label><div class=\"sk-toggleable__content\"><pre>ColumnTransformer(remainder=MinMaxScaler(),\n",
       "                  transformers=[('countvectorizer', CountVectorizer(),\n",
       "                                 'cleaned_comment_text'),\n",
       "                                ('tfidfvectorizer-1', TfidfVectorizer(),\n",
       "                                 'cleaned_comment_text'),\n",
       "                                ('tfidfvectorizer-2',\n",
       "                                 TfidfVectorizer(use_idf=False),\n",
       "                                 'cleaned_comment_text')])</pre></div></div></div><div class=\"sk-parallel\"><div class=\"sk-parallel-item\"><div class=\"sk-item\"><div class=\"sk-label-container\"><div class=\"sk-label sk-toggleable\"><input class=\"sk-toggleable__control sk-hidden--visually\" id=\"8cd13533-bb7d-429a-b2d0-78037fbc51c2\" type=\"checkbox\" ><label class=\"sk-toggleable__label\" for=\"8cd13533-bb7d-429a-b2d0-78037fbc51c2\">countvectorizer</label><div class=\"sk-toggleable__content\"><pre>cleaned_comment_text</pre></div></div></div><div class=\"sk-serial\"><div class=\"sk-item\"><div class=\"sk-estimator sk-toggleable\"><input class=\"sk-toggleable__control sk-hidden--visually\" id=\"28c68512-8b3c-4d68-b4d6-11158c0233c5\" type=\"checkbox\" ><label class=\"sk-toggleable__label\" for=\"28c68512-8b3c-4d68-b4d6-11158c0233c5\">CountVectorizer</label><div class=\"sk-toggleable__content\"><pre>CountVectorizer()</pre></div></div></div></div></div></div><div class=\"sk-parallel-item\"><div class=\"sk-item\"><div class=\"sk-label-container\"><div class=\"sk-label sk-toggleable\"><input class=\"sk-toggleable__control sk-hidden--visually\" id=\"edb5c8f4-c517-4c14-a7a0-f882cd7e46ca\" type=\"checkbox\" ><label class=\"sk-toggleable__label\" for=\"edb5c8f4-c517-4c14-a7a0-f882cd7e46ca\">tfidfvectorizer-1</label><div class=\"sk-toggleable__content\"><pre>cleaned_comment_text</pre></div></div></div><div class=\"sk-serial\"><div class=\"sk-item\"><div class=\"sk-estimator sk-toggleable\"><input class=\"sk-toggleable__control sk-hidden--visually\" id=\"bdd525de-bac5-4f3a-89ee-feec035e3de6\" type=\"checkbox\" ><label class=\"sk-toggleable__label\" for=\"bdd525de-bac5-4f3a-89ee-feec035e3de6\">TfidfVectorizer</label><div class=\"sk-toggleable__content\"><pre>TfidfVectorizer()</pre></div></div></div></div></div></div><div class=\"sk-parallel-item\"><div class=\"sk-item\"><div class=\"sk-label-container\"><div class=\"sk-label sk-toggleable\"><input class=\"sk-toggleable__control sk-hidden--visually\" id=\"a88a3a1f-952a-4fb1-bfdb-eb4d6adf1b62\" type=\"checkbox\" ><label class=\"sk-toggleable__label\" for=\"a88a3a1f-952a-4fb1-bfdb-eb4d6adf1b62\">tfidfvectorizer-2</label><div class=\"sk-toggleable__content\"><pre>cleaned_comment_text</pre></div></div></div><div class=\"sk-serial\"><div class=\"sk-item\"><div class=\"sk-estimator sk-toggleable\"><input class=\"sk-toggleable__control sk-hidden--visually\" id=\"6d3dd562-e8f7-43b1-a4c1-1018830ae1cb\" type=\"checkbox\" ><label class=\"sk-toggleable__label\" for=\"6d3dd562-e8f7-43b1-a4c1-1018830ae1cb\">TfidfVectorizer</label><div class=\"sk-toggleable__content\"><pre>TfidfVectorizer(use_idf=False)</pre></div></div></div></div></div></div><div class=\"sk-parallel-item\"><div class=\"sk-item\"><div class=\"sk-label-container\"><div class=\"sk-label sk-toggleable\"><input class=\"sk-toggleable__control sk-hidden--visually\" id=\"4dea7a07-384c-4c4f-b666-7905261e6dff\" type=\"checkbox\" ><label class=\"sk-toggleable__label\" for=\"4dea7a07-384c-4c4f-b666-7905261e6dff\">remainder</label><div class=\"sk-toggleable__content\"><pre>['n_all_caps', 'perc_exclamations', 'num_exclamations']</pre></div></div></div><div class=\"sk-serial\"><div class=\"sk-item\"><div class=\"sk-estimator sk-toggleable\"><input class=\"sk-toggleable__control sk-hidden--visually\" id=\"bf1963be-9648-4024-be4e-faee27c97727\" type=\"checkbox\" ><label class=\"sk-toggleable__label\" for=\"bf1963be-9648-4024-be4e-faee27c97727\">MinMaxScaler</label><div class=\"sk-toggleable__content\"><pre>MinMaxScaler()</pre></div></div></div></div></div></div></div></div><div class=\"sk-item\"><div class=\"sk-estimator sk-toggleable\"><input class=\"sk-toggleable__control sk-hidden--visually\" id=\"58e17453-f54f-4e0b-b6f6-2878c917c4e1\" type=\"checkbox\" ><label class=\"sk-toggleable__label\" for=\"58e17453-f54f-4e0b-b6f6-2878c917c4e1\">DenseTransformer</label><div class=\"sk-toggleable__content\"><pre>DenseTransformer()</pre></div></div></div><div class=\"sk-item\"><div class=\"sk-estimator sk-toggleable\"><input class=\"sk-toggleable__control sk-hidden--visually\" id=\"06835584-9978-4644-9825-478b47ec708a\" type=\"checkbox\" ><label class=\"sk-toggleable__label\" for=\"06835584-9978-4644-9825-478b47ec708a\">LinearSVC</label><div class=\"sk-toggleable__content\"><pre>LinearSVC()</pre></div></div></div></div></div></div></div>"
      ],
      "text/plain": [
       "Pipeline(steps=[('column_transformer',\n",
       "                 ColumnTransformer(remainder=MinMaxScaler(),\n",
       "                                   transformers=[('countvectorizer',\n",
       "                                                  CountVectorizer(),\n",
       "                                                  'cleaned_comment_text'),\n",
       "                                                 ('tfidfvectorizer-1',\n",
       "                                                  TfidfVectorizer(),\n",
       "                                                  'cleaned_comment_text'),\n",
       "                                                 ('tfidfvectorizer-2',\n",
       "                                                  TfidfVectorizer(use_idf=False),\n",
       "                                                  'cleaned_comment_text')])),\n",
       "                ('dense', DenseTransformer()), ('clf', LinearSVC())])"
      ]
     },
     "metadata": {},
     "output_type": "display_data"
    },
    {
     "name": "stdout",
     "output_type": "stream",
     "text": [
      "\n",
      "--------------------------------------------------------------------------------\n",
      "LinearSVC Sub1_Toxic :\n",
      "\n"
     ]
    },
    {
     "data": {
      "text/html": [
       "<style>#sk-0580ef33-0f6a-4b27-9082-9c8e13bc61b6 {color: black;background-color: white;}#sk-0580ef33-0f6a-4b27-9082-9c8e13bc61b6 pre{padding: 0;}#sk-0580ef33-0f6a-4b27-9082-9c8e13bc61b6 div.sk-toggleable {background-color: white;}#sk-0580ef33-0f6a-4b27-9082-9c8e13bc61b6 label.sk-toggleable__label {cursor: pointer;display: block;width: 100%;margin-bottom: 0;padding: 0.3em;box-sizing: border-box;text-align: center;}#sk-0580ef33-0f6a-4b27-9082-9c8e13bc61b6 div.sk-toggleable__content {max-height: 0;max-width: 0;overflow: hidden;text-align: left;background-color: #f0f8ff;}#sk-0580ef33-0f6a-4b27-9082-9c8e13bc61b6 div.sk-toggleable__content pre {margin: 0.2em;color: black;border-radius: 0.25em;background-color: #f0f8ff;}#sk-0580ef33-0f6a-4b27-9082-9c8e13bc61b6 input.sk-toggleable__control:checked~div.sk-toggleable__content {max-height: 200px;max-width: 100%;overflow: auto;}#sk-0580ef33-0f6a-4b27-9082-9c8e13bc61b6 div.sk-estimator input.sk-toggleable__control:checked~label.sk-toggleable__label {background-color: #d4ebff;}#sk-0580ef33-0f6a-4b27-9082-9c8e13bc61b6 div.sk-label input.sk-toggleable__control:checked~label.sk-toggleable__label {background-color: #d4ebff;}#sk-0580ef33-0f6a-4b27-9082-9c8e13bc61b6 input.sk-hidden--visually {border: 0;clip: rect(1px 1px 1px 1px);clip: rect(1px, 1px, 1px, 1px);height: 1px;margin: -1px;overflow: hidden;padding: 0;position: absolute;width: 1px;}#sk-0580ef33-0f6a-4b27-9082-9c8e13bc61b6 div.sk-estimator {font-family: monospace;background-color: #f0f8ff;border: 1px dotted black;border-radius: 0.25em;box-sizing: border-box;margin-bottom: 0.5em;}#sk-0580ef33-0f6a-4b27-9082-9c8e13bc61b6 div.sk-estimator:hover {background-color: #d4ebff;}#sk-0580ef33-0f6a-4b27-9082-9c8e13bc61b6 div.sk-parallel-item::after {content: \"\";width: 100%;border-bottom: 1px solid gray;flex-grow: 1;}#sk-0580ef33-0f6a-4b27-9082-9c8e13bc61b6 div.sk-label:hover label.sk-toggleable__label {background-color: #d4ebff;}#sk-0580ef33-0f6a-4b27-9082-9c8e13bc61b6 div.sk-serial::before {content: \"\";position: absolute;border-left: 1px solid gray;box-sizing: border-box;top: 2em;bottom: 0;left: 50%;}#sk-0580ef33-0f6a-4b27-9082-9c8e13bc61b6 div.sk-serial {display: flex;flex-direction: column;align-items: center;background-color: white;padding-right: 0.2em;padding-left: 0.2em;}#sk-0580ef33-0f6a-4b27-9082-9c8e13bc61b6 div.sk-item {z-index: 1;}#sk-0580ef33-0f6a-4b27-9082-9c8e13bc61b6 div.sk-parallel {display: flex;align-items: stretch;justify-content: center;background-color: white;}#sk-0580ef33-0f6a-4b27-9082-9c8e13bc61b6 div.sk-parallel::before {content: \"\";position: absolute;border-left: 1px solid gray;box-sizing: border-box;top: 2em;bottom: 0;left: 50%;}#sk-0580ef33-0f6a-4b27-9082-9c8e13bc61b6 div.sk-parallel-item {display: flex;flex-direction: column;position: relative;background-color: white;}#sk-0580ef33-0f6a-4b27-9082-9c8e13bc61b6 div.sk-parallel-item:first-child::after {align-self: flex-end;width: 50%;}#sk-0580ef33-0f6a-4b27-9082-9c8e13bc61b6 div.sk-parallel-item:last-child::after {align-self: flex-start;width: 50%;}#sk-0580ef33-0f6a-4b27-9082-9c8e13bc61b6 div.sk-parallel-item:only-child::after {width: 0;}#sk-0580ef33-0f6a-4b27-9082-9c8e13bc61b6 div.sk-dashed-wrapped {border: 1px dashed gray;margin: 0 0.4em 0.5em 0.4em;box-sizing: border-box;padding-bottom: 0.4em;background-color: white;position: relative;}#sk-0580ef33-0f6a-4b27-9082-9c8e13bc61b6 div.sk-label label {font-family: monospace;font-weight: bold;background-color: white;display: inline-block;line-height: 1.2em;}#sk-0580ef33-0f6a-4b27-9082-9c8e13bc61b6 div.sk-label-container {position: relative;z-index: 2;text-align: center;}#sk-0580ef33-0f6a-4b27-9082-9c8e13bc61b6 div.sk-container {display: inline-block;position: relative;}</style><div id=\"sk-0580ef33-0f6a-4b27-9082-9c8e13bc61b6\" class\"sk-top-container\"><div class=\"sk-container\"><div class=\"sk-item sk-dashed-wrapped\"><div class=\"sk-label-container\"><div class=\"sk-label sk-toggleable\"><input class=\"sk-toggleable__control sk-hidden--visually\" id=\"aece53bb-4c62-4aca-9841-866a0cb6085e\" type=\"checkbox\" ><label class=\"sk-toggleable__label\" for=\"aece53bb-4c62-4aca-9841-866a0cb6085e\">Pipeline</label><div class=\"sk-toggleable__content\"><pre>Pipeline(steps=[('column_transformer',\n",
       "                 ColumnTransformer(remainder=MinMaxScaler(),\n",
       "                                   transformers=[('countvectorizer',\n",
       "                                                  CountVectorizer(),\n",
       "                                                  'cleaned_comment_text'),\n",
       "                                                 ('tfidfvectorizer-1',\n",
       "                                                  TfidfVectorizer(),\n",
       "                                                  'cleaned_comment_text'),\n",
       "                                                 ('tfidfvectorizer-2',\n",
       "                                                  TfidfVectorizer(use_idf=False),\n",
       "                                                  'cleaned_comment_text')])),\n",
       "                ('dense', DenseTransformer()), ('smote', SMOTE(n_jobs=-1)),\n",
       "                ('clf', LinearSVC())])</pre></div></div></div><div class=\"sk-serial\"><div class=\"sk-item sk-dashed-wrapped\"><div class=\"sk-label-container\"><div class=\"sk-label sk-toggleable\"><input class=\"sk-toggleable__control sk-hidden--visually\" id=\"6cd34b8a-e4d1-4b1d-8416-46ae138df79c\" type=\"checkbox\" ><label class=\"sk-toggleable__label\" for=\"6cd34b8a-e4d1-4b1d-8416-46ae138df79c\">column_transformer: ColumnTransformer</label><div class=\"sk-toggleable__content\"><pre>ColumnTransformer(remainder=MinMaxScaler(),\n",
       "                  transformers=[('countvectorizer', CountVectorizer(),\n",
       "                                 'cleaned_comment_text'),\n",
       "                                ('tfidfvectorizer-1', TfidfVectorizer(),\n",
       "                                 'cleaned_comment_text'),\n",
       "                                ('tfidfvectorizer-2',\n",
       "                                 TfidfVectorizer(use_idf=False),\n",
       "                                 'cleaned_comment_text')])</pre></div></div></div><div class=\"sk-parallel\"><div class=\"sk-parallel-item\"><div class=\"sk-item\"><div class=\"sk-label-container\"><div class=\"sk-label sk-toggleable\"><input class=\"sk-toggleable__control sk-hidden--visually\" id=\"58679972-65d4-471e-a169-04429a1b1584\" type=\"checkbox\" ><label class=\"sk-toggleable__label\" for=\"58679972-65d4-471e-a169-04429a1b1584\">countvectorizer</label><div class=\"sk-toggleable__content\"><pre>cleaned_comment_text</pre></div></div></div><div class=\"sk-serial\"><div class=\"sk-item\"><div class=\"sk-estimator sk-toggleable\"><input class=\"sk-toggleable__control sk-hidden--visually\" id=\"9fa3498a-39ec-4247-940e-3afb59d14eeb\" type=\"checkbox\" ><label class=\"sk-toggleable__label\" for=\"9fa3498a-39ec-4247-940e-3afb59d14eeb\">CountVectorizer</label><div class=\"sk-toggleable__content\"><pre>CountVectorizer()</pre></div></div></div></div></div></div><div class=\"sk-parallel-item\"><div class=\"sk-item\"><div class=\"sk-label-container\"><div class=\"sk-label sk-toggleable\"><input class=\"sk-toggleable__control sk-hidden--visually\" id=\"7f1fef34-d010-4bf3-947d-a680be3d24ca\" type=\"checkbox\" ><label class=\"sk-toggleable__label\" for=\"7f1fef34-d010-4bf3-947d-a680be3d24ca\">tfidfvectorizer-1</label><div class=\"sk-toggleable__content\"><pre>cleaned_comment_text</pre></div></div></div><div class=\"sk-serial\"><div class=\"sk-item\"><div class=\"sk-estimator sk-toggleable\"><input class=\"sk-toggleable__control sk-hidden--visually\" id=\"1bb543b7-0ca9-4d31-a23b-d115908cdd7c\" type=\"checkbox\" ><label class=\"sk-toggleable__label\" for=\"1bb543b7-0ca9-4d31-a23b-d115908cdd7c\">TfidfVectorizer</label><div class=\"sk-toggleable__content\"><pre>TfidfVectorizer()</pre></div></div></div></div></div></div><div class=\"sk-parallel-item\"><div class=\"sk-item\"><div class=\"sk-label-container\"><div class=\"sk-label sk-toggleable\"><input class=\"sk-toggleable__control sk-hidden--visually\" id=\"397437c6-bcbf-49e1-89ae-6a4ce70c2c27\" type=\"checkbox\" ><label class=\"sk-toggleable__label\" for=\"397437c6-bcbf-49e1-89ae-6a4ce70c2c27\">tfidfvectorizer-2</label><div class=\"sk-toggleable__content\"><pre>cleaned_comment_text</pre></div></div></div><div class=\"sk-serial\"><div class=\"sk-item\"><div class=\"sk-estimator sk-toggleable\"><input class=\"sk-toggleable__control sk-hidden--visually\" id=\"310401b4-fb47-4aaa-b189-101eed42d1a2\" type=\"checkbox\" ><label class=\"sk-toggleable__label\" for=\"310401b4-fb47-4aaa-b189-101eed42d1a2\">TfidfVectorizer</label><div class=\"sk-toggleable__content\"><pre>TfidfVectorizer(use_idf=False)</pre></div></div></div></div></div></div><div class=\"sk-parallel-item\"><div class=\"sk-item\"><div class=\"sk-label-container\"><div class=\"sk-label sk-toggleable\"><input class=\"sk-toggleable__control sk-hidden--visually\" id=\"ba89d8cc-9d38-4145-a94f-ed3b80c3c48d\" type=\"checkbox\" ><label class=\"sk-toggleable__label\" for=\"ba89d8cc-9d38-4145-a94f-ed3b80c3c48d\">remainder</label><div class=\"sk-toggleable__content\"><pre>['n_all_caps', 'perc_exclamations', 'num_exclamations']</pre></div></div></div><div class=\"sk-serial\"><div class=\"sk-item\"><div class=\"sk-estimator sk-toggleable\"><input class=\"sk-toggleable__control sk-hidden--visually\" id=\"44fff636-9fe2-44e0-8a00-cc0fb9523873\" type=\"checkbox\" ><label class=\"sk-toggleable__label\" for=\"44fff636-9fe2-44e0-8a00-cc0fb9523873\">MinMaxScaler</label><div class=\"sk-toggleable__content\"><pre>MinMaxScaler()</pre></div></div></div></div></div></div></div></div><div class=\"sk-item\"><div class=\"sk-estimator sk-toggleable\"><input class=\"sk-toggleable__control sk-hidden--visually\" id=\"2a550f57-093c-4628-ad49-81682a494561\" type=\"checkbox\" ><label class=\"sk-toggleable__label\" for=\"2a550f57-093c-4628-ad49-81682a494561\">DenseTransformer</label><div class=\"sk-toggleable__content\"><pre>DenseTransformer()</pre></div></div></div><div class=\"sk-item\"><div class=\"sk-estimator sk-toggleable\"><input class=\"sk-toggleable__control sk-hidden--visually\" id=\"5551d61f-7b73-4af1-954a-4538f5fb94f6\" type=\"checkbox\" ><label class=\"sk-toggleable__label\" for=\"5551d61f-7b73-4af1-954a-4538f5fb94f6\">SMOTE</label><div class=\"sk-toggleable__content\"><pre>SMOTE(n_jobs=-1)</pre></div></div></div><div class=\"sk-item\"><div class=\"sk-estimator sk-toggleable\"><input class=\"sk-toggleable__control sk-hidden--visually\" id=\"ee959ca3-2f4d-4d71-9be0-fd86beceeef3\" type=\"checkbox\" ><label class=\"sk-toggleable__label\" for=\"ee959ca3-2f4d-4d71-9be0-fd86beceeef3\">LinearSVC</label><div class=\"sk-toggleable__content\"><pre>LinearSVC()</pre></div></div></div></div></div></div></div>"
      ],
      "text/plain": [
       "Pipeline(steps=[('column_transformer',\n",
       "                 ColumnTransformer(remainder=MinMaxScaler(),\n",
       "                                   transformers=[('countvectorizer',\n",
       "                                                  CountVectorizer(),\n",
       "                                                  'cleaned_comment_text'),\n",
       "                                                 ('tfidfvectorizer-1',\n",
       "                                                  TfidfVectorizer(),\n",
       "                                                  'cleaned_comment_text'),\n",
       "                                                 ('tfidfvectorizer-2',\n",
       "                                                  TfidfVectorizer(use_idf=False),\n",
       "                                                  'cleaned_comment_text')])),\n",
       "                ('dense', DenseTransformer()), ('smote', SMOTE(n_jobs=-1)),\n",
       "                ('clf', LinearSVC())])"
      ]
     },
     "metadata": {},
     "output_type": "display_data"
    },
    {
     "name": "stdout",
     "output_type": "stream",
     "text": [
      "\n",
      "--------------------------------------------------------------------------------\n",
      "LinearSVC Sub2_Engaging :\n",
      "\n"
     ]
    },
    {
     "data": {
      "text/html": [
       "<style>#sk-394c7bf6-a83d-416b-9f7b-c3827d273bff {color: black;background-color: white;}#sk-394c7bf6-a83d-416b-9f7b-c3827d273bff pre{padding: 0;}#sk-394c7bf6-a83d-416b-9f7b-c3827d273bff div.sk-toggleable {background-color: white;}#sk-394c7bf6-a83d-416b-9f7b-c3827d273bff label.sk-toggleable__label {cursor: pointer;display: block;width: 100%;margin-bottom: 0;padding: 0.3em;box-sizing: border-box;text-align: center;}#sk-394c7bf6-a83d-416b-9f7b-c3827d273bff div.sk-toggleable__content {max-height: 0;max-width: 0;overflow: hidden;text-align: left;background-color: #f0f8ff;}#sk-394c7bf6-a83d-416b-9f7b-c3827d273bff div.sk-toggleable__content pre {margin: 0.2em;color: black;border-radius: 0.25em;background-color: #f0f8ff;}#sk-394c7bf6-a83d-416b-9f7b-c3827d273bff input.sk-toggleable__control:checked~div.sk-toggleable__content {max-height: 200px;max-width: 100%;overflow: auto;}#sk-394c7bf6-a83d-416b-9f7b-c3827d273bff div.sk-estimator input.sk-toggleable__control:checked~label.sk-toggleable__label {background-color: #d4ebff;}#sk-394c7bf6-a83d-416b-9f7b-c3827d273bff div.sk-label input.sk-toggleable__control:checked~label.sk-toggleable__label {background-color: #d4ebff;}#sk-394c7bf6-a83d-416b-9f7b-c3827d273bff input.sk-hidden--visually {border: 0;clip: rect(1px 1px 1px 1px);clip: rect(1px, 1px, 1px, 1px);height: 1px;margin: -1px;overflow: hidden;padding: 0;position: absolute;width: 1px;}#sk-394c7bf6-a83d-416b-9f7b-c3827d273bff div.sk-estimator {font-family: monospace;background-color: #f0f8ff;border: 1px dotted black;border-radius: 0.25em;box-sizing: border-box;margin-bottom: 0.5em;}#sk-394c7bf6-a83d-416b-9f7b-c3827d273bff div.sk-estimator:hover {background-color: #d4ebff;}#sk-394c7bf6-a83d-416b-9f7b-c3827d273bff div.sk-parallel-item::after {content: \"\";width: 100%;border-bottom: 1px solid gray;flex-grow: 1;}#sk-394c7bf6-a83d-416b-9f7b-c3827d273bff div.sk-label:hover label.sk-toggleable__label {background-color: #d4ebff;}#sk-394c7bf6-a83d-416b-9f7b-c3827d273bff div.sk-serial::before {content: \"\";position: absolute;border-left: 1px solid gray;box-sizing: border-box;top: 2em;bottom: 0;left: 50%;}#sk-394c7bf6-a83d-416b-9f7b-c3827d273bff div.sk-serial {display: flex;flex-direction: column;align-items: center;background-color: white;padding-right: 0.2em;padding-left: 0.2em;}#sk-394c7bf6-a83d-416b-9f7b-c3827d273bff div.sk-item {z-index: 1;}#sk-394c7bf6-a83d-416b-9f7b-c3827d273bff div.sk-parallel {display: flex;align-items: stretch;justify-content: center;background-color: white;}#sk-394c7bf6-a83d-416b-9f7b-c3827d273bff div.sk-parallel::before {content: \"\";position: absolute;border-left: 1px solid gray;box-sizing: border-box;top: 2em;bottom: 0;left: 50%;}#sk-394c7bf6-a83d-416b-9f7b-c3827d273bff div.sk-parallel-item {display: flex;flex-direction: column;position: relative;background-color: white;}#sk-394c7bf6-a83d-416b-9f7b-c3827d273bff div.sk-parallel-item:first-child::after {align-self: flex-end;width: 50%;}#sk-394c7bf6-a83d-416b-9f7b-c3827d273bff div.sk-parallel-item:last-child::after {align-self: flex-start;width: 50%;}#sk-394c7bf6-a83d-416b-9f7b-c3827d273bff div.sk-parallel-item:only-child::after {width: 0;}#sk-394c7bf6-a83d-416b-9f7b-c3827d273bff div.sk-dashed-wrapped {border: 1px dashed gray;margin: 0 0.4em 0.5em 0.4em;box-sizing: border-box;padding-bottom: 0.4em;background-color: white;position: relative;}#sk-394c7bf6-a83d-416b-9f7b-c3827d273bff div.sk-label label {font-family: monospace;font-weight: bold;background-color: white;display: inline-block;line-height: 1.2em;}#sk-394c7bf6-a83d-416b-9f7b-c3827d273bff div.sk-label-container {position: relative;z-index: 2;text-align: center;}#sk-394c7bf6-a83d-416b-9f7b-c3827d273bff div.sk-container {display: inline-block;position: relative;}</style><div id=\"sk-394c7bf6-a83d-416b-9f7b-c3827d273bff\" class\"sk-top-container\"><div class=\"sk-container\"><div class=\"sk-item sk-dashed-wrapped\"><div class=\"sk-label-container\"><div class=\"sk-label sk-toggleable\"><input class=\"sk-toggleable__control sk-hidden--visually\" id=\"59428e81-5fc8-4975-b927-1e2778daf941\" type=\"checkbox\" ><label class=\"sk-toggleable__label\" for=\"59428e81-5fc8-4975-b927-1e2778daf941\">Pipeline</label><div class=\"sk-toggleable__content\"><pre>Pipeline(steps=[('column_transformer',\n",
       "                 ColumnTransformer(remainder=MinMaxScaler(),\n",
       "                                   transformers=[('countvectorizer',\n",
       "                                                  CountVectorizer(),\n",
       "                                                  'cleaned_comment_text'),\n",
       "                                                 ('tfidfvectorizer-1',\n",
       "                                                  TfidfVectorizer(),\n",
       "                                                  'cleaned_comment_text'),\n",
       "                                                 ('tfidfvectorizer-2',\n",
       "                                                  TfidfVectorizer(use_idf=False),\n",
       "                                                  'cleaned_comment_text')])),\n",
       "                ('dense', DenseTransformer()), ('smote', SMOTE(n_jobs=-1)),\n",
       "                ('clf', LinearSVC())])</pre></div></div></div><div class=\"sk-serial\"><div class=\"sk-item sk-dashed-wrapped\"><div class=\"sk-label-container\"><div class=\"sk-label sk-toggleable\"><input class=\"sk-toggleable__control sk-hidden--visually\" id=\"09cbd35d-2513-4e08-8bb9-ac76f43ddb48\" type=\"checkbox\" ><label class=\"sk-toggleable__label\" for=\"09cbd35d-2513-4e08-8bb9-ac76f43ddb48\">column_transformer: ColumnTransformer</label><div class=\"sk-toggleable__content\"><pre>ColumnTransformer(remainder=MinMaxScaler(),\n",
       "                  transformers=[('countvectorizer', CountVectorizer(),\n",
       "                                 'cleaned_comment_text'),\n",
       "                                ('tfidfvectorizer-1', TfidfVectorizer(),\n",
       "                                 'cleaned_comment_text'),\n",
       "                                ('tfidfvectorizer-2',\n",
       "                                 TfidfVectorizer(use_idf=False),\n",
       "                                 'cleaned_comment_text')])</pre></div></div></div><div class=\"sk-parallel\"><div class=\"sk-parallel-item\"><div class=\"sk-item\"><div class=\"sk-label-container\"><div class=\"sk-label sk-toggleable\"><input class=\"sk-toggleable__control sk-hidden--visually\" id=\"fd66535f-1f21-4f29-bfc8-f82d499a8e97\" type=\"checkbox\" ><label class=\"sk-toggleable__label\" for=\"fd66535f-1f21-4f29-bfc8-f82d499a8e97\">countvectorizer</label><div class=\"sk-toggleable__content\"><pre>cleaned_comment_text</pre></div></div></div><div class=\"sk-serial\"><div class=\"sk-item\"><div class=\"sk-estimator sk-toggleable\"><input class=\"sk-toggleable__control sk-hidden--visually\" id=\"48578d65-6519-4151-a7e5-b4281408c798\" type=\"checkbox\" ><label class=\"sk-toggleable__label\" for=\"48578d65-6519-4151-a7e5-b4281408c798\">CountVectorizer</label><div class=\"sk-toggleable__content\"><pre>CountVectorizer()</pre></div></div></div></div></div></div><div class=\"sk-parallel-item\"><div class=\"sk-item\"><div class=\"sk-label-container\"><div class=\"sk-label sk-toggleable\"><input class=\"sk-toggleable__control sk-hidden--visually\" id=\"4f95f64a-44de-408c-815c-a001e05fceee\" type=\"checkbox\" ><label class=\"sk-toggleable__label\" for=\"4f95f64a-44de-408c-815c-a001e05fceee\">tfidfvectorizer-1</label><div class=\"sk-toggleable__content\"><pre>cleaned_comment_text</pre></div></div></div><div class=\"sk-serial\"><div class=\"sk-item\"><div class=\"sk-estimator sk-toggleable\"><input class=\"sk-toggleable__control sk-hidden--visually\" id=\"37a8e7e9-7586-4e49-8efc-9d895f9e69cb\" type=\"checkbox\" ><label class=\"sk-toggleable__label\" for=\"37a8e7e9-7586-4e49-8efc-9d895f9e69cb\">TfidfVectorizer</label><div class=\"sk-toggleable__content\"><pre>TfidfVectorizer()</pre></div></div></div></div></div></div><div class=\"sk-parallel-item\"><div class=\"sk-item\"><div class=\"sk-label-container\"><div class=\"sk-label sk-toggleable\"><input class=\"sk-toggleable__control sk-hidden--visually\" id=\"d828262d-504b-4bee-90ec-47952c866c15\" type=\"checkbox\" ><label class=\"sk-toggleable__label\" for=\"d828262d-504b-4bee-90ec-47952c866c15\">tfidfvectorizer-2</label><div class=\"sk-toggleable__content\"><pre>cleaned_comment_text</pre></div></div></div><div class=\"sk-serial\"><div class=\"sk-item\"><div class=\"sk-estimator sk-toggleable\"><input class=\"sk-toggleable__control sk-hidden--visually\" id=\"2697f595-9328-4c5d-8623-c1973d1f6fb9\" type=\"checkbox\" ><label class=\"sk-toggleable__label\" for=\"2697f595-9328-4c5d-8623-c1973d1f6fb9\">TfidfVectorizer</label><div class=\"sk-toggleable__content\"><pre>TfidfVectorizer(use_idf=False)</pre></div></div></div></div></div></div><div class=\"sk-parallel-item\"><div class=\"sk-item\"><div class=\"sk-label-container\"><div class=\"sk-label sk-toggleable\"><input class=\"sk-toggleable__control sk-hidden--visually\" id=\"412f0675-6667-470c-8477-72b297651f08\" type=\"checkbox\" ><label class=\"sk-toggleable__label\" for=\"412f0675-6667-470c-8477-72b297651f08\">remainder</label><div class=\"sk-toggleable__content\"><pre>['n_all_caps', 'perc_exclamations', 'num_exclamations']</pre></div></div></div><div class=\"sk-serial\"><div class=\"sk-item\"><div class=\"sk-estimator sk-toggleable\"><input class=\"sk-toggleable__control sk-hidden--visually\" id=\"1028b6cd-fe1b-4d24-aa2c-a0f7785c81b7\" type=\"checkbox\" ><label class=\"sk-toggleable__label\" for=\"1028b6cd-fe1b-4d24-aa2c-a0f7785c81b7\">MinMaxScaler</label><div class=\"sk-toggleable__content\"><pre>MinMaxScaler()</pre></div></div></div></div></div></div></div></div><div class=\"sk-item\"><div class=\"sk-estimator sk-toggleable\"><input class=\"sk-toggleable__control sk-hidden--visually\" id=\"663aebd7-0eed-4cc9-abd0-8ee210f40d0a\" type=\"checkbox\" ><label class=\"sk-toggleable__label\" for=\"663aebd7-0eed-4cc9-abd0-8ee210f40d0a\">DenseTransformer</label><div class=\"sk-toggleable__content\"><pre>DenseTransformer()</pre></div></div></div><div class=\"sk-item\"><div class=\"sk-estimator sk-toggleable\"><input class=\"sk-toggleable__control sk-hidden--visually\" id=\"65a876ad-7316-4a51-95d8-8b6b2c4d723e\" type=\"checkbox\" ><label class=\"sk-toggleable__label\" for=\"65a876ad-7316-4a51-95d8-8b6b2c4d723e\">SMOTE</label><div class=\"sk-toggleable__content\"><pre>SMOTE(n_jobs=-1)</pre></div></div></div><div class=\"sk-item\"><div class=\"sk-estimator sk-toggleable\"><input class=\"sk-toggleable__control sk-hidden--visually\" id=\"c2268a93-c404-4abf-8a1c-ea5e00369aa9\" type=\"checkbox\" ><label class=\"sk-toggleable__label\" for=\"c2268a93-c404-4abf-8a1c-ea5e00369aa9\">LinearSVC</label><div class=\"sk-toggleable__content\"><pre>LinearSVC()</pre></div></div></div></div></div></div></div>"
      ],
      "text/plain": [
       "Pipeline(steps=[('column_transformer',\n",
       "                 ColumnTransformer(remainder=MinMaxScaler(),\n",
       "                                   transformers=[('countvectorizer',\n",
       "                                                  CountVectorizer(),\n",
       "                                                  'cleaned_comment_text'),\n",
       "                                                 ('tfidfvectorizer-1',\n",
       "                                                  TfidfVectorizer(),\n",
       "                                                  'cleaned_comment_text'),\n",
       "                                                 ('tfidfvectorizer-2',\n",
       "                                                  TfidfVectorizer(use_idf=False),\n",
       "                                                  'cleaned_comment_text')])),\n",
       "                ('dense', DenseTransformer()), ('smote', SMOTE(n_jobs=-1)),\n",
       "                ('clf', LinearSVC())])"
      ]
     },
     "metadata": {},
     "output_type": "display_data"
    },
    {
     "name": "stdout",
     "output_type": "stream",
     "text": [
      "\n",
      "--------------------------------------------------------------------------------\n",
      "LinearSVC Sub3_FactClaiming :\n",
      "\n"
     ]
    },
    {
     "data": {
      "text/html": [
       "<style>#sk-94be2f96-f0f3-477c-aa37-48e050efd36a {color: black;background-color: white;}#sk-94be2f96-f0f3-477c-aa37-48e050efd36a pre{padding: 0;}#sk-94be2f96-f0f3-477c-aa37-48e050efd36a div.sk-toggleable {background-color: white;}#sk-94be2f96-f0f3-477c-aa37-48e050efd36a label.sk-toggleable__label {cursor: pointer;display: block;width: 100%;margin-bottom: 0;padding: 0.3em;box-sizing: border-box;text-align: center;}#sk-94be2f96-f0f3-477c-aa37-48e050efd36a div.sk-toggleable__content {max-height: 0;max-width: 0;overflow: hidden;text-align: left;background-color: #f0f8ff;}#sk-94be2f96-f0f3-477c-aa37-48e050efd36a div.sk-toggleable__content pre {margin: 0.2em;color: black;border-radius: 0.25em;background-color: #f0f8ff;}#sk-94be2f96-f0f3-477c-aa37-48e050efd36a input.sk-toggleable__control:checked~div.sk-toggleable__content {max-height: 200px;max-width: 100%;overflow: auto;}#sk-94be2f96-f0f3-477c-aa37-48e050efd36a div.sk-estimator input.sk-toggleable__control:checked~label.sk-toggleable__label {background-color: #d4ebff;}#sk-94be2f96-f0f3-477c-aa37-48e050efd36a div.sk-label input.sk-toggleable__control:checked~label.sk-toggleable__label {background-color: #d4ebff;}#sk-94be2f96-f0f3-477c-aa37-48e050efd36a input.sk-hidden--visually {border: 0;clip: rect(1px 1px 1px 1px);clip: rect(1px, 1px, 1px, 1px);height: 1px;margin: -1px;overflow: hidden;padding: 0;position: absolute;width: 1px;}#sk-94be2f96-f0f3-477c-aa37-48e050efd36a div.sk-estimator {font-family: monospace;background-color: #f0f8ff;border: 1px dotted black;border-radius: 0.25em;box-sizing: border-box;margin-bottom: 0.5em;}#sk-94be2f96-f0f3-477c-aa37-48e050efd36a div.sk-estimator:hover {background-color: #d4ebff;}#sk-94be2f96-f0f3-477c-aa37-48e050efd36a div.sk-parallel-item::after {content: \"\";width: 100%;border-bottom: 1px solid gray;flex-grow: 1;}#sk-94be2f96-f0f3-477c-aa37-48e050efd36a div.sk-label:hover label.sk-toggleable__label {background-color: #d4ebff;}#sk-94be2f96-f0f3-477c-aa37-48e050efd36a div.sk-serial::before {content: \"\";position: absolute;border-left: 1px solid gray;box-sizing: border-box;top: 2em;bottom: 0;left: 50%;}#sk-94be2f96-f0f3-477c-aa37-48e050efd36a div.sk-serial {display: flex;flex-direction: column;align-items: center;background-color: white;padding-right: 0.2em;padding-left: 0.2em;}#sk-94be2f96-f0f3-477c-aa37-48e050efd36a div.sk-item {z-index: 1;}#sk-94be2f96-f0f3-477c-aa37-48e050efd36a div.sk-parallel {display: flex;align-items: stretch;justify-content: center;background-color: white;}#sk-94be2f96-f0f3-477c-aa37-48e050efd36a div.sk-parallel::before {content: \"\";position: absolute;border-left: 1px solid gray;box-sizing: border-box;top: 2em;bottom: 0;left: 50%;}#sk-94be2f96-f0f3-477c-aa37-48e050efd36a div.sk-parallel-item {display: flex;flex-direction: column;position: relative;background-color: white;}#sk-94be2f96-f0f3-477c-aa37-48e050efd36a div.sk-parallel-item:first-child::after {align-self: flex-end;width: 50%;}#sk-94be2f96-f0f3-477c-aa37-48e050efd36a div.sk-parallel-item:last-child::after {align-self: flex-start;width: 50%;}#sk-94be2f96-f0f3-477c-aa37-48e050efd36a div.sk-parallel-item:only-child::after {width: 0;}#sk-94be2f96-f0f3-477c-aa37-48e050efd36a div.sk-dashed-wrapped {border: 1px dashed gray;margin: 0 0.4em 0.5em 0.4em;box-sizing: border-box;padding-bottom: 0.4em;background-color: white;position: relative;}#sk-94be2f96-f0f3-477c-aa37-48e050efd36a div.sk-label label {font-family: monospace;font-weight: bold;background-color: white;display: inline-block;line-height: 1.2em;}#sk-94be2f96-f0f3-477c-aa37-48e050efd36a div.sk-label-container {position: relative;z-index: 2;text-align: center;}#sk-94be2f96-f0f3-477c-aa37-48e050efd36a div.sk-container {display: inline-block;position: relative;}</style><div id=\"sk-94be2f96-f0f3-477c-aa37-48e050efd36a\" class\"sk-top-container\"><div class=\"sk-container\"><div class=\"sk-item sk-dashed-wrapped\"><div class=\"sk-label-container\"><div class=\"sk-label sk-toggleable\"><input class=\"sk-toggleable__control sk-hidden--visually\" id=\"20a49838-3766-49a4-9db5-7066364d228c\" type=\"checkbox\" ><label class=\"sk-toggleable__label\" for=\"20a49838-3766-49a4-9db5-7066364d228c\">Pipeline</label><div class=\"sk-toggleable__content\"><pre>Pipeline(steps=[('column_transformer',\n",
       "                 ColumnTransformer(remainder=MinMaxScaler(),\n",
       "                                   transformers=[('countvectorizer',\n",
       "                                                  CountVectorizer(),\n",
       "                                                  'cleaned_comment_text'),\n",
       "                                                 ('tfidfvectorizer-1',\n",
       "                                                  TfidfVectorizer(),\n",
       "                                                  'cleaned_comment_text'),\n",
       "                                                 ('tfidfvectorizer-2',\n",
       "                                                  TfidfVectorizer(use_idf=False),\n",
       "                                                  'cleaned_comment_text')])),\n",
       "                ('dense', DenseTransformer()), ('smote', SMOTE(n_jobs=-1)),\n",
       "                ('clf', LinearSVC())])</pre></div></div></div><div class=\"sk-serial\"><div class=\"sk-item sk-dashed-wrapped\"><div class=\"sk-label-container\"><div class=\"sk-label sk-toggleable\"><input class=\"sk-toggleable__control sk-hidden--visually\" id=\"e5bf486a-b40e-49a6-8c4f-05e4d23d659c\" type=\"checkbox\" ><label class=\"sk-toggleable__label\" for=\"e5bf486a-b40e-49a6-8c4f-05e4d23d659c\">column_transformer: ColumnTransformer</label><div class=\"sk-toggleable__content\"><pre>ColumnTransformer(remainder=MinMaxScaler(),\n",
       "                  transformers=[('countvectorizer', CountVectorizer(),\n",
       "                                 'cleaned_comment_text'),\n",
       "                                ('tfidfvectorizer-1', TfidfVectorizer(),\n",
       "                                 'cleaned_comment_text'),\n",
       "                                ('tfidfvectorizer-2',\n",
       "                                 TfidfVectorizer(use_idf=False),\n",
       "                                 'cleaned_comment_text')])</pre></div></div></div><div class=\"sk-parallel\"><div class=\"sk-parallel-item\"><div class=\"sk-item\"><div class=\"sk-label-container\"><div class=\"sk-label sk-toggleable\"><input class=\"sk-toggleable__control sk-hidden--visually\" id=\"2b8d0ee9-bbed-4262-84a3-0be5524a4668\" type=\"checkbox\" ><label class=\"sk-toggleable__label\" for=\"2b8d0ee9-bbed-4262-84a3-0be5524a4668\">countvectorizer</label><div class=\"sk-toggleable__content\"><pre>cleaned_comment_text</pre></div></div></div><div class=\"sk-serial\"><div class=\"sk-item\"><div class=\"sk-estimator sk-toggleable\"><input class=\"sk-toggleable__control sk-hidden--visually\" id=\"c329198e-9cd9-4886-9051-4a958742fe92\" type=\"checkbox\" ><label class=\"sk-toggleable__label\" for=\"c329198e-9cd9-4886-9051-4a958742fe92\">CountVectorizer</label><div class=\"sk-toggleable__content\"><pre>CountVectorizer()</pre></div></div></div></div></div></div><div class=\"sk-parallel-item\"><div class=\"sk-item\"><div class=\"sk-label-container\"><div class=\"sk-label sk-toggleable\"><input class=\"sk-toggleable__control sk-hidden--visually\" id=\"ff2ce64d-56d9-4af4-a942-3610b269d374\" type=\"checkbox\" ><label class=\"sk-toggleable__label\" for=\"ff2ce64d-56d9-4af4-a942-3610b269d374\">tfidfvectorizer-1</label><div class=\"sk-toggleable__content\"><pre>cleaned_comment_text</pre></div></div></div><div class=\"sk-serial\"><div class=\"sk-item\"><div class=\"sk-estimator sk-toggleable\"><input class=\"sk-toggleable__control sk-hidden--visually\" id=\"80007498-5536-427e-b788-d19580d37be7\" type=\"checkbox\" ><label class=\"sk-toggleable__label\" for=\"80007498-5536-427e-b788-d19580d37be7\">TfidfVectorizer</label><div class=\"sk-toggleable__content\"><pre>TfidfVectorizer()</pre></div></div></div></div></div></div><div class=\"sk-parallel-item\"><div class=\"sk-item\"><div class=\"sk-label-container\"><div class=\"sk-label sk-toggleable\"><input class=\"sk-toggleable__control sk-hidden--visually\" id=\"853b68f1-e09b-4816-bf52-76a414e76139\" type=\"checkbox\" ><label class=\"sk-toggleable__label\" for=\"853b68f1-e09b-4816-bf52-76a414e76139\">tfidfvectorizer-2</label><div class=\"sk-toggleable__content\"><pre>cleaned_comment_text</pre></div></div></div><div class=\"sk-serial\"><div class=\"sk-item\"><div class=\"sk-estimator sk-toggleable\"><input class=\"sk-toggleable__control sk-hidden--visually\" id=\"36bbb9db-5329-45fa-a65d-4cac115c491d\" type=\"checkbox\" ><label class=\"sk-toggleable__label\" for=\"36bbb9db-5329-45fa-a65d-4cac115c491d\">TfidfVectorizer</label><div class=\"sk-toggleable__content\"><pre>TfidfVectorizer(use_idf=False)</pre></div></div></div></div></div></div><div class=\"sk-parallel-item\"><div class=\"sk-item\"><div class=\"sk-label-container\"><div class=\"sk-label sk-toggleable\"><input class=\"sk-toggleable__control sk-hidden--visually\" id=\"45daf0b3-21b5-45e0-a061-56742ee5e9d3\" type=\"checkbox\" ><label class=\"sk-toggleable__label\" for=\"45daf0b3-21b5-45e0-a061-56742ee5e9d3\">remainder</label><div class=\"sk-toggleable__content\"><pre>['n_all_caps', 'perc_exclamations', 'num_exclamations']</pre></div></div></div><div class=\"sk-serial\"><div class=\"sk-item\"><div class=\"sk-estimator sk-toggleable\"><input class=\"sk-toggleable__control sk-hidden--visually\" id=\"4b8092dd-acdb-4a6d-91d4-2fa4c6cc7abb\" type=\"checkbox\" ><label class=\"sk-toggleable__label\" for=\"4b8092dd-acdb-4a6d-91d4-2fa4c6cc7abb\">MinMaxScaler</label><div class=\"sk-toggleable__content\"><pre>MinMaxScaler()</pre></div></div></div></div></div></div></div></div><div class=\"sk-item\"><div class=\"sk-estimator sk-toggleable\"><input class=\"sk-toggleable__control sk-hidden--visually\" id=\"ea0b0e55-612b-403e-841e-7647a63ea2ee\" type=\"checkbox\" ><label class=\"sk-toggleable__label\" for=\"ea0b0e55-612b-403e-841e-7647a63ea2ee\">DenseTransformer</label><div class=\"sk-toggleable__content\"><pre>DenseTransformer()</pre></div></div></div><div class=\"sk-item\"><div class=\"sk-estimator sk-toggleable\"><input class=\"sk-toggleable__control sk-hidden--visually\" id=\"24129e13-d9cd-4b3d-a27c-70216ebaf25e\" type=\"checkbox\" ><label class=\"sk-toggleable__label\" for=\"24129e13-d9cd-4b3d-a27c-70216ebaf25e\">SMOTE</label><div class=\"sk-toggleable__content\"><pre>SMOTE(n_jobs=-1)</pre></div></div></div><div class=\"sk-item\"><div class=\"sk-estimator sk-toggleable\"><input class=\"sk-toggleable__control sk-hidden--visually\" id=\"3577742a-76dc-4455-a2ca-fc6449443a39\" type=\"checkbox\" ><label class=\"sk-toggleable__label\" for=\"3577742a-76dc-4455-a2ca-fc6449443a39\">LinearSVC</label><div class=\"sk-toggleable__content\"><pre>LinearSVC()</pre></div></div></div></div></div></div></div>"
      ],
      "text/plain": [
       "Pipeline(steps=[('column_transformer',\n",
       "                 ColumnTransformer(remainder=MinMaxScaler(),\n",
       "                                   transformers=[('countvectorizer',\n",
       "                                                  CountVectorizer(),\n",
       "                                                  'cleaned_comment_text'),\n",
       "                                                 ('tfidfvectorizer-1',\n",
       "                                                  TfidfVectorizer(),\n",
       "                                                  'cleaned_comment_text'),\n",
       "                                                 ('tfidfvectorizer-2',\n",
       "                                                  TfidfVectorizer(use_idf=False),\n",
       "                                                  'cleaned_comment_text')])),\n",
       "                ('dense', DenseTransformer()), ('smote', SMOTE(n_jobs=-1)),\n",
       "                ('clf', LinearSVC())])"
      ]
     },
     "metadata": {},
     "output_type": "display_data"
    },
    {
     "name": "stdout",
     "output_type": "stream",
     "text": [
      "\n",
      "--------------------------------------------------------------------------------\n",
      "AdaBoost Sub1_Toxic :\n",
      "\n"
     ]
    },
    {
     "data": {
      "text/html": [
       "<style>#sk-cd3b825e-814b-49c0-bfe8-65a55082187e {color: black;background-color: white;}#sk-cd3b825e-814b-49c0-bfe8-65a55082187e pre{padding: 0;}#sk-cd3b825e-814b-49c0-bfe8-65a55082187e div.sk-toggleable {background-color: white;}#sk-cd3b825e-814b-49c0-bfe8-65a55082187e label.sk-toggleable__label {cursor: pointer;display: block;width: 100%;margin-bottom: 0;padding: 0.3em;box-sizing: border-box;text-align: center;}#sk-cd3b825e-814b-49c0-bfe8-65a55082187e div.sk-toggleable__content {max-height: 0;max-width: 0;overflow: hidden;text-align: left;background-color: #f0f8ff;}#sk-cd3b825e-814b-49c0-bfe8-65a55082187e div.sk-toggleable__content pre {margin: 0.2em;color: black;border-radius: 0.25em;background-color: #f0f8ff;}#sk-cd3b825e-814b-49c0-bfe8-65a55082187e input.sk-toggleable__control:checked~div.sk-toggleable__content {max-height: 200px;max-width: 100%;overflow: auto;}#sk-cd3b825e-814b-49c0-bfe8-65a55082187e div.sk-estimator input.sk-toggleable__control:checked~label.sk-toggleable__label {background-color: #d4ebff;}#sk-cd3b825e-814b-49c0-bfe8-65a55082187e div.sk-label input.sk-toggleable__control:checked~label.sk-toggleable__label {background-color: #d4ebff;}#sk-cd3b825e-814b-49c0-bfe8-65a55082187e input.sk-hidden--visually {border: 0;clip: rect(1px 1px 1px 1px);clip: rect(1px, 1px, 1px, 1px);height: 1px;margin: -1px;overflow: hidden;padding: 0;position: absolute;width: 1px;}#sk-cd3b825e-814b-49c0-bfe8-65a55082187e div.sk-estimator {font-family: monospace;background-color: #f0f8ff;border: 1px dotted black;border-radius: 0.25em;box-sizing: border-box;margin-bottom: 0.5em;}#sk-cd3b825e-814b-49c0-bfe8-65a55082187e div.sk-estimator:hover {background-color: #d4ebff;}#sk-cd3b825e-814b-49c0-bfe8-65a55082187e div.sk-parallel-item::after {content: \"\";width: 100%;border-bottom: 1px solid gray;flex-grow: 1;}#sk-cd3b825e-814b-49c0-bfe8-65a55082187e div.sk-label:hover label.sk-toggleable__label {background-color: #d4ebff;}#sk-cd3b825e-814b-49c0-bfe8-65a55082187e div.sk-serial::before {content: \"\";position: absolute;border-left: 1px solid gray;box-sizing: border-box;top: 2em;bottom: 0;left: 50%;}#sk-cd3b825e-814b-49c0-bfe8-65a55082187e div.sk-serial {display: flex;flex-direction: column;align-items: center;background-color: white;padding-right: 0.2em;padding-left: 0.2em;}#sk-cd3b825e-814b-49c0-bfe8-65a55082187e div.sk-item {z-index: 1;}#sk-cd3b825e-814b-49c0-bfe8-65a55082187e div.sk-parallel {display: flex;align-items: stretch;justify-content: center;background-color: white;}#sk-cd3b825e-814b-49c0-bfe8-65a55082187e div.sk-parallel::before {content: \"\";position: absolute;border-left: 1px solid gray;box-sizing: border-box;top: 2em;bottom: 0;left: 50%;}#sk-cd3b825e-814b-49c0-bfe8-65a55082187e div.sk-parallel-item {display: flex;flex-direction: column;position: relative;background-color: white;}#sk-cd3b825e-814b-49c0-bfe8-65a55082187e div.sk-parallel-item:first-child::after {align-self: flex-end;width: 50%;}#sk-cd3b825e-814b-49c0-bfe8-65a55082187e div.sk-parallel-item:last-child::after {align-self: flex-start;width: 50%;}#sk-cd3b825e-814b-49c0-bfe8-65a55082187e div.sk-parallel-item:only-child::after {width: 0;}#sk-cd3b825e-814b-49c0-bfe8-65a55082187e div.sk-dashed-wrapped {border: 1px dashed gray;margin: 0 0.4em 0.5em 0.4em;box-sizing: border-box;padding-bottom: 0.4em;background-color: white;position: relative;}#sk-cd3b825e-814b-49c0-bfe8-65a55082187e div.sk-label label {font-family: monospace;font-weight: bold;background-color: white;display: inline-block;line-height: 1.2em;}#sk-cd3b825e-814b-49c0-bfe8-65a55082187e div.sk-label-container {position: relative;z-index: 2;text-align: center;}#sk-cd3b825e-814b-49c0-bfe8-65a55082187e div.sk-container {display: inline-block;position: relative;}</style><div id=\"sk-cd3b825e-814b-49c0-bfe8-65a55082187e\" class\"sk-top-container\"><div class=\"sk-container\"><div class=\"sk-item sk-dashed-wrapped\"><div class=\"sk-label-container\"><div class=\"sk-label sk-toggleable\"><input class=\"sk-toggleable__control sk-hidden--visually\" id=\"a6267737-ff0d-4f82-a167-90b4772c6188\" type=\"checkbox\" ><label class=\"sk-toggleable__label\" for=\"a6267737-ff0d-4f82-a167-90b4772c6188\">Pipeline</label><div class=\"sk-toggleable__content\"><pre>Pipeline(steps=[('column_transformer',\n",
       "                 ColumnTransformer(remainder=MinMaxScaler(),\n",
       "                                   transformers=[('countvectorizer',\n",
       "                                                  CountVectorizer(),\n",
       "                                                  'cleaned_comment_text'),\n",
       "                                                 ('tfidfvectorizer-1',\n",
       "                                                  TfidfVectorizer(),\n",
       "                                                  'cleaned_comment_text'),\n",
       "                                                 ('tfidfvectorizer-2',\n",
       "                                                  TfidfVectorizer(use_idf=False),\n",
       "                                                  'cleaned_comment_text')])),\n",
       "                ('dense', DenseTransformer()), ('clf', AdaBoostClassifier())])</pre></div></div></div><div class=\"sk-serial\"><div class=\"sk-item sk-dashed-wrapped\"><div class=\"sk-label-container\"><div class=\"sk-label sk-toggleable\"><input class=\"sk-toggleable__control sk-hidden--visually\" id=\"b51625fc-4a69-4e2a-a727-8d31401f8345\" type=\"checkbox\" ><label class=\"sk-toggleable__label\" for=\"b51625fc-4a69-4e2a-a727-8d31401f8345\">column_transformer: ColumnTransformer</label><div class=\"sk-toggleable__content\"><pre>ColumnTransformer(remainder=MinMaxScaler(),\n",
       "                  transformers=[('countvectorizer', CountVectorizer(),\n",
       "                                 'cleaned_comment_text'),\n",
       "                                ('tfidfvectorizer-1', TfidfVectorizer(),\n",
       "                                 'cleaned_comment_text'),\n",
       "                                ('tfidfvectorizer-2',\n",
       "                                 TfidfVectorizer(use_idf=False),\n",
       "                                 'cleaned_comment_text')])</pre></div></div></div><div class=\"sk-parallel\"><div class=\"sk-parallel-item\"><div class=\"sk-item\"><div class=\"sk-label-container\"><div class=\"sk-label sk-toggleable\"><input class=\"sk-toggleable__control sk-hidden--visually\" id=\"0429a216-8549-4a56-bff5-17ceb9cce757\" type=\"checkbox\" ><label class=\"sk-toggleable__label\" for=\"0429a216-8549-4a56-bff5-17ceb9cce757\">countvectorizer</label><div class=\"sk-toggleable__content\"><pre>cleaned_comment_text</pre></div></div></div><div class=\"sk-serial\"><div class=\"sk-item\"><div class=\"sk-estimator sk-toggleable\"><input class=\"sk-toggleable__control sk-hidden--visually\" id=\"2bb50005-df67-4bcf-b2e4-e793188b8639\" type=\"checkbox\" ><label class=\"sk-toggleable__label\" for=\"2bb50005-df67-4bcf-b2e4-e793188b8639\">CountVectorizer</label><div class=\"sk-toggleable__content\"><pre>CountVectorizer()</pre></div></div></div></div></div></div><div class=\"sk-parallel-item\"><div class=\"sk-item\"><div class=\"sk-label-container\"><div class=\"sk-label sk-toggleable\"><input class=\"sk-toggleable__control sk-hidden--visually\" id=\"b7bd0a42-f51c-4431-bd4a-14213b3b234d\" type=\"checkbox\" ><label class=\"sk-toggleable__label\" for=\"b7bd0a42-f51c-4431-bd4a-14213b3b234d\">tfidfvectorizer-1</label><div class=\"sk-toggleable__content\"><pre>cleaned_comment_text</pre></div></div></div><div class=\"sk-serial\"><div class=\"sk-item\"><div class=\"sk-estimator sk-toggleable\"><input class=\"sk-toggleable__control sk-hidden--visually\" id=\"3dae212e-4e3f-4ec9-ac89-5e8b5a968d63\" type=\"checkbox\" ><label class=\"sk-toggleable__label\" for=\"3dae212e-4e3f-4ec9-ac89-5e8b5a968d63\">TfidfVectorizer</label><div class=\"sk-toggleable__content\"><pre>TfidfVectorizer()</pre></div></div></div></div></div></div><div class=\"sk-parallel-item\"><div class=\"sk-item\"><div class=\"sk-label-container\"><div class=\"sk-label sk-toggleable\"><input class=\"sk-toggleable__control sk-hidden--visually\" id=\"aace44b4-e8d7-4bf5-88e1-272454fb52d3\" type=\"checkbox\" ><label class=\"sk-toggleable__label\" for=\"aace44b4-e8d7-4bf5-88e1-272454fb52d3\">tfidfvectorizer-2</label><div class=\"sk-toggleable__content\"><pre>cleaned_comment_text</pre></div></div></div><div class=\"sk-serial\"><div class=\"sk-item\"><div class=\"sk-estimator sk-toggleable\"><input class=\"sk-toggleable__control sk-hidden--visually\" id=\"d2e1c7b3-c1e4-403b-ac50-d5efe55a0c90\" type=\"checkbox\" ><label class=\"sk-toggleable__label\" for=\"d2e1c7b3-c1e4-403b-ac50-d5efe55a0c90\">TfidfVectorizer</label><div class=\"sk-toggleable__content\"><pre>TfidfVectorizer(use_idf=False)</pre></div></div></div></div></div></div><div class=\"sk-parallel-item\"><div class=\"sk-item\"><div class=\"sk-label-container\"><div class=\"sk-label sk-toggleable\"><input class=\"sk-toggleable__control sk-hidden--visually\" id=\"269f083b-3e7b-4fb4-96ee-a1ba0c84821d\" type=\"checkbox\" ><label class=\"sk-toggleable__label\" for=\"269f083b-3e7b-4fb4-96ee-a1ba0c84821d\">remainder</label><div class=\"sk-toggleable__content\"><pre>['n_all_caps', 'perc_exclamations', 'num_exclamations']</pre></div></div></div><div class=\"sk-serial\"><div class=\"sk-item\"><div class=\"sk-estimator sk-toggleable\"><input class=\"sk-toggleable__control sk-hidden--visually\" id=\"d108467f-095b-4ab7-974f-bf6f23e6dc1a\" type=\"checkbox\" ><label class=\"sk-toggleable__label\" for=\"d108467f-095b-4ab7-974f-bf6f23e6dc1a\">MinMaxScaler</label><div class=\"sk-toggleable__content\"><pre>MinMaxScaler()</pre></div></div></div></div></div></div></div></div><div class=\"sk-item\"><div class=\"sk-estimator sk-toggleable\"><input class=\"sk-toggleable__control sk-hidden--visually\" id=\"caa7e582-d9d3-4ba2-afac-ef0ec7002c13\" type=\"checkbox\" ><label class=\"sk-toggleable__label\" for=\"caa7e582-d9d3-4ba2-afac-ef0ec7002c13\">DenseTransformer</label><div class=\"sk-toggleable__content\"><pre>DenseTransformer()</pre></div></div></div><div class=\"sk-item\"><div class=\"sk-estimator sk-toggleable\"><input class=\"sk-toggleable__control sk-hidden--visually\" id=\"93a6e7cf-1b13-4699-a8cb-de080ab41f0c\" type=\"checkbox\" ><label class=\"sk-toggleable__label\" for=\"93a6e7cf-1b13-4699-a8cb-de080ab41f0c\">AdaBoostClassifier</label><div class=\"sk-toggleable__content\"><pre>AdaBoostClassifier()</pre></div></div></div></div></div></div></div>"
      ],
      "text/plain": [
       "Pipeline(steps=[('column_transformer',\n",
       "                 ColumnTransformer(remainder=MinMaxScaler(),\n",
       "                                   transformers=[('countvectorizer',\n",
       "                                                  CountVectorizer(),\n",
       "                                                  'cleaned_comment_text'),\n",
       "                                                 ('tfidfvectorizer-1',\n",
       "                                                  TfidfVectorizer(),\n",
       "                                                  'cleaned_comment_text'),\n",
       "                                                 ('tfidfvectorizer-2',\n",
       "                                                  TfidfVectorizer(use_idf=False),\n",
       "                                                  'cleaned_comment_text')])),\n",
       "                ('dense', DenseTransformer()), ('clf', AdaBoostClassifier())])"
      ]
     },
     "metadata": {},
     "output_type": "display_data"
    },
    {
     "name": "stdout",
     "output_type": "stream",
     "text": [
      "\n",
      "--------------------------------------------------------------------------------\n",
      "AdaBoost Sub2_Engaging :\n",
      "\n"
     ]
    },
    {
     "data": {
      "text/html": [
       "<style>#sk-3675c420-0b61-4ee0-ab2d-dc575654f1ba {color: black;background-color: white;}#sk-3675c420-0b61-4ee0-ab2d-dc575654f1ba pre{padding: 0;}#sk-3675c420-0b61-4ee0-ab2d-dc575654f1ba div.sk-toggleable {background-color: white;}#sk-3675c420-0b61-4ee0-ab2d-dc575654f1ba label.sk-toggleable__label {cursor: pointer;display: block;width: 100%;margin-bottom: 0;padding: 0.3em;box-sizing: border-box;text-align: center;}#sk-3675c420-0b61-4ee0-ab2d-dc575654f1ba div.sk-toggleable__content {max-height: 0;max-width: 0;overflow: hidden;text-align: left;background-color: #f0f8ff;}#sk-3675c420-0b61-4ee0-ab2d-dc575654f1ba div.sk-toggleable__content pre {margin: 0.2em;color: black;border-radius: 0.25em;background-color: #f0f8ff;}#sk-3675c420-0b61-4ee0-ab2d-dc575654f1ba input.sk-toggleable__control:checked~div.sk-toggleable__content {max-height: 200px;max-width: 100%;overflow: auto;}#sk-3675c420-0b61-4ee0-ab2d-dc575654f1ba div.sk-estimator input.sk-toggleable__control:checked~label.sk-toggleable__label {background-color: #d4ebff;}#sk-3675c420-0b61-4ee0-ab2d-dc575654f1ba div.sk-label input.sk-toggleable__control:checked~label.sk-toggleable__label {background-color: #d4ebff;}#sk-3675c420-0b61-4ee0-ab2d-dc575654f1ba input.sk-hidden--visually {border: 0;clip: rect(1px 1px 1px 1px);clip: rect(1px, 1px, 1px, 1px);height: 1px;margin: -1px;overflow: hidden;padding: 0;position: absolute;width: 1px;}#sk-3675c420-0b61-4ee0-ab2d-dc575654f1ba div.sk-estimator {font-family: monospace;background-color: #f0f8ff;border: 1px dotted black;border-radius: 0.25em;box-sizing: border-box;margin-bottom: 0.5em;}#sk-3675c420-0b61-4ee0-ab2d-dc575654f1ba div.sk-estimator:hover {background-color: #d4ebff;}#sk-3675c420-0b61-4ee0-ab2d-dc575654f1ba div.sk-parallel-item::after {content: \"\";width: 100%;border-bottom: 1px solid gray;flex-grow: 1;}#sk-3675c420-0b61-4ee0-ab2d-dc575654f1ba div.sk-label:hover label.sk-toggleable__label {background-color: #d4ebff;}#sk-3675c420-0b61-4ee0-ab2d-dc575654f1ba div.sk-serial::before {content: \"\";position: absolute;border-left: 1px solid gray;box-sizing: border-box;top: 2em;bottom: 0;left: 50%;}#sk-3675c420-0b61-4ee0-ab2d-dc575654f1ba div.sk-serial {display: flex;flex-direction: column;align-items: center;background-color: white;padding-right: 0.2em;padding-left: 0.2em;}#sk-3675c420-0b61-4ee0-ab2d-dc575654f1ba div.sk-item {z-index: 1;}#sk-3675c420-0b61-4ee0-ab2d-dc575654f1ba div.sk-parallel {display: flex;align-items: stretch;justify-content: center;background-color: white;}#sk-3675c420-0b61-4ee0-ab2d-dc575654f1ba div.sk-parallel::before {content: \"\";position: absolute;border-left: 1px solid gray;box-sizing: border-box;top: 2em;bottom: 0;left: 50%;}#sk-3675c420-0b61-4ee0-ab2d-dc575654f1ba div.sk-parallel-item {display: flex;flex-direction: column;position: relative;background-color: white;}#sk-3675c420-0b61-4ee0-ab2d-dc575654f1ba div.sk-parallel-item:first-child::after {align-self: flex-end;width: 50%;}#sk-3675c420-0b61-4ee0-ab2d-dc575654f1ba div.sk-parallel-item:last-child::after {align-self: flex-start;width: 50%;}#sk-3675c420-0b61-4ee0-ab2d-dc575654f1ba div.sk-parallel-item:only-child::after {width: 0;}#sk-3675c420-0b61-4ee0-ab2d-dc575654f1ba div.sk-dashed-wrapped {border: 1px dashed gray;margin: 0 0.4em 0.5em 0.4em;box-sizing: border-box;padding-bottom: 0.4em;background-color: white;position: relative;}#sk-3675c420-0b61-4ee0-ab2d-dc575654f1ba div.sk-label label {font-family: monospace;font-weight: bold;background-color: white;display: inline-block;line-height: 1.2em;}#sk-3675c420-0b61-4ee0-ab2d-dc575654f1ba div.sk-label-container {position: relative;z-index: 2;text-align: center;}#sk-3675c420-0b61-4ee0-ab2d-dc575654f1ba div.sk-container {display: inline-block;position: relative;}</style><div id=\"sk-3675c420-0b61-4ee0-ab2d-dc575654f1ba\" class\"sk-top-container\"><div class=\"sk-container\"><div class=\"sk-item sk-dashed-wrapped\"><div class=\"sk-label-container\"><div class=\"sk-label sk-toggleable\"><input class=\"sk-toggleable__control sk-hidden--visually\" id=\"50dcabb9-ccf6-44a6-804c-17e177ffd6f4\" type=\"checkbox\" ><label class=\"sk-toggleable__label\" for=\"50dcabb9-ccf6-44a6-804c-17e177ffd6f4\">Pipeline</label><div class=\"sk-toggleable__content\"><pre>Pipeline(steps=[('column_transformer',\n",
       "                 ColumnTransformer(remainder=MinMaxScaler(),\n",
       "                                   transformers=[('countvectorizer',\n",
       "                                                  CountVectorizer(),\n",
       "                                                  'cleaned_comment_text'),\n",
       "                                                 ('tfidfvectorizer-1',\n",
       "                                                  TfidfVectorizer(),\n",
       "                                                  'cleaned_comment_text'),\n",
       "                                                 ('tfidfvectorizer-2',\n",
       "                                                  TfidfVectorizer(use_idf=False),\n",
       "                                                  'cleaned_comment_text')])),\n",
       "                ('dense', DenseTransformer()), ('clf', AdaBoostClassifier())])</pre></div></div></div><div class=\"sk-serial\"><div class=\"sk-item sk-dashed-wrapped\"><div class=\"sk-label-container\"><div class=\"sk-label sk-toggleable\"><input class=\"sk-toggleable__control sk-hidden--visually\" id=\"0f75916b-d038-4cee-8a01-ce8a2005cc39\" type=\"checkbox\" ><label class=\"sk-toggleable__label\" for=\"0f75916b-d038-4cee-8a01-ce8a2005cc39\">column_transformer: ColumnTransformer</label><div class=\"sk-toggleable__content\"><pre>ColumnTransformer(remainder=MinMaxScaler(),\n",
       "                  transformers=[('countvectorizer', CountVectorizer(),\n",
       "                                 'cleaned_comment_text'),\n",
       "                                ('tfidfvectorizer-1', TfidfVectorizer(),\n",
       "                                 'cleaned_comment_text'),\n",
       "                                ('tfidfvectorizer-2',\n",
       "                                 TfidfVectorizer(use_idf=False),\n",
       "                                 'cleaned_comment_text')])</pre></div></div></div><div class=\"sk-parallel\"><div class=\"sk-parallel-item\"><div class=\"sk-item\"><div class=\"sk-label-container\"><div class=\"sk-label sk-toggleable\"><input class=\"sk-toggleable__control sk-hidden--visually\" id=\"7aa9d388-ce11-47c4-a29c-d056897086d4\" type=\"checkbox\" ><label class=\"sk-toggleable__label\" for=\"7aa9d388-ce11-47c4-a29c-d056897086d4\">countvectorizer</label><div class=\"sk-toggleable__content\"><pre>cleaned_comment_text</pre></div></div></div><div class=\"sk-serial\"><div class=\"sk-item\"><div class=\"sk-estimator sk-toggleable\"><input class=\"sk-toggleable__control sk-hidden--visually\" id=\"064a0299-10d8-410f-8298-0e8175b5ba82\" type=\"checkbox\" ><label class=\"sk-toggleable__label\" for=\"064a0299-10d8-410f-8298-0e8175b5ba82\">CountVectorizer</label><div class=\"sk-toggleable__content\"><pre>CountVectorizer()</pre></div></div></div></div></div></div><div class=\"sk-parallel-item\"><div class=\"sk-item\"><div class=\"sk-label-container\"><div class=\"sk-label sk-toggleable\"><input class=\"sk-toggleable__control sk-hidden--visually\" id=\"e147f27d-3498-4496-91be-9615dcb8559a\" type=\"checkbox\" ><label class=\"sk-toggleable__label\" for=\"e147f27d-3498-4496-91be-9615dcb8559a\">tfidfvectorizer-1</label><div class=\"sk-toggleable__content\"><pre>cleaned_comment_text</pre></div></div></div><div class=\"sk-serial\"><div class=\"sk-item\"><div class=\"sk-estimator sk-toggleable\"><input class=\"sk-toggleable__control sk-hidden--visually\" id=\"0fa62fa2-8f5e-437b-b8f2-66658e5ac75c\" type=\"checkbox\" ><label class=\"sk-toggleable__label\" for=\"0fa62fa2-8f5e-437b-b8f2-66658e5ac75c\">TfidfVectorizer</label><div class=\"sk-toggleable__content\"><pre>TfidfVectorizer()</pre></div></div></div></div></div></div><div class=\"sk-parallel-item\"><div class=\"sk-item\"><div class=\"sk-label-container\"><div class=\"sk-label sk-toggleable\"><input class=\"sk-toggleable__control sk-hidden--visually\" id=\"0088ba31-a336-4eb9-ae84-7988060fe956\" type=\"checkbox\" ><label class=\"sk-toggleable__label\" for=\"0088ba31-a336-4eb9-ae84-7988060fe956\">tfidfvectorizer-2</label><div class=\"sk-toggleable__content\"><pre>cleaned_comment_text</pre></div></div></div><div class=\"sk-serial\"><div class=\"sk-item\"><div class=\"sk-estimator sk-toggleable\"><input class=\"sk-toggleable__control sk-hidden--visually\" id=\"5f813c5f-22e7-43ee-bff2-f0d3883c4126\" type=\"checkbox\" ><label class=\"sk-toggleable__label\" for=\"5f813c5f-22e7-43ee-bff2-f0d3883c4126\">TfidfVectorizer</label><div class=\"sk-toggleable__content\"><pre>TfidfVectorizer(use_idf=False)</pre></div></div></div></div></div></div><div class=\"sk-parallel-item\"><div class=\"sk-item\"><div class=\"sk-label-container\"><div class=\"sk-label sk-toggleable\"><input class=\"sk-toggleable__control sk-hidden--visually\" id=\"a81bed3c-b459-483e-b283-52bd222bee02\" type=\"checkbox\" ><label class=\"sk-toggleable__label\" for=\"a81bed3c-b459-483e-b283-52bd222bee02\">remainder</label><div class=\"sk-toggleable__content\"><pre>['n_all_caps', 'perc_exclamations', 'num_exclamations']</pre></div></div></div><div class=\"sk-serial\"><div class=\"sk-item\"><div class=\"sk-estimator sk-toggleable\"><input class=\"sk-toggleable__control sk-hidden--visually\" id=\"4a6e4963-4cb6-46d3-ade1-40a7e97d72ad\" type=\"checkbox\" ><label class=\"sk-toggleable__label\" for=\"4a6e4963-4cb6-46d3-ade1-40a7e97d72ad\">MinMaxScaler</label><div class=\"sk-toggleable__content\"><pre>MinMaxScaler()</pre></div></div></div></div></div></div></div></div><div class=\"sk-item\"><div class=\"sk-estimator sk-toggleable\"><input class=\"sk-toggleable__control sk-hidden--visually\" id=\"d0721088-d006-458c-9187-1a98e82e386d\" type=\"checkbox\" ><label class=\"sk-toggleable__label\" for=\"d0721088-d006-458c-9187-1a98e82e386d\">DenseTransformer</label><div class=\"sk-toggleable__content\"><pre>DenseTransformer()</pre></div></div></div><div class=\"sk-item\"><div class=\"sk-estimator sk-toggleable\"><input class=\"sk-toggleable__control sk-hidden--visually\" id=\"bb8f501e-5857-4e5c-bca5-dae0a80ed498\" type=\"checkbox\" ><label class=\"sk-toggleable__label\" for=\"bb8f501e-5857-4e5c-bca5-dae0a80ed498\">AdaBoostClassifier</label><div class=\"sk-toggleable__content\"><pre>AdaBoostClassifier()</pre></div></div></div></div></div></div></div>"
      ],
      "text/plain": [
       "Pipeline(steps=[('column_transformer',\n",
       "                 ColumnTransformer(remainder=MinMaxScaler(),\n",
       "                                   transformers=[('countvectorizer',\n",
       "                                                  CountVectorizer(),\n",
       "                                                  'cleaned_comment_text'),\n",
       "                                                 ('tfidfvectorizer-1',\n",
       "                                                  TfidfVectorizer(),\n",
       "                                                  'cleaned_comment_text'),\n",
       "                                                 ('tfidfvectorizer-2',\n",
       "                                                  TfidfVectorizer(use_idf=False),\n",
       "                                                  'cleaned_comment_text')])),\n",
       "                ('dense', DenseTransformer()), ('clf', AdaBoostClassifier())])"
      ]
     },
     "metadata": {},
     "output_type": "display_data"
    },
    {
     "name": "stdout",
     "output_type": "stream",
     "text": [
      "\n",
      "--------------------------------------------------------------------------------\n",
      "AdaBoost Sub3_FactClaiming :\n",
      "\n"
     ]
    },
    {
     "data": {
      "text/html": [
       "<style>#sk-3f7db3ec-eb2d-41dc-bdee-bbc7caecaf68 {color: black;background-color: white;}#sk-3f7db3ec-eb2d-41dc-bdee-bbc7caecaf68 pre{padding: 0;}#sk-3f7db3ec-eb2d-41dc-bdee-bbc7caecaf68 div.sk-toggleable {background-color: white;}#sk-3f7db3ec-eb2d-41dc-bdee-bbc7caecaf68 label.sk-toggleable__label {cursor: pointer;display: block;width: 100%;margin-bottom: 0;padding: 0.3em;box-sizing: border-box;text-align: center;}#sk-3f7db3ec-eb2d-41dc-bdee-bbc7caecaf68 div.sk-toggleable__content {max-height: 0;max-width: 0;overflow: hidden;text-align: left;background-color: #f0f8ff;}#sk-3f7db3ec-eb2d-41dc-bdee-bbc7caecaf68 div.sk-toggleable__content pre {margin: 0.2em;color: black;border-radius: 0.25em;background-color: #f0f8ff;}#sk-3f7db3ec-eb2d-41dc-bdee-bbc7caecaf68 input.sk-toggleable__control:checked~div.sk-toggleable__content {max-height: 200px;max-width: 100%;overflow: auto;}#sk-3f7db3ec-eb2d-41dc-bdee-bbc7caecaf68 div.sk-estimator input.sk-toggleable__control:checked~label.sk-toggleable__label {background-color: #d4ebff;}#sk-3f7db3ec-eb2d-41dc-bdee-bbc7caecaf68 div.sk-label input.sk-toggleable__control:checked~label.sk-toggleable__label {background-color: #d4ebff;}#sk-3f7db3ec-eb2d-41dc-bdee-bbc7caecaf68 input.sk-hidden--visually {border: 0;clip: rect(1px 1px 1px 1px);clip: rect(1px, 1px, 1px, 1px);height: 1px;margin: -1px;overflow: hidden;padding: 0;position: absolute;width: 1px;}#sk-3f7db3ec-eb2d-41dc-bdee-bbc7caecaf68 div.sk-estimator {font-family: monospace;background-color: #f0f8ff;border: 1px dotted black;border-radius: 0.25em;box-sizing: border-box;margin-bottom: 0.5em;}#sk-3f7db3ec-eb2d-41dc-bdee-bbc7caecaf68 div.sk-estimator:hover {background-color: #d4ebff;}#sk-3f7db3ec-eb2d-41dc-bdee-bbc7caecaf68 div.sk-parallel-item::after {content: \"\";width: 100%;border-bottom: 1px solid gray;flex-grow: 1;}#sk-3f7db3ec-eb2d-41dc-bdee-bbc7caecaf68 div.sk-label:hover label.sk-toggleable__label {background-color: #d4ebff;}#sk-3f7db3ec-eb2d-41dc-bdee-bbc7caecaf68 div.sk-serial::before {content: \"\";position: absolute;border-left: 1px solid gray;box-sizing: border-box;top: 2em;bottom: 0;left: 50%;}#sk-3f7db3ec-eb2d-41dc-bdee-bbc7caecaf68 div.sk-serial {display: flex;flex-direction: column;align-items: center;background-color: white;padding-right: 0.2em;padding-left: 0.2em;}#sk-3f7db3ec-eb2d-41dc-bdee-bbc7caecaf68 div.sk-item {z-index: 1;}#sk-3f7db3ec-eb2d-41dc-bdee-bbc7caecaf68 div.sk-parallel {display: flex;align-items: stretch;justify-content: center;background-color: white;}#sk-3f7db3ec-eb2d-41dc-bdee-bbc7caecaf68 div.sk-parallel::before {content: \"\";position: absolute;border-left: 1px solid gray;box-sizing: border-box;top: 2em;bottom: 0;left: 50%;}#sk-3f7db3ec-eb2d-41dc-bdee-bbc7caecaf68 div.sk-parallel-item {display: flex;flex-direction: column;position: relative;background-color: white;}#sk-3f7db3ec-eb2d-41dc-bdee-bbc7caecaf68 div.sk-parallel-item:first-child::after {align-self: flex-end;width: 50%;}#sk-3f7db3ec-eb2d-41dc-bdee-bbc7caecaf68 div.sk-parallel-item:last-child::after {align-self: flex-start;width: 50%;}#sk-3f7db3ec-eb2d-41dc-bdee-bbc7caecaf68 div.sk-parallel-item:only-child::after {width: 0;}#sk-3f7db3ec-eb2d-41dc-bdee-bbc7caecaf68 div.sk-dashed-wrapped {border: 1px dashed gray;margin: 0 0.4em 0.5em 0.4em;box-sizing: border-box;padding-bottom: 0.4em;background-color: white;position: relative;}#sk-3f7db3ec-eb2d-41dc-bdee-bbc7caecaf68 div.sk-label label {font-family: monospace;font-weight: bold;background-color: white;display: inline-block;line-height: 1.2em;}#sk-3f7db3ec-eb2d-41dc-bdee-bbc7caecaf68 div.sk-label-container {position: relative;z-index: 2;text-align: center;}#sk-3f7db3ec-eb2d-41dc-bdee-bbc7caecaf68 div.sk-container {display: inline-block;position: relative;}</style><div id=\"sk-3f7db3ec-eb2d-41dc-bdee-bbc7caecaf68\" class\"sk-top-container\"><div class=\"sk-container\"><div class=\"sk-item sk-dashed-wrapped\"><div class=\"sk-label-container\"><div class=\"sk-label sk-toggleable\"><input class=\"sk-toggleable__control sk-hidden--visually\" id=\"6cd0d4c8-0e75-4555-9313-60e5a06d92a4\" type=\"checkbox\" ><label class=\"sk-toggleable__label\" for=\"6cd0d4c8-0e75-4555-9313-60e5a06d92a4\">Pipeline</label><div class=\"sk-toggleable__content\"><pre>Pipeline(steps=[('column_transformer',\n",
       "                 ColumnTransformer(remainder=MinMaxScaler(),\n",
       "                                   transformers=[('countvectorizer',\n",
       "                                                  CountVectorizer(),\n",
       "                                                  'cleaned_comment_text'),\n",
       "                                                 ('tfidfvectorizer-1',\n",
       "                                                  TfidfVectorizer(),\n",
       "                                                  'cleaned_comment_text'),\n",
       "                                                 ('tfidfvectorizer-2',\n",
       "                                                  TfidfVectorizer(use_idf=False),\n",
       "                                                  'cleaned_comment_text')])),\n",
       "                ('dense', DenseTransformer()), ('clf', AdaBoostClassifier())])</pre></div></div></div><div class=\"sk-serial\"><div class=\"sk-item sk-dashed-wrapped\"><div class=\"sk-label-container\"><div class=\"sk-label sk-toggleable\"><input class=\"sk-toggleable__control sk-hidden--visually\" id=\"033792db-d1c1-4255-9c3b-519840f806fc\" type=\"checkbox\" ><label class=\"sk-toggleable__label\" for=\"033792db-d1c1-4255-9c3b-519840f806fc\">column_transformer: ColumnTransformer</label><div class=\"sk-toggleable__content\"><pre>ColumnTransformer(remainder=MinMaxScaler(),\n",
       "                  transformers=[('countvectorizer', CountVectorizer(),\n",
       "                                 'cleaned_comment_text'),\n",
       "                                ('tfidfvectorizer-1', TfidfVectorizer(),\n",
       "                                 'cleaned_comment_text'),\n",
       "                                ('tfidfvectorizer-2',\n",
       "                                 TfidfVectorizer(use_idf=False),\n",
       "                                 'cleaned_comment_text')])</pre></div></div></div><div class=\"sk-parallel\"><div class=\"sk-parallel-item\"><div class=\"sk-item\"><div class=\"sk-label-container\"><div class=\"sk-label sk-toggleable\"><input class=\"sk-toggleable__control sk-hidden--visually\" id=\"2c054249-b558-4a49-8db0-e98d2bb134f6\" type=\"checkbox\" ><label class=\"sk-toggleable__label\" for=\"2c054249-b558-4a49-8db0-e98d2bb134f6\">countvectorizer</label><div class=\"sk-toggleable__content\"><pre>cleaned_comment_text</pre></div></div></div><div class=\"sk-serial\"><div class=\"sk-item\"><div class=\"sk-estimator sk-toggleable\"><input class=\"sk-toggleable__control sk-hidden--visually\" id=\"053675b5-d0cb-4226-89df-c8d73b5b07f3\" type=\"checkbox\" ><label class=\"sk-toggleable__label\" for=\"053675b5-d0cb-4226-89df-c8d73b5b07f3\">CountVectorizer</label><div class=\"sk-toggleable__content\"><pre>CountVectorizer()</pre></div></div></div></div></div></div><div class=\"sk-parallel-item\"><div class=\"sk-item\"><div class=\"sk-label-container\"><div class=\"sk-label sk-toggleable\"><input class=\"sk-toggleable__control sk-hidden--visually\" id=\"43bd89d8-fad3-4de1-b4b7-0107bd92ac6e\" type=\"checkbox\" ><label class=\"sk-toggleable__label\" for=\"43bd89d8-fad3-4de1-b4b7-0107bd92ac6e\">tfidfvectorizer-1</label><div class=\"sk-toggleable__content\"><pre>cleaned_comment_text</pre></div></div></div><div class=\"sk-serial\"><div class=\"sk-item\"><div class=\"sk-estimator sk-toggleable\"><input class=\"sk-toggleable__control sk-hidden--visually\" id=\"a5296fc0-d3c9-40b7-8cb4-7f0b0ce4907b\" type=\"checkbox\" ><label class=\"sk-toggleable__label\" for=\"a5296fc0-d3c9-40b7-8cb4-7f0b0ce4907b\">TfidfVectorizer</label><div class=\"sk-toggleable__content\"><pre>TfidfVectorizer()</pre></div></div></div></div></div></div><div class=\"sk-parallel-item\"><div class=\"sk-item\"><div class=\"sk-label-container\"><div class=\"sk-label sk-toggleable\"><input class=\"sk-toggleable__control sk-hidden--visually\" id=\"dfb2d40e-c630-4694-a52a-90c7a830d1fa\" type=\"checkbox\" ><label class=\"sk-toggleable__label\" for=\"dfb2d40e-c630-4694-a52a-90c7a830d1fa\">tfidfvectorizer-2</label><div class=\"sk-toggleable__content\"><pre>cleaned_comment_text</pre></div></div></div><div class=\"sk-serial\"><div class=\"sk-item\"><div class=\"sk-estimator sk-toggleable\"><input class=\"sk-toggleable__control sk-hidden--visually\" id=\"582cac09-7446-4018-86fa-313bf9713dc1\" type=\"checkbox\" ><label class=\"sk-toggleable__label\" for=\"582cac09-7446-4018-86fa-313bf9713dc1\">TfidfVectorizer</label><div class=\"sk-toggleable__content\"><pre>TfidfVectorizer(use_idf=False)</pre></div></div></div></div></div></div><div class=\"sk-parallel-item\"><div class=\"sk-item\"><div class=\"sk-label-container\"><div class=\"sk-label sk-toggleable\"><input class=\"sk-toggleable__control sk-hidden--visually\" id=\"76bcbd5a-b4c9-46e9-9b76-02cafe215fbe\" type=\"checkbox\" ><label class=\"sk-toggleable__label\" for=\"76bcbd5a-b4c9-46e9-9b76-02cafe215fbe\">remainder</label><div class=\"sk-toggleable__content\"><pre>['n_all_caps', 'perc_exclamations', 'num_exclamations']</pre></div></div></div><div class=\"sk-serial\"><div class=\"sk-item\"><div class=\"sk-estimator sk-toggleable\"><input class=\"sk-toggleable__control sk-hidden--visually\" id=\"551affa3-63db-48d6-b2d2-a5a38eb732bb\" type=\"checkbox\" ><label class=\"sk-toggleable__label\" for=\"551affa3-63db-48d6-b2d2-a5a38eb732bb\">MinMaxScaler</label><div class=\"sk-toggleable__content\"><pre>MinMaxScaler()</pre></div></div></div></div></div></div></div></div><div class=\"sk-item\"><div class=\"sk-estimator sk-toggleable\"><input class=\"sk-toggleable__control sk-hidden--visually\" id=\"dbf5fed5-4603-4deb-9275-e8d8718839bf\" type=\"checkbox\" ><label class=\"sk-toggleable__label\" for=\"dbf5fed5-4603-4deb-9275-e8d8718839bf\">DenseTransformer</label><div class=\"sk-toggleable__content\"><pre>DenseTransformer()</pre></div></div></div><div class=\"sk-item\"><div class=\"sk-estimator sk-toggleable\"><input class=\"sk-toggleable__control sk-hidden--visually\" id=\"4b28cda5-d990-4002-98cf-42e3b18a29ac\" type=\"checkbox\" ><label class=\"sk-toggleable__label\" for=\"4b28cda5-d990-4002-98cf-42e3b18a29ac\">AdaBoostClassifier</label><div class=\"sk-toggleable__content\"><pre>AdaBoostClassifier()</pre></div></div></div></div></div></div></div>"
      ],
      "text/plain": [
       "Pipeline(steps=[('column_transformer',\n",
       "                 ColumnTransformer(remainder=MinMaxScaler(),\n",
       "                                   transformers=[('countvectorizer',\n",
       "                                                  CountVectorizer(),\n",
       "                                                  'cleaned_comment_text'),\n",
       "                                                 ('tfidfvectorizer-1',\n",
       "                                                  TfidfVectorizer(),\n",
       "                                                  'cleaned_comment_text'),\n",
       "                                                 ('tfidfvectorizer-2',\n",
       "                                                  TfidfVectorizer(use_idf=False),\n",
       "                                                  'cleaned_comment_text')])),\n",
       "                ('dense', DenseTransformer()), ('clf', AdaBoostClassifier())])"
      ]
     },
     "metadata": {},
     "output_type": "display_data"
    },
    {
     "name": "stdout",
     "output_type": "stream",
     "text": [
      "\n",
      "--------------------------------------------------------------------------------\n",
      "SVC Sub1_Toxic :\n",
      "\n"
     ]
    },
    {
     "data": {
      "text/html": [
       "<style>#sk-a53791bb-1a1e-49d8-9abd-6593a572dad1 {color: black;background-color: white;}#sk-a53791bb-1a1e-49d8-9abd-6593a572dad1 pre{padding: 0;}#sk-a53791bb-1a1e-49d8-9abd-6593a572dad1 div.sk-toggleable {background-color: white;}#sk-a53791bb-1a1e-49d8-9abd-6593a572dad1 label.sk-toggleable__label {cursor: pointer;display: block;width: 100%;margin-bottom: 0;padding: 0.3em;box-sizing: border-box;text-align: center;}#sk-a53791bb-1a1e-49d8-9abd-6593a572dad1 div.sk-toggleable__content {max-height: 0;max-width: 0;overflow: hidden;text-align: left;background-color: #f0f8ff;}#sk-a53791bb-1a1e-49d8-9abd-6593a572dad1 div.sk-toggleable__content pre {margin: 0.2em;color: black;border-radius: 0.25em;background-color: #f0f8ff;}#sk-a53791bb-1a1e-49d8-9abd-6593a572dad1 input.sk-toggleable__control:checked~div.sk-toggleable__content {max-height: 200px;max-width: 100%;overflow: auto;}#sk-a53791bb-1a1e-49d8-9abd-6593a572dad1 div.sk-estimator input.sk-toggleable__control:checked~label.sk-toggleable__label {background-color: #d4ebff;}#sk-a53791bb-1a1e-49d8-9abd-6593a572dad1 div.sk-label input.sk-toggleable__control:checked~label.sk-toggleable__label {background-color: #d4ebff;}#sk-a53791bb-1a1e-49d8-9abd-6593a572dad1 input.sk-hidden--visually {border: 0;clip: rect(1px 1px 1px 1px);clip: rect(1px, 1px, 1px, 1px);height: 1px;margin: -1px;overflow: hidden;padding: 0;position: absolute;width: 1px;}#sk-a53791bb-1a1e-49d8-9abd-6593a572dad1 div.sk-estimator {font-family: monospace;background-color: #f0f8ff;border: 1px dotted black;border-radius: 0.25em;box-sizing: border-box;margin-bottom: 0.5em;}#sk-a53791bb-1a1e-49d8-9abd-6593a572dad1 div.sk-estimator:hover {background-color: #d4ebff;}#sk-a53791bb-1a1e-49d8-9abd-6593a572dad1 div.sk-parallel-item::after {content: \"\";width: 100%;border-bottom: 1px solid gray;flex-grow: 1;}#sk-a53791bb-1a1e-49d8-9abd-6593a572dad1 div.sk-label:hover label.sk-toggleable__label {background-color: #d4ebff;}#sk-a53791bb-1a1e-49d8-9abd-6593a572dad1 div.sk-serial::before {content: \"\";position: absolute;border-left: 1px solid gray;box-sizing: border-box;top: 2em;bottom: 0;left: 50%;}#sk-a53791bb-1a1e-49d8-9abd-6593a572dad1 div.sk-serial {display: flex;flex-direction: column;align-items: center;background-color: white;padding-right: 0.2em;padding-left: 0.2em;}#sk-a53791bb-1a1e-49d8-9abd-6593a572dad1 div.sk-item {z-index: 1;}#sk-a53791bb-1a1e-49d8-9abd-6593a572dad1 div.sk-parallel {display: flex;align-items: stretch;justify-content: center;background-color: white;}#sk-a53791bb-1a1e-49d8-9abd-6593a572dad1 div.sk-parallel::before {content: \"\";position: absolute;border-left: 1px solid gray;box-sizing: border-box;top: 2em;bottom: 0;left: 50%;}#sk-a53791bb-1a1e-49d8-9abd-6593a572dad1 div.sk-parallel-item {display: flex;flex-direction: column;position: relative;background-color: white;}#sk-a53791bb-1a1e-49d8-9abd-6593a572dad1 div.sk-parallel-item:first-child::after {align-self: flex-end;width: 50%;}#sk-a53791bb-1a1e-49d8-9abd-6593a572dad1 div.sk-parallel-item:last-child::after {align-self: flex-start;width: 50%;}#sk-a53791bb-1a1e-49d8-9abd-6593a572dad1 div.sk-parallel-item:only-child::after {width: 0;}#sk-a53791bb-1a1e-49d8-9abd-6593a572dad1 div.sk-dashed-wrapped {border: 1px dashed gray;margin: 0 0.4em 0.5em 0.4em;box-sizing: border-box;padding-bottom: 0.4em;background-color: white;position: relative;}#sk-a53791bb-1a1e-49d8-9abd-6593a572dad1 div.sk-label label {font-family: monospace;font-weight: bold;background-color: white;display: inline-block;line-height: 1.2em;}#sk-a53791bb-1a1e-49d8-9abd-6593a572dad1 div.sk-label-container {position: relative;z-index: 2;text-align: center;}#sk-a53791bb-1a1e-49d8-9abd-6593a572dad1 div.sk-container {display: inline-block;position: relative;}</style><div id=\"sk-a53791bb-1a1e-49d8-9abd-6593a572dad1\" class\"sk-top-container\"><div class=\"sk-container\"><div class=\"sk-item sk-dashed-wrapped\"><div class=\"sk-label-container\"><div class=\"sk-label sk-toggleable\"><input class=\"sk-toggleable__control sk-hidden--visually\" id=\"1b447af2-b028-4286-8345-41cd6799b7a7\" type=\"checkbox\" ><label class=\"sk-toggleable__label\" for=\"1b447af2-b028-4286-8345-41cd6799b7a7\">Pipeline</label><div class=\"sk-toggleable__content\"><pre>Pipeline(steps=[('column_transformer',\n",
       "                 ColumnTransformer(remainder=MinMaxScaler(),\n",
       "                                   transformers=[('countvectorizer',\n",
       "                                                  CountVectorizer(),\n",
       "                                                  'cleaned_comment_text'),\n",
       "                                                 ('tfidfvectorizer-1',\n",
       "                                                  TfidfVectorizer(),\n",
       "                                                  'cleaned_comment_text'),\n",
       "                                                 ('tfidfvectorizer-2',\n",
       "                                                  TfidfVectorizer(use_idf=False),\n",
       "                                                  'cleaned_comment_text')])),\n",
       "                ('dense', DenseTransformer()), ('clf', SVC())])</pre></div></div></div><div class=\"sk-serial\"><div class=\"sk-item sk-dashed-wrapped\"><div class=\"sk-label-container\"><div class=\"sk-label sk-toggleable\"><input class=\"sk-toggleable__control sk-hidden--visually\" id=\"bf632300-bd93-48d8-bc2b-79d5450c1f92\" type=\"checkbox\" ><label class=\"sk-toggleable__label\" for=\"bf632300-bd93-48d8-bc2b-79d5450c1f92\">column_transformer: ColumnTransformer</label><div class=\"sk-toggleable__content\"><pre>ColumnTransformer(remainder=MinMaxScaler(),\n",
       "                  transformers=[('countvectorizer', CountVectorizer(),\n",
       "                                 'cleaned_comment_text'),\n",
       "                                ('tfidfvectorizer-1', TfidfVectorizer(),\n",
       "                                 'cleaned_comment_text'),\n",
       "                                ('tfidfvectorizer-2',\n",
       "                                 TfidfVectorizer(use_idf=False),\n",
       "                                 'cleaned_comment_text')])</pre></div></div></div><div class=\"sk-parallel\"><div class=\"sk-parallel-item\"><div class=\"sk-item\"><div class=\"sk-label-container\"><div class=\"sk-label sk-toggleable\"><input class=\"sk-toggleable__control sk-hidden--visually\" id=\"5bde6cc7-8c5d-47f1-b1fe-7a38fc946a7c\" type=\"checkbox\" ><label class=\"sk-toggleable__label\" for=\"5bde6cc7-8c5d-47f1-b1fe-7a38fc946a7c\">countvectorizer</label><div class=\"sk-toggleable__content\"><pre>cleaned_comment_text</pre></div></div></div><div class=\"sk-serial\"><div class=\"sk-item\"><div class=\"sk-estimator sk-toggleable\"><input class=\"sk-toggleable__control sk-hidden--visually\" id=\"fcddd84f-5a34-4ab0-9d52-e1d642c73483\" type=\"checkbox\" ><label class=\"sk-toggleable__label\" for=\"fcddd84f-5a34-4ab0-9d52-e1d642c73483\">CountVectorizer</label><div class=\"sk-toggleable__content\"><pre>CountVectorizer()</pre></div></div></div></div></div></div><div class=\"sk-parallel-item\"><div class=\"sk-item\"><div class=\"sk-label-container\"><div class=\"sk-label sk-toggleable\"><input class=\"sk-toggleable__control sk-hidden--visually\" id=\"4abf1ebe-e09f-423a-9ef0-13232ddcf554\" type=\"checkbox\" ><label class=\"sk-toggleable__label\" for=\"4abf1ebe-e09f-423a-9ef0-13232ddcf554\">tfidfvectorizer-1</label><div class=\"sk-toggleable__content\"><pre>cleaned_comment_text</pre></div></div></div><div class=\"sk-serial\"><div class=\"sk-item\"><div class=\"sk-estimator sk-toggleable\"><input class=\"sk-toggleable__control sk-hidden--visually\" id=\"497aa822-b342-4c45-9d76-0a57b6e7631a\" type=\"checkbox\" ><label class=\"sk-toggleable__label\" for=\"497aa822-b342-4c45-9d76-0a57b6e7631a\">TfidfVectorizer</label><div class=\"sk-toggleable__content\"><pre>TfidfVectorizer()</pre></div></div></div></div></div></div><div class=\"sk-parallel-item\"><div class=\"sk-item\"><div class=\"sk-label-container\"><div class=\"sk-label sk-toggleable\"><input class=\"sk-toggleable__control sk-hidden--visually\" id=\"4cf3a870-e079-484f-a560-eec54c10464d\" type=\"checkbox\" ><label class=\"sk-toggleable__label\" for=\"4cf3a870-e079-484f-a560-eec54c10464d\">tfidfvectorizer-2</label><div class=\"sk-toggleable__content\"><pre>cleaned_comment_text</pre></div></div></div><div class=\"sk-serial\"><div class=\"sk-item\"><div class=\"sk-estimator sk-toggleable\"><input class=\"sk-toggleable__control sk-hidden--visually\" id=\"13354b23-dbad-49ce-9fc3-00876ebaf16a\" type=\"checkbox\" ><label class=\"sk-toggleable__label\" for=\"13354b23-dbad-49ce-9fc3-00876ebaf16a\">TfidfVectorizer</label><div class=\"sk-toggleable__content\"><pre>TfidfVectorizer(use_idf=False)</pre></div></div></div></div></div></div><div class=\"sk-parallel-item\"><div class=\"sk-item\"><div class=\"sk-label-container\"><div class=\"sk-label sk-toggleable\"><input class=\"sk-toggleable__control sk-hidden--visually\" id=\"4e36696b-24be-49bc-a2a5-8442cef81a77\" type=\"checkbox\" ><label class=\"sk-toggleable__label\" for=\"4e36696b-24be-49bc-a2a5-8442cef81a77\">remainder</label><div class=\"sk-toggleable__content\"><pre>['n_all_caps', 'perc_exclamations', 'num_exclamations']</pre></div></div></div><div class=\"sk-serial\"><div class=\"sk-item\"><div class=\"sk-estimator sk-toggleable\"><input class=\"sk-toggleable__control sk-hidden--visually\" id=\"c72e2681-bea3-4652-8519-a8b440254e44\" type=\"checkbox\" ><label class=\"sk-toggleable__label\" for=\"c72e2681-bea3-4652-8519-a8b440254e44\">MinMaxScaler</label><div class=\"sk-toggleable__content\"><pre>MinMaxScaler()</pre></div></div></div></div></div></div></div></div><div class=\"sk-item\"><div class=\"sk-estimator sk-toggleable\"><input class=\"sk-toggleable__control sk-hidden--visually\" id=\"7e69725f-7968-45a5-b697-33b781fe6f4c\" type=\"checkbox\" ><label class=\"sk-toggleable__label\" for=\"7e69725f-7968-45a5-b697-33b781fe6f4c\">DenseTransformer</label><div class=\"sk-toggleable__content\"><pre>DenseTransformer()</pre></div></div></div><div class=\"sk-item\"><div class=\"sk-estimator sk-toggleable\"><input class=\"sk-toggleable__control sk-hidden--visually\" id=\"3f0816dc-b619-4ca7-9dde-c6bf82ae34f5\" type=\"checkbox\" ><label class=\"sk-toggleable__label\" for=\"3f0816dc-b619-4ca7-9dde-c6bf82ae34f5\">SVC</label><div class=\"sk-toggleable__content\"><pre>SVC()</pre></div></div></div></div></div></div></div>"
      ],
      "text/plain": [
       "Pipeline(steps=[('column_transformer',\n",
       "                 ColumnTransformer(remainder=MinMaxScaler(),\n",
       "                                   transformers=[('countvectorizer',\n",
       "                                                  CountVectorizer(),\n",
       "                                                  'cleaned_comment_text'),\n",
       "                                                 ('tfidfvectorizer-1',\n",
       "                                                  TfidfVectorizer(),\n",
       "                                                  'cleaned_comment_text'),\n",
       "                                                 ('tfidfvectorizer-2',\n",
       "                                                  TfidfVectorizer(use_idf=False),\n",
       "                                                  'cleaned_comment_text')])),\n",
       "                ('dense', DenseTransformer()), ('clf', SVC())])"
      ]
     },
     "metadata": {},
     "output_type": "display_data"
    },
    {
     "name": "stdout",
     "output_type": "stream",
     "text": [
      "\n",
      "--------------------------------------------------------------------------------\n",
      "SVC Sub2_Engaging :\n",
      "\n"
     ]
    },
    {
     "data": {
      "text/html": [
       "<style>#sk-d5460ebb-e3a2-444d-b857-aeef73e8a8c4 {color: black;background-color: white;}#sk-d5460ebb-e3a2-444d-b857-aeef73e8a8c4 pre{padding: 0;}#sk-d5460ebb-e3a2-444d-b857-aeef73e8a8c4 div.sk-toggleable {background-color: white;}#sk-d5460ebb-e3a2-444d-b857-aeef73e8a8c4 label.sk-toggleable__label {cursor: pointer;display: block;width: 100%;margin-bottom: 0;padding: 0.3em;box-sizing: border-box;text-align: center;}#sk-d5460ebb-e3a2-444d-b857-aeef73e8a8c4 div.sk-toggleable__content {max-height: 0;max-width: 0;overflow: hidden;text-align: left;background-color: #f0f8ff;}#sk-d5460ebb-e3a2-444d-b857-aeef73e8a8c4 div.sk-toggleable__content pre {margin: 0.2em;color: black;border-radius: 0.25em;background-color: #f0f8ff;}#sk-d5460ebb-e3a2-444d-b857-aeef73e8a8c4 input.sk-toggleable__control:checked~div.sk-toggleable__content {max-height: 200px;max-width: 100%;overflow: auto;}#sk-d5460ebb-e3a2-444d-b857-aeef73e8a8c4 div.sk-estimator input.sk-toggleable__control:checked~label.sk-toggleable__label {background-color: #d4ebff;}#sk-d5460ebb-e3a2-444d-b857-aeef73e8a8c4 div.sk-label input.sk-toggleable__control:checked~label.sk-toggleable__label {background-color: #d4ebff;}#sk-d5460ebb-e3a2-444d-b857-aeef73e8a8c4 input.sk-hidden--visually {border: 0;clip: rect(1px 1px 1px 1px);clip: rect(1px, 1px, 1px, 1px);height: 1px;margin: -1px;overflow: hidden;padding: 0;position: absolute;width: 1px;}#sk-d5460ebb-e3a2-444d-b857-aeef73e8a8c4 div.sk-estimator {font-family: monospace;background-color: #f0f8ff;border: 1px dotted black;border-radius: 0.25em;box-sizing: border-box;margin-bottom: 0.5em;}#sk-d5460ebb-e3a2-444d-b857-aeef73e8a8c4 div.sk-estimator:hover {background-color: #d4ebff;}#sk-d5460ebb-e3a2-444d-b857-aeef73e8a8c4 div.sk-parallel-item::after {content: \"\";width: 100%;border-bottom: 1px solid gray;flex-grow: 1;}#sk-d5460ebb-e3a2-444d-b857-aeef73e8a8c4 div.sk-label:hover label.sk-toggleable__label {background-color: #d4ebff;}#sk-d5460ebb-e3a2-444d-b857-aeef73e8a8c4 div.sk-serial::before {content: \"\";position: absolute;border-left: 1px solid gray;box-sizing: border-box;top: 2em;bottom: 0;left: 50%;}#sk-d5460ebb-e3a2-444d-b857-aeef73e8a8c4 div.sk-serial {display: flex;flex-direction: column;align-items: center;background-color: white;padding-right: 0.2em;padding-left: 0.2em;}#sk-d5460ebb-e3a2-444d-b857-aeef73e8a8c4 div.sk-item {z-index: 1;}#sk-d5460ebb-e3a2-444d-b857-aeef73e8a8c4 div.sk-parallel {display: flex;align-items: stretch;justify-content: center;background-color: white;}#sk-d5460ebb-e3a2-444d-b857-aeef73e8a8c4 div.sk-parallel::before {content: \"\";position: absolute;border-left: 1px solid gray;box-sizing: border-box;top: 2em;bottom: 0;left: 50%;}#sk-d5460ebb-e3a2-444d-b857-aeef73e8a8c4 div.sk-parallel-item {display: flex;flex-direction: column;position: relative;background-color: white;}#sk-d5460ebb-e3a2-444d-b857-aeef73e8a8c4 div.sk-parallel-item:first-child::after {align-self: flex-end;width: 50%;}#sk-d5460ebb-e3a2-444d-b857-aeef73e8a8c4 div.sk-parallel-item:last-child::after {align-self: flex-start;width: 50%;}#sk-d5460ebb-e3a2-444d-b857-aeef73e8a8c4 div.sk-parallel-item:only-child::after {width: 0;}#sk-d5460ebb-e3a2-444d-b857-aeef73e8a8c4 div.sk-dashed-wrapped {border: 1px dashed gray;margin: 0 0.4em 0.5em 0.4em;box-sizing: border-box;padding-bottom: 0.4em;background-color: white;position: relative;}#sk-d5460ebb-e3a2-444d-b857-aeef73e8a8c4 div.sk-label label {font-family: monospace;font-weight: bold;background-color: white;display: inline-block;line-height: 1.2em;}#sk-d5460ebb-e3a2-444d-b857-aeef73e8a8c4 div.sk-label-container {position: relative;z-index: 2;text-align: center;}#sk-d5460ebb-e3a2-444d-b857-aeef73e8a8c4 div.sk-container {display: inline-block;position: relative;}</style><div id=\"sk-d5460ebb-e3a2-444d-b857-aeef73e8a8c4\" class\"sk-top-container\"><div class=\"sk-container\"><div class=\"sk-item sk-dashed-wrapped\"><div class=\"sk-label-container\"><div class=\"sk-label sk-toggleable\"><input class=\"sk-toggleable__control sk-hidden--visually\" id=\"5da8f361-40ae-4248-9ace-eaf0d2f768c5\" type=\"checkbox\" ><label class=\"sk-toggleable__label\" for=\"5da8f361-40ae-4248-9ace-eaf0d2f768c5\">Pipeline</label><div class=\"sk-toggleable__content\"><pre>Pipeline(steps=[('column_transformer',\n",
       "                 ColumnTransformer(remainder=MinMaxScaler(),\n",
       "                                   transformers=[('countvectorizer',\n",
       "                                                  CountVectorizer(),\n",
       "                                                  'cleaned_comment_text'),\n",
       "                                                 ('tfidfvectorizer-1',\n",
       "                                                  TfidfVectorizer(),\n",
       "                                                  'cleaned_comment_text'),\n",
       "                                                 ('tfidfvectorizer-2',\n",
       "                                                  TfidfVectorizer(use_idf=False),\n",
       "                                                  'cleaned_comment_text')])),\n",
       "                ('dense', DenseTransformer()), ('clf', SVC())])</pre></div></div></div><div class=\"sk-serial\"><div class=\"sk-item sk-dashed-wrapped\"><div class=\"sk-label-container\"><div class=\"sk-label sk-toggleable\"><input class=\"sk-toggleable__control sk-hidden--visually\" id=\"b05123e5-ee5f-4a92-a5b3-5421e9efe9ee\" type=\"checkbox\" ><label class=\"sk-toggleable__label\" for=\"b05123e5-ee5f-4a92-a5b3-5421e9efe9ee\">column_transformer: ColumnTransformer</label><div class=\"sk-toggleable__content\"><pre>ColumnTransformer(remainder=MinMaxScaler(),\n",
       "                  transformers=[('countvectorizer', CountVectorizer(),\n",
       "                                 'cleaned_comment_text'),\n",
       "                                ('tfidfvectorizer-1', TfidfVectorizer(),\n",
       "                                 'cleaned_comment_text'),\n",
       "                                ('tfidfvectorizer-2',\n",
       "                                 TfidfVectorizer(use_idf=False),\n",
       "                                 'cleaned_comment_text')])</pre></div></div></div><div class=\"sk-parallel\"><div class=\"sk-parallel-item\"><div class=\"sk-item\"><div class=\"sk-label-container\"><div class=\"sk-label sk-toggleable\"><input class=\"sk-toggleable__control sk-hidden--visually\" id=\"38985a59-e4dd-414c-a1ce-0403f2d53847\" type=\"checkbox\" ><label class=\"sk-toggleable__label\" for=\"38985a59-e4dd-414c-a1ce-0403f2d53847\">countvectorizer</label><div class=\"sk-toggleable__content\"><pre>cleaned_comment_text</pre></div></div></div><div class=\"sk-serial\"><div class=\"sk-item\"><div class=\"sk-estimator sk-toggleable\"><input class=\"sk-toggleable__control sk-hidden--visually\" id=\"d2dcbe1d-1a7e-4ba6-803f-930135b82d32\" type=\"checkbox\" ><label class=\"sk-toggleable__label\" for=\"d2dcbe1d-1a7e-4ba6-803f-930135b82d32\">CountVectorizer</label><div class=\"sk-toggleable__content\"><pre>CountVectorizer()</pre></div></div></div></div></div></div><div class=\"sk-parallel-item\"><div class=\"sk-item\"><div class=\"sk-label-container\"><div class=\"sk-label sk-toggleable\"><input class=\"sk-toggleable__control sk-hidden--visually\" id=\"536b8c29-0e9c-4be4-b0aa-5ce249c3097e\" type=\"checkbox\" ><label class=\"sk-toggleable__label\" for=\"536b8c29-0e9c-4be4-b0aa-5ce249c3097e\">tfidfvectorizer-1</label><div class=\"sk-toggleable__content\"><pre>cleaned_comment_text</pre></div></div></div><div class=\"sk-serial\"><div class=\"sk-item\"><div class=\"sk-estimator sk-toggleable\"><input class=\"sk-toggleable__control sk-hidden--visually\" id=\"636d88c3-240e-4cd0-98ad-dfd4781e1e5d\" type=\"checkbox\" ><label class=\"sk-toggleable__label\" for=\"636d88c3-240e-4cd0-98ad-dfd4781e1e5d\">TfidfVectorizer</label><div class=\"sk-toggleable__content\"><pre>TfidfVectorizer()</pre></div></div></div></div></div></div><div class=\"sk-parallel-item\"><div class=\"sk-item\"><div class=\"sk-label-container\"><div class=\"sk-label sk-toggleable\"><input class=\"sk-toggleable__control sk-hidden--visually\" id=\"fff5e7a2-761d-4da9-a8c3-d566ef6a99d4\" type=\"checkbox\" ><label class=\"sk-toggleable__label\" for=\"fff5e7a2-761d-4da9-a8c3-d566ef6a99d4\">tfidfvectorizer-2</label><div class=\"sk-toggleable__content\"><pre>cleaned_comment_text</pre></div></div></div><div class=\"sk-serial\"><div class=\"sk-item\"><div class=\"sk-estimator sk-toggleable\"><input class=\"sk-toggleable__control sk-hidden--visually\" id=\"f8046423-0851-44e1-8a29-e09a43e75980\" type=\"checkbox\" ><label class=\"sk-toggleable__label\" for=\"f8046423-0851-44e1-8a29-e09a43e75980\">TfidfVectorizer</label><div class=\"sk-toggleable__content\"><pre>TfidfVectorizer(use_idf=False)</pre></div></div></div></div></div></div><div class=\"sk-parallel-item\"><div class=\"sk-item\"><div class=\"sk-label-container\"><div class=\"sk-label sk-toggleable\"><input class=\"sk-toggleable__control sk-hidden--visually\" id=\"1bdd7fae-42e4-4ae7-bc31-4897ddb8a499\" type=\"checkbox\" ><label class=\"sk-toggleable__label\" for=\"1bdd7fae-42e4-4ae7-bc31-4897ddb8a499\">remainder</label><div class=\"sk-toggleable__content\"><pre>['n_all_caps', 'perc_exclamations', 'num_exclamations']</pre></div></div></div><div class=\"sk-serial\"><div class=\"sk-item\"><div class=\"sk-estimator sk-toggleable\"><input class=\"sk-toggleable__control sk-hidden--visually\" id=\"773d0ffe-cbfa-4ab3-9100-67a772aee119\" type=\"checkbox\" ><label class=\"sk-toggleable__label\" for=\"773d0ffe-cbfa-4ab3-9100-67a772aee119\">MinMaxScaler</label><div class=\"sk-toggleable__content\"><pre>MinMaxScaler()</pre></div></div></div></div></div></div></div></div><div class=\"sk-item\"><div class=\"sk-estimator sk-toggleable\"><input class=\"sk-toggleable__control sk-hidden--visually\" id=\"a420f140-c102-4496-aade-09dd591cfeed\" type=\"checkbox\" ><label class=\"sk-toggleable__label\" for=\"a420f140-c102-4496-aade-09dd591cfeed\">DenseTransformer</label><div class=\"sk-toggleable__content\"><pre>DenseTransformer()</pre></div></div></div><div class=\"sk-item\"><div class=\"sk-estimator sk-toggleable\"><input class=\"sk-toggleable__control sk-hidden--visually\" id=\"eadf3d4c-2da2-4a94-9f80-25c9d43205f1\" type=\"checkbox\" ><label class=\"sk-toggleable__label\" for=\"eadf3d4c-2da2-4a94-9f80-25c9d43205f1\">SVC</label><div class=\"sk-toggleable__content\"><pre>SVC()</pre></div></div></div></div></div></div></div>"
      ],
      "text/plain": [
       "Pipeline(steps=[('column_transformer',\n",
       "                 ColumnTransformer(remainder=MinMaxScaler(),\n",
       "                                   transformers=[('countvectorizer',\n",
       "                                                  CountVectorizer(),\n",
       "                                                  'cleaned_comment_text'),\n",
       "                                                 ('tfidfvectorizer-1',\n",
       "                                                  TfidfVectorizer(),\n",
       "                                                  'cleaned_comment_text'),\n",
       "                                                 ('tfidfvectorizer-2',\n",
       "                                                  TfidfVectorizer(use_idf=False),\n",
       "                                                  'cleaned_comment_text')])),\n",
       "                ('dense', DenseTransformer()), ('clf', SVC())])"
      ]
     },
     "metadata": {},
     "output_type": "display_data"
    },
    {
     "name": "stdout",
     "output_type": "stream",
     "text": [
      "\n",
      "--------------------------------------------------------------------------------\n",
      "SVC Sub3_FactClaiming :\n",
      "\n"
     ]
    },
    {
     "data": {
      "text/html": [
       "<style>#sk-3c6b4e18-7670-43e3-a6e8-be8d72287de4 {color: black;background-color: white;}#sk-3c6b4e18-7670-43e3-a6e8-be8d72287de4 pre{padding: 0;}#sk-3c6b4e18-7670-43e3-a6e8-be8d72287de4 div.sk-toggleable {background-color: white;}#sk-3c6b4e18-7670-43e3-a6e8-be8d72287de4 label.sk-toggleable__label {cursor: pointer;display: block;width: 100%;margin-bottom: 0;padding: 0.3em;box-sizing: border-box;text-align: center;}#sk-3c6b4e18-7670-43e3-a6e8-be8d72287de4 div.sk-toggleable__content {max-height: 0;max-width: 0;overflow: hidden;text-align: left;background-color: #f0f8ff;}#sk-3c6b4e18-7670-43e3-a6e8-be8d72287de4 div.sk-toggleable__content pre {margin: 0.2em;color: black;border-radius: 0.25em;background-color: #f0f8ff;}#sk-3c6b4e18-7670-43e3-a6e8-be8d72287de4 input.sk-toggleable__control:checked~div.sk-toggleable__content {max-height: 200px;max-width: 100%;overflow: auto;}#sk-3c6b4e18-7670-43e3-a6e8-be8d72287de4 div.sk-estimator input.sk-toggleable__control:checked~label.sk-toggleable__label {background-color: #d4ebff;}#sk-3c6b4e18-7670-43e3-a6e8-be8d72287de4 div.sk-label input.sk-toggleable__control:checked~label.sk-toggleable__label {background-color: #d4ebff;}#sk-3c6b4e18-7670-43e3-a6e8-be8d72287de4 input.sk-hidden--visually {border: 0;clip: rect(1px 1px 1px 1px);clip: rect(1px, 1px, 1px, 1px);height: 1px;margin: -1px;overflow: hidden;padding: 0;position: absolute;width: 1px;}#sk-3c6b4e18-7670-43e3-a6e8-be8d72287de4 div.sk-estimator {font-family: monospace;background-color: #f0f8ff;border: 1px dotted black;border-radius: 0.25em;box-sizing: border-box;margin-bottom: 0.5em;}#sk-3c6b4e18-7670-43e3-a6e8-be8d72287de4 div.sk-estimator:hover {background-color: #d4ebff;}#sk-3c6b4e18-7670-43e3-a6e8-be8d72287de4 div.sk-parallel-item::after {content: \"\";width: 100%;border-bottom: 1px solid gray;flex-grow: 1;}#sk-3c6b4e18-7670-43e3-a6e8-be8d72287de4 div.sk-label:hover label.sk-toggleable__label {background-color: #d4ebff;}#sk-3c6b4e18-7670-43e3-a6e8-be8d72287de4 div.sk-serial::before {content: \"\";position: absolute;border-left: 1px solid gray;box-sizing: border-box;top: 2em;bottom: 0;left: 50%;}#sk-3c6b4e18-7670-43e3-a6e8-be8d72287de4 div.sk-serial {display: flex;flex-direction: column;align-items: center;background-color: white;padding-right: 0.2em;padding-left: 0.2em;}#sk-3c6b4e18-7670-43e3-a6e8-be8d72287de4 div.sk-item {z-index: 1;}#sk-3c6b4e18-7670-43e3-a6e8-be8d72287de4 div.sk-parallel {display: flex;align-items: stretch;justify-content: center;background-color: white;}#sk-3c6b4e18-7670-43e3-a6e8-be8d72287de4 div.sk-parallel::before {content: \"\";position: absolute;border-left: 1px solid gray;box-sizing: border-box;top: 2em;bottom: 0;left: 50%;}#sk-3c6b4e18-7670-43e3-a6e8-be8d72287de4 div.sk-parallel-item {display: flex;flex-direction: column;position: relative;background-color: white;}#sk-3c6b4e18-7670-43e3-a6e8-be8d72287de4 div.sk-parallel-item:first-child::after {align-self: flex-end;width: 50%;}#sk-3c6b4e18-7670-43e3-a6e8-be8d72287de4 div.sk-parallel-item:last-child::after {align-self: flex-start;width: 50%;}#sk-3c6b4e18-7670-43e3-a6e8-be8d72287de4 div.sk-parallel-item:only-child::after {width: 0;}#sk-3c6b4e18-7670-43e3-a6e8-be8d72287de4 div.sk-dashed-wrapped {border: 1px dashed gray;margin: 0 0.4em 0.5em 0.4em;box-sizing: border-box;padding-bottom: 0.4em;background-color: white;position: relative;}#sk-3c6b4e18-7670-43e3-a6e8-be8d72287de4 div.sk-label label {font-family: monospace;font-weight: bold;background-color: white;display: inline-block;line-height: 1.2em;}#sk-3c6b4e18-7670-43e3-a6e8-be8d72287de4 div.sk-label-container {position: relative;z-index: 2;text-align: center;}#sk-3c6b4e18-7670-43e3-a6e8-be8d72287de4 div.sk-container {display: inline-block;position: relative;}</style><div id=\"sk-3c6b4e18-7670-43e3-a6e8-be8d72287de4\" class\"sk-top-container\"><div class=\"sk-container\"><div class=\"sk-item sk-dashed-wrapped\"><div class=\"sk-label-container\"><div class=\"sk-label sk-toggleable\"><input class=\"sk-toggleable__control sk-hidden--visually\" id=\"975d52cd-30e4-4f0d-a028-27804cd31e88\" type=\"checkbox\" ><label class=\"sk-toggleable__label\" for=\"975d52cd-30e4-4f0d-a028-27804cd31e88\">Pipeline</label><div class=\"sk-toggleable__content\"><pre>Pipeline(steps=[('column_transformer',\n",
       "                 ColumnTransformer(remainder=MinMaxScaler(),\n",
       "                                   transformers=[('countvectorizer',\n",
       "                                                  CountVectorizer(),\n",
       "                                                  'cleaned_comment_text'),\n",
       "                                                 ('tfidfvectorizer-1',\n",
       "                                                  TfidfVectorizer(),\n",
       "                                                  'cleaned_comment_text'),\n",
       "                                                 ('tfidfvectorizer-2',\n",
       "                                                  TfidfVectorizer(use_idf=False),\n",
       "                                                  'cleaned_comment_text')])),\n",
       "                ('dense', DenseTransformer()), ('clf', SVC())])</pre></div></div></div><div class=\"sk-serial\"><div class=\"sk-item sk-dashed-wrapped\"><div class=\"sk-label-container\"><div class=\"sk-label sk-toggleable\"><input class=\"sk-toggleable__control sk-hidden--visually\" id=\"ff49bf33-c234-49f4-bd75-22bb9980fcbd\" type=\"checkbox\" ><label class=\"sk-toggleable__label\" for=\"ff49bf33-c234-49f4-bd75-22bb9980fcbd\">column_transformer: ColumnTransformer</label><div class=\"sk-toggleable__content\"><pre>ColumnTransformer(remainder=MinMaxScaler(),\n",
       "                  transformers=[('countvectorizer', CountVectorizer(),\n",
       "                                 'cleaned_comment_text'),\n",
       "                                ('tfidfvectorizer-1', TfidfVectorizer(),\n",
       "                                 'cleaned_comment_text'),\n",
       "                                ('tfidfvectorizer-2',\n",
       "                                 TfidfVectorizer(use_idf=False),\n",
       "                                 'cleaned_comment_text')])</pre></div></div></div><div class=\"sk-parallel\"><div class=\"sk-parallel-item\"><div class=\"sk-item\"><div class=\"sk-label-container\"><div class=\"sk-label sk-toggleable\"><input class=\"sk-toggleable__control sk-hidden--visually\" id=\"7dfa9e73-d5e6-44f0-b109-4d9dab034007\" type=\"checkbox\" ><label class=\"sk-toggleable__label\" for=\"7dfa9e73-d5e6-44f0-b109-4d9dab034007\">countvectorizer</label><div class=\"sk-toggleable__content\"><pre>cleaned_comment_text</pre></div></div></div><div class=\"sk-serial\"><div class=\"sk-item\"><div class=\"sk-estimator sk-toggleable\"><input class=\"sk-toggleable__control sk-hidden--visually\" id=\"bc56fda6-4487-4d2e-9d76-c448b62c2651\" type=\"checkbox\" ><label class=\"sk-toggleable__label\" for=\"bc56fda6-4487-4d2e-9d76-c448b62c2651\">CountVectorizer</label><div class=\"sk-toggleable__content\"><pre>CountVectorizer()</pre></div></div></div></div></div></div><div class=\"sk-parallel-item\"><div class=\"sk-item\"><div class=\"sk-label-container\"><div class=\"sk-label sk-toggleable\"><input class=\"sk-toggleable__control sk-hidden--visually\" id=\"18a80ac5-13ef-4b4a-9f32-709cc5290ddc\" type=\"checkbox\" ><label class=\"sk-toggleable__label\" for=\"18a80ac5-13ef-4b4a-9f32-709cc5290ddc\">tfidfvectorizer-1</label><div class=\"sk-toggleable__content\"><pre>cleaned_comment_text</pre></div></div></div><div class=\"sk-serial\"><div class=\"sk-item\"><div class=\"sk-estimator sk-toggleable\"><input class=\"sk-toggleable__control sk-hidden--visually\" id=\"86da8952-4d9a-4ba6-8f22-c7f6f684f546\" type=\"checkbox\" ><label class=\"sk-toggleable__label\" for=\"86da8952-4d9a-4ba6-8f22-c7f6f684f546\">TfidfVectorizer</label><div class=\"sk-toggleable__content\"><pre>TfidfVectorizer()</pre></div></div></div></div></div></div><div class=\"sk-parallel-item\"><div class=\"sk-item\"><div class=\"sk-label-container\"><div class=\"sk-label sk-toggleable\"><input class=\"sk-toggleable__control sk-hidden--visually\" id=\"827a74b5-7160-4816-a455-39ad0bc03436\" type=\"checkbox\" ><label class=\"sk-toggleable__label\" for=\"827a74b5-7160-4816-a455-39ad0bc03436\">tfidfvectorizer-2</label><div class=\"sk-toggleable__content\"><pre>cleaned_comment_text</pre></div></div></div><div class=\"sk-serial\"><div class=\"sk-item\"><div class=\"sk-estimator sk-toggleable\"><input class=\"sk-toggleable__control sk-hidden--visually\" id=\"6cfe85db-8e2e-4834-aed6-369fdd750dab\" type=\"checkbox\" ><label class=\"sk-toggleable__label\" for=\"6cfe85db-8e2e-4834-aed6-369fdd750dab\">TfidfVectorizer</label><div class=\"sk-toggleable__content\"><pre>TfidfVectorizer(use_idf=False)</pre></div></div></div></div></div></div><div class=\"sk-parallel-item\"><div class=\"sk-item\"><div class=\"sk-label-container\"><div class=\"sk-label sk-toggleable\"><input class=\"sk-toggleable__control sk-hidden--visually\" id=\"b33ef7e2-ed8b-4191-bcfd-90954ba2e2c1\" type=\"checkbox\" ><label class=\"sk-toggleable__label\" for=\"b33ef7e2-ed8b-4191-bcfd-90954ba2e2c1\">remainder</label><div class=\"sk-toggleable__content\"><pre>['n_all_caps', 'perc_exclamations', 'num_exclamations']</pre></div></div></div><div class=\"sk-serial\"><div class=\"sk-item\"><div class=\"sk-estimator sk-toggleable\"><input class=\"sk-toggleable__control sk-hidden--visually\" id=\"8a9e1990-4002-4949-bbe8-f7b098fda9ec\" type=\"checkbox\" ><label class=\"sk-toggleable__label\" for=\"8a9e1990-4002-4949-bbe8-f7b098fda9ec\">MinMaxScaler</label><div class=\"sk-toggleable__content\"><pre>MinMaxScaler()</pre></div></div></div></div></div></div></div></div><div class=\"sk-item\"><div class=\"sk-estimator sk-toggleable\"><input class=\"sk-toggleable__control sk-hidden--visually\" id=\"bf3d9dd6-17d4-4834-b172-d8abf6dcc37d\" type=\"checkbox\" ><label class=\"sk-toggleable__label\" for=\"bf3d9dd6-17d4-4834-b172-d8abf6dcc37d\">DenseTransformer</label><div class=\"sk-toggleable__content\"><pre>DenseTransformer()</pre></div></div></div><div class=\"sk-item\"><div class=\"sk-estimator sk-toggleable\"><input class=\"sk-toggleable__control sk-hidden--visually\" id=\"f108b445-d4c2-4911-8178-dde9769bf548\" type=\"checkbox\" ><label class=\"sk-toggleable__label\" for=\"f108b445-d4c2-4911-8178-dde9769bf548\">SVC</label><div class=\"sk-toggleable__content\"><pre>SVC()</pre></div></div></div></div></div></div></div>"
      ],
      "text/plain": [
       "Pipeline(steps=[('column_transformer',\n",
       "                 ColumnTransformer(remainder=MinMaxScaler(),\n",
       "                                   transformers=[('countvectorizer',\n",
       "                                                  CountVectorizer(),\n",
       "                                                  'cleaned_comment_text'),\n",
       "                                                 ('tfidfvectorizer-1',\n",
       "                                                  TfidfVectorizer(),\n",
       "                                                  'cleaned_comment_text'),\n",
       "                                                 ('tfidfvectorizer-2',\n",
       "                                                  TfidfVectorizer(use_idf=False),\n",
       "                                                  'cleaned_comment_text')])),\n",
       "                ('dense', DenseTransformer()), ('clf', SVC())])"
      ]
     },
     "metadata": {},
     "output_type": "display_data"
    },
    {
     "name": "stdout",
     "output_type": "stream",
     "text": [
      "\n",
      "--------------------------------------------------------------------------------\n",
      "RBF SVC Sub1_Toxic :\n",
      "\n"
     ]
    },
    {
     "data": {
      "text/html": [
       "<style>#sk-c28ea392-132b-4033-b951-8e2a35177516 {color: black;background-color: white;}#sk-c28ea392-132b-4033-b951-8e2a35177516 pre{padding: 0;}#sk-c28ea392-132b-4033-b951-8e2a35177516 div.sk-toggleable {background-color: white;}#sk-c28ea392-132b-4033-b951-8e2a35177516 label.sk-toggleable__label {cursor: pointer;display: block;width: 100%;margin-bottom: 0;padding: 0.3em;box-sizing: border-box;text-align: center;}#sk-c28ea392-132b-4033-b951-8e2a35177516 div.sk-toggleable__content {max-height: 0;max-width: 0;overflow: hidden;text-align: left;background-color: #f0f8ff;}#sk-c28ea392-132b-4033-b951-8e2a35177516 div.sk-toggleable__content pre {margin: 0.2em;color: black;border-radius: 0.25em;background-color: #f0f8ff;}#sk-c28ea392-132b-4033-b951-8e2a35177516 input.sk-toggleable__control:checked~div.sk-toggleable__content {max-height: 200px;max-width: 100%;overflow: auto;}#sk-c28ea392-132b-4033-b951-8e2a35177516 div.sk-estimator input.sk-toggleable__control:checked~label.sk-toggleable__label {background-color: #d4ebff;}#sk-c28ea392-132b-4033-b951-8e2a35177516 div.sk-label input.sk-toggleable__control:checked~label.sk-toggleable__label {background-color: #d4ebff;}#sk-c28ea392-132b-4033-b951-8e2a35177516 input.sk-hidden--visually {border: 0;clip: rect(1px 1px 1px 1px);clip: rect(1px, 1px, 1px, 1px);height: 1px;margin: -1px;overflow: hidden;padding: 0;position: absolute;width: 1px;}#sk-c28ea392-132b-4033-b951-8e2a35177516 div.sk-estimator {font-family: monospace;background-color: #f0f8ff;border: 1px dotted black;border-radius: 0.25em;box-sizing: border-box;margin-bottom: 0.5em;}#sk-c28ea392-132b-4033-b951-8e2a35177516 div.sk-estimator:hover {background-color: #d4ebff;}#sk-c28ea392-132b-4033-b951-8e2a35177516 div.sk-parallel-item::after {content: \"\";width: 100%;border-bottom: 1px solid gray;flex-grow: 1;}#sk-c28ea392-132b-4033-b951-8e2a35177516 div.sk-label:hover label.sk-toggleable__label {background-color: #d4ebff;}#sk-c28ea392-132b-4033-b951-8e2a35177516 div.sk-serial::before {content: \"\";position: absolute;border-left: 1px solid gray;box-sizing: border-box;top: 2em;bottom: 0;left: 50%;}#sk-c28ea392-132b-4033-b951-8e2a35177516 div.sk-serial {display: flex;flex-direction: column;align-items: center;background-color: white;padding-right: 0.2em;padding-left: 0.2em;}#sk-c28ea392-132b-4033-b951-8e2a35177516 div.sk-item {z-index: 1;}#sk-c28ea392-132b-4033-b951-8e2a35177516 div.sk-parallel {display: flex;align-items: stretch;justify-content: center;background-color: white;}#sk-c28ea392-132b-4033-b951-8e2a35177516 div.sk-parallel::before {content: \"\";position: absolute;border-left: 1px solid gray;box-sizing: border-box;top: 2em;bottom: 0;left: 50%;}#sk-c28ea392-132b-4033-b951-8e2a35177516 div.sk-parallel-item {display: flex;flex-direction: column;position: relative;background-color: white;}#sk-c28ea392-132b-4033-b951-8e2a35177516 div.sk-parallel-item:first-child::after {align-self: flex-end;width: 50%;}#sk-c28ea392-132b-4033-b951-8e2a35177516 div.sk-parallel-item:last-child::after {align-self: flex-start;width: 50%;}#sk-c28ea392-132b-4033-b951-8e2a35177516 div.sk-parallel-item:only-child::after {width: 0;}#sk-c28ea392-132b-4033-b951-8e2a35177516 div.sk-dashed-wrapped {border: 1px dashed gray;margin: 0 0.4em 0.5em 0.4em;box-sizing: border-box;padding-bottom: 0.4em;background-color: white;position: relative;}#sk-c28ea392-132b-4033-b951-8e2a35177516 div.sk-label label {font-family: monospace;font-weight: bold;background-color: white;display: inline-block;line-height: 1.2em;}#sk-c28ea392-132b-4033-b951-8e2a35177516 div.sk-label-container {position: relative;z-index: 2;text-align: center;}#sk-c28ea392-132b-4033-b951-8e2a35177516 div.sk-container {display: inline-block;position: relative;}</style><div id=\"sk-c28ea392-132b-4033-b951-8e2a35177516\" class\"sk-top-container\"><div class=\"sk-container\"><div class=\"sk-item sk-dashed-wrapped\"><div class=\"sk-label-container\"><div class=\"sk-label sk-toggleable\"><input class=\"sk-toggleable__control sk-hidden--visually\" id=\"7234877a-3cfe-4e1f-ad76-70cb20b60635\" type=\"checkbox\" ><label class=\"sk-toggleable__label\" for=\"7234877a-3cfe-4e1f-ad76-70cb20b60635\">Pipeline</label><div class=\"sk-toggleable__content\"><pre>Pipeline(steps=[('column_transformer',\n",
       "                 ColumnTransformer(remainder=MinMaxScaler(),\n",
       "                                   transformers=[('countvectorizer',\n",
       "                                                  CountVectorizer(),\n",
       "                                                  'cleaned_comment_text'),\n",
       "                                                 ('tfidfvectorizer-1',\n",
       "                                                  TfidfVectorizer(),\n",
       "                                                  'cleaned_comment_text'),\n",
       "                                                 ('tfidfvectorizer-2',\n",
       "                                                  TfidfVectorizer(use_idf=False),\n",
       "                                                  'cleaned_comment_text')])),\n",
       "                ('dense', DenseTransformer()), ('clf', SVC(C=1, gamma=2))])</pre></div></div></div><div class=\"sk-serial\"><div class=\"sk-item sk-dashed-wrapped\"><div class=\"sk-label-container\"><div class=\"sk-label sk-toggleable\"><input class=\"sk-toggleable__control sk-hidden--visually\" id=\"d633e7c1-4735-4a38-85c1-f98fd4ce9739\" type=\"checkbox\" ><label class=\"sk-toggleable__label\" for=\"d633e7c1-4735-4a38-85c1-f98fd4ce9739\">column_transformer: ColumnTransformer</label><div class=\"sk-toggleable__content\"><pre>ColumnTransformer(remainder=MinMaxScaler(),\n",
       "                  transformers=[('countvectorizer', CountVectorizer(),\n",
       "                                 'cleaned_comment_text'),\n",
       "                                ('tfidfvectorizer-1', TfidfVectorizer(),\n",
       "                                 'cleaned_comment_text'),\n",
       "                                ('tfidfvectorizer-2',\n",
       "                                 TfidfVectorizer(use_idf=False),\n",
       "                                 'cleaned_comment_text')])</pre></div></div></div><div class=\"sk-parallel\"><div class=\"sk-parallel-item\"><div class=\"sk-item\"><div class=\"sk-label-container\"><div class=\"sk-label sk-toggleable\"><input class=\"sk-toggleable__control sk-hidden--visually\" id=\"4d370569-73fc-4254-8376-c595e21fb88f\" type=\"checkbox\" ><label class=\"sk-toggleable__label\" for=\"4d370569-73fc-4254-8376-c595e21fb88f\">countvectorizer</label><div class=\"sk-toggleable__content\"><pre>cleaned_comment_text</pre></div></div></div><div class=\"sk-serial\"><div class=\"sk-item\"><div class=\"sk-estimator sk-toggleable\"><input class=\"sk-toggleable__control sk-hidden--visually\" id=\"e2f3c90a-9651-4f85-a7eb-f75205aee6a8\" type=\"checkbox\" ><label class=\"sk-toggleable__label\" for=\"e2f3c90a-9651-4f85-a7eb-f75205aee6a8\">CountVectorizer</label><div class=\"sk-toggleable__content\"><pre>CountVectorizer()</pre></div></div></div></div></div></div><div class=\"sk-parallel-item\"><div class=\"sk-item\"><div class=\"sk-label-container\"><div class=\"sk-label sk-toggleable\"><input class=\"sk-toggleable__control sk-hidden--visually\" id=\"9823d73e-0e38-488e-9518-870998597a09\" type=\"checkbox\" ><label class=\"sk-toggleable__label\" for=\"9823d73e-0e38-488e-9518-870998597a09\">tfidfvectorizer-1</label><div class=\"sk-toggleable__content\"><pre>cleaned_comment_text</pre></div></div></div><div class=\"sk-serial\"><div class=\"sk-item\"><div class=\"sk-estimator sk-toggleable\"><input class=\"sk-toggleable__control sk-hidden--visually\" id=\"c83a5d9d-b154-48c9-9e91-57da654008e3\" type=\"checkbox\" ><label class=\"sk-toggleable__label\" for=\"c83a5d9d-b154-48c9-9e91-57da654008e3\">TfidfVectorizer</label><div class=\"sk-toggleable__content\"><pre>TfidfVectorizer()</pre></div></div></div></div></div></div><div class=\"sk-parallel-item\"><div class=\"sk-item\"><div class=\"sk-label-container\"><div class=\"sk-label sk-toggleable\"><input class=\"sk-toggleable__control sk-hidden--visually\" id=\"2544b9b2-6be1-42ad-998c-71258579d6c0\" type=\"checkbox\" ><label class=\"sk-toggleable__label\" for=\"2544b9b2-6be1-42ad-998c-71258579d6c0\">tfidfvectorizer-2</label><div class=\"sk-toggleable__content\"><pre>cleaned_comment_text</pre></div></div></div><div class=\"sk-serial\"><div class=\"sk-item\"><div class=\"sk-estimator sk-toggleable\"><input class=\"sk-toggleable__control sk-hidden--visually\" id=\"cbe3cb53-92b2-40c8-bc83-d21b4758daf6\" type=\"checkbox\" ><label class=\"sk-toggleable__label\" for=\"cbe3cb53-92b2-40c8-bc83-d21b4758daf6\">TfidfVectorizer</label><div class=\"sk-toggleable__content\"><pre>TfidfVectorizer(use_idf=False)</pre></div></div></div></div></div></div><div class=\"sk-parallel-item\"><div class=\"sk-item\"><div class=\"sk-label-container\"><div class=\"sk-label sk-toggleable\"><input class=\"sk-toggleable__control sk-hidden--visually\" id=\"7a242b4f-8b03-4099-b304-eff0f75270f4\" type=\"checkbox\" ><label class=\"sk-toggleable__label\" for=\"7a242b4f-8b03-4099-b304-eff0f75270f4\">remainder</label><div class=\"sk-toggleable__content\"><pre>['n_all_caps', 'perc_exclamations', 'num_exclamations']</pre></div></div></div><div class=\"sk-serial\"><div class=\"sk-item\"><div class=\"sk-estimator sk-toggleable\"><input class=\"sk-toggleable__control sk-hidden--visually\" id=\"578644d0-f817-46b0-a4c1-c75566fe9ce1\" type=\"checkbox\" ><label class=\"sk-toggleable__label\" for=\"578644d0-f817-46b0-a4c1-c75566fe9ce1\">MinMaxScaler</label><div class=\"sk-toggleable__content\"><pre>MinMaxScaler()</pre></div></div></div></div></div></div></div></div><div class=\"sk-item\"><div class=\"sk-estimator sk-toggleable\"><input class=\"sk-toggleable__control sk-hidden--visually\" id=\"a20e4626-799d-4205-b6e6-37e341ba0d3c\" type=\"checkbox\" ><label class=\"sk-toggleable__label\" for=\"a20e4626-799d-4205-b6e6-37e341ba0d3c\">DenseTransformer</label><div class=\"sk-toggleable__content\"><pre>DenseTransformer()</pre></div></div></div><div class=\"sk-item\"><div class=\"sk-estimator sk-toggleable\"><input class=\"sk-toggleable__control sk-hidden--visually\" id=\"cd2a8835-d733-436c-910b-75d08ecef466\" type=\"checkbox\" ><label class=\"sk-toggleable__label\" for=\"cd2a8835-d733-436c-910b-75d08ecef466\">SVC</label><div class=\"sk-toggleable__content\"><pre>SVC(C=1, gamma=2)</pre></div></div></div></div></div></div></div>"
      ],
      "text/plain": [
       "Pipeline(steps=[('column_transformer',\n",
       "                 ColumnTransformer(remainder=MinMaxScaler(),\n",
       "                                   transformers=[('countvectorizer',\n",
       "                                                  CountVectorizer(),\n",
       "                                                  'cleaned_comment_text'),\n",
       "                                                 ('tfidfvectorizer-1',\n",
       "                                                  TfidfVectorizer(),\n",
       "                                                  'cleaned_comment_text'),\n",
       "                                                 ('tfidfvectorizer-2',\n",
       "                                                  TfidfVectorizer(use_idf=False),\n",
       "                                                  'cleaned_comment_text')])),\n",
       "                ('dense', DenseTransformer()), ('clf', SVC(C=1, gamma=2))])"
      ]
     },
     "metadata": {},
     "output_type": "display_data"
    },
    {
     "name": "stdout",
     "output_type": "stream",
     "text": [
      "\n",
      "--------------------------------------------------------------------------------\n",
      "RBF SVC Sub2_Engaging :\n",
      "\n"
     ]
    },
    {
     "data": {
      "text/html": [
       "<style>#sk-9ef4ba66-f8bf-4d65-8b5a-0d351cdde69c {color: black;background-color: white;}#sk-9ef4ba66-f8bf-4d65-8b5a-0d351cdde69c pre{padding: 0;}#sk-9ef4ba66-f8bf-4d65-8b5a-0d351cdde69c div.sk-toggleable {background-color: white;}#sk-9ef4ba66-f8bf-4d65-8b5a-0d351cdde69c label.sk-toggleable__label {cursor: pointer;display: block;width: 100%;margin-bottom: 0;padding: 0.3em;box-sizing: border-box;text-align: center;}#sk-9ef4ba66-f8bf-4d65-8b5a-0d351cdde69c div.sk-toggleable__content {max-height: 0;max-width: 0;overflow: hidden;text-align: left;background-color: #f0f8ff;}#sk-9ef4ba66-f8bf-4d65-8b5a-0d351cdde69c div.sk-toggleable__content pre {margin: 0.2em;color: black;border-radius: 0.25em;background-color: #f0f8ff;}#sk-9ef4ba66-f8bf-4d65-8b5a-0d351cdde69c input.sk-toggleable__control:checked~div.sk-toggleable__content {max-height: 200px;max-width: 100%;overflow: auto;}#sk-9ef4ba66-f8bf-4d65-8b5a-0d351cdde69c div.sk-estimator input.sk-toggleable__control:checked~label.sk-toggleable__label {background-color: #d4ebff;}#sk-9ef4ba66-f8bf-4d65-8b5a-0d351cdde69c div.sk-label input.sk-toggleable__control:checked~label.sk-toggleable__label {background-color: #d4ebff;}#sk-9ef4ba66-f8bf-4d65-8b5a-0d351cdde69c input.sk-hidden--visually {border: 0;clip: rect(1px 1px 1px 1px);clip: rect(1px, 1px, 1px, 1px);height: 1px;margin: -1px;overflow: hidden;padding: 0;position: absolute;width: 1px;}#sk-9ef4ba66-f8bf-4d65-8b5a-0d351cdde69c div.sk-estimator {font-family: monospace;background-color: #f0f8ff;border: 1px dotted black;border-radius: 0.25em;box-sizing: border-box;margin-bottom: 0.5em;}#sk-9ef4ba66-f8bf-4d65-8b5a-0d351cdde69c div.sk-estimator:hover {background-color: #d4ebff;}#sk-9ef4ba66-f8bf-4d65-8b5a-0d351cdde69c div.sk-parallel-item::after {content: \"\";width: 100%;border-bottom: 1px solid gray;flex-grow: 1;}#sk-9ef4ba66-f8bf-4d65-8b5a-0d351cdde69c div.sk-label:hover label.sk-toggleable__label {background-color: #d4ebff;}#sk-9ef4ba66-f8bf-4d65-8b5a-0d351cdde69c div.sk-serial::before {content: \"\";position: absolute;border-left: 1px solid gray;box-sizing: border-box;top: 2em;bottom: 0;left: 50%;}#sk-9ef4ba66-f8bf-4d65-8b5a-0d351cdde69c div.sk-serial {display: flex;flex-direction: column;align-items: center;background-color: white;padding-right: 0.2em;padding-left: 0.2em;}#sk-9ef4ba66-f8bf-4d65-8b5a-0d351cdde69c div.sk-item {z-index: 1;}#sk-9ef4ba66-f8bf-4d65-8b5a-0d351cdde69c div.sk-parallel {display: flex;align-items: stretch;justify-content: center;background-color: white;}#sk-9ef4ba66-f8bf-4d65-8b5a-0d351cdde69c div.sk-parallel::before {content: \"\";position: absolute;border-left: 1px solid gray;box-sizing: border-box;top: 2em;bottom: 0;left: 50%;}#sk-9ef4ba66-f8bf-4d65-8b5a-0d351cdde69c div.sk-parallel-item {display: flex;flex-direction: column;position: relative;background-color: white;}#sk-9ef4ba66-f8bf-4d65-8b5a-0d351cdde69c div.sk-parallel-item:first-child::after {align-self: flex-end;width: 50%;}#sk-9ef4ba66-f8bf-4d65-8b5a-0d351cdde69c div.sk-parallel-item:last-child::after {align-self: flex-start;width: 50%;}#sk-9ef4ba66-f8bf-4d65-8b5a-0d351cdde69c div.sk-parallel-item:only-child::after {width: 0;}#sk-9ef4ba66-f8bf-4d65-8b5a-0d351cdde69c div.sk-dashed-wrapped {border: 1px dashed gray;margin: 0 0.4em 0.5em 0.4em;box-sizing: border-box;padding-bottom: 0.4em;background-color: white;position: relative;}#sk-9ef4ba66-f8bf-4d65-8b5a-0d351cdde69c div.sk-label label {font-family: monospace;font-weight: bold;background-color: white;display: inline-block;line-height: 1.2em;}#sk-9ef4ba66-f8bf-4d65-8b5a-0d351cdde69c div.sk-label-container {position: relative;z-index: 2;text-align: center;}#sk-9ef4ba66-f8bf-4d65-8b5a-0d351cdde69c div.sk-container {display: inline-block;position: relative;}</style><div id=\"sk-9ef4ba66-f8bf-4d65-8b5a-0d351cdde69c\" class\"sk-top-container\"><div class=\"sk-container\"><div class=\"sk-item sk-dashed-wrapped\"><div class=\"sk-label-container\"><div class=\"sk-label sk-toggleable\"><input class=\"sk-toggleable__control sk-hidden--visually\" id=\"5a387320-2a4e-4817-9ae7-14be75d3608e\" type=\"checkbox\" ><label class=\"sk-toggleable__label\" for=\"5a387320-2a4e-4817-9ae7-14be75d3608e\">Pipeline</label><div class=\"sk-toggleable__content\"><pre>Pipeline(steps=[('column_transformer',\n",
       "                 ColumnTransformer(remainder=MinMaxScaler(),\n",
       "                                   transformers=[('countvectorizer',\n",
       "                                                  CountVectorizer(),\n",
       "                                                  'cleaned_comment_text'),\n",
       "                                                 ('tfidfvectorizer-1',\n",
       "                                                  TfidfVectorizer(),\n",
       "                                                  'cleaned_comment_text'),\n",
       "                                                 ('tfidfvectorizer-2',\n",
       "                                                  TfidfVectorizer(use_idf=False),\n",
       "                                                  'cleaned_comment_text')])),\n",
       "                ('dense', DenseTransformer()), ('clf', SVC(C=1, gamma=2))])</pre></div></div></div><div class=\"sk-serial\"><div class=\"sk-item sk-dashed-wrapped\"><div class=\"sk-label-container\"><div class=\"sk-label sk-toggleable\"><input class=\"sk-toggleable__control sk-hidden--visually\" id=\"edf155f2-3fa6-4ff3-9480-0e2977f48e57\" type=\"checkbox\" ><label class=\"sk-toggleable__label\" for=\"edf155f2-3fa6-4ff3-9480-0e2977f48e57\">column_transformer: ColumnTransformer</label><div class=\"sk-toggleable__content\"><pre>ColumnTransformer(remainder=MinMaxScaler(),\n",
       "                  transformers=[('countvectorizer', CountVectorizer(),\n",
       "                                 'cleaned_comment_text'),\n",
       "                                ('tfidfvectorizer-1', TfidfVectorizer(),\n",
       "                                 'cleaned_comment_text'),\n",
       "                                ('tfidfvectorizer-2',\n",
       "                                 TfidfVectorizer(use_idf=False),\n",
       "                                 'cleaned_comment_text')])</pre></div></div></div><div class=\"sk-parallel\"><div class=\"sk-parallel-item\"><div class=\"sk-item\"><div class=\"sk-label-container\"><div class=\"sk-label sk-toggleable\"><input class=\"sk-toggleable__control sk-hidden--visually\" id=\"e1542223-38c4-4373-96b3-50941c2e87db\" type=\"checkbox\" ><label class=\"sk-toggleable__label\" for=\"e1542223-38c4-4373-96b3-50941c2e87db\">countvectorizer</label><div class=\"sk-toggleable__content\"><pre>cleaned_comment_text</pre></div></div></div><div class=\"sk-serial\"><div class=\"sk-item\"><div class=\"sk-estimator sk-toggleable\"><input class=\"sk-toggleable__control sk-hidden--visually\" id=\"02c33cfd-79b8-4186-a694-f7148421de04\" type=\"checkbox\" ><label class=\"sk-toggleable__label\" for=\"02c33cfd-79b8-4186-a694-f7148421de04\">CountVectorizer</label><div class=\"sk-toggleable__content\"><pre>CountVectorizer()</pre></div></div></div></div></div></div><div class=\"sk-parallel-item\"><div class=\"sk-item\"><div class=\"sk-label-container\"><div class=\"sk-label sk-toggleable\"><input class=\"sk-toggleable__control sk-hidden--visually\" id=\"df5741b5-9243-44f6-bf3e-772f896234e3\" type=\"checkbox\" ><label class=\"sk-toggleable__label\" for=\"df5741b5-9243-44f6-bf3e-772f896234e3\">tfidfvectorizer-1</label><div class=\"sk-toggleable__content\"><pre>cleaned_comment_text</pre></div></div></div><div class=\"sk-serial\"><div class=\"sk-item\"><div class=\"sk-estimator sk-toggleable\"><input class=\"sk-toggleable__control sk-hidden--visually\" id=\"f1d105be-f1f8-434d-9dd7-20be71723c88\" type=\"checkbox\" ><label class=\"sk-toggleable__label\" for=\"f1d105be-f1f8-434d-9dd7-20be71723c88\">TfidfVectorizer</label><div class=\"sk-toggleable__content\"><pre>TfidfVectorizer()</pre></div></div></div></div></div></div><div class=\"sk-parallel-item\"><div class=\"sk-item\"><div class=\"sk-label-container\"><div class=\"sk-label sk-toggleable\"><input class=\"sk-toggleable__control sk-hidden--visually\" id=\"e7c92b49-c620-4d12-a69a-71c2eca9ad88\" type=\"checkbox\" ><label class=\"sk-toggleable__label\" for=\"e7c92b49-c620-4d12-a69a-71c2eca9ad88\">tfidfvectorizer-2</label><div class=\"sk-toggleable__content\"><pre>cleaned_comment_text</pre></div></div></div><div class=\"sk-serial\"><div class=\"sk-item\"><div class=\"sk-estimator sk-toggleable\"><input class=\"sk-toggleable__control sk-hidden--visually\" id=\"85c418e1-4dd9-4e38-bd8b-b5fee22f832b\" type=\"checkbox\" ><label class=\"sk-toggleable__label\" for=\"85c418e1-4dd9-4e38-bd8b-b5fee22f832b\">TfidfVectorizer</label><div class=\"sk-toggleable__content\"><pre>TfidfVectorizer(use_idf=False)</pre></div></div></div></div></div></div><div class=\"sk-parallel-item\"><div class=\"sk-item\"><div class=\"sk-label-container\"><div class=\"sk-label sk-toggleable\"><input class=\"sk-toggleable__control sk-hidden--visually\" id=\"0aa0f094-6914-41fa-bd1a-32c15a110c75\" type=\"checkbox\" ><label class=\"sk-toggleable__label\" for=\"0aa0f094-6914-41fa-bd1a-32c15a110c75\">remainder</label><div class=\"sk-toggleable__content\"><pre>['n_all_caps', 'perc_exclamations', 'num_exclamations']</pre></div></div></div><div class=\"sk-serial\"><div class=\"sk-item\"><div class=\"sk-estimator sk-toggleable\"><input class=\"sk-toggleable__control sk-hidden--visually\" id=\"4f301278-f6eb-4cd9-b619-76bb68a22559\" type=\"checkbox\" ><label class=\"sk-toggleable__label\" for=\"4f301278-f6eb-4cd9-b619-76bb68a22559\">MinMaxScaler</label><div class=\"sk-toggleable__content\"><pre>MinMaxScaler()</pre></div></div></div></div></div></div></div></div><div class=\"sk-item\"><div class=\"sk-estimator sk-toggleable\"><input class=\"sk-toggleable__control sk-hidden--visually\" id=\"97810e17-7d22-41f5-be70-7e8f695a3011\" type=\"checkbox\" ><label class=\"sk-toggleable__label\" for=\"97810e17-7d22-41f5-be70-7e8f695a3011\">DenseTransformer</label><div class=\"sk-toggleable__content\"><pre>DenseTransformer()</pre></div></div></div><div class=\"sk-item\"><div class=\"sk-estimator sk-toggleable\"><input class=\"sk-toggleable__control sk-hidden--visually\" id=\"8b58f684-47db-4c48-adac-150be05f1309\" type=\"checkbox\" ><label class=\"sk-toggleable__label\" for=\"8b58f684-47db-4c48-adac-150be05f1309\">SVC</label><div class=\"sk-toggleable__content\"><pre>SVC(C=1, gamma=2)</pre></div></div></div></div></div></div></div>"
      ],
      "text/plain": [
       "Pipeline(steps=[('column_transformer',\n",
       "                 ColumnTransformer(remainder=MinMaxScaler(),\n",
       "                                   transformers=[('countvectorizer',\n",
       "                                                  CountVectorizer(),\n",
       "                                                  'cleaned_comment_text'),\n",
       "                                                 ('tfidfvectorizer-1',\n",
       "                                                  TfidfVectorizer(),\n",
       "                                                  'cleaned_comment_text'),\n",
       "                                                 ('tfidfvectorizer-2',\n",
       "                                                  TfidfVectorizer(use_idf=False),\n",
       "                                                  'cleaned_comment_text')])),\n",
       "                ('dense', DenseTransformer()), ('clf', SVC(C=1, gamma=2))])"
      ]
     },
     "metadata": {},
     "output_type": "display_data"
    },
    {
     "name": "stdout",
     "output_type": "stream",
     "text": [
      "\n",
      "--------------------------------------------------------------------------------\n",
      "RBF SVC Sub3_FactClaiming :\n",
      "\n"
     ]
    },
    {
     "data": {
      "text/html": [
       "<style>#sk-68ebb652-3489-4821-8d50-780bd2a31033 {color: black;background-color: white;}#sk-68ebb652-3489-4821-8d50-780bd2a31033 pre{padding: 0;}#sk-68ebb652-3489-4821-8d50-780bd2a31033 div.sk-toggleable {background-color: white;}#sk-68ebb652-3489-4821-8d50-780bd2a31033 label.sk-toggleable__label {cursor: pointer;display: block;width: 100%;margin-bottom: 0;padding: 0.3em;box-sizing: border-box;text-align: center;}#sk-68ebb652-3489-4821-8d50-780bd2a31033 div.sk-toggleable__content {max-height: 0;max-width: 0;overflow: hidden;text-align: left;background-color: #f0f8ff;}#sk-68ebb652-3489-4821-8d50-780bd2a31033 div.sk-toggleable__content pre {margin: 0.2em;color: black;border-radius: 0.25em;background-color: #f0f8ff;}#sk-68ebb652-3489-4821-8d50-780bd2a31033 input.sk-toggleable__control:checked~div.sk-toggleable__content {max-height: 200px;max-width: 100%;overflow: auto;}#sk-68ebb652-3489-4821-8d50-780bd2a31033 div.sk-estimator input.sk-toggleable__control:checked~label.sk-toggleable__label {background-color: #d4ebff;}#sk-68ebb652-3489-4821-8d50-780bd2a31033 div.sk-label input.sk-toggleable__control:checked~label.sk-toggleable__label {background-color: #d4ebff;}#sk-68ebb652-3489-4821-8d50-780bd2a31033 input.sk-hidden--visually {border: 0;clip: rect(1px 1px 1px 1px);clip: rect(1px, 1px, 1px, 1px);height: 1px;margin: -1px;overflow: hidden;padding: 0;position: absolute;width: 1px;}#sk-68ebb652-3489-4821-8d50-780bd2a31033 div.sk-estimator {font-family: monospace;background-color: #f0f8ff;border: 1px dotted black;border-radius: 0.25em;box-sizing: border-box;margin-bottom: 0.5em;}#sk-68ebb652-3489-4821-8d50-780bd2a31033 div.sk-estimator:hover {background-color: #d4ebff;}#sk-68ebb652-3489-4821-8d50-780bd2a31033 div.sk-parallel-item::after {content: \"\";width: 100%;border-bottom: 1px solid gray;flex-grow: 1;}#sk-68ebb652-3489-4821-8d50-780bd2a31033 div.sk-label:hover label.sk-toggleable__label {background-color: #d4ebff;}#sk-68ebb652-3489-4821-8d50-780bd2a31033 div.sk-serial::before {content: \"\";position: absolute;border-left: 1px solid gray;box-sizing: border-box;top: 2em;bottom: 0;left: 50%;}#sk-68ebb652-3489-4821-8d50-780bd2a31033 div.sk-serial {display: flex;flex-direction: column;align-items: center;background-color: white;padding-right: 0.2em;padding-left: 0.2em;}#sk-68ebb652-3489-4821-8d50-780bd2a31033 div.sk-item {z-index: 1;}#sk-68ebb652-3489-4821-8d50-780bd2a31033 div.sk-parallel {display: flex;align-items: stretch;justify-content: center;background-color: white;}#sk-68ebb652-3489-4821-8d50-780bd2a31033 div.sk-parallel::before {content: \"\";position: absolute;border-left: 1px solid gray;box-sizing: border-box;top: 2em;bottom: 0;left: 50%;}#sk-68ebb652-3489-4821-8d50-780bd2a31033 div.sk-parallel-item {display: flex;flex-direction: column;position: relative;background-color: white;}#sk-68ebb652-3489-4821-8d50-780bd2a31033 div.sk-parallel-item:first-child::after {align-self: flex-end;width: 50%;}#sk-68ebb652-3489-4821-8d50-780bd2a31033 div.sk-parallel-item:last-child::after {align-self: flex-start;width: 50%;}#sk-68ebb652-3489-4821-8d50-780bd2a31033 div.sk-parallel-item:only-child::after {width: 0;}#sk-68ebb652-3489-4821-8d50-780bd2a31033 div.sk-dashed-wrapped {border: 1px dashed gray;margin: 0 0.4em 0.5em 0.4em;box-sizing: border-box;padding-bottom: 0.4em;background-color: white;position: relative;}#sk-68ebb652-3489-4821-8d50-780bd2a31033 div.sk-label label {font-family: monospace;font-weight: bold;background-color: white;display: inline-block;line-height: 1.2em;}#sk-68ebb652-3489-4821-8d50-780bd2a31033 div.sk-label-container {position: relative;z-index: 2;text-align: center;}#sk-68ebb652-3489-4821-8d50-780bd2a31033 div.sk-container {display: inline-block;position: relative;}</style><div id=\"sk-68ebb652-3489-4821-8d50-780bd2a31033\" class\"sk-top-container\"><div class=\"sk-container\"><div class=\"sk-item sk-dashed-wrapped\"><div class=\"sk-label-container\"><div class=\"sk-label sk-toggleable\"><input class=\"sk-toggleable__control sk-hidden--visually\" id=\"1de61963-c38e-40d9-b3f1-288c443c956c\" type=\"checkbox\" ><label class=\"sk-toggleable__label\" for=\"1de61963-c38e-40d9-b3f1-288c443c956c\">Pipeline</label><div class=\"sk-toggleable__content\"><pre>Pipeline(steps=[('column_transformer',\n",
       "                 ColumnTransformer(remainder=MinMaxScaler(),\n",
       "                                   transformers=[('countvectorizer',\n",
       "                                                  CountVectorizer(),\n",
       "                                                  'cleaned_comment_text'),\n",
       "                                                 ('tfidfvectorizer-1',\n",
       "                                                  TfidfVectorizer(),\n",
       "                                                  'cleaned_comment_text'),\n",
       "                                                 ('tfidfvectorizer-2',\n",
       "                                                  TfidfVectorizer(use_idf=False),\n",
       "                                                  'cleaned_comment_text')])),\n",
       "                ('dense', DenseTransformer()), ('clf', SVC(C=1, gamma=2))])</pre></div></div></div><div class=\"sk-serial\"><div class=\"sk-item sk-dashed-wrapped\"><div class=\"sk-label-container\"><div class=\"sk-label sk-toggleable\"><input class=\"sk-toggleable__control sk-hidden--visually\" id=\"a8bc478f-99ad-4aaf-8376-492402de565a\" type=\"checkbox\" ><label class=\"sk-toggleable__label\" for=\"a8bc478f-99ad-4aaf-8376-492402de565a\">column_transformer: ColumnTransformer</label><div class=\"sk-toggleable__content\"><pre>ColumnTransformer(remainder=MinMaxScaler(),\n",
       "                  transformers=[('countvectorizer', CountVectorizer(),\n",
       "                                 'cleaned_comment_text'),\n",
       "                                ('tfidfvectorizer-1', TfidfVectorizer(),\n",
       "                                 'cleaned_comment_text'),\n",
       "                                ('tfidfvectorizer-2',\n",
       "                                 TfidfVectorizer(use_idf=False),\n",
       "                                 'cleaned_comment_text')])</pre></div></div></div><div class=\"sk-parallel\"><div class=\"sk-parallel-item\"><div class=\"sk-item\"><div class=\"sk-label-container\"><div class=\"sk-label sk-toggleable\"><input class=\"sk-toggleable__control sk-hidden--visually\" id=\"737d9089-2fee-47b4-83f2-6929fa383fda\" type=\"checkbox\" ><label class=\"sk-toggleable__label\" for=\"737d9089-2fee-47b4-83f2-6929fa383fda\">countvectorizer</label><div class=\"sk-toggleable__content\"><pre>cleaned_comment_text</pre></div></div></div><div class=\"sk-serial\"><div class=\"sk-item\"><div class=\"sk-estimator sk-toggleable\"><input class=\"sk-toggleable__control sk-hidden--visually\" id=\"1df98777-3c64-4e46-95ba-84a435f65906\" type=\"checkbox\" ><label class=\"sk-toggleable__label\" for=\"1df98777-3c64-4e46-95ba-84a435f65906\">CountVectorizer</label><div class=\"sk-toggleable__content\"><pre>CountVectorizer()</pre></div></div></div></div></div></div><div class=\"sk-parallel-item\"><div class=\"sk-item\"><div class=\"sk-label-container\"><div class=\"sk-label sk-toggleable\"><input class=\"sk-toggleable__control sk-hidden--visually\" id=\"a33d5f10-dde2-4d9b-8450-025c5df5852c\" type=\"checkbox\" ><label class=\"sk-toggleable__label\" for=\"a33d5f10-dde2-4d9b-8450-025c5df5852c\">tfidfvectorizer-1</label><div class=\"sk-toggleable__content\"><pre>cleaned_comment_text</pre></div></div></div><div class=\"sk-serial\"><div class=\"sk-item\"><div class=\"sk-estimator sk-toggleable\"><input class=\"sk-toggleable__control sk-hidden--visually\" id=\"2913fa11-44e7-4e5b-ac80-49a19d17aa3e\" type=\"checkbox\" ><label class=\"sk-toggleable__label\" for=\"2913fa11-44e7-4e5b-ac80-49a19d17aa3e\">TfidfVectorizer</label><div class=\"sk-toggleable__content\"><pre>TfidfVectorizer()</pre></div></div></div></div></div></div><div class=\"sk-parallel-item\"><div class=\"sk-item\"><div class=\"sk-label-container\"><div class=\"sk-label sk-toggleable\"><input class=\"sk-toggleable__control sk-hidden--visually\" id=\"8411dd22-14fa-4ef2-b3c0-165f77fcd859\" type=\"checkbox\" ><label class=\"sk-toggleable__label\" for=\"8411dd22-14fa-4ef2-b3c0-165f77fcd859\">tfidfvectorizer-2</label><div class=\"sk-toggleable__content\"><pre>cleaned_comment_text</pre></div></div></div><div class=\"sk-serial\"><div class=\"sk-item\"><div class=\"sk-estimator sk-toggleable\"><input class=\"sk-toggleable__control sk-hidden--visually\" id=\"f43bd578-725f-48a8-a88e-cafdc805ee61\" type=\"checkbox\" ><label class=\"sk-toggleable__label\" for=\"f43bd578-725f-48a8-a88e-cafdc805ee61\">TfidfVectorizer</label><div class=\"sk-toggleable__content\"><pre>TfidfVectorizer(use_idf=False)</pre></div></div></div></div></div></div><div class=\"sk-parallel-item\"><div class=\"sk-item\"><div class=\"sk-label-container\"><div class=\"sk-label sk-toggleable\"><input class=\"sk-toggleable__control sk-hidden--visually\" id=\"49fe8843-7045-4e6d-8e0b-5ad316a3717d\" type=\"checkbox\" ><label class=\"sk-toggleable__label\" for=\"49fe8843-7045-4e6d-8e0b-5ad316a3717d\">remainder</label><div class=\"sk-toggleable__content\"><pre>['n_all_caps', 'perc_exclamations', 'num_exclamations']</pre></div></div></div><div class=\"sk-serial\"><div class=\"sk-item\"><div class=\"sk-estimator sk-toggleable\"><input class=\"sk-toggleable__control sk-hidden--visually\" id=\"8b5be00a-fb72-4040-937f-7d43c604c294\" type=\"checkbox\" ><label class=\"sk-toggleable__label\" for=\"8b5be00a-fb72-4040-937f-7d43c604c294\">MinMaxScaler</label><div class=\"sk-toggleable__content\"><pre>MinMaxScaler()</pre></div></div></div></div></div></div></div></div><div class=\"sk-item\"><div class=\"sk-estimator sk-toggleable\"><input class=\"sk-toggleable__control sk-hidden--visually\" id=\"8d9eaf4c-8912-4ab8-82cf-3f1f19b5aed1\" type=\"checkbox\" ><label class=\"sk-toggleable__label\" for=\"8d9eaf4c-8912-4ab8-82cf-3f1f19b5aed1\">DenseTransformer</label><div class=\"sk-toggleable__content\"><pre>DenseTransformer()</pre></div></div></div><div class=\"sk-item\"><div class=\"sk-estimator sk-toggleable\"><input class=\"sk-toggleable__control sk-hidden--visually\" id=\"b4d46f67-47f2-4f7b-ba53-f4e0d76b1d92\" type=\"checkbox\" ><label class=\"sk-toggleable__label\" for=\"b4d46f67-47f2-4f7b-ba53-f4e0d76b1d92\">SVC</label><div class=\"sk-toggleable__content\"><pre>SVC(C=1, gamma=2)</pre></div></div></div></div></div></div></div>"
      ],
      "text/plain": [
       "Pipeline(steps=[('column_transformer',\n",
       "                 ColumnTransformer(remainder=MinMaxScaler(),\n",
       "                                   transformers=[('countvectorizer',\n",
       "                                                  CountVectorizer(),\n",
       "                                                  'cleaned_comment_text'),\n",
       "                                                 ('tfidfvectorizer-1',\n",
       "                                                  TfidfVectorizer(),\n",
       "                                                  'cleaned_comment_text'),\n",
       "                                                 ('tfidfvectorizer-2',\n",
       "                                                  TfidfVectorizer(use_idf=False),\n",
       "                                                  'cleaned_comment_text')])),\n",
       "                ('dense', DenseTransformer()), ('clf', SVC(C=1, gamma=2))])"
      ]
     },
     "metadata": {},
     "output_type": "display_data"
    },
    {
     "name": "stdout",
     "output_type": "stream",
     "text": [
      "\n",
      "--------------------------------------------------------------------------------\n",
      "MultinomialNB_nosmote Sub1_Toxic :\n",
      "\n"
     ]
    },
    {
     "data": {
      "text/html": [
       "<style>#sk-a028270b-a727-4d6e-b066-72f71d79ccbb {color: black;background-color: white;}#sk-a028270b-a727-4d6e-b066-72f71d79ccbb pre{padding: 0;}#sk-a028270b-a727-4d6e-b066-72f71d79ccbb div.sk-toggleable {background-color: white;}#sk-a028270b-a727-4d6e-b066-72f71d79ccbb label.sk-toggleable__label {cursor: pointer;display: block;width: 100%;margin-bottom: 0;padding: 0.3em;box-sizing: border-box;text-align: center;}#sk-a028270b-a727-4d6e-b066-72f71d79ccbb div.sk-toggleable__content {max-height: 0;max-width: 0;overflow: hidden;text-align: left;background-color: #f0f8ff;}#sk-a028270b-a727-4d6e-b066-72f71d79ccbb div.sk-toggleable__content pre {margin: 0.2em;color: black;border-radius: 0.25em;background-color: #f0f8ff;}#sk-a028270b-a727-4d6e-b066-72f71d79ccbb input.sk-toggleable__control:checked~div.sk-toggleable__content {max-height: 200px;max-width: 100%;overflow: auto;}#sk-a028270b-a727-4d6e-b066-72f71d79ccbb div.sk-estimator input.sk-toggleable__control:checked~label.sk-toggleable__label {background-color: #d4ebff;}#sk-a028270b-a727-4d6e-b066-72f71d79ccbb div.sk-label input.sk-toggleable__control:checked~label.sk-toggleable__label {background-color: #d4ebff;}#sk-a028270b-a727-4d6e-b066-72f71d79ccbb input.sk-hidden--visually {border: 0;clip: rect(1px 1px 1px 1px);clip: rect(1px, 1px, 1px, 1px);height: 1px;margin: -1px;overflow: hidden;padding: 0;position: absolute;width: 1px;}#sk-a028270b-a727-4d6e-b066-72f71d79ccbb div.sk-estimator {font-family: monospace;background-color: #f0f8ff;border: 1px dotted black;border-radius: 0.25em;box-sizing: border-box;margin-bottom: 0.5em;}#sk-a028270b-a727-4d6e-b066-72f71d79ccbb div.sk-estimator:hover {background-color: #d4ebff;}#sk-a028270b-a727-4d6e-b066-72f71d79ccbb div.sk-parallel-item::after {content: \"\";width: 100%;border-bottom: 1px solid gray;flex-grow: 1;}#sk-a028270b-a727-4d6e-b066-72f71d79ccbb div.sk-label:hover label.sk-toggleable__label {background-color: #d4ebff;}#sk-a028270b-a727-4d6e-b066-72f71d79ccbb div.sk-serial::before {content: \"\";position: absolute;border-left: 1px solid gray;box-sizing: border-box;top: 2em;bottom: 0;left: 50%;}#sk-a028270b-a727-4d6e-b066-72f71d79ccbb div.sk-serial {display: flex;flex-direction: column;align-items: center;background-color: white;padding-right: 0.2em;padding-left: 0.2em;}#sk-a028270b-a727-4d6e-b066-72f71d79ccbb div.sk-item {z-index: 1;}#sk-a028270b-a727-4d6e-b066-72f71d79ccbb div.sk-parallel {display: flex;align-items: stretch;justify-content: center;background-color: white;}#sk-a028270b-a727-4d6e-b066-72f71d79ccbb div.sk-parallel::before {content: \"\";position: absolute;border-left: 1px solid gray;box-sizing: border-box;top: 2em;bottom: 0;left: 50%;}#sk-a028270b-a727-4d6e-b066-72f71d79ccbb div.sk-parallel-item {display: flex;flex-direction: column;position: relative;background-color: white;}#sk-a028270b-a727-4d6e-b066-72f71d79ccbb div.sk-parallel-item:first-child::after {align-self: flex-end;width: 50%;}#sk-a028270b-a727-4d6e-b066-72f71d79ccbb div.sk-parallel-item:last-child::after {align-self: flex-start;width: 50%;}#sk-a028270b-a727-4d6e-b066-72f71d79ccbb div.sk-parallel-item:only-child::after {width: 0;}#sk-a028270b-a727-4d6e-b066-72f71d79ccbb div.sk-dashed-wrapped {border: 1px dashed gray;margin: 0 0.4em 0.5em 0.4em;box-sizing: border-box;padding-bottom: 0.4em;background-color: white;position: relative;}#sk-a028270b-a727-4d6e-b066-72f71d79ccbb div.sk-label label {font-family: monospace;font-weight: bold;background-color: white;display: inline-block;line-height: 1.2em;}#sk-a028270b-a727-4d6e-b066-72f71d79ccbb div.sk-label-container {position: relative;z-index: 2;text-align: center;}#sk-a028270b-a727-4d6e-b066-72f71d79ccbb div.sk-container {display: inline-block;position: relative;}</style><div id=\"sk-a028270b-a727-4d6e-b066-72f71d79ccbb\" class\"sk-top-container\"><div class=\"sk-container\"><div class=\"sk-item sk-dashed-wrapped\"><div class=\"sk-label-container\"><div class=\"sk-label sk-toggleable\"><input class=\"sk-toggleable__control sk-hidden--visually\" id=\"5c7a7a16-bf83-4508-a7ae-4a91cb9019dc\" type=\"checkbox\" ><label class=\"sk-toggleable__label\" for=\"5c7a7a16-bf83-4508-a7ae-4a91cb9019dc\">Pipeline</label><div class=\"sk-toggleable__content\"><pre>Pipeline(steps=[('column_transformer',\n",
       "                 ColumnTransformer(remainder=MinMaxScaler(),\n",
       "                                   transformers=[('countvectorizer',\n",
       "                                                  CountVectorizer(),\n",
       "                                                  'cleaned_comment_text'),\n",
       "                                                 ('tfidfvectorizer-1',\n",
       "                                                  TfidfVectorizer(),\n",
       "                                                  'cleaned_comment_text'),\n",
       "                                                 ('tfidfvectorizer-2',\n",
       "                                                  TfidfVectorizer(use_idf=False),\n",
       "                                                  'cleaned_comment_text')])),\n",
       "                ('dense', DenseTransformer()), ('clf', MultinomialNB())])</pre></div></div></div><div class=\"sk-serial\"><div class=\"sk-item sk-dashed-wrapped\"><div class=\"sk-label-container\"><div class=\"sk-label sk-toggleable\"><input class=\"sk-toggleable__control sk-hidden--visually\" id=\"a768d12e-5727-48ea-85bf-70be4aaa99e0\" type=\"checkbox\" ><label class=\"sk-toggleable__label\" for=\"a768d12e-5727-48ea-85bf-70be4aaa99e0\">column_transformer: ColumnTransformer</label><div class=\"sk-toggleable__content\"><pre>ColumnTransformer(remainder=MinMaxScaler(),\n",
       "                  transformers=[('countvectorizer', CountVectorizer(),\n",
       "                                 'cleaned_comment_text'),\n",
       "                                ('tfidfvectorizer-1', TfidfVectorizer(),\n",
       "                                 'cleaned_comment_text'),\n",
       "                                ('tfidfvectorizer-2',\n",
       "                                 TfidfVectorizer(use_idf=False),\n",
       "                                 'cleaned_comment_text')])</pre></div></div></div><div class=\"sk-parallel\"><div class=\"sk-parallel-item\"><div class=\"sk-item\"><div class=\"sk-label-container\"><div class=\"sk-label sk-toggleable\"><input class=\"sk-toggleable__control sk-hidden--visually\" id=\"4ffe55c6-5625-4f55-9265-b352be12cb9b\" type=\"checkbox\" ><label class=\"sk-toggleable__label\" for=\"4ffe55c6-5625-4f55-9265-b352be12cb9b\">countvectorizer</label><div class=\"sk-toggleable__content\"><pre>cleaned_comment_text</pre></div></div></div><div class=\"sk-serial\"><div class=\"sk-item\"><div class=\"sk-estimator sk-toggleable\"><input class=\"sk-toggleable__control sk-hidden--visually\" id=\"660d9a1d-847e-4969-b205-1b51a6165dbd\" type=\"checkbox\" ><label class=\"sk-toggleable__label\" for=\"660d9a1d-847e-4969-b205-1b51a6165dbd\">CountVectorizer</label><div class=\"sk-toggleable__content\"><pre>CountVectorizer()</pre></div></div></div></div></div></div><div class=\"sk-parallel-item\"><div class=\"sk-item\"><div class=\"sk-label-container\"><div class=\"sk-label sk-toggleable\"><input class=\"sk-toggleable__control sk-hidden--visually\" id=\"5e7154be-c024-4add-9d4e-2b05199a02be\" type=\"checkbox\" ><label class=\"sk-toggleable__label\" for=\"5e7154be-c024-4add-9d4e-2b05199a02be\">tfidfvectorizer-1</label><div class=\"sk-toggleable__content\"><pre>cleaned_comment_text</pre></div></div></div><div class=\"sk-serial\"><div class=\"sk-item\"><div class=\"sk-estimator sk-toggleable\"><input class=\"sk-toggleable__control sk-hidden--visually\" id=\"8e6f17ce-d5e6-4649-8396-40b93a272818\" type=\"checkbox\" ><label class=\"sk-toggleable__label\" for=\"8e6f17ce-d5e6-4649-8396-40b93a272818\">TfidfVectorizer</label><div class=\"sk-toggleable__content\"><pre>TfidfVectorizer()</pre></div></div></div></div></div></div><div class=\"sk-parallel-item\"><div class=\"sk-item\"><div class=\"sk-label-container\"><div class=\"sk-label sk-toggleable\"><input class=\"sk-toggleable__control sk-hidden--visually\" id=\"7844eddd-549f-4424-98c8-2c6911b6bc74\" type=\"checkbox\" ><label class=\"sk-toggleable__label\" for=\"7844eddd-549f-4424-98c8-2c6911b6bc74\">tfidfvectorizer-2</label><div class=\"sk-toggleable__content\"><pre>cleaned_comment_text</pre></div></div></div><div class=\"sk-serial\"><div class=\"sk-item\"><div class=\"sk-estimator sk-toggleable\"><input class=\"sk-toggleable__control sk-hidden--visually\" id=\"0148129a-dab9-44c9-8168-65215daebb57\" type=\"checkbox\" ><label class=\"sk-toggleable__label\" for=\"0148129a-dab9-44c9-8168-65215daebb57\">TfidfVectorizer</label><div class=\"sk-toggleable__content\"><pre>TfidfVectorizer(use_idf=False)</pre></div></div></div></div></div></div><div class=\"sk-parallel-item\"><div class=\"sk-item\"><div class=\"sk-label-container\"><div class=\"sk-label sk-toggleable\"><input class=\"sk-toggleable__control sk-hidden--visually\" id=\"252f5361-cba3-40f3-aef4-e91580eca461\" type=\"checkbox\" ><label class=\"sk-toggleable__label\" for=\"252f5361-cba3-40f3-aef4-e91580eca461\">remainder</label><div class=\"sk-toggleable__content\"><pre>['n_all_caps', 'perc_exclamations', 'num_exclamations']</pre></div></div></div><div class=\"sk-serial\"><div class=\"sk-item\"><div class=\"sk-estimator sk-toggleable\"><input class=\"sk-toggleable__control sk-hidden--visually\" id=\"de0755c2-4baa-40f0-992a-ce77f0ec6228\" type=\"checkbox\" ><label class=\"sk-toggleable__label\" for=\"de0755c2-4baa-40f0-992a-ce77f0ec6228\">MinMaxScaler</label><div class=\"sk-toggleable__content\"><pre>MinMaxScaler()</pre></div></div></div></div></div></div></div></div><div class=\"sk-item\"><div class=\"sk-estimator sk-toggleable\"><input class=\"sk-toggleable__control sk-hidden--visually\" id=\"4f7a286e-8d2c-4715-8f84-04fa5e4d67cd\" type=\"checkbox\" ><label class=\"sk-toggleable__label\" for=\"4f7a286e-8d2c-4715-8f84-04fa5e4d67cd\">DenseTransformer</label><div class=\"sk-toggleable__content\"><pre>DenseTransformer()</pre></div></div></div><div class=\"sk-item\"><div class=\"sk-estimator sk-toggleable\"><input class=\"sk-toggleable__control sk-hidden--visually\" id=\"8f9200b9-9133-4b59-97ef-bffae69b3333\" type=\"checkbox\" ><label class=\"sk-toggleable__label\" for=\"8f9200b9-9133-4b59-97ef-bffae69b3333\">MultinomialNB</label><div class=\"sk-toggleable__content\"><pre>MultinomialNB()</pre></div></div></div></div></div></div></div>"
      ],
      "text/plain": [
       "Pipeline(steps=[('column_transformer',\n",
       "                 ColumnTransformer(remainder=MinMaxScaler(),\n",
       "                                   transformers=[('countvectorizer',\n",
       "                                                  CountVectorizer(),\n",
       "                                                  'cleaned_comment_text'),\n",
       "                                                 ('tfidfvectorizer-1',\n",
       "                                                  TfidfVectorizer(),\n",
       "                                                  'cleaned_comment_text'),\n",
       "                                                 ('tfidfvectorizer-2',\n",
       "                                                  TfidfVectorizer(use_idf=False),\n",
       "                                                  'cleaned_comment_text')])),\n",
       "                ('dense', DenseTransformer()), ('clf', MultinomialNB())])"
      ]
     },
     "metadata": {},
     "output_type": "display_data"
    },
    {
     "name": "stdout",
     "output_type": "stream",
     "text": [
      "\n",
      "--------------------------------------------------------------------------------\n",
      "MultinomialNB_nosmote Sub2_Engaging :\n",
      "\n"
     ]
    },
    {
     "data": {
      "text/html": [
       "<style>#sk-29db3cbe-caeb-4daa-8b07-bcd21dc54030 {color: black;background-color: white;}#sk-29db3cbe-caeb-4daa-8b07-bcd21dc54030 pre{padding: 0;}#sk-29db3cbe-caeb-4daa-8b07-bcd21dc54030 div.sk-toggleable {background-color: white;}#sk-29db3cbe-caeb-4daa-8b07-bcd21dc54030 label.sk-toggleable__label {cursor: pointer;display: block;width: 100%;margin-bottom: 0;padding: 0.3em;box-sizing: border-box;text-align: center;}#sk-29db3cbe-caeb-4daa-8b07-bcd21dc54030 div.sk-toggleable__content {max-height: 0;max-width: 0;overflow: hidden;text-align: left;background-color: #f0f8ff;}#sk-29db3cbe-caeb-4daa-8b07-bcd21dc54030 div.sk-toggleable__content pre {margin: 0.2em;color: black;border-radius: 0.25em;background-color: #f0f8ff;}#sk-29db3cbe-caeb-4daa-8b07-bcd21dc54030 input.sk-toggleable__control:checked~div.sk-toggleable__content {max-height: 200px;max-width: 100%;overflow: auto;}#sk-29db3cbe-caeb-4daa-8b07-bcd21dc54030 div.sk-estimator input.sk-toggleable__control:checked~label.sk-toggleable__label {background-color: #d4ebff;}#sk-29db3cbe-caeb-4daa-8b07-bcd21dc54030 div.sk-label input.sk-toggleable__control:checked~label.sk-toggleable__label {background-color: #d4ebff;}#sk-29db3cbe-caeb-4daa-8b07-bcd21dc54030 input.sk-hidden--visually {border: 0;clip: rect(1px 1px 1px 1px);clip: rect(1px, 1px, 1px, 1px);height: 1px;margin: -1px;overflow: hidden;padding: 0;position: absolute;width: 1px;}#sk-29db3cbe-caeb-4daa-8b07-bcd21dc54030 div.sk-estimator {font-family: monospace;background-color: #f0f8ff;border: 1px dotted black;border-radius: 0.25em;box-sizing: border-box;margin-bottom: 0.5em;}#sk-29db3cbe-caeb-4daa-8b07-bcd21dc54030 div.sk-estimator:hover {background-color: #d4ebff;}#sk-29db3cbe-caeb-4daa-8b07-bcd21dc54030 div.sk-parallel-item::after {content: \"\";width: 100%;border-bottom: 1px solid gray;flex-grow: 1;}#sk-29db3cbe-caeb-4daa-8b07-bcd21dc54030 div.sk-label:hover label.sk-toggleable__label {background-color: #d4ebff;}#sk-29db3cbe-caeb-4daa-8b07-bcd21dc54030 div.sk-serial::before {content: \"\";position: absolute;border-left: 1px solid gray;box-sizing: border-box;top: 2em;bottom: 0;left: 50%;}#sk-29db3cbe-caeb-4daa-8b07-bcd21dc54030 div.sk-serial {display: flex;flex-direction: column;align-items: center;background-color: white;padding-right: 0.2em;padding-left: 0.2em;}#sk-29db3cbe-caeb-4daa-8b07-bcd21dc54030 div.sk-item {z-index: 1;}#sk-29db3cbe-caeb-4daa-8b07-bcd21dc54030 div.sk-parallel {display: flex;align-items: stretch;justify-content: center;background-color: white;}#sk-29db3cbe-caeb-4daa-8b07-bcd21dc54030 div.sk-parallel::before {content: \"\";position: absolute;border-left: 1px solid gray;box-sizing: border-box;top: 2em;bottom: 0;left: 50%;}#sk-29db3cbe-caeb-4daa-8b07-bcd21dc54030 div.sk-parallel-item {display: flex;flex-direction: column;position: relative;background-color: white;}#sk-29db3cbe-caeb-4daa-8b07-bcd21dc54030 div.sk-parallel-item:first-child::after {align-self: flex-end;width: 50%;}#sk-29db3cbe-caeb-4daa-8b07-bcd21dc54030 div.sk-parallel-item:last-child::after {align-self: flex-start;width: 50%;}#sk-29db3cbe-caeb-4daa-8b07-bcd21dc54030 div.sk-parallel-item:only-child::after {width: 0;}#sk-29db3cbe-caeb-4daa-8b07-bcd21dc54030 div.sk-dashed-wrapped {border: 1px dashed gray;margin: 0 0.4em 0.5em 0.4em;box-sizing: border-box;padding-bottom: 0.4em;background-color: white;position: relative;}#sk-29db3cbe-caeb-4daa-8b07-bcd21dc54030 div.sk-label label {font-family: monospace;font-weight: bold;background-color: white;display: inline-block;line-height: 1.2em;}#sk-29db3cbe-caeb-4daa-8b07-bcd21dc54030 div.sk-label-container {position: relative;z-index: 2;text-align: center;}#sk-29db3cbe-caeb-4daa-8b07-bcd21dc54030 div.sk-container {display: inline-block;position: relative;}</style><div id=\"sk-29db3cbe-caeb-4daa-8b07-bcd21dc54030\" class\"sk-top-container\"><div class=\"sk-container\"><div class=\"sk-item sk-dashed-wrapped\"><div class=\"sk-label-container\"><div class=\"sk-label sk-toggleable\"><input class=\"sk-toggleable__control sk-hidden--visually\" id=\"f209d5aa-0da1-4a23-ab03-9e55438b6a0a\" type=\"checkbox\" ><label class=\"sk-toggleable__label\" for=\"f209d5aa-0da1-4a23-ab03-9e55438b6a0a\">Pipeline</label><div class=\"sk-toggleable__content\"><pre>Pipeline(steps=[('column_transformer',\n",
       "                 ColumnTransformer(remainder=MinMaxScaler(),\n",
       "                                   transformers=[('countvectorizer',\n",
       "                                                  CountVectorizer(),\n",
       "                                                  'cleaned_comment_text'),\n",
       "                                                 ('tfidfvectorizer-1',\n",
       "                                                  TfidfVectorizer(),\n",
       "                                                  'cleaned_comment_text'),\n",
       "                                                 ('tfidfvectorizer-2',\n",
       "                                                  TfidfVectorizer(use_idf=False),\n",
       "                                                  'cleaned_comment_text')])),\n",
       "                ('dense', DenseTransformer()), ('clf', MultinomialNB())])</pre></div></div></div><div class=\"sk-serial\"><div class=\"sk-item sk-dashed-wrapped\"><div class=\"sk-label-container\"><div class=\"sk-label sk-toggleable\"><input class=\"sk-toggleable__control sk-hidden--visually\" id=\"fc80660f-bf30-4026-a63c-39af97d41104\" type=\"checkbox\" ><label class=\"sk-toggleable__label\" for=\"fc80660f-bf30-4026-a63c-39af97d41104\">column_transformer: ColumnTransformer</label><div class=\"sk-toggleable__content\"><pre>ColumnTransformer(remainder=MinMaxScaler(),\n",
       "                  transformers=[('countvectorizer', CountVectorizer(),\n",
       "                                 'cleaned_comment_text'),\n",
       "                                ('tfidfvectorizer-1', TfidfVectorizer(),\n",
       "                                 'cleaned_comment_text'),\n",
       "                                ('tfidfvectorizer-2',\n",
       "                                 TfidfVectorizer(use_idf=False),\n",
       "                                 'cleaned_comment_text')])</pre></div></div></div><div class=\"sk-parallel\"><div class=\"sk-parallel-item\"><div class=\"sk-item\"><div class=\"sk-label-container\"><div class=\"sk-label sk-toggleable\"><input class=\"sk-toggleable__control sk-hidden--visually\" id=\"ea2d0934-ce5e-41da-aac5-57ecbd05ba23\" type=\"checkbox\" ><label class=\"sk-toggleable__label\" for=\"ea2d0934-ce5e-41da-aac5-57ecbd05ba23\">countvectorizer</label><div class=\"sk-toggleable__content\"><pre>cleaned_comment_text</pre></div></div></div><div class=\"sk-serial\"><div class=\"sk-item\"><div class=\"sk-estimator sk-toggleable\"><input class=\"sk-toggleable__control sk-hidden--visually\" id=\"3ff9e558-082e-4850-80d1-7591cb02e044\" type=\"checkbox\" ><label class=\"sk-toggleable__label\" for=\"3ff9e558-082e-4850-80d1-7591cb02e044\">CountVectorizer</label><div class=\"sk-toggleable__content\"><pre>CountVectorizer()</pre></div></div></div></div></div></div><div class=\"sk-parallel-item\"><div class=\"sk-item\"><div class=\"sk-label-container\"><div class=\"sk-label sk-toggleable\"><input class=\"sk-toggleable__control sk-hidden--visually\" id=\"47524967-5e89-492c-bd03-d354e7e0c04b\" type=\"checkbox\" ><label class=\"sk-toggleable__label\" for=\"47524967-5e89-492c-bd03-d354e7e0c04b\">tfidfvectorizer-1</label><div class=\"sk-toggleable__content\"><pre>cleaned_comment_text</pre></div></div></div><div class=\"sk-serial\"><div class=\"sk-item\"><div class=\"sk-estimator sk-toggleable\"><input class=\"sk-toggleable__control sk-hidden--visually\" id=\"642b8389-984b-42fe-8ac3-13f56bbe57b7\" type=\"checkbox\" ><label class=\"sk-toggleable__label\" for=\"642b8389-984b-42fe-8ac3-13f56bbe57b7\">TfidfVectorizer</label><div class=\"sk-toggleable__content\"><pre>TfidfVectorizer()</pre></div></div></div></div></div></div><div class=\"sk-parallel-item\"><div class=\"sk-item\"><div class=\"sk-label-container\"><div class=\"sk-label sk-toggleable\"><input class=\"sk-toggleable__control sk-hidden--visually\" id=\"78252118-c84c-4adf-8dee-f496dbcbce57\" type=\"checkbox\" ><label class=\"sk-toggleable__label\" for=\"78252118-c84c-4adf-8dee-f496dbcbce57\">tfidfvectorizer-2</label><div class=\"sk-toggleable__content\"><pre>cleaned_comment_text</pre></div></div></div><div class=\"sk-serial\"><div class=\"sk-item\"><div class=\"sk-estimator sk-toggleable\"><input class=\"sk-toggleable__control sk-hidden--visually\" id=\"3d90866a-bf17-4f01-af9b-2f839a06258d\" type=\"checkbox\" ><label class=\"sk-toggleable__label\" for=\"3d90866a-bf17-4f01-af9b-2f839a06258d\">TfidfVectorizer</label><div class=\"sk-toggleable__content\"><pre>TfidfVectorizer(use_idf=False)</pre></div></div></div></div></div></div><div class=\"sk-parallel-item\"><div class=\"sk-item\"><div class=\"sk-label-container\"><div class=\"sk-label sk-toggleable\"><input class=\"sk-toggleable__control sk-hidden--visually\" id=\"c385f957-57c1-41f7-8edd-3645aba30846\" type=\"checkbox\" ><label class=\"sk-toggleable__label\" for=\"c385f957-57c1-41f7-8edd-3645aba30846\">remainder</label><div class=\"sk-toggleable__content\"><pre>['n_all_caps', 'perc_exclamations', 'num_exclamations']</pre></div></div></div><div class=\"sk-serial\"><div class=\"sk-item\"><div class=\"sk-estimator sk-toggleable\"><input class=\"sk-toggleable__control sk-hidden--visually\" id=\"45bf0d69-b3e6-4ebf-a982-289411038993\" type=\"checkbox\" ><label class=\"sk-toggleable__label\" for=\"45bf0d69-b3e6-4ebf-a982-289411038993\">MinMaxScaler</label><div class=\"sk-toggleable__content\"><pre>MinMaxScaler()</pre></div></div></div></div></div></div></div></div><div class=\"sk-item\"><div class=\"sk-estimator sk-toggleable\"><input class=\"sk-toggleable__control sk-hidden--visually\" id=\"fd5cd573-4b96-42d6-b02b-46c6e82283f4\" type=\"checkbox\" ><label class=\"sk-toggleable__label\" for=\"fd5cd573-4b96-42d6-b02b-46c6e82283f4\">DenseTransformer</label><div class=\"sk-toggleable__content\"><pre>DenseTransformer()</pre></div></div></div><div class=\"sk-item\"><div class=\"sk-estimator sk-toggleable\"><input class=\"sk-toggleable__control sk-hidden--visually\" id=\"850b1dcf-4852-4584-849d-2f4b4a09246e\" type=\"checkbox\" ><label class=\"sk-toggleable__label\" for=\"850b1dcf-4852-4584-849d-2f4b4a09246e\">MultinomialNB</label><div class=\"sk-toggleable__content\"><pre>MultinomialNB()</pre></div></div></div></div></div></div></div>"
      ],
      "text/plain": [
       "Pipeline(steps=[('column_transformer',\n",
       "                 ColumnTransformer(remainder=MinMaxScaler(),\n",
       "                                   transformers=[('countvectorizer',\n",
       "                                                  CountVectorizer(),\n",
       "                                                  'cleaned_comment_text'),\n",
       "                                                 ('tfidfvectorizer-1',\n",
       "                                                  TfidfVectorizer(),\n",
       "                                                  'cleaned_comment_text'),\n",
       "                                                 ('tfidfvectorizer-2',\n",
       "                                                  TfidfVectorizer(use_idf=False),\n",
       "                                                  'cleaned_comment_text')])),\n",
       "                ('dense', DenseTransformer()), ('clf', MultinomialNB())])"
      ]
     },
     "metadata": {},
     "output_type": "display_data"
    },
    {
     "name": "stdout",
     "output_type": "stream",
     "text": [
      "\n",
      "--------------------------------------------------------------------------------\n",
      "MultinomialNB_nosmote Sub3_FactClaiming :\n",
      "\n"
     ]
    },
    {
     "data": {
      "text/html": [
       "<style>#sk-d0cadef2-5e85-430e-9e33-61918f4ef157 {color: black;background-color: white;}#sk-d0cadef2-5e85-430e-9e33-61918f4ef157 pre{padding: 0;}#sk-d0cadef2-5e85-430e-9e33-61918f4ef157 div.sk-toggleable {background-color: white;}#sk-d0cadef2-5e85-430e-9e33-61918f4ef157 label.sk-toggleable__label {cursor: pointer;display: block;width: 100%;margin-bottom: 0;padding: 0.3em;box-sizing: border-box;text-align: center;}#sk-d0cadef2-5e85-430e-9e33-61918f4ef157 div.sk-toggleable__content {max-height: 0;max-width: 0;overflow: hidden;text-align: left;background-color: #f0f8ff;}#sk-d0cadef2-5e85-430e-9e33-61918f4ef157 div.sk-toggleable__content pre {margin: 0.2em;color: black;border-radius: 0.25em;background-color: #f0f8ff;}#sk-d0cadef2-5e85-430e-9e33-61918f4ef157 input.sk-toggleable__control:checked~div.sk-toggleable__content {max-height: 200px;max-width: 100%;overflow: auto;}#sk-d0cadef2-5e85-430e-9e33-61918f4ef157 div.sk-estimator input.sk-toggleable__control:checked~label.sk-toggleable__label {background-color: #d4ebff;}#sk-d0cadef2-5e85-430e-9e33-61918f4ef157 div.sk-label input.sk-toggleable__control:checked~label.sk-toggleable__label {background-color: #d4ebff;}#sk-d0cadef2-5e85-430e-9e33-61918f4ef157 input.sk-hidden--visually {border: 0;clip: rect(1px 1px 1px 1px);clip: rect(1px, 1px, 1px, 1px);height: 1px;margin: -1px;overflow: hidden;padding: 0;position: absolute;width: 1px;}#sk-d0cadef2-5e85-430e-9e33-61918f4ef157 div.sk-estimator {font-family: monospace;background-color: #f0f8ff;border: 1px dotted black;border-radius: 0.25em;box-sizing: border-box;margin-bottom: 0.5em;}#sk-d0cadef2-5e85-430e-9e33-61918f4ef157 div.sk-estimator:hover {background-color: #d4ebff;}#sk-d0cadef2-5e85-430e-9e33-61918f4ef157 div.sk-parallel-item::after {content: \"\";width: 100%;border-bottom: 1px solid gray;flex-grow: 1;}#sk-d0cadef2-5e85-430e-9e33-61918f4ef157 div.sk-label:hover label.sk-toggleable__label {background-color: #d4ebff;}#sk-d0cadef2-5e85-430e-9e33-61918f4ef157 div.sk-serial::before {content: \"\";position: absolute;border-left: 1px solid gray;box-sizing: border-box;top: 2em;bottom: 0;left: 50%;}#sk-d0cadef2-5e85-430e-9e33-61918f4ef157 div.sk-serial {display: flex;flex-direction: column;align-items: center;background-color: white;padding-right: 0.2em;padding-left: 0.2em;}#sk-d0cadef2-5e85-430e-9e33-61918f4ef157 div.sk-item {z-index: 1;}#sk-d0cadef2-5e85-430e-9e33-61918f4ef157 div.sk-parallel {display: flex;align-items: stretch;justify-content: center;background-color: white;}#sk-d0cadef2-5e85-430e-9e33-61918f4ef157 div.sk-parallel::before {content: \"\";position: absolute;border-left: 1px solid gray;box-sizing: border-box;top: 2em;bottom: 0;left: 50%;}#sk-d0cadef2-5e85-430e-9e33-61918f4ef157 div.sk-parallel-item {display: flex;flex-direction: column;position: relative;background-color: white;}#sk-d0cadef2-5e85-430e-9e33-61918f4ef157 div.sk-parallel-item:first-child::after {align-self: flex-end;width: 50%;}#sk-d0cadef2-5e85-430e-9e33-61918f4ef157 div.sk-parallel-item:last-child::after {align-self: flex-start;width: 50%;}#sk-d0cadef2-5e85-430e-9e33-61918f4ef157 div.sk-parallel-item:only-child::after {width: 0;}#sk-d0cadef2-5e85-430e-9e33-61918f4ef157 div.sk-dashed-wrapped {border: 1px dashed gray;margin: 0 0.4em 0.5em 0.4em;box-sizing: border-box;padding-bottom: 0.4em;background-color: white;position: relative;}#sk-d0cadef2-5e85-430e-9e33-61918f4ef157 div.sk-label label {font-family: monospace;font-weight: bold;background-color: white;display: inline-block;line-height: 1.2em;}#sk-d0cadef2-5e85-430e-9e33-61918f4ef157 div.sk-label-container {position: relative;z-index: 2;text-align: center;}#sk-d0cadef2-5e85-430e-9e33-61918f4ef157 div.sk-container {display: inline-block;position: relative;}</style><div id=\"sk-d0cadef2-5e85-430e-9e33-61918f4ef157\" class\"sk-top-container\"><div class=\"sk-container\"><div class=\"sk-item sk-dashed-wrapped\"><div class=\"sk-label-container\"><div class=\"sk-label sk-toggleable\"><input class=\"sk-toggleable__control sk-hidden--visually\" id=\"13b8caba-ad22-4861-bb3e-eb3dc1768431\" type=\"checkbox\" ><label class=\"sk-toggleable__label\" for=\"13b8caba-ad22-4861-bb3e-eb3dc1768431\">Pipeline</label><div class=\"sk-toggleable__content\"><pre>Pipeline(steps=[('column_transformer',\n",
       "                 ColumnTransformer(remainder=MinMaxScaler(),\n",
       "                                   transformers=[('countvectorizer',\n",
       "                                                  CountVectorizer(),\n",
       "                                                  'cleaned_comment_text'),\n",
       "                                                 ('tfidfvectorizer-1',\n",
       "                                                  TfidfVectorizer(),\n",
       "                                                  'cleaned_comment_text'),\n",
       "                                                 ('tfidfvectorizer-2',\n",
       "                                                  TfidfVectorizer(use_idf=False),\n",
       "                                                  'cleaned_comment_text')])),\n",
       "                ('dense', DenseTransformer()), ('clf', MultinomialNB())])</pre></div></div></div><div class=\"sk-serial\"><div class=\"sk-item sk-dashed-wrapped\"><div class=\"sk-label-container\"><div class=\"sk-label sk-toggleable\"><input class=\"sk-toggleable__control sk-hidden--visually\" id=\"37c15cfe-33c0-45dc-b1e3-a4dd849aa8ae\" type=\"checkbox\" ><label class=\"sk-toggleable__label\" for=\"37c15cfe-33c0-45dc-b1e3-a4dd849aa8ae\">column_transformer: ColumnTransformer</label><div class=\"sk-toggleable__content\"><pre>ColumnTransformer(remainder=MinMaxScaler(),\n",
       "                  transformers=[('countvectorizer', CountVectorizer(),\n",
       "                                 'cleaned_comment_text'),\n",
       "                                ('tfidfvectorizer-1', TfidfVectorizer(),\n",
       "                                 'cleaned_comment_text'),\n",
       "                                ('tfidfvectorizer-2',\n",
       "                                 TfidfVectorizer(use_idf=False),\n",
       "                                 'cleaned_comment_text')])</pre></div></div></div><div class=\"sk-parallel\"><div class=\"sk-parallel-item\"><div class=\"sk-item\"><div class=\"sk-label-container\"><div class=\"sk-label sk-toggleable\"><input class=\"sk-toggleable__control sk-hidden--visually\" id=\"33e987a5-4b90-4ce1-9c47-afa90916c59a\" type=\"checkbox\" ><label class=\"sk-toggleable__label\" for=\"33e987a5-4b90-4ce1-9c47-afa90916c59a\">countvectorizer</label><div class=\"sk-toggleable__content\"><pre>cleaned_comment_text</pre></div></div></div><div class=\"sk-serial\"><div class=\"sk-item\"><div class=\"sk-estimator sk-toggleable\"><input class=\"sk-toggleable__control sk-hidden--visually\" id=\"1f69906c-e503-4de5-b3f2-67a2c3e43f97\" type=\"checkbox\" ><label class=\"sk-toggleable__label\" for=\"1f69906c-e503-4de5-b3f2-67a2c3e43f97\">CountVectorizer</label><div class=\"sk-toggleable__content\"><pre>CountVectorizer()</pre></div></div></div></div></div></div><div class=\"sk-parallel-item\"><div class=\"sk-item\"><div class=\"sk-label-container\"><div class=\"sk-label sk-toggleable\"><input class=\"sk-toggleable__control sk-hidden--visually\" id=\"7d3c566b-84ef-4035-9962-2cf5a952aeca\" type=\"checkbox\" ><label class=\"sk-toggleable__label\" for=\"7d3c566b-84ef-4035-9962-2cf5a952aeca\">tfidfvectorizer-1</label><div class=\"sk-toggleable__content\"><pre>cleaned_comment_text</pre></div></div></div><div class=\"sk-serial\"><div class=\"sk-item\"><div class=\"sk-estimator sk-toggleable\"><input class=\"sk-toggleable__control sk-hidden--visually\" id=\"dd43e5f3-0701-4f63-a450-d54b7165d0aa\" type=\"checkbox\" ><label class=\"sk-toggleable__label\" for=\"dd43e5f3-0701-4f63-a450-d54b7165d0aa\">TfidfVectorizer</label><div class=\"sk-toggleable__content\"><pre>TfidfVectorizer()</pre></div></div></div></div></div></div><div class=\"sk-parallel-item\"><div class=\"sk-item\"><div class=\"sk-label-container\"><div class=\"sk-label sk-toggleable\"><input class=\"sk-toggleable__control sk-hidden--visually\" id=\"9c0342e5-8586-4c9f-96f8-a162727bcbba\" type=\"checkbox\" ><label class=\"sk-toggleable__label\" for=\"9c0342e5-8586-4c9f-96f8-a162727bcbba\">tfidfvectorizer-2</label><div class=\"sk-toggleable__content\"><pre>cleaned_comment_text</pre></div></div></div><div class=\"sk-serial\"><div class=\"sk-item\"><div class=\"sk-estimator sk-toggleable\"><input class=\"sk-toggleable__control sk-hidden--visually\" id=\"f09b7c7f-aaa3-4e78-870c-67673bc4c51b\" type=\"checkbox\" ><label class=\"sk-toggleable__label\" for=\"f09b7c7f-aaa3-4e78-870c-67673bc4c51b\">TfidfVectorizer</label><div class=\"sk-toggleable__content\"><pre>TfidfVectorizer(use_idf=False)</pre></div></div></div></div></div></div><div class=\"sk-parallel-item\"><div class=\"sk-item\"><div class=\"sk-label-container\"><div class=\"sk-label sk-toggleable\"><input class=\"sk-toggleable__control sk-hidden--visually\" id=\"bca61049-d361-4620-98dd-592a9e879517\" type=\"checkbox\" ><label class=\"sk-toggleable__label\" for=\"bca61049-d361-4620-98dd-592a9e879517\">remainder</label><div class=\"sk-toggleable__content\"><pre>['n_all_caps', 'perc_exclamations', 'num_exclamations']</pre></div></div></div><div class=\"sk-serial\"><div class=\"sk-item\"><div class=\"sk-estimator sk-toggleable\"><input class=\"sk-toggleable__control sk-hidden--visually\" id=\"3b876f74-b1fc-495e-acf5-f486cc21d42e\" type=\"checkbox\" ><label class=\"sk-toggleable__label\" for=\"3b876f74-b1fc-495e-acf5-f486cc21d42e\">MinMaxScaler</label><div class=\"sk-toggleable__content\"><pre>MinMaxScaler()</pre></div></div></div></div></div></div></div></div><div class=\"sk-item\"><div class=\"sk-estimator sk-toggleable\"><input class=\"sk-toggleable__control sk-hidden--visually\" id=\"a16f35f8-279e-4d51-be1b-6f22f9e71b3e\" type=\"checkbox\" ><label class=\"sk-toggleable__label\" for=\"a16f35f8-279e-4d51-be1b-6f22f9e71b3e\">DenseTransformer</label><div class=\"sk-toggleable__content\"><pre>DenseTransformer()</pre></div></div></div><div class=\"sk-item\"><div class=\"sk-estimator sk-toggleable\"><input class=\"sk-toggleable__control sk-hidden--visually\" id=\"0a29cf9e-681f-4ca6-83b8-62ca9ff250eb\" type=\"checkbox\" ><label class=\"sk-toggleable__label\" for=\"0a29cf9e-681f-4ca6-83b8-62ca9ff250eb\">MultinomialNB</label><div class=\"sk-toggleable__content\"><pre>MultinomialNB()</pre></div></div></div></div></div></div></div>"
      ],
      "text/plain": [
       "Pipeline(steps=[('column_transformer',\n",
       "                 ColumnTransformer(remainder=MinMaxScaler(),\n",
       "                                   transformers=[('countvectorizer',\n",
       "                                                  CountVectorizer(),\n",
       "                                                  'cleaned_comment_text'),\n",
       "                                                 ('tfidfvectorizer-1',\n",
       "                                                  TfidfVectorizer(),\n",
       "                                                  'cleaned_comment_text'),\n",
       "                                                 ('tfidfvectorizer-2',\n",
       "                                                  TfidfVectorizer(use_idf=False),\n",
       "                                                  'cleaned_comment_text')])),\n",
       "                ('dense', DenseTransformer()), ('clf', MultinomialNB())])"
      ]
     },
     "metadata": {},
     "output_type": "display_data"
    },
    {
     "name": "stdout",
     "output_type": "stream",
     "text": [
      "\n",
      "--------------------------------------------------------------------------------\n",
      "RandomForestClassifier Sub1_Toxic :\n",
      "\n"
     ]
    },
    {
     "data": {
      "text/html": [
       "<style>#sk-8511065d-b8a2-49bc-a03f-1a48e1be21fd {color: black;background-color: white;}#sk-8511065d-b8a2-49bc-a03f-1a48e1be21fd pre{padding: 0;}#sk-8511065d-b8a2-49bc-a03f-1a48e1be21fd div.sk-toggleable {background-color: white;}#sk-8511065d-b8a2-49bc-a03f-1a48e1be21fd label.sk-toggleable__label {cursor: pointer;display: block;width: 100%;margin-bottom: 0;padding: 0.3em;box-sizing: border-box;text-align: center;}#sk-8511065d-b8a2-49bc-a03f-1a48e1be21fd div.sk-toggleable__content {max-height: 0;max-width: 0;overflow: hidden;text-align: left;background-color: #f0f8ff;}#sk-8511065d-b8a2-49bc-a03f-1a48e1be21fd div.sk-toggleable__content pre {margin: 0.2em;color: black;border-radius: 0.25em;background-color: #f0f8ff;}#sk-8511065d-b8a2-49bc-a03f-1a48e1be21fd input.sk-toggleable__control:checked~div.sk-toggleable__content {max-height: 200px;max-width: 100%;overflow: auto;}#sk-8511065d-b8a2-49bc-a03f-1a48e1be21fd div.sk-estimator input.sk-toggleable__control:checked~label.sk-toggleable__label {background-color: #d4ebff;}#sk-8511065d-b8a2-49bc-a03f-1a48e1be21fd div.sk-label input.sk-toggleable__control:checked~label.sk-toggleable__label {background-color: #d4ebff;}#sk-8511065d-b8a2-49bc-a03f-1a48e1be21fd input.sk-hidden--visually {border: 0;clip: rect(1px 1px 1px 1px);clip: rect(1px, 1px, 1px, 1px);height: 1px;margin: -1px;overflow: hidden;padding: 0;position: absolute;width: 1px;}#sk-8511065d-b8a2-49bc-a03f-1a48e1be21fd div.sk-estimator {font-family: monospace;background-color: #f0f8ff;border: 1px dotted black;border-radius: 0.25em;box-sizing: border-box;margin-bottom: 0.5em;}#sk-8511065d-b8a2-49bc-a03f-1a48e1be21fd div.sk-estimator:hover {background-color: #d4ebff;}#sk-8511065d-b8a2-49bc-a03f-1a48e1be21fd div.sk-parallel-item::after {content: \"\";width: 100%;border-bottom: 1px solid gray;flex-grow: 1;}#sk-8511065d-b8a2-49bc-a03f-1a48e1be21fd div.sk-label:hover label.sk-toggleable__label {background-color: #d4ebff;}#sk-8511065d-b8a2-49bc-a03f-1a48e1be21fd div.sk-serial::before {content: \"\";position: absolute;border-left: 1px solid gray;box-sizing: border-box;top: 2em;bottom: 0;left: 50%;}#sk-8511065d-b8a2-49bc-a03f-1a48e1be21fd div.sk-serial {display: flex;flex-direction: column;align-items: center;background-color: white;padding-right: 0.2em;padding-left: 0.2em;}#sk-8511065d-b8a2-49bc-a03f-1a48e1be21fd div.sk-item {z-index: 1;}#sk-8511065d-b8a2-49bc-a03f-1a48e1be21fd div.sk-parallel {display: flex;align-items: stretch;justify-content: center;background-color: white;}#sk-8511065d-b8a2-49bc-a03f-1a48e1be21fd div.sk-parallel::before {content: \"\";position: absolute;border-left: 1px solid gray;box-sizing: border-box;top: 2em;bottom: 0;left: 50%;}#sk-8511065d-b8a2-49bc-a03f-1a48e1be21fd div.sk-parallel-item {display: flex;flex-direction: column;position: relative;background-color: white;}#sk-8511065d-b8a2-49bc-a03f-1a48e1be21fd div.sk-parallel-item:first-child::after {align-self: flex-end;width: 50%;}#sk-8511065d-b8a2-49bc-a03f-1a48e1be21fd div.sk-parallel-item:last-child::after {align-self: flex-start;width: 50%;}#sk-8511065d-b8a2-49bc-a03f-1a48e1be21fd div.sk-parallel-item:only-child::after {width: 0;}#sk-8511065d-b8a2-49bc-a03f-1a48e1be21fd div.sk-dashed-wrapped {border: 1px dashed gray;margin: 0 0.4em 0.5em 0.4em;box-sizing: border-box;padding-bottom: 0.4em;background-color: white;position: relative;}#sk-8511065d-b8a2-49bc-a03f-1a48e1be21fd div.sk-label label {font-family: monospace;font-weight: bold;background-color: white;display: inline-block;line-height: 1.2em;}#sk-8511065d-b8a2-49bc-a03f-1a48e1be21fd div.sk-label-container {position: relative;z-index: 2;text-align: center;}#sk-8511065d-b8a2-49bc-a03f-1a48e1be21fd div.sk-container {display: inline-block;position: relative;}</style><div id=\"sk-8511065d-b8a2-49bc-a03f-1a48e1be21fd\" class\"sk-top-container\"><div class=\"sk-container\"><div class=\"sk-item sk-dashed-wrapped\"><div class=\"sk-label-container\"><div class=\"sk-label sk-toggleable\"><input class=\"sk-toggleable__control sk-hidden--visually\" id=\"266cf600-373a-4e63-bf28-e79dd64f034d\" type=\"checkbox\" ><label class=\"sk-toggleable__label\" for=\"266cf600-373a-4e63-bf28-e79dd64f034d\">Pipeline</label><div class=\"sk-toggleable__content\"><pre>Pipeline(steps=[('column_transformer',\n",
       "                 ColumnTransformer(remainder=MinMaxScaler(),\n",
       "                                   transformers=[('countvectorizer',\n",
       "                                                  CountVectorizer(),\n",
       "                                                  'cleaned_comment_text'),\n",
       "                                                 ('tfidfvectorizer-1',\n",
       "                                                  TfidfVectorizer(),\n",
       "                                                  'cleaned_comment_text'),\n",
       "                                                 ('tfidfvectorizer-2',\n",
       "                                                  TfidfVectorizer(use_idf=False),\n",
       "                                                  'cleaned_comment_text')])),\n",
       "                ('dense', DenseTransformer()), ('smote', SMOTE(n_jobs=-1)),\n",
       "                ('clf', RandomForestClassifier(n_jobs=-1))])</pre></div></div></div><div class=\"sk-serial\"><div class=\"sk-item sk-dashed-wrapped\"><div class=\"sk-label-container\"><div class=\"sk-label sk-toggleable\"><input class=\"sk-toggleable__control sk-hidden--visually\" id=\"36e88d16-b267-483e-b4ee-ee6e28650f43\" type=\"checkbox\" ><label class=\"sk-toggleable__label\" for=\"36e88d16-b267-483e-b4ee-ee6e28650f43\">column_transformer: ColumnTransformer</label><div class=\"sk-toggleable__content\"><pre>ColumnTransformer(remainder=MinMaxScaler(),\n",
       "                  transformers=[('countvectorizer', CountVectorizer(),\n",
       "                                 'cleaned_comment_text'),\n",
       "                                ('tfidfvectorizer-1', TfidfVectorizer(),\n",
       "                                 'cleaned_comment_text'),\n",
       "                                ('tfidfvectorizer-2',\n",
       "                                 TfidfVectorizer(use_idf=False),\n",
       "                                 'cleaned_comment_text')])</pre></div></div></div><div class=\"sk-parallel\"><div class=\"sk-parallel-item\"><div class=\"sk-item\"><div class=\"sk-label-container\"><div class=\"sk-label sk-toggleable\"><input class=\"sk-toggleable__control sk-hidden--visually\" id=\"8449f0d9-9326-47a9-80bb-28f66d8459c9\" type=\"checkbox\" ><label class=\"sk-toggleable__label\" for=\"8449f0d9-9326-47a9-80bb-28f66d8459c9\">countvectorizer</label><div class=\"sk-toggleable__content\"><pre>cleaned_comment_text</pre></div></div></div><div class=\"sk-serial\"><div class=\"sk-item\"><div class=\"sk-estimator sk-toggleable\"><input class=\"sk-toggleable__control sk-hidden--visually\" id=\"0d555d21-c558-49a0-a046-e4987d42db76\" type=\"checkbox\" ><label class=\"sk-toggleable__label\" for=\"0d555d21-c558-49a0-a046-e4987d42db76\">CountVectorizer</label><div class=\"sk-toggleable__content\"><pre>CountVectorizer()</pre></div></div></div></div></div></div><div class=\"sk-parallel-item\"><div class=\"sk-item\"><div class=\"sk-label-container\"><div class=\"sk-label sk-toggleable\"><input class=\"sk-toggleable__control sk-hidden--visually\" id=\"f9073591-2567-40ff-8f26-9bb1d8b5308b\" type=\"checkbox\" ><label class=\"sk-toggleable__label\" for=\"f9073591-2567-40ff-8f26-9bb1d8b5308b\">tfidfvectorizer-1</label><div class=\"sk-toggleable__content\"><pre>cleaned_comment_text</pre></div></div></div><div class=\"sk-serial\"><div class=\"sk-item\"><div class=\"sk-estimator sk-toggleable\"><input class=\"sk-toggleable__control sk-hidden--visually\" id=\"2b73d774-3fc7-4bd3-8548-e40f34437424\" type=\"checkbox\" ><label class=\"sk-toggleable__label\" for=\"2b73d774-3fc7-4bd3-8548-e40f34437424\">TfidfVectorizer</label><div class=\"sk-toggleable__content\"><pre>TfidfVectorizer()</pre></div></div></div></div></div></div><div class=\"sk-parallel-item\"><div class=\"sk-item\"><div class=\"sk-label-container\"><div class=\"sk-label sk-toggleable\"><input class=\"sk-toggleable__control sk-hidden--visually\" id=\"5257449b-afe7-4cb3-b553-868b53e58632\" type=\"checkbox\" ><label class=\"sk-toggleable__label\" for=\"5257449b-afe7-4cb3-b553-868b53e58632\">tfidfvectorizer-2</label><div class=\"sk-toggleable__content\"><pre>cleaned_comment_text</pre></div></div></div><div class=\"sk-serial\"><div class=\"sk-item\"><div class=\"sk-estimator sk-toggleable\"><input class=\"sk-toggleable__control sk-hidden--visually\" id=\"e7b0b6cd-acf6-4e4f-be5d-465a9155f0fa\" type=\"checkbox\" ><label class=\"sk-toggleable__label\" for=\"e7b0b6cd-acf6-4e4f-be5d-465a9155f0fa\">TfidfVectorizer</label><div class=\"sk-toggleable__content\"><pre>TfidfVectorizer(use_idf=False)</pre></div></div></div></div></div></div><div class=\"sk-parallel-item\"><div class=\"sk-item\"><div class=\"sk-label-container\"><div class=\"sk-label sk-toggleable\"><input class=\"sk-toggleable__control sk-hidden--visually\" id=\"19bd8945-bdbb-4936-ab55-f7583c1f10ac\" type=\"checkbox\" ><label class=\"sk-toggleable__label\" for=\"19bd8945-bdbb-4936-ab55-f7583c1f10ac\">remainder</label><div class=\"sk-toggleable__content\"><pre>['n_all_caps', 'perc_exclamations', 'num_exclamations']</pre></div></div></div><div class=\"sk-serial\"><div class=\"sk-item\"><div class=\"sk-estimator sk-toggleable\"><input class=\"sk-toggleable__control sk-hidden--visually\" id=\"8338bb2f-fe4a-45e9-94fb-f7016718c0bf\" type=\"checkbox\" ><label class=\"sk-toggleable__label\" for=\"8338bb2f-fe4a-45e9-94fb-f7016718c0bf\">MinMaxScaler</label><div class=\"sk-toggleable__content\"><pre>MinMaxScaler()</pre></div></div></div></div></div></div></div></div><div class=\"sk-item\"><div class=\"sk-estimator sk-toggleable\"><input class=\"sk-toggleable__control sk-hidden--visually\" id=\"25742ea0-9b7f-49db-8f13-c8c177d5f5ce\" type=\"checkbox\" ><label class=\"sk-toggleable__label\" for=\"25742ea0-9b7f-49db-8f13-c8c177d5f5ce\">DenseTransformer</label><div class=\"sk-toggleable__content\"><pre>DenseTransformer()</pre></div></div></div><div class=\"sk-item\"><div class=\"sk-estimator sk-toggleable\"><input class=\"sk-toggleable__control sk-hidden--visually\" id=\"572b75bc-2740-4942-b298-db97b5efc2c6\" type=\"checkbox\" ><label class=\"sk-toggleable__label\" for=\"572b75bc-2740-4942-b298-db97b5efc2c6\">SMOTE</label><div class=\"sk-toggleable__content\"><pre>SMOTE(n_jobs=-1)</pre></div></div></div><div class=\"sk-item\"><div class=\"sk-estimator sk-toggleable\"><input class=\"sk-toggleable__control sk-hidden--visually\" id=\"516a2d2f-7240-40d9-b6d2-7059d840bf36\" type=\"checkbox\" ><label class=\"sk-toggleable__label\" for=\"516a2d2f-7240-40d9-b6d2-7059d840bf36\">RandomForestClassifier</label><div class=\"sk-toggleable__content\"><pre>RandomForestClassifier(n_jobs=-1)</pre></div></div></div></div></div></div></div>"
      ],
      "text/plain": [
       "Pipeline(steps=[('column_transformer',\n",
       "                 ColumnTransformer(remainder=MinMaxScaler(),\n",
       "                                   transformers=[('countvectorizer',\n",
       "                                                  CountVectorizer(),\n",
       "                                                  'cleaned_comment_text'),\n",
       "                                                 ('tfidfvectorizer-1',\n",
       "                                                  TfidfVectorizer(),\n",
       "                                                  'cleaned_comment_text'),\n",
       "                                                 ('tfidfvectorizer-2',\n",
       "                                                  TfidfVectorizer(use_idf=False),\n",
       "                                                  'cleaned_comment_text')])),\n",
       "                ('dense', DenseTransformer()), ('smote', SMOTE(n_jobs=-1)),\n",
       "                ('clf', RandomForestClassifier(n_jobs=-1))])"
      ]
     },
     "metadata": {},
     "output_type": "display_data"
    },
    {
     "name": "stdout",
     "output_type": "stream",
     "text": [
      "\n",
      "--------------------------------------------------------------------------------\n",
      "RandomForestClassifier Sub2_Engaging :\n",
      "\n"
     ]
    },
    {
     "data": {
      "text/html": [
       "<style>#sk-26bcbcd7-5a1c-42ce-99b9-69cd058c5bc2 {color: black;background-color: white;}#sk-26bcbcd7-5a1c-42ce-99b9-69cd058c5bc2 pre{padding: 0;}#sk-26bcbcd7-5a1c-42ce-99b9-69cd058c5bc2 div.sk-toggleable {background-color: white;}#sk-26bcbcd7-5a1c-42ce-99b9-69cd058c5bc2 label.sk-toggleable__label {cursor: pointer;display: block;width: 100%;margin-bottom: 0;padding: 0.3em;box-sizing: border-box;text-align: center;}#sk-26bcbcd7-5a1c-42ce-99b9-69cd058c5bc2 div.sk-toggleable__content {max-height: 0;max-width: 0;overflow: hidden;text-align: left;background-color: #f0f8ff;}#sk-26bcbcd7-5a1c-42ce-99b9-69cd058c5bc2 div.sk-toggleable__content pre {margin: 0.2em;color: black;border-radius: 0.25em;background-color: #f0f8ff;}#sk-26bcbcd7-5a1c-42ce-99b9-69cd058c5bc2 input.sk-toggleable__control:checked~div.sk-toggleable__content {max-height: 200px;max-width: 100%;overflow: auto;}#sk-26bcbcd7-5a1c-42ce-99b9-69cd058c5bc2 div.sk-estimator input.sk-toggleable__control:checked~label.sk-toggleable__label {background-color: #d4ebff;}#sk-26bcbcd7-5a1c-42ce-99b9-69cd058c5bc2 div.sk-label input.sk-toggleable__control:checked~label.sk-toggleable__label {background-color: #d4ebff;}#sk-26bcbcd7-5a1c-42ce-99b9-69cd058c5bc2 input.sk-hidden--visually {border: 0;clip: rect(1px 1px 1px 1px);clip: rect(1px, 1px, 1px, 1px);height: 1px;margin: -1px;overflow: hidden;padding: 0;position: absolute;width: 1px;}#sk-26bcbcd7-5a1c-42ce-99b9-69cd058c5bc2 div.sk-estimator {font-family: monospace;background-color: #f0f8ff;border: 1px dotted black;border-radius: 0.25em;box-sizing: border-box;margin-bottom: 0.5em;}#sk-26bcbcd7-5a1c-42ce-99b9-69cd058c5bc2 div.sk-estimator:hover {background-color: #d4ebff;}#sk-26bcbcd7-5a1c-42ce-99b9-69cd058c5bc2 div.sk-parallel-item::after {content: \"\";width: 100%;border-bottom: 1px solid gray;flex-grow: 1;}#sk-26bcbcd7-5a1c-42ce-99b9-69cd058c5bc2 div.sk-label:hover label.sk-toggleable__label {background-color: #d4ebff;}#sk-26bcbcd7-5a1c-42ce-99b9-69cd058c5bc2 div.sk-serial::before {content: \"\";position: absolute;border-left: 1px solid gray;box-sizing: border-box;top: 2em;bottom: 0;left: 50%;}#sk-26bcbcd7-5a1c-42ce-99b9-69cd058c5bc2 div.sk-serial {display: flex;flex-direction: column;align-items: center;background-color: white;padding-right: 0.2em;padding-left: 0.2em;}#sk-26bcbcd7-5a1c-42ce-99b9-69cd058c5bc2 div.sk-item {z-index: 1;}#sk-26bcbcd7-5a1c-42ce-99b9-69cd058c5bc2 div.sk-parallel {display: flex;align-items: stretch;justify-content: center;background-color: white;}#sk-26bcbcd7-5a1c-42ce-99b9-69cd058c5bc2 div.sk-parallel::before {content: \"\";position: absolute;border-left: 1px solid gray;box-sizing: border-box;top: 2em;bottom: 0;left: 50%;}#sk-26bcbcd7-5a1c-42ce-99b9-69cd058c5bc2 div.sk-parallel-item {display: flex;flex-direction: column;position: relative;background-color: white;}#sk-26bcbcd7-5a1c-42ce-99b9-69cd058c5bc2 div.sk-parallel-item:first-child::after {align-self: flex-end;width: 50%;}#sk-26bcbcd7-5a1c-42ce-99b9-69cd058c5bc2 div.sk-parallel-item:last-child::after {align-self: flex-start;width: 50%;}#sk-26bcbcd7-5a1c-42ce-99b9-69cd058c5bc2 div.sk-parallel-item:only-child::after {width: 0;}#sk-26bcbcd7-5a1c-42ce-99b9-69cd058c5bc2 div.sk-dashed-wrapped {border: 1px dashed gray;margin: 0 0.4em 0.5em 0.4em;box-sizing: border-box;padding-bottom: 0.4em;background-color: white;position: relative;}#sk-26bcbcd7-5a1c-42ce-99b9-69cd058c5bc2 div.sk-label label {font-family: monospace;font-weight: bold;background-color: white;display: inline-block;line-height: 1.2em;}#sk-26bcbcd7-5a1c-42ce-99b9-69cd058c5bc2 div.sk-label-container {position: relative;z-index: 2;text-align: center;}#sk-26bcbcd7-5a1c-42ce-99b9-69cd058c5bc2 div.sk-container {display: inline-block;position: relative;}</style><div id=\"sk-26bcbcd7-5a1c-42ce-99b9-69cd058c5bc2\" class\"sk-top-container\"><div class=\"sk-container\"><div class=\"sk-item sk-dashed-wrapped\"><div class=\"sk-label-container\"><div class=\"sk-label sk-toggleable\"><input class=\"sk-toggleable__control sk-hidden--visually\" id=\"1ae33d9d-61a0-4a39-9299-64aa7b9b0f48\" type=\"checkbox\" ><label class=\"sk-toggleable__label\" for=\"1ae33d9d-61a0-4a39-9299-64aa7b9b0f48\">Pipeline</label><div class=\"sk-toggleable__content\"><pre>Pipeline(steps=[('column_transformer',\n",
       "                 ColumnTransformer(remainder=MinMaxScaler(),\n",
       "                                   transformers=[('countvectorizer',\n",
       "                                                  CountVectorizer(),\n",
       "                                                  'cleaned_comment_text'),\n",
       "                                                 ('tfidfvectorizer-1',\n",
       "                                                  TfidfVectorizer(),\n",
       "                                                  'cleaned_comment_text'),\n",
       "                                                 ('tfidfvectorizer-2',\n",
       "                                                  TfidfVectorizer(use_idf=False),\n",
       "                                                  'cleaned_comment_text')])),\n",
       "                ('dense', DenseTransformer()), ('smote', SMOTE(n_jobs=-1)),\n",
       "                ('clf', RandomForestClassifier(n_jobs=-1))])</pre></div></div></div><div class=\"sk-serial\"><div class=\"sk-item sk-dashed-wrapped\"><div class=\"sk-label-container\"><div class=\"sk-label sk-toggleable\"><input class=\"sk-toggleable__control sk-hidden--visually\" id=\"eae6b937-fd3d-4c2c-b7df-89274ac7f5da\" type=\"checkbox\" ><label class=\"sk-toggleable__label\" for=\"eae6b937-fd3d-4c2c-b7df-89274ac7f5da\">column_transformer: ColumnTransformer</label><div class=\"sk-toggleable__content\"><pre>ColumnTransformer(remainder=MinMaxScaler(),\n",
       "                  transformers=[('countvectorizer', CountVectorizer(),\n",
       "                                 'cleaned_comment_text'),\n",
       "                                ('tfidfvectorizer-1', TfidfVectorizer(),\n",
       "                                 'cleaned_comment_text'),\n",
       "                                ('tfidfvectorizer-2',\n",
       "                                 TfidfVectorizer(use_idf=False),\n",
       "                                 'cleaned_comment_text')])</pre></div></div></div><div class=\"sk-parallel\"><div class=\"sk-parallel-item\"><div class=\"sk-item\"><div class=\"sk-label-container\"><div class=\"sk-label sk-toggleable\"><input class=\"sk-toggleable__control sk-hidden--visually\" id=\"279a83eb-7d29-49a9-9a81-47d053357fad\" type=\"checkbox\" ><label class=\"sk-toggleable__label\" for=\"279a83eb-7d29-49a9-9a81-47d053357fad\">countvectorizer</label><div class=\"sk-toggleable__content\"><pre>cleaned_comment_text</pre></div></div></div><div class=\"sk-serial\"><div class=\"sk-item\"><div class=\"sk-estimator sk-toggleable\"><input class=\"sk-toggleable__control sk-hidden--visually\" id=\"8d041da9-fbee-4050-a465-0d10700de94f\" type=\"checkbox\" ><label class=\"sk-toggleable__label\" for=\"8d041da9-fbee-4050-a465-0d10700de94f\">CountVectorizer</label><div class=\"sk-toggleable__content\"><pre>CountVectorizer()</pre></div></div></div></div></div></div><div class=\"sk-parallel-item\"><div class=\"sk-item\"><div class=\"sk-label-container\"><div class=\"sk-label sk-toggleable\"><input class=\"sk-toggleable__control sk-hidden--visually\" id=\"a4fdcf60-4586-4d4a-ab9a-8d7c1d96b22e\" type=\"checkbox\" ><label class=\"sk-toggleable__label\" for=\"a4fdcf60-4586-4d4a-ab9a-8d7c1d96b22e\">tfidfvectorizer-1</label><div class=\"sk-toggleable__content\"><pre>cleaned_comment_text</pre></div></div></div><div class=\"sk-serial\"><div class=\"sk-item\"><div class=\"sk-estimator sk-toggleable\"><input class=\"sk-toggleable__control sk-hidden--visually\" id=\"22129226-296f-4fd0-85a7-966d449df107\" type=\"checkbox\" ><label class=\"sk-toggleable__label\" for=\"22129226-296f-4fd0-85a7-966d449df107\">TfidfVectorizer</label><div class=\"sk-toggleable__content\"><pre>TfidfVectorizer()</pre></div></div></div></div></div></div><div class=\"sk-parallel-item\"><div class=\"sk-item\"><div class=\"sk-label-container\"><div class=\"sk-label sk-toggleable\"><input class=\"sk-toggleable__control sk-hidden--visually\" id=\"e0e22f2d-e7de-48c4-9e4e-29a80d3230aa\" type=\"checkbox\" ><label class=\"sk-toggleable__label\" for=\"e0e22f2d-e7de-48c4-9e4e-29a80d3230aa\">tfidfvectorizer-2</label><div class=\"sk-toggleable__content\"><pre>cleaned_comment_text</pre></div></div></div><div class=\"sk-serial\"><div class=\"sk-item\"><div class=\"sk-estimator sk-toggleable\"><input class=\"sk-toggleable__control sk-hidden--visually\" id=\"714c3038-e9e9-4a3b-9ee4-75216d974d1d\" type=\"checkbox\" ><label class=\"sk-toggleable__label\" for=\"714c3038-e9e9-4a3b-9ee4-75216d974d1d\">TfidfVectorizer</label><div class=\"sk-toggleable__content\"><pre>TfidfVectorizer(use_idf=False)</pre></div></div></div></div></div></div><div class=\"sk-parallel-item\"><div class=\"sk-item\"><div class=\"sk-label-container\"><div class=\"sk-label sk-toggleable\"><input class=\"sk-toggleable__control sk-hidden--visually\" id=\"c7546aa1-f178-41a1-961e-ac37075554a2\" type=\"checkbox\" ><label class=\"sk-toggleable__label\" for=\"c7546aa1-f178-41a1-961e-ac37075554a2\">remainder</label><div class=\"sk-toggleable__content\"><pre>['n_all_caps', 'perc_exclamations', 'num_exclamations']</pre></div></div></div><div class=\"sk-serial\"><div class=\"sk-item\"><div class=\"sk-estimator sk-toggleable\"><input class=\"sk-toggleable__control sk-hidden--visually\" id=\"d40f1246-29d0-4aad-8df5-cb2805eeafde\" type=\"checkbox\" ><label class=\"sk-toggleable__label\" for=\"d40f1246-29d0-4aad-8df5-cb2805eeafde\">MinMaxScaler</label><div class=\"sk-toggleable__content\"><pre>MinMaxScaler()</pre></div></div></div></div></div></div></div></div><div class=\"sk-item\"><div class=\"sk-estimator sk-toggleable\"><input class=\"sk-toggleable__control sk-hidden--visually\" id=\"6a20781e-7c74-408c-b800-2cf4f3d31e04\" type=\"checkbox\" ><label class=\"sk-toggleable__label\" for=\"6a20781e-7c74-408c-b800-2cf4f3d31e04\">DenseTransformer</label><div class=\"sk-toggleable__content\"><pre>DenseTransformer()</pre></div></div></div><div class=\"sk-item\"><div class=\"sk-estimator sk-toggleable\"><input class=\"sk-toggleable__control sk-hidden--visually\" id=\"2d092133-46c4-4629-9929-ab4f422b841c\" type=\"checkbox\" ><label class=\"sk-toggleable__label\" for=\"2d092133-46c4-4629-9929-ab4f422b841c\">SMOTE</label><div class=\"sk-toggleable__content\"><pre>SMOTE(n_jobs=-1)</pre></div></div></div><div class=\"sk-item\"><div class=\"sk-estimator sk-toggleable\"><input class=\"sk-toggleable__control sk-hidden--visually\" id=\"d42d1ec7-0856-4012-94ae-353c21360fd2\" type=\"checkbox\" ><label class=\"sk-toggleable__label\" for=\"d42d1ec7-0856-4012-94ae-353c21360fd2\">RandomForestClassifier</label><div class=\"sk-toggleable__content\"><pre>RandomForestClassifier(n_jobs=-1)</pre></div></div></div></div></div></div></div>"
      ],
      "text/plain": [
       "Pipeline(steps=[('column_transformer',\n",
       "                 ColumnTransformer(remainder=MinMaxScaler(),\n",
       "                                   transformers=[('countvectorizer',\n",
       "                                                  CountVectorizer(),\n",
       "                                                  'cleaned_comment_text'),\n",
       "                                                 ('tfidfvectorizer-1',\n",
       "                                                  TfidfVectorizer(),\n",
       "                                                  'cleaned_comment_text'),\n",
       "                                                 ('tfidfvectorizer-2',\n",
       "                                                  TfidfVectorizer(use_idf=False),\n",
       "                                                  'cleaned_comment_text')])),\n",
       "                ('dense', DenseTransformer()), ('smote', SMOTE(n_jobs=-1)),\n",
       "                ('clf', RandomForestClassifier(n_jobs=-1))])"
      ]
     },
     "metadata": {},
     "output_type": "display_data"
    },
    {
     "name": "stdout",
     "output_type": "stream",
     "text": [
      "\n",
      "--------------------------------------------------------------------------------\n",
      "RandomForestClassifier Sub3_FactClaiming :\n",
      "\n"
     ]
    },
    {
     "data": {
      "text/html": [
       "<style>#sk-1386f703-e261-473a-83e6-b692648ccbba {color: black;background-color: white;}#sk-1386f703-e261-473a-83e6-b692648ccbba pre{padding: 0;}#sk-1386f703-e261-473a-83e6-b692648ccbba div.sk-toggleable {background-color: white;}#sk-1386f703-e261-473a-83e6-b692648ccbba label.sk-toggleable__label {cursor: pointer;display: block;width: 100%;margin-bottom: 0;padding: 0.3em;box-sizing: border-box;text-align: center;}#sk-1386f703-e261-473a-83e6-b692648ccbba div.sk-toggleable__content {max-height: 0;max-width: 0;overflow: hidden;text-align: left;background-color: #f0f8ff;}#sk-1386f703-e261-473a-83e6-b692648ccbba div.sk-toggleable__content pre {margin: 0.2em;color: black;border-radius: 0.25em;background-color: #f0f8ff;}#sk-1386f703-e261-473a-83e6-b692648ccbba input.sk-toggleable__control:checked~div.sk-toggleable__content {max-height: 200px;max-width: 100%;overflow: auto;}#sk-1386f703-e261-473a-83e6-b692648ccbba div.sk-estimator input.sk-toggleable__control:checked~label.sk-toggleable__label {background-color: #d4ebff;}#sk-1386f703-e261-473a-83e6-b692648ccbba div.sk-label input.sk-toggleable__control:checked~label.sk-toggleable__label {background-color: #d4ebff;}#sk-1386f703-e261-473a-83e6-b692648ccbba input.sk-hidden--visually {border: 0;clip: rect(1px 1px 1px 1px);clip: rect(1px, 1px, 1px, 1px);height: 1px;margin: -1px;overflow: hidden;padding: 0;position: absolute;width: 1px;}#sk-1386f703-e261-473a-83e6-b692648ccbba div.sk-estimator {font-family: monospace;background-color: #f0f8ff;border: 1px dotted black;border-radius: 0.25em;box-sizing: border-box;margin-bottom: 0.5em;}#sk-1386f703-e261-473a-83e6-b692648ccbba div.sk-estimator:hover {background-color: #d4ebff;}#sk-1386f703-e261-473a-83e6-b692648ccbba div.sk-parallel-item::after {content: \"\";width: 100%;border-bottom: 1px solid gray;flex-grow: 1;}#sk-1386f703-e261-473a-83e6-b692648ccbba div.sk-label:hover label.sk-toggleable__label {background-color: #d4ebff;}#sk-1386f703-e261-473a-83e6-b692648ccbba div.sk-serial::before {content: \"\";position: absolute;border-left: 1px solid gray;box-sizing: border-box;top: 2em;bottom: 0;left: 50%;}#sk-1386f703-e261-473a-83e6-b692648ccbba div.sk-serial {display: flex;flex-direction: column;align-items: center;background-color: white;padding-right: 0.2em;padding-left: 0.2em;}#sk-1386f703-e261-473a-83e6-b692648ccbba div.sk-item {z-index: 1;}#sk-1386f703-e261-473a-83e6-b692648ccbba div.sk-parallel {display: flex;align-items: stretch;justify-content: center;background-color: white;}#sk-1386f703-e261-473a-83e6-b692648ccbba div.sk-parallel::before {content: \"\";position: absolute;border-left: 1px solid gray;box-sizing: border-box;top: 2em;bottom: 0;left: 50%;}#sk-1386f703-e261-473a-83e6-b692648ccbba div.sk-parallel-item {display: flex;flex-direction: column;position: relative;background-color: white;}#sk-1386f703-e261-473a-83e6-b692648ccbba div.sk-parallel-item:first-child::after {align-self: flex-end;width: 50%;}#sk-1386f703-e261-473a-83e6-b692648ccbba div.sk-parallel-item:last-child::after {align-self: flex-start;width: 50%;}#sk-1386f703-e261-473a-83e6-b692648ccbba div.sk-parallel-item:only-child::after {width: 0;}#sk-1386f703-e261-473a-83e6-b692648ccbba div.sk-dashed-wrapped {border: 1px dashed gray;margin: 0 0.4em 0.5em 0.4em;box-sizing: border-box;padding-bottom: 0.4em;background-color: white;position: relative;}#sk-1386f703-e261-473a-83e6-b692648ccbba div.sk-label label {font-family: monospace;font-weight: bold;background-color: white;display: inline-block;line-height: 1.2em;}#sk-1386f703-e261-473a-83e6-b692648ccbba div.sk-label-container {position: relative;z-index: 2;text-align: center;}#sk-1386f703-e261-473a-83e6-b692648ccbba div.sk-container {display: inline-block;position: relative;}</style><div id=\"sk-1386f703-e261-473a-83e6-b692648ccbba\" class\"sk-top-container\"><div class=\"sk-container\"><div class=\"sk-item sk-dashed-wrapped\"><div class=\"sk-label-container\"><div class=\"sk-label sk-toggleable\"><input class=\"sk-toggleable__control sk-hidden--visually\" id=\"248b0312-eea0-4b83-868d-e6ab473d154e\" type=\"checkbox\" ><label class=\"sk-toggleable__label\" for=\"248b0312-eea0-4b83-868d-e6ab473d154e\">Pipeline</label><div class=\"sk-toggleable__content\"><pre>Pipeline(steps=[('column_transformer',\n",
       "                 ColumnTransformer(remainder=MinMaxScaler(),\n",
       "                                   transformers=[('countvectorizer',\n",
       "                                                  CountVectorizer(),\n",
       "                                                  'cleaned_comment_text'),\n",
       "                                                 ('tfidfvectorizer-1',\n",
       "                                                  TfidfVectorizer(),\n",
       "                                                  'cleaned_comment_text'),\n",
       "                                                 ('tfidfvectorizer-2',\n",
       "                                                  TfidfVectorizer(use_idf=False),\n",
       "                                                  'cleaned_comment_text')])),\n",
       "                ('dense', DenseTransformer()), ('smote', SMOTE(n_jobs=-1)),\n",
       "                ('clf', RandomForestClassifier(n_jobs=-1))])</pre></div></div></div><div class=\"sk-serial\"><div class=\"sk-item sk-dashed-wrapped\"><div class=\"sk-label-container\"><div class=\"sk-label sk-toggleable\"><input class=\"sk-toggleable__control sk-hidden--visually\" id=\"143d72fe-3f59-42b8-a242-2496f2b94c03\" type=\"checkbox\" ><label class=\"sk-toggleable__label\" for=\"143d72fe-3f59-42b8-a242-2496f2b94c03\">column_transformer: ColumnTransformer</label><div class=\"sk-toggleable__content\"><pre>ColumnTransformer(remainder=MinMaxScaler(),\n",
       "                  transformers=[('countvectorizer', CountVectorizer(),\n",
       "                                 'cleaned_comment_text'),\n",
       "                                ('tfidfvectorizer-1', TfidfVectorizer(),\n",
       "                                 'cleaned_comment_text'),\n",
       "                                ('tfidfvectorizer-2',\n",
       "                                 TfidfVectorizer(use_idf=False),\n",
       "                                 'cleaned_comment_text')])</pre></div></div></div><div class=\"sk-parallel\"><div class=\"sk-parallel-item\"><div class=\"sk-item\"><div class=\"sk-label-container\"><div class=\"sk-label sk-toggleable\"><input class=\"sk-toggleable__control sk-hidden--visually\" id=\"4c2e3110-324f-412e-a810-222b37779a2d\" type=\"checkbox\" ><label class=\"sk-toggleable__label\" for=\"4c2e3110-324f-412e-a810-222b37779a2d\">countvectorizer</label><div class=\"sk-toggleable__content\"><pre>cleaned_comment_text</pre></div></div></div><div class=\"sk-serial\"><div class=\"sk-item\"><div class=\"sk-estimator sk-toggleable\"><input class=\"sk-toggleable__control sk-hidden--visually\" id=\"34672a00-6658-4deb-8ada-f16434ff6e05\" type=\"checkbox\" ><label class=\"sk-toggleable__label\" for=\"34672a00-6658-4deb-8ada-f16434ff6e05\">CountVectorizer</label><div class=\"sk-toggleable__content\"><pre>CountVectorizer()</pre></div></div></div></div></div></div><div class=\"sk-parallel-item\"><div class=\"sk-item\"><div class=\"sk-label-container\"><div class=\"sk-label sk-toggleable\"><input class=\"sk-toggleable__control sk-hidden--visually\" id=\"e1cb9c5f-6344-40b6-8e34-26f25d0f61ea\" type=\"checkbox\" ><label class=\"sk-toggleable__label\" for=\"e1cb9c5f-6344-40b6-8e34-26f25d0f61ea\">tfidfvectorizer-1</label><div class=\"sk-toggleable__content\"><pre>cleaned_comment_text</pre></div></div></div><div class=\"sk-serial\"><div class=\"sk-item\"><div class=\"sk-estimator sk-toggleable\"><input class=\"sk-toggleable__control sk-hidden--visually\" id=\"3f5217c0-819b-4dce-aa5f-3927d09bdb02\" type=\"checkbox\" ><label class=\"sk-toggleable__label\" for=\"3f5217c0-819b-4dce-aa5f-3927d09bdb02\">TfidfVectorizer</label><div class=\"sk-toggleable__content\"><pre>TfidfVectorizer()</pre></div></div></div></div></div></div><div class=\"sk-parallel-item\"><div class=\"sk-item\"><div class=\"sk-label-container\"><div class=\"sk-label sk-toggleable\"><input class=\"sk-toggleable__control sk-hidden--visually\" id=\"9bd1fb61-ec41-451f-8900-6475060de425\" type=\"checkbox\" ><label class=\"sk-toggleable__label\" for=\"9bd1fb61-ec41-451f-8900-6475060de425\">tfidfvectorizer-2</label><div class=\"sk-toggleable__content\"><pre>cleaned_comment_text</pre></div></div></div><div class=\"sk-serial\"><div class=\"sk-item\"><div class=\"sk-estimator sk-toggleable\"><input class=\"sk-toggleable__control sk-hidden--visually\" id=\"d0fde3c7-bcac-4628-80f5-0406e82c5f55\" type=\"checkbox\" ><label class=\"sk-toggleable__label\" for=\"d0fde3c7-bcac-4628-80f5-0406e82c5f55\">TfidfVectorizer</label><div class=\"sk-toggleable__content\"><pre>TfidfVectorizer(use_idf=False)</pre></div></div></div></div></div></div><div class=\"sk-parallel-item\"><div class=\"sk-item\"><div class=\"sk-label-container\"><div class=\"sk-label sk-toggleable\"><input class=\"sk-toggleable__control sk-hidden--visually\" id=\"868c3390-bd4d-4c9d-9c2a-7a4c4732a5e4\" type=\"checkbox\" ><label class=\"sk-toggleable__label\" for=\"868c3390-bd4d-4c9d-9c2a-7a4c4732a5e4\">remainder</label><div class=\"sk-toggleable__content\"><pre>['n_all_caps', 'perc_exclamations', 'num_exclamations']</pre></div></div></div><div class=\"sk-serial\"><div class=\"sk-item\"><div class=\"sk-estimator sk-toggleable\"><input class=\"sk-toggleable__control sk-hidden--visually\" id=\"294b677a-e248-428d-8420-ba2f60c5d63a\" type=\"checkbox\" ><label class=\"sk-toggleable__label\" for=\"294b677a-e248-428d-8420-ba2f60c5d63a\">MinMaxScaler</label><div class=\"sk-toggleable__content\"><pre>MinMaxScaler()</pre></div></div></div></div></div></div></div></div><div class=\"sk-item\"><div class=\"sk-estimator sk-toggleable\"><input class=\"sk-toggleable__control sk-hidden--visually\" id=\"44aa5d64-df3f-4562-9665-57e3f571ab34\" type=\"checkbox\" ><label class=\"sk-toggleable__label\" for=\"44aa5d64-df3f-4562-9665-57e3f571ab34\">DenseTransformer</label><div class=\"sk-toggleable__content\"><pre>DenseTransformer()</pre></div></div></div><div class=\"sk-item\"><div class=\"sk-estimator sk-toggleable\"><input class=\"sk-toggleable__control sk-hidden--visually\" id=\"3e949678-13b8-49fb-b1f1-87e7d3ddbe74\" type=\"checkbox\" ><label class=\"sk-toggleable__label\" for=\"3e949678-13b8-49fb-b1f1-87e7d3ddbe74\">SMOTE</label><div class=\"sk-toggleable__content\"><pre>SMOTE(n_jobs=-1)</pre></div></div></div><div class=\"sk-item\"><div class=\"sk-estimator sk-toggleable\"><input class=\"sk-toggleable__control sk-hidden--visually\" id=\"884b455d-15dc-425d-81e5-b8e2350ec7a5\" type=\"checkbox\" ><label class=\"sk-toggleable__label\" for=\"884b455d-15dc-425d-81e5-b8e2350ec7a5\">RandomForestClassifier</label><div class=\"sk-toggleable__content\"><pre>RandomForestClassifier(n_jobs=-1)</pre></div></div></div></div></div></div></div>"
      ],
      "text/plain": [
       "Pipeline(steps=[('column_transformer',\n",
       "                 ColumnTransformer(remainder=MinMaxScaler(),\n",
       "                                   transformers=[('countvectorizer',\n",
       "                                                  CountVectorizer(),\n",
       "                                                  'cleaned_comment_text'),\n",
       "                                                 ('tfidfvectorizer-1',\n",
       "                                                  TfidfVectorizer(),\n",
       "                                                  'cleaned_comment_text'),\n",
       "                                                 ('tfidfvectorizer-2',\n",
       "                                                  TfidfVectorizer(use_idf=False),\n",
       "                                                  'cleaned_comment_text')])),\n",
       "                ('dense', DenseTransformer()), ('smote', SMOTE(n_jobs=-1)),\n",
       "                ('clf', RandomForestClassifier(n_jobs=-1))])"
      ]
     },
     "metadata": {},
     "output_type": "display_data"
    },
    {
     "name": "stdout",
     "output_type": "stream",
     "text": [
      "\n",
      "--------------------------------------------------------------------------------\n",
      "RandomForestClassifier_nosmote Sub1_Toxic :\n",
      "\n"
     ]
    },
    {
     "data": {
      "text/html": [
       "<style>#sk-4152ab42-cc21-467f-9bf9-bd4c68e5a50b {color: black;background-color: white;}#sk-4152ab42-cc21-467f-9bf9-bd4c68e5a50b pre{padding: 0;}#sk-4152ab42-cc21-467f-9bf9-bd4c68e5a50b div.sk-toggleable {background-color: white;}#sk-4152ab42-cc21-467f-9bf9-bd4c68e5a50b label.sk-toggleable__label {cursor: pointer;display: block;width: 100%;margin-bottom: 0;padding: 0.3em;box-sizing: border-box;text-align: center;}#sk-4152ab42-cc21-467f-9bf9-bd4c68e5a50b div.sk-toggleable__content {max-height: 0;max-width: 0;overflow: hidden;text-align: left;background-color: #f0f8ff;}#sk-4152ab42-cc21-467f-9bf9-bd4c68e5a50b div.sk-toggleable__content pre {margin: 0.2em;color: black;border-radius: 0.25em;background-color: #f0f8ff;}#sk-4152ab42-cc21-467f-9bf9-bd4c68e5a50b input.sk-toggleable__control:checked~div.sk-toggleable__content {max-height: 200px;max-width: 100%;overflow: auto;}#sk-4152ab42-cc21-467f-9bf9-bd4c68e5a50b div.sk-estimator input.sk-toggleable__control:checked~label.sk-toggleable__label {background-color: #d4ebff;}#sk-4152ab42-cc21-467f-9bf9-bd4c68e5a50b div.sk-label input.sk-toggleable__control:checked~label.sk-toggleable__label {background-color: #d4ebff;}#sk-4152ab42-cc21-467f-9bf9-bd4c68e5a50b input.sk-hidden--visually {border: 0;clip: rect(1px 1px 1px 1px);clip: rect(1px, 1px, 1px, 1px);height: 1px;margin: -1px;overflow: hidden;padding: 0;position: absolute;width: 1px;}#sk-4152ab42-cc21-467f-9bf9-bd4c68e5a50b div.sk-estimator {font-family: monospace;background-color: #f0f8ff;border: 1px dotted black;border-radius: 0.25em;box-sizing: border-box;margin-bottom: 0.5em;}#sk-4152ab42-cc21-467f-9bf9-bd4c68e5a50b div.sk-estimator:hover {background-color: #d4ebff;}#sk-4152ab42-cc21-467f-9bf9-bd4c68e5a50b div.sk-parallel-item::after {content: \"\";width: 100%;border-bottom: 1px solid gray;flex-grow: 1;}#sk-4152ab42-cc21-467f-9bf9-bd4c68e5a50b div.sk-label:hover label.sk-toggleable__label {background-color: #d4ebff;}#sk-4152ab42-cc21-467f-9bf9-bd4c68e5a50b div.sk-serial::before {content: \"\";position: absolute;border-left: 1px solid gray;box-sizing: border-box;top: 2em;bottom: 0;left: 50%;}#sk-4152ab42-cc21-467f-9bf9-bd4c68e5a50b div.sk-serial {display: flex;flex-direction: column;align-items: center;background-color: white;padding-right: 0.2em;padding-left: 0.2em;}#sk-4152ab42-cc21-467f-9bf9-bd4c68e5a50b div.sk-item {z-index: 1;}#sk-4152ab42-cc21-467f-9bf9-bd4c68e5a50b div.sk-parallel {display: flex;align-items: stretch;justify-content: center;background-color: white;}#sk-4152ab42-cc21-467f-9bf9-bd4c68e5a50b div.sk-parallel::before {content: \"\";position: absolute;border-left: 1px solid gray;box-sizing: border-box;top: 2em;bottom: 0;left: 50%;}#sk-4152ab42-cc21-467f-9bf9-bd4c68e5a50b div.sk-parallel-item {display: flex;flex-direction: column;position: relative;background-color: white;}#sk-4152ab42-cc21-467f-9bf9-bd4c68e5a50b div.sk-parallel-item:first-child::after {align-self: flex-end;width: 50%;}#sk-4152ab42-cc21-467f-9bf9-bd4c68e5a50b div.sk-parallel-item:last-child::after {align-self: flex-start;width: 50%;}#sk-4152ab42-cc21-467f-9bf9-bd4c68e5a50b div.sk-parallel-item:only-child::after {width: 0;}#sk-4152ab42-cc21-467f-9bf9-bd4c68e5a50b div.sk-dashed-wrapped {border: 1px dashed gray;margin: 0 0.4em 0.5em 0.4em;box-sizing: border-box;padding-bottom: 0.4em;background-color: white;position: relative;}#sk-4152ab42-cc21-467f-9bf9-bd4c68e5a50b div.sk-label label {font-family: monospace;font-weight: bold;background-color: white;display: inline-block;line-height: 1.2em;}#sk-4152ab42-cc21-467f-9bf9-bd4c68e5a50b div.sk-label-container {position: relative;z-index: 2;text-align: center;}#sk-4152ab42-cc21-467f-9bf9-bd4c68e5a50b div.sk-container {display: inline-block;position: relative;}</style><div id=\"sk-4152ab42-cc21-467f-9bf9-bd4c68e5a50b\" class\"sk-top-container\"><div class=\"sk-container\"><div class=\"sk-item sk-dashed-wrapped\"><div class=\"sk-label-container\"><div class=\"sk-label sk-toggleable\"><input class=\"sk-toggleable__control sk-hidden--visually\" id=\"b6fbd2c3-4131-4fb6-8530-212489341a63\" type=\"checkbox\" ><label class=\"sk-toggleable__label\" for=\"b6fbd2c3-4131-4fb6-8530-212489341a63\">Pipeline</label><div class=\"sk-toggleable__content\"><pre>Pipeline(steps=[('column_transformer',\n",
       "                 ColumnTransformer(remainder=MinMaxScaler(),\n",
       "                                   transformers=[('countvectorizer',\n",
       "                                                  CountVectorizer(),\n",
       "                                                  'cleaned_comment_text'),\n",
       "                                                 ('tfidfvectorizer-1',\n",
       "                                                  TfidfVectorizer(),\n",
       "                                                  'cleaned_comment_text'),\n",
       "                                                 ('tfidfvectorizer-2',\n",
       "                                                  TfidfVectorizer(use_idf=False),\n",
       "                                                  'cleaned_comment_text')])),\n",
       "                ('dense', DenseTransformer()),\n",
       "                ('clf', RandomForestClassifier(n_jobs=-1))])</pre></div></div></div><div class=\"sk-serial\"><div class=\"sk-item sk-dashed-wrapped\"><div class=\"sk-label-container\"><div class=\"sk-label sk-toggleable\"><input class=\"sk-toggleable__control sk-hidden--visually\" id=\"a94975e8-0377-4daa-ac46-50fa8c7beae0\" type=\"checkbox\" ><label class=\"sk-toggleable__label\" for=\"a94975e8-0377-4daa-ac46-50fa8c7beae0\">column_transformer: ColumnTransformer</label><div class=\"sk-toggleable__content\"><pre>ColumnTransformer(remainder=MinMaxScaler(),\n",
       "                  transformers=[('countvectorizer', CountVectorizer(),\n",
       "                                 'cleaned_comment_text'),\n",
       "                                ('tfidfvectorizer-1', TfidfVectorizer(),\n",
       "                                 'cleaned_comment_text'),\n",
       "                                ('tfidfvectorizer-2',\n",
       "                                 TfidfVectorizer(use_idf=False),\n",
       "                                 'cleaned_comment_text')])</pre></div></div></div><div class=\"sk-parallel\"><div class=\"sk-parallel-item\"><div class=\"sk-item\"><div class=\"sk-label-container\"><div class=\"sk-label sk-toggleable\"><input class=\"sk-toggleable__control sk-hidden--visually\" id=\"ea5dbe9b-e8b9-4ef6-858b-75a5a8eb9ae8\" type=\"checkbox\" ><label class=\"sk-toggleable__label\" for=\"ea5dbe9b-e8b9-4ef6-858b-75a5a8eb9ae8\">countvectorizer</label><div class=\"sk-toggleable__content\"><pre>cleaned_comment_text</pre></div></div></div><div class=\"sk-serial\"><div class=\"sk-item\"><div class=\"sk-estimator sk-toggleable\"><input class=\"sk-toggleable__control sk-hidden--visually\" id=\"5b01a9f8-9335-43b0-8cbd-8bf59eb78860\" type=\"checkbox\" ><label class=\"sk-toggleable__label\" for=\"5b01a9f8-9335-43b0-8cbd-8bf59eb78860\">CountVectorizer</label><div class=\"sk-toggleable__content\"><pre>CountVectorizer()</pre></div></div></div></div></div></div><div class=\"sk-parallel-item\"><div class=\"sk-item\"><div class=\"sk-label-container\"><div class=\"sk-label sk-toggleable\"><input class=\"sk-toggleable__control sk-hidden--visually\" id=\"ff1fa7ea-495b-41e8-9a33-a045d7176827\" type=\"checkbox\" ><label class=\"sk-toggleable__label\" for=\"ff1fa7ea-495b-41e8-9a33-a045d7176827\">tfidfvectorizer-1</label><div class=\"sk-toggleable__content\"><pre>cleaned_comment_text</pre></div></div></div><div class=\"sk-serial\"><div class=\"sk-item\"><div class=\"sk-estimator sk-toggleable\"><input class=\"sk-toggleable__control sk-hidden--visually\" id=\"3d3f4632-c49c-4825-837f-15327b14e5ce\" type=\"checkbox\" ><label class=\"sk-toggleable__label\" for=\"3d3f4632-c49c-4825-837f-15327b14e5ce\">TfidfVectorizer</label><div class=\"sk-toggleable__content\"><pre>TfidfVectorizer()</pre></div></div></div></div></div></div><div class=\"sk-parallel-item\"><div class=\"sk-item\"><div class=\"sk-label-container\"><div class=\"sk-label sk-toggleable\"><input class=\"sk-toggleable__control sk-hidden--visually\" id=\"92a3894d-703f-4092-aafc-f6592e43536d\" type=\"checkbox\" ><label class=\"sk-toggleable__label\" for=\"92a3894d-703f-4092-aafc-f6592e43536d\">tfidfvectorizer-2</label><div class=\"sk-toggleable__content\"><pre>cleaned_comment_text</pre></div></div></div><div class=\"sk-serial\"><div class=\"sk-item\"><div class=\"sk-estimator sk-toggleable\"><input class=\"sk-toggleable__control sk-hidden--visually\" id=\"4df7c644-8fb6-429a-a8a7-e16c0c673fcf\" type=\"checkbox\" ><label class=\"sk-toggleable__label\" for=\"4df7c644-8fb6-429a-a8a7-e16c0c673fcf\">TfidfVectorizer</label><div class=\"sk-toggleable__content\"><pre>TfidfVectorizer(use_idf=False)</pre></div></div></div></div></div></div><div class=\"sk-parallel-item\"><div class=\"sk-item\"><div class=\"sk-label-container\"><div class=\"sk-label sk-toggleable\"><input class=\"sk-toggleable__control sk-hidden--visually\" id=\"e00d65f3-b9cc-41c3-b8f9-a8a62b36b17b\" type=\"checkbox\" ><label class=\"sk-toggleable__label\" for=\"e00d65f3-b9cc-41c3-b8f9-a8a62b36b17b\">remainder</label><div class=\"sk-toggleable__content\"><pre>['n_all_caps', 'perc_exclamations', 'num_exclamations']</pre></div></div></div><div class=\"sk-serial\"><div class=\"sk-item\"><div class=\"sk-estimator sk-toggleable\"><input class=\"sk-toggleable__control sk-hidden--visually\" id=\"dfd482b4-8a6d-49db-a986-343d7d515134\" type=\"checkbox\" ><label class=\"sk-toggleable__label\" for=\"dfd482b4-8a6d-49db-a986-343d7d515134\">MinMaxScaler</label><div class=\"sk-toggleable__content\"><pre>MinMaxScaler()</pre></div></div></div></div></div></div></div></div><div class=\"sk-item\"><div class=\"sk-estimator sk-toggleable\"><input class=\"sk-toggleable__control sk-hidden--visually\" id=\"5675c2f3-9324-4c09-afa1-5f2e9b2b4ff7\" type=\"checkbox\" ><label class=\"sk-toggleable__label\" for=\"5675c2f3-9324-4c09-afa1-5f2e9b2b4ff7\">DenseTransformer</label><div class=\"sk-toggleable__content\"><pre>DenseTransformer()</pre></div></div></div><div class=\"sk-item\"><div class=\"sk-estimator sk-toggleable\"><input class=\"sk-toggleable__control sk-hidden--visually\" id=\"2bb001c0-c097-4a2e-8f21-ced76880272c\" type=\"checkbox\" ><label class=\"sk-toggleable__label\" for=\"2bb001c0-c097-4a2e-8f21-ced76880272c\">RandomForestClassifier</label><div class=\"sk-toggleable__content\"><pre>RandomForestClassifier(n_jobs=-1)</pre></div></div></div></div></div></div></div>"
      ],
      "text/plain": [
       "Pipeline(steps=[('column_transformer',\n",
       "                 ColumnTransformer(remainder=MinMaxScaler(),\n",
       "                                   transformers=[('countvectorizer',\n",
       "                                                  CountVectorizer(),\n",
       "                                                  'cleaned_comment_text'),\n",
       "                                                 ('tfidfvectorizer-1',\n",
       "                                                  TfidfVectorizer(),\n",
       "                                                  'cleaned_comment_text'),\n",
       "                                                 ('tfidfvectorizer-2',\n",
       "                                                  TfidfVectorizer(use_idf=False),\n",
       "                                                  'cleaned_comment_text')])),\n",
       "                ('dense', DenseTransformer()),\n",
       "                ('clf', RandomForestClassifier(n_jobs=-1))])"
      ]
     },
     "metadata": {},
     "output_type": "display_data"
    },
    {
     "name": "stdout",
     "output_type": "stream",
     "text": [
      "\n",
      "--------------------------------------------------------------------------------\n",
      "RandomForestClassifier_nosmote Sub2_Engaging :\n",
      "\n"
     ]
    },
    {
     "data": {
      "text/html": [
       "<style>#sk-016c0276-ca84-431f-b528-79fa5c72a00d {color: black;background-color: white;}#sk-016c0276-ca84-431f-b528-79fa5c72a00d pre{padding: 0;}#sk-016c0276-ca84-431f-b528-79fa5c72a00d div.sk-toggleable {background-color: white;}#sk-016c0276-ca84-431f-b528-79fa5c72a00d label.sk-toggleable__label {cursor: pointer;display: block;width: 100%;margin-bottom: 0;padding: 0.3em;box-sizing: border-box;text-align: center;}#sk-016c0276-ca84-431f-b528-79fa5c72a00d div.sk-toggleable__content {max-height: 0;max-width: 0;overflow: hidden;text-align: left;background-color: #f0f8ff;}#sk-016c0276-ca84-431f-b528-79fa5c72a00d div.sk-toggleable__content pre {margin: 0.2em;color: black;border-radius: 0.25em;background-color: #f0f8ff;}#sk-016c0276-ca84-431f-b528-79fa5c72a00d input.sk-toggleable__control:checked~div.sk-toggleable__content {max-height: 200px;max-width: 100%;overflow: auto;}#sk-016c0276-ca84-431f-b528-79fa5c72a00d div.sk-estimator input.sk-toggleable__control:checked~label.sk-toggleable__label {background-color: #d4ebff;}#sk-016c0276-ca84-431f-b528-79fa5c72a00d div.sk-label input.sk-toggleable__control:checked~label.sk-toggleable__label {background-color: #d4ebff;}#sk-016c0276-ca84-431f-b528-79fa5c72a00d input.sk-hidden--visually {border: 0;clip: rect(1px 1px 1px 1px);clip: rect(1px, 1px, 1px, 1px);height: 1px;margin: -1px;overflow: hidden;padding: 0;position: absolute;width: 1px;}#sk-016c0276-ca84-431f-b528-79fa5c72a00d div.sk-estimator {font-family: monospace;background-color: #f0f8ff;border: 1px dotted black;border-radius: 0.25em;box-sizing: border-box;margin-bottom: 0.5em;}#sk-016c0276-ca84-431f-b528-79fa5c72a00d div.sk-estimator:hover {background-color: #d4ebff;}#sk-016c0276-ca84-431f-b528-79fa5c72a00d div.sk-parallel-item::after {content: \"\";width: 100%;border-bottom: 1px solid gray;flex-grow: 1;}#sk-016c0276-ca84-431f-b528-79fa5c72a00d div.sk-label:hover label.sk-toggleable__label {background-color: #d4ebff;}#sk-016c0276-ca84-431f-b528-79fa5c72a00d div.sk-serial::before {content: \"\";position: absolute;border-left: 1px solid gray;box-sizing: border-box;top: 2em;bottom: 0;left: 50%;}#sk-016c0276-ca84-431f-b528-79fa5c72a00d div.sk-serial {display: flex;flex-direction: column;align-items: center;background-color: white;padding-right: 0.2em;padding-left: 0.2em;}#sk-016c0276-ca84-431f-b528-79fa5c72a00d div.sk-item {z-index: 1;}#sk-016c0276-ca84-431f-b528-79fa5c72a00d div.sk-parallel {display: flex;align-items: stretch;justify-content: center;background-color: white;}#sk-016c0276-ca84-431f-b528-79fa5c72a00d div.sk-parallel::before {content: \"\";position: absolute;border-left: 1px solid gray;box-sizing: border-box;top: 2em;bottom: 0;left: 50%;}#sk-016c0276-ca84-431f-b528-79fa5c72a00d div.sk-parallel-item {display: flex;flex-direction: column;position: relative;background-color: white;}#sk-016c0276-ca84-431f-b528-79fa5c72a00d div.sk-parallel-item:first-child::after {align-self: flex-end;width: 50%;}#sk-016c0276-ca84-431f-b528-79fa5c72a00d div.sk-parallel-item:last-child::after {align-self: flex-start;width: 50%;}#sk-016c0276-ca84-431f-b528-79fa5c72a00d div.sk-parallel-item:only-child::after {width: 0;}#sk-016c0276-ca84-431f-b528-79fa5c72a00d div.sk-dashed-wrapped {border: 1px dashed gray;margin: 0 0.4em 0.5em 0.4em;box-sizing: border-box;padding-bottom: 0.4em;background-color: white;position: relative;}#sk-016c0276-ca84-431f-b528-79fa5c72a00d div.sk-label label {font-family: monospace;font-weight: bold;background-color: white;display: inline-block;line-height: 1.2em;}#sk-016c0276-ca84-431f-b528-79fa5c72a00d div.sk-label-container {position: relative;z-index: 2;text-align: center;}#sk-016c0276-ca84-431f-b528-79fa5c72a00d div.sk-container {display: inline-block;position: relative;}</style><div id=\"sk-016c0276-ca84-431f-b528-79fa5c72a00d\" class\"sk-top-container\"><div class=\"sk-container\"><div class=\"sk-item sk-dashed-wrapped\"><div class=\"sk-label-container\"><div class=\"sk-label sk-toggleable\"><input class=\"sk-toggleable__control sk-hidden--visually\" id=\"5c0da127-4a27-4a32-afc4-15d811de8963\" type=\"checkbox\" ><label class=\"sk-toggleable__label\" for=\"5c0da127-4a27-4a32-afc4-15d811de8963\">Pipeline</label><div class=\"sk-toggleable__content\"><pre>Pipeline(steps=[('column_transformer',\n",
       "                 ColumnTransformer(remainder=MinMaxScaler(),\n",
       "                                   transformers=[('countvectorizer',\n",
       "                                                  CountVectorizer(),\n",
       "                                                  'cleaned_comment_text'),\n",
       "                                                 ('tfidfvectorizer-1',\n",
       "                                                  TfidfVectorizer(),\n",
       "                                                  'cleaned_comment_text'),\n",
       "                                                 ('tfidfvectorizer-2',\n",
       "                                                  TfidfVectorizer(use_idf=False),\n",
       "                                                  'cleaned_comment_text')])),\n",
       "                ('dense', DenseTransformer()),\n",
       "                ('clf', RandomForestClassifier(n_jobs=-1))])</pre></div></div></div><div class=\"sk-serial\"><div class=\"sk-item sk-dashed-wrapped\"><div class=\"sk-label-container\"><div class=\"sk-label sk-toggleable\"><input class=\"sk-toggleable__control sk-hidden--visually\" id=\"abadf1eb-39a8-4aaf-9c27-3ffed382fd17\" type=\"checkbox\" ><label class=\"sk-toggleable__label\" for=\"abadf1eb-39a8-4aaf-9c27-3ffed382fd17\">column_transformer: ColumnTransformer</label><div class=\"sk-toggleable__content\"><pre>ColumnTransformer(remainder=MinMaxScaler(),\n",
       "                  transformers=[('countvectorizer', CountVectorizer(),\n",
       "                                 'cleaned_comment_text'),\n",
       "                                ('tfidfvectorizer-1', TfidfVectorizer(),\n",
       "                                 'cleaned_comment_text'),\n",
       "                                ('tfidfvectorizer-2',\n",
       "                                 TfidfVectorizer(use_idf=False),\n",
       "                                 'cleaned_comment_text')])</pre></div></div></div><div class=\"sk-parallel\"><div class=\"sk-parallel-item\"><div class=\"sk-item\"><div class=\"sk-label-container\"><div class=\"sk-label sk-toggleable\"><input class=\"sk-toggleable__control sk-hidden--visually\" id=\"d87928ff-c0e6-40df-9514-ecdafb7c69af\" type=\"checkbox\" ><label class=\"sk-toggleable__label\" for=\"d87928ff-c0e6-40df-9514-ecdafb7c69af\">countvectorizer</label><div class=\"sk-toggleable__content\"><pre>cleaned_comment_text</pre></div></div></div><div class=\"sk-serial\"><div class=\"sk-item\"><div class=\"sk-estimator sk-toggleable\"><input class=\"sk-toggleable__control sk-hidden--visually\" id=\"6437df26-d82a-408a-8452-1f3b3ad9aa22\" type=\"checkbox\" ><label class=\"sk-toggleable__label\" for=\"6437df26-d82a-408a-8452-1f3b3ad9aa22\">CountVectorizer</label><div class=\"sk-toggleable__content\"><pre>CountVectorizer()</pre></div></div></div></div></div></div><div class=\"sk-parallel-item\"><div class=\"sk-item\"><div class=\"sk-label-container\"><div class=\"sk-label sk-toggleable\"><input class=\"sk-toggleable__control sk-hidden--visually\" id=\"630a1ac4-379a-4862-a5ed-1ea693c7005b\" type=\"checkbox\" ><label class=\"sk-toggleable__label\" for=\"630a1ac4-379a-4862-a5ed-1ea693c7005b\">tfidfvectorizer-1</label><div class=\"sk-toggleable__content\"><pre>cleaned_comment_text</pre></div></div></div><div class=\"sk-serial\"><div class=\"sk-item\"><div class=\"sk-estimator sk-toggleable\"><input class=\"sk-toggleable__control sk-hidden--visually\" id=\"561b4409-1b58-4219-be39-ff25b53b2876\" type=\"checkbox\" ><label class=\"sk-toggleable__label\" for=\"561b4409-1b58-4219-be39-ff25b53b2876\">TfidfVectorizer</label><div class=\"sk-toggleable__content\"><pre>TfidfVectorizer()</pre></div></div></div></div></div></div><div class=\"sk-parallel-item\"><div class=\"sk-item\"><div class=\"sk-label-container\"><div class=\"sk-label sk-toggleable\"><input class=\"sk-toggleable__control sk-hidden--visually\" id=\"bf934aa3-4d05-4fda-b6cf-4b7862c64d5a\" type=\"checkbox\" ><label class=\"sk-toggleable__label\" for=\"bf934aa3-4d05-4fda-b6cf-4b7862c64d5a\">tfidfvectorizer-2</label><div class=\"sk-toggleable__content\"><pre>cleaned_comment_text</pre></div></div></div><div class=\"sk-serial\"><div class=\"sk-item\"><div class=\"sk-estimator sk-toggleable\"><input class=\"sk-toggleable__control sk-hidden--visually\" id=\"5c182315-fb88-47af-8bf2-6448af04d75f\" type=\"checkbox\" ><label class=\"sk-toggleable__label\" for=\"5c182315-fb88-47af-8bf2-6448af04d75f\">TfidfVectorizer</label><div class=\"sk-toggleable__content\"><pre>TfidfVectorizer(use_idf=False)</pre></div></div></div></div></div></div><div class=\"sk-parallel-item\"><div class=\"sk-item\"><div class=\"sk-label-container\"><div class=\"sk-label sk-toggleable\"><input class=\"sk-toggleable__control sk-hidden--visually\" id=\"7e232b0a-4329-4f7e-9be6-27872686d5d6\" type=\"checkbox\" ><label class=\"sk-toggleable__label\" for=\"7e232b0a-4329-4f7e-9be6-27872686d5d6\">remainder</label><div class=\"sk-toggleable__content\"><pre>['n_all_caps', 'perc_exclamations', 'num_exclamations']</pre></div></div></div><div class=\"sk-serial\"><div class=\"sk-item\"><div class=\"sk-estimator sk-toggleable\"><input class=\"sk-toggleable__control sk-hidden--visually\" id=\"e6686103-fd16-4ecf-b47a-22107e1d4712\" type=\"checkbox\" ><label class=\"sk-toggleable__label\" for=\"e6686103-fd16-4ecf-b47a-22107e1d4712\">MinMaxScaler</label><div class=\"sk-toggleable__content\"><pre>MinMaxScaler()</pre></div></div></div></div></div></div></div></div><div class=\"sk-item\"><div class=\"sk-estimator sk-toggleable\"><input class=\"sk-toggleable__control sk-hidden--visually\" id=\"736e5ec3-a40f-406f-83c5-588814674d82\" type=\"checkbox\" ><label class=\"sk-toggleable__label\" for=\"736e5ec3-a40f-406f-83c5-588814674d82\">DenseTransformer</label><div class=\"sk-toggleable__content\"><pre>DenseTransformer()</pre></div></div></div><div class=\"sk-item\"><div class=\"sk-estimator sk-toggleable\"><input class=\"sk-toggleable__control sk-hidden--visually\" id=\"ace3ceda-4c7d-4102-9eb6-d2742cc65be0\" type=\"checkbox\" ><label class=\"sk-toggleable__label\" for=\"ace3ceda-4c7d-4102-9eb6-d2742cc65be0\">RandomForestClassifier</label><div class=\"sk-toggleable__content\"><pre>RandomForestClassifier(n_jobs=-1)</pre></div></div></div></div></div></div></div>"
      ],
      "text/plain": [
       "Pipeline(steps=[('column_transformer',\n",
       "                 ColumnTransformer(remainder=MinMaxScaler(),\n",
       "                                   transformers=[('countvectorizer',\n",
       "                                                  CountVectorizer(),\n",
       "                                                  'cleaned_comment_text'),\n",
       "                                                 ('tfidfvectorizer-1',\n",
       "                                                  TfidfVectorizer(),\n",
       "                                                  'cleaned_comment_text'),\n",
       "                                                 ('tfidfvectorizer-2',\n",
       "                                                  TfidfVectorizer(use_idf=False),\n",
       "                                                  'cleaned_comment_text')])),\n",
       "                ('dense', DenseTransformer()),\n",
       "                ('clf', RandomForestClassifier(n_jobs=-1))])"
      ]
     },
     "metadata": {},
     "output_type": "display_data"
    },
    {
     "name": "stdout",
     "output_type": "stream",
     "text": [
      "\n",
      "--------------------------------------------------------------------------------\n",
      "RandomForestClassifier_nosmote Sub3_FactClaiming :\n",
      "\n"
     ]
    },
    {
     "data": {
      "text/html": [
       "<style>#sk-2a617c69-c654-47f5-bd0a-9cfc067a92ed {color: black;background-color: white;}#sk-2a617c69-c654-47f5-bd0a-9cfc067a92ed pre{padding: 0;}#sk-2a617c69-c654-47f5-bd0a-9cfc067a92ed div.sk-toggleable {background-color: white;}#sk-2a617c69-c654-47f5-bd0a-9cfc067a92ed label.sk-toggleable__label {cursor: pointer;display: block;width: 100%;margin-bottom: 0;padding: 0.3em;box-sizing: border-box;text-align: center;}#sk-2a617c69-c654-47f5-bd0a-9cfc067a92ed div.sk-toggleable__content {max-height: 0;max-width: 0;overflow: hidden;text-align: left;background-color: #f0f8ff;}#sk-2a617c69-c654-47f5-bd0a-9cfc067a92ed div.sk-toggleable__content pre {margin: 0.2em;color: black;border-radius: 0.25em;background-color: #f0f8ff;}#sk-2a617c69-c654-47f5-bd0a-9cfc067a92ed input.sk-toggleable__control:checked~div.sk-toggleable__content {max-height: 200px;max-width: 100%;overflow: auto;}#sk-2a617c69-c654-47f5-bd0a-9cfc067a92ed div.sk-estimator input.sk-toggleable__control:checked~label.sk-toggleable__label {background-color: #d4ebff;}#sk-2a617c69-c654-47f5-bd0a-9cfc067a92ed div.sk-label input.sk-toggleable__control:checked~label.sk-toggleable__label {background-color: #d4ebff;}#sk-2a617c69-c654-47f5-bd0a-9cfc067a92ed input.sk-hidden--visually {border: 0;clip: rect(1px 1px 1px 1px);clip: rect(1px, 1px, 1px, 1px);height: 1px;margin: -1px;overflow: hidden;padding: 0;position: absolute;width: 1px;}#sk-2a617c69-c654-47f5-bd0a-9cfc067a92ed div.sk-estimator {font-family: monospace;background-color: #f0f8ff;border: 1px dotted black;border-radius: 0.25em;box-sizing: border-box;margin-bottom: 0.5em;}#sk-2a617c69-c654-47f5-bd0a-9cfc067a92ed div.sk-estimator:hover {background-color: #d4ebff;}#sk-2a617c69-c654-47f5-bd0a-9cfc067a92ed div.sk-parallel-item::after {content: \"\";width: 100%;border-bottom: 1px solid gray;flex-grow: 1;}#sk-2a617c69-c654-47f5-bd0a-9cfc067a92ed div.sk-label:hover label.sk-toggleable__label {background-color: #d4ebff;}#sk-2a617c69-c654-47f5-bd0a-9cfc067a92ed div.sk-serial::before {content: \"\";position: absolute;border-left: 1px solid gray;box-sizing: border-box;top: 2em;bottom: 0;left: 50%;}#sk-2a617c69-c654-47f5-bd0a-9cfc067a92ed div.sk-serial {display: flex;flex-direction: column;align-items: center;background-color: white;padding-right: 0.2em;padding-left: 0.2em;}#sk-2a617c69-c654-47f5-bd0a-9cfc067a92ed div.sk-item {z-index: 1;}#sk-2a617c69-c654-47f5-bd0a-9cfc067a92ed div.sk-parallel {display: flex;align-items: stretch;justify-content: center;background-color: white;}#sk-2a617c69-c654-47f5-bd0a-9cfc067a92ed div.sk-parallel::before {content: \"\";position: absolute;border-left: 1px solid gray;box-sizing: border-box;top: 2em;bottom: 0;left: 50%;}#sk-2a617c69-c654-47f5-bd0a-9cfc067a92ed div.sk-parallel-item {display: flex;flex-direction: column;position: relative;background-color: white;}#sk-2a617c69-c654-47f5-bd0a-9cfc067a92ed div.sk-parallel-item:first-child::after {align-self: flex-end;width: 50%;}#sk-2a617c69-c654-47f5-bd0a-9cfc067a92ed div.sk-parallel-item:last-child::after {align-self: flex-start;width: 50%;}#sk-2a617c69-c654-47f5-bd0a-9cfc067a92ed div.sk-parallel-item:only-child::after {width: 0;}#sk-2a617c69-c654-47f5-bd0a-9cfc067a92ed div.sk-dashed-wrapped {border: 1px dashed gray;margin: 0 0.4em 0.5em 0.4em;box-sizing: border-box;padding-bottom: 0.4em;background-color: white;position: relative;}#sk-2a617c69-c654-47f5-bd0a-9cfc067a92ed div.sk-label label {font-family: monospace;font-weight: bold;background-color: white;display: inline-block;line-height: 1.2em;}#sk-2a617c69-c654-47f5-bd0a-9cfc067a92ed div.sk-label-container {position: relative;z-index: 2;text-align: center;}#sk-2a617c69-c654-47f5-bd0a-9cfc067a92ed div.sk-container {display: inline-block;position: relative;}</style><div id=\"sk-2a617c69-c654-47f5-bd0a-9cfc067a92ed\" class\"sk-top-container\"><div class=\"sk-container\"><div class=\"sk-item sk-dashed-wrapped\"><div class=\"sk-label-container\"><div class=\"sk-label sk-toggleable\"><input class=\"sk-toggleable__control sk-hidden--visually\" id=\"9161543f-b6f2-4ad7-87da-dc97bf71ffa7\" type=\"checkbox\" ><label class=\"sk-toggleable__label\" for=\"9161543f-b6f2-4ad7-87da-dc97bf71ffa7\">Pipeline</label><div class=\"sk-toggleable__content\"><pre>Pipeline(steps=[('column_transformer',\n",
       "                 ColumnTransformer(remainder=MinMaxScaler(),\n",
       "                                   transformers=[('countvectorizer',\n",
       "                                                  CountVectorizer(),\n",
       "                                                  'cleaned_comment_text'),\n",
       "                                                 ('tfidfvectorizer-1',\n",
       "                                                  TfidfVectorizer(),\n",
       "                                                  'cleaned_comment_text'),\n",
       "                                                 ('tfidfvectorizer-2',\n",
       "                                                  TfidfVectorizer(use_idf=False),\n",
       "                                                  'cleaned_comment_text')])),\n",
       "                ('dense', DenseTransformer()),\n",
       "                ('clf', RandomForestClassifier(n_jobs=-1))])</pre></div></div></div><div class=\"sk-serial\"><div class=\"sk-item sk-dashed-wrapped\"><div class=\"sk-label-container\"><div class=\"sk-label sk-toggleable\"><input class=\"sk-toggleable__control sk-hidden--visually\" id=\"9e0f798d-7e1d-44cb-abe4-40d595f9974a\" type=\"checkbox\" ><label class=\"sk-toggleable__label\" for=\"9e0f798d-7e1d-44cb-abe4-40d595f9974a\">column_transformer: ColumnTransformer</label><div class=\"sk-toggleable__content\"><pre>ColumnTransformer(remainder=MinMaxScaler(),\n",
       "                  transformers=[('countvectorizer', CountVectorizer(),\n",
       "                                 'cleaned_comment_text'),\n",
       "                                ('tfidfvectorizer-1', TfidfVectorizer(),\n",
       "                                 'cleaned_comment_text'),\n",
       "                                ('tfidfvectorizer-2',\n",
       "                                 TfidfVectorizer(use_idf=False),\n",
       "                                 'cleaned_comment_text')])</pre></div></div></div><div class=\"sk-parallel\"><div class=\"sk-parallel-item\"><div class=\"sk-item\"><div class=\"sk-label-container\"><div class=\"sk-label sk-toggleable\"><input class=\"sk-toggleable__control sk-hidden--visually\" id=\"89cfb32c-d157-4115-bb00-1a4830e069bf\" type=\"checkbox\" ><label class=\"sk-toggleable__label\" for=\"89cfb32c-d157-4115-bb00-1a4830e069bf\">countvectorizer</label><div class=\"sk-toggleable__content\"><pre>cleaned_comment_text</pre></div></div></div><div class=\"sk-serial\"><div class=\"sk-item\"><div class=\"sk-estimator sk-toggleable\"><input class=\"sk-toggleable__control sk-hidden--visually\" id=\"25289350-7c95-4e64-9f2c-13b696793296\" type=\"checkbox\" ><label class=\"sk-toggleable__label\" for=\"25289350-7c95-4e64-9f2c-13b696793296\">CountVectorizer</label><div class=\"sk-toggleable__content\"><pre>CountVectorizer()</pre></div></div></div></div></div></div><div class=\"sk-parallel-item\"><div class=\"sk-item\"><div class=\"sk-label-container\"><div class=\"sk-label sk-toggleable\"><input class=\"sk-toggleable__control sk-hidden--visually\" id=\"fbf64e4b-5fc4-4b7d-b451-a3edc855d2ac\" type=\"checkbox\" ><label class=\"sk-toggleable__label\" for=\"fbf64e4b-5fc4-4b7d-b451-a3edc855d2ac\">tfidfvectorizer-1</label><div class=\"sk-toggleable__content\"><pre>cleaned_comment_text</pre></div></div></div><div class=\"sk-serial\"><div class=\"sk-item\"><div class=\"sk-estimator sk-toggleable\"><input class=\"sk-toggleable__control sk-hidden--visually\" id=\"84ee7d11-4d4a-4a40-b51f-6c2fd8fd8073\" type=\"checkbox\" ><label class=\"sk-toggleable__label\" for=\"84ee7d11-4d4a-4a40-b51f-6c2fd8fd8073\">TfidfVectorizer</label><div class=\"sk-toggleable__content\"><pre>TfidfVectorizer()</pre></div></div></div></div></div></div><div class=\"sk-parallel-item\"><div class=\"sk-item\"><div class=\"sk-label-container\"><div class=\"sk-label sk-toggleable\"><input class=\"sk-toggleable__control sk-hidden--visually\" id=\"40fd384d-7dfd-426e-ba02-02a834dcc595\" type=\"checkbox\" ><label class=\"sk-toggleable__label\" for=\"40fd384d-7dfd-426e-ba02-02a834dcc595\">tfidfvectorizer-2</label><div class=\"sk-toggleable__content\"><pre>cleaned_comment_text</pre></div></div></div><div class=\"sk-serial\"><div class=\"sk-item\"><div class=\"sk-estimator sk-toggleable\"><input class=\"sk-toggleable__control sk-hidden--visually\" id=\"de2ceaa7-5318-4371-b57a-681ae5ca2dd0\" type=\"checkbox\" ><label class=\"sk-toggleable__label\" for=\"de2ceaa7-5318-4371-b57a-681ae5ca2dd0\">TfidfVectorizer</label><div class=\"sk-toggleable__content\"><pre>TfidfVectorizer(use_idf=False)</pre></div></div></div></div></div></div><div class=\"sk-parallel-item\"><div class=\"sk-item\"><div class=\"sk-label-container\"><div class=\"sk-label sk-toggleable\"><input class=\"sk-toggleable__control sk-hidden--visually\" id=\"25d03cbc-91c0-4a33-b95b-557a4d039206\" type=\"checkbox\" ><label class=\"sk-toggleable__label\" for=\"25d03cbc-91c0-4a33-b95b-557a4d039206\">remainder</label><div class=\"sk-toggleable__content\"><pre>['n_all_caps', 'perc_exclamations', 'num_exclamations']</pre></div></div></div><div class=\"sk-serial\"><div class=\"sk-item\"><div class=\"sk-estimator sk-toggleable\"><input class=\"sk-toggleable__control sk-hidden--visually\" id=\"f52539ea-f597-4b55-89aa-3a01dd590495\" type=\"checkbox\" ><label class=\"sk-toggleable__label\" for=\"f52539ea-f597-4b55-89aa-3a01dd590495\">MinMaxScaler</label><div class=\"sk-toggleable__content\"><pre>MinMaxScaler()</pre></div></div></div></div></div></div></div></div><div class=\"sk-item\"><div class=\"sk-estimator sk-toggleable\"><input class=\"sk-toggleable__control sk-hidden--visually\" id=\"cc1df5f2-2397-4d74-a170-7483cb71dabe\" type=\"checkbox\" ><label class=\"sk-toggleable__label\" for=\"cc1df5f2-2397-4d74-a170-7483cb71dabe\">DenseTransformer</label><div class=\"sk-toggleable__content\"><pre>DenseTransformer()</pre></div></div></div><div class=\"sk-item\"><div class=\"sk-estimator sk-toggleable\"><input class=\"sk-toggleable__control sk-hidden--visually\" id=\"b8c7ca37-0dbe-4333-9096-aa2b2f3f22f0\" type=\"checkbox\" ><label class=\"sk-toggleable__label\" for=\"b8c7ca37-0dbe-4333-9096-aa2b2f3f22f0\">RandomForestClassifier</label><div class=\"sk-toggleable__content\"><pre>RandomForestClassifier(n_jobs=-1)</pre></div></div></div></div></div></div></div>"
      ],
      "text/plain": [
       "Pipeline(steps=[('column_transformer',\n",
       "                 ColumnTransformer(remainder=MinMaxScaler(),\n",
       "                                   transformers=[('countvectorizer',\n",
       "                                                  CountVectorizer(),\n",
       "                                                  'cleaned_comment_text'),\n",
       "                                                 ('tfidfvectorizer-1',\n",
       "                                                  TfidfVectorizer(),\n",
       "                                                  'cleaned_comment_text'),\n",
       "                                                 ('tfidfvectorizer-2',\n",
       "                                                  TfidfVectorizer(use_idf=False),\n",
       "                                                  'cleaned_comment_text')])),\n",
       "                ('dense', DenseTransformer()),\n",
       "                ('clf', RandomForestClassifier(n_jobs=-1))])"
      ]
     },
     "metadata": {},
     "output_type": "display_data"
    },
    {
     "name": "stdout",
     "output_type": "stream",
     "text": [
      "\n",
      "--------------------------------------------------------------------------------\n",
      "BernoulliNB_nosmote Sub1_Toxic :\n",
      "\n"
     ]
    },
    {
     "data": {
      "text/html": [
       "<style>#sk-cddc059f-b506-4025-9009-e6c4b0137f04 {color: black;background-color: white;}#sk-cddc059f-b506-4025-9009-e6c4b0137f04 pre{padding: 0;}#sk-cddc059f-b506-4025-9009-e6c4b0137f04 div.sk-toggleable {background-color: white;}#sk-cddc059f-b506-4025-9009-e6c4b0137f04 label.sk-toggleable__label {cursor: pointer;display: block;width: 100%;margin-bottom: 0;padding: 0.3em;box-sizing: border-box;text-align: center;}#sk-cddc059f-b506-4025-9009-e6c4b0137f04 div.sk-toggleable__content {max-height: 0;max-width: 0;overflow: hidden;text-align: left;background-color: #f0f8ff;}#sk-cddc059f-b506-4025-9009-e6c4b0137f04 div.sk-toggleable__content pre {margin: 0.2em;color: black;border-radius: 0.25em;background-color: #f0f8ff;}#sk-cddc059f-b506-4025-9009-e6c4b0137f04 input.sk-toggleable__control:checked~div.sk-toggleable__content {max-height: 200px;max-width: 100%;overflow: auto;}#sk-cddc059f-b506-4025-9009-e6c4b0137f04 div.sk-estimator input.sk-toggleable__control:checked~label.sk-toggleable__label {background-color: #d4ebff;}#sk-cddc059f-b506-4025-9009-e6c4b0137f04 div.sk-label input.sk-toggleable__control:checked~label.sk-toggleable__label {background-color: #d4ebff;}#sk-cddc059f-b506-4025-9009-e6c4b0137f04 input.sk-hidden--visually {border: 0;clip: rect(1px 1px 1px 1px);clip: rect(1px, 1px, 1px, 1px);height: 1px;margin: -1px;overflow: hidden;padding: 0;position: absolute;width: 1px;}#sk-cddc059f-b506-4025-9009-e6c4b0137f04 div.sk-estimator {font-family: monospace;background-color: #f0f8ff;border: 1px dotted black;border-radius: 0.25em;box-sizing: border-box;margin-bottom: 0.5em;}#sk-cddc059f-b506-4025-9009-e6c4b0137f04 div.sk-estimator:hover {background-color: #d4ebff;}#sk-cddc059f-b506-4025-9009-e6c4b0137f04 div.sk-parallel-item::after {content: \"\";width: 100%;border-bottom: 1px solid gray;flex-grow: 1;}#sk-cddc059f-b506-4025-9009-e6c4b0137f04 div.sk-label:hover label.sk-toggleable__label {background-color: #d4ebff;}#sk-cddc059f-b506-4025-9009-e6c4b0137f04 div.sk-serial::before {content: \"\";position: absolute;border-left: 1px solid gray;box-sizing: border-box;top: 2em;bottom: 0;left: 50%;}#sk-cddc059f-b506-4025-9009-e6c4b0137f04 div.sk-serial {display: flex;flex-direction: column;align-items: center;background-color: white;padding-right: 0.2em;padding-left: 0.2em;}#sk-cddc059f-b506-4025-9009-e6c4b0137f04 div.sk-item {z-index: 1;}#sk-cddc059f-b506-4025-9009-e6c4b0137f04 div.sk-parallel {display: flex;align-items: stretch;justify-content: center;background-color: white;}#sk-cddc059f-b506-4025-9009-e6c4b0137f04 div.sk-parallel::before {content: \"\";position: absolute;border-left: 1px solid gray;box-sizing: border-box;top: 2em;bottom: 0;left: 50%;}#sk-cddc059f-b506-4025-9009-e6c4b0137f04 div.sk-parallel-item {display: flex;flex-direction: column;position: relative;background-color: white;}#sk-cddc059f-b506-4025-9009-e6c4b0137f04 div.sk-parallel-item:first-child::after {align-self: flex-end;width: 50%;}#sk-cddc059f-b506-4025-9009-e6c4b0137f04 div.sk-parallel-item:last-child::after {align-self: flex-start;width: 50%;}#sk-cddc059f-b506-4025-9009-e6c4b0137f04 div.sk-parallel-item:only-child::after {width: 0;}#sk-cddc059f-b506-4025-9009-e6c4b0137f04 div.sk-dashed-wrapped {border: 1px dashed gray;margin: 0 0.4em 0.5em 0.4em;box-sizing: border-box;padding-bottom: 0.4em;background-color: white;position: relative;}#sk-cddc059f-b506-4025-9009-e6c4b0137f04 div.sk-label label {font-family: monospace;font-weight: bold;background-color: white;display: inline-block;line-height: 1.2em;}#sk-cddc059f-b506-4025-9009-e6c4b0137f04 div.sk-label-container {position: relative;z-index: 2;text-align: center;}#sk-cddc059f-b506-4025-9009-e6c4b0137f04 div.sk-container {display: inline-block;position: relative;}</style><div id=\"sk-cddc059f-b506-4025-9009-e6c4b0137f04\" class\"sk-top-container\"><div class=\"sk-container\"><div class=\"sk-item sk-dashed-wrapped\"><div class=\"sk-label-container\"><div class=\"sk-label sk-toggleable\"><input class=\"sk-toggleable__control sk-hidden--visually\" id=\"0b6b5629-0397-4793-a7fd-578dddba2632\" type=\"checkbox\" ><label class=\"sk-toggleable__label\" for=\"0b6b5629-0397-4793-a7fd-578dddba2632\">Pipeline</label><div class=\"sk-toggleable__content\"><pre>Pipeline(steps=[('column_transformer',\n",
       "                 ColumnTransformer(remainder=MinMaxScaler(),\n",
       "                                   transformers=[('countvectorizer',\n",
       "                                                  CountVectorizer(),\n",
       "                                                  'cleaned_comment_text'),\n",
       "                                                 ('tfidfvectorizer-1',\n",
       "                                                  TfidfVectorizer(),\n",
       "                                                  'cleaned_comment_text'),\n",
       "                                                 ('tfidfvectorizer-2',\n",
       "                                                  TfidfVectorizer(use_idf=False),\n",
       "                                                  'cleaned_comment_text')])),\n",
       "                ('dense', DenseTransformer()), ('clf', BernoulliNB())])</pre></div></div></div><div class=\"sk-serial\"><div class=\"sk-item sk-dashed-wrapped\"><div class=\"sk-label-container\"><div class=\"sk-label sk-toggleable\"><input class=\"sk-toggleable__control sk-hidden--visually\" id=\"84186657-c92e-4cb0-80c5-bdd76e9e7ccc\" type=\"checkbox\" ><label class=\"sk-toggleable__label\" for=\"84186657-c92e-4cb0-80c5-bdd76e9e7ccc\">column_transformer: ColumnTransformer</label><div class=\"sk-toggleable__content\"><pre>ColumnTransformer(remainder=MinMaxScaler(),\n",
       "                  transformers=[('countvectorizer', CountVectorizer(),\n",
       "                                 'cleaned_comment_text'),\n",
       "                                ('tfidfvectorizer-1', TfidfVectorizer(),\n",
       "                                 'cleaned_comment_text'),\n",
       "                                ('tfidfvectorizer-2',\n",
       "                                 TfidfVectorizer(use_idf=False),\n",
       "                                 'cleaned_comment_text')])</pre></div></div></div><div class=\"sk-parallel\"><div class=\"sk-parallel-item\"><div class=\"sk-item\"><div class=\"sk-label-container\"><div class=\"sk-label sk-toggleable\"><input class=\"sk-toggleable__control sk-hidden--visually\" id=\"e9d65540-a833-4459-a896-1405cbe44938\" type=\"checkbox\" ><label class=\"sk-toggleable__label\" for=\"e9d65540-a833-4459-a896-1405cbe44938\">countvectorizer</label><div class=\"sk-toggleable__content\"><pre>cleaned_comment_text</pre></div></div></div><div class=\"sk-serial\"><div class=\"sk-item\"><div class=\"sk-estimator sk-toggleable\"><input class=\"sk-toggleable__control sk-hidden--visually\" id=\"839d4594-4a0d-4d05-b95b-4c40650d6dcd\" type=\"checkbox\" ><label class=\"sk-toggleable__label\" for=\"839d4594-4a0d-4d05-b95b-4c40650d6dcd\">CountVectorizer</label><div class=\"sk-toggleable__content\"><pre>CountVectorizer()</pre></div></div></div></div></div></div><div class=\"sk-parallel-item\"><div class=\"sk-item\"><div class=\"sk-label-container\"><div class=\"sk-label sk-toggleable\"><input class=\"sk-toggleable__control sk-hidden--visually\" id=\"137e01a4-69d3-4c69-bd8d-7d1d25a87587\" type=\"checkbox\" ><label class=\"sk-toggleable__label\" for=\"137e01a4-69d3-4c69-bd8d-7d1d25a87587\">tfidfvectorizer-1</label><div class=\"sk-toggleable__content\"><pre>cleaned_comment_text</pre></div></div></div><div class=\"sk-serial\"><div class=\"sk-item\"><div class=\"sk-estimator sk-toggleable\"><input class=\"sk-toggleable__control sk-hidden--visually\" id=\"4ae743c8-6184-4086-861b-e35c3ba78f7d\" type=\"checkbox\" ><label class=\"sk-toggleable__label\" for=\"4ae743c8-6184-4086-861b-e35c3ba78f7d\">TfidfVectorizer</label><div class=\"sk-toggleable__content\"><pre>TfidfVectorizer()</pre></div></div></div></div></div></div><div class=\"sk-parallel-item\"><div class=\"sk-item\"><div class=\"sk-label-container\"><div class=\"sk-label sk-toggleable\"><input class=\"sk-toggleable__control sk-hidden--visually\" id=\"d6167343-acf0-4748-b409-98e348cfb930\" type=\"checkbox\" ><label class=\"sk-toggleable__label\" for=\"d6167343-acf0-4748-b409-98e348cfb930\">tfidfvectorizer-2</label><div class=\"sk-toggleable__content\"><pre>cleaned_comment_text</pre></div></div></div><div class=\"sk-serial\"><div class=\"sk-item\"><div class=\"sk-estimator sk-toggleable\"><input class=\"sk-toggleable__control sk-hidden--visually\" id=\"09608f17-8fe7-4060-a5dd-1625ea40777d\" type=\"checkbox\" ><label class=\"sk-toggleable__label\" for=\"09608f17-8fe7-4060-a5dd-1625ea40777d\">TfidfVectorizer</label><div class=\"sk-toggleable__content\"><pre>TfidfVectorizer(use_idf=False)</pre></div></div></div></div></div></div><div class=\"sk-parallel-item\"><div class=\"sk-item\"><div class=\"sk-label-container\"><div class=\"sk-label sk-toggleable\"><input class=\"sk-toggleable__control sk-hidden--visually\" id=\"27a4a561-c4f2-4ca6-830c-3f45fdcdb147\" type=\"checkbox\" ><label class=\"sk-toggleable__label\" for=\"27a4a561-c4f2-4ca6-830c-3f45fdcdb147\">remainder</label><div class=\"sk-toggleable__content\"><pre>['n_all_caps', 'perc_exclamations', 'num_exclamations']</pre></div></div></div><div class=\"sk-serial\"><div class=\"sk-item\"><div class=\"sk-estimator sk-toggleable\"><input class=\"sk-toggleable__control sk-hidden--visually\" id=\"d35220de-6bde-415a-ae84-722e52dbb447\" type=\"checkbox\" ><label class=\"sk-toggleable__label\" for=\"d35220de-6bde-415a-ae84-722e52dbb447\">MinMaxScaler</label><div class=\"sk-toggleable__content\"><pre>MinMaxScaler()</pre></div></div></div></div></div></div></div></div><div class=\"sk-item\"><div class=\"sk-estimator sk-toggleable\"><input class=\"sk-toggleable__control sk-hidden--visually\" id=\"718474d6-9d46-4619-a6cf-acced502c9dc\" type=\"checkbox\" ><label class=\"sk-toggleable__label\" for=\"718474d6-9d46-4619-a6cf-acced502c9dc\">DenseTransformer</label><div class=\"sk-toggleable__content\"><pre>DenseTransformer()</pre></div></div></div><div class=\"sk-item\"><div class=\"sk-estimator sk-toggleable\"><input class=\"sk-toggleable__control sk-hidden--visually\" id=\"7307c8eb-1308-4523-85d3-82769280daa7\" type=\"checkbox\" ><label class=\"sk-toggleable__label\" for=\"7307c8eb-1308-4523-85d3-82769280daa7\">BernoulliNB</label><div class=\"sk-toggleable__content\"><pre>BernoulliNB()</pre></div></div></div></div></div></div></div>"
      ],
      "text/plain": [
       "Pipeline(steps=[('column_transformer',\n",
       "                 ColumnTransformer(remainder=MinMaxScaler(),\n",
       "                                   transformers=[('countvectorizer',\n",
       "                                                  CountVectorizer(),\n",
       "                                                  'cleaned_comment_text'),\n",
       "                                                 ('tfidfvectorizer-1',\n",
       "                                                  TfidfVectorizer(),\n",
       "                                                  'cleaned_comment_text'),\n",
       "                                                 ('tfidfvectorizer-2',\n",
       "                                                  TfidfVectorizer(use_idf=False),\n",
       "                                                  'cleaned_comment_text')])),\n",
       "                ('dense', DenseTransformer()), ('clf', BernoulliNB())])"
      ]
     },
     "metadata": {},
     "output_type": "display_data"
    },
    {
     "name": "stdout",
     "output_type": "stream",
     "text": [
      "\n",
      "--------------------------------------------------------------------------------\n",
      "BernoulliNB_nosmote Sub2_Engaging :\n",
      "\n"
     ]
    },
    {
     "data": {
      "text/html": [
       "<style>#sk-6ec19c01-2b6b-4be0-8f24-533c3437cf1e {color: black;background-color: white;}#sk-6ec19c01-2b6b-4be0-8f24-533c3437cf1e pre{padding: 0;}#sk-6ec19c01-2b6b-4be0-8f24-533c3437cf1e div.sk-toggleable {background-color: white;}#sk-6ec19c01-2b6b-4be0-8f24-533c3437cf1e label.sk-toggleable__label {cursor: pointer;display: block;width: 100%;margin-bottom: 0;padding: 0.3em;box-sizing: border-box;text-align: center;}#sk-6ec19c01-2b6b-4be0-8f24-533c3437cf1e div.sk-toggleable__content {max-height: 0;max-width: 0;overflow: hidden;text-align: left;background-color: #f0f8ff;}#sk-6ec19c01-2b6b-4be0-8f24-533c3437cf1e div.sk-toggleable__content pre {margin: 0.2em;color: black;border-radius: 0.25em;background-color: #f0f8ff;}#sk-6ec19c01-2b6b-4be0-8f24-533c3437cf1e input.sk-toggleable__control:checked~div.sk-toggleable__content {max-height: 200px;max-width: 100%;overflow: auto;}#sk-6ec19c01-2b6b-4be0-8f24-533c3437cf1e div.sk-estimator input.sk-toggleable__control:checked~label.sk-toggleable__label {background-color: #d4ebff;}#sk-6ec19c01-2b6b-4be0-8f24-533c3437cf1e div.sk-label input.sk-toggleable__control:checked~label.sk-toggleable__label {background-color: #d4ebff;}#sk-6ec19c01-2b6b-4be0-8f24-533c3437cf1e input.sk-hidden--visually {border: 0;clip: rect(1px 1px 1px 1px);clip: rect(1px, 1px, 1px, 1px);height: 1px;margin: -1px;overflow: hidden;padding: 0;position: absolute;width: 1px;}#sk-6ec19c01-2b6b-4be0-8f24-533c3437cf1e div.sk-estimator {font-family: monospace;background-color: #f0f8ff;border: 1px dotted black;border-radius: 0.25em;box-sizing: border-box;margin-bottom: 0.5em;}#sk-6ec19c01-2b6b-4be0-8f24-533c3437cf1e div.sk-estimator:hover {background-color: #d4ebff;}#sk-6ec19c01-2b6b-4be0-8f24-533c3437cf1e div.sk-parallel-item::after {content: \"\";width: 100%;border-bottom: 1px solid gray;flex-grow: 1;}#sk-6ec19c01-2b6b-4be0-8f24-533c3437cf1e div.sk-label:hover label.sk-toggleable__label {background-color: #d4ebff;}#sk-6ec19c01-2b6b-4be0-8f24-533c3437cf1e div.sk-serial::before {content: \"\";position: absolute;border-left: 1px solid gray;box-sizing: border-box;top: 2em;bottom: 0;left: 50%;}#sk-6ec19c01-2b6b-4be0-8f24-533c3437cf1e div.sk-serial {display: flex;flex-direction: column;align-items: center;background-color: white;padding-right: 0.2em;padding-left: 0.2em;}#sk-6ec19c01-2b6b-4be0-8f24-533c3437cf1e div.sk-item {z-index: 1;}#sk-6ec19c01-2b6b-4be0-8f24-533c3437cf1e div.sk-parallel {display: flex;align-items: stretch;justify-content: center;background-color: white;}#sk-6ec19c01-2b6b-4be0-8f24-533c3437cf1e div.sk-parallel::before {content: \"\";position: absolute;border-left: 1px solid gray;box-sizing: border-box;top: 2em;bottom: 0;left: 50%;}#sk-6ec19c01-2b6b-4be0-8f24-533c3437cf1e div.sk-parallel-item {display: flex;flex-direction: column;position: relative;background-color: white;}#sk-6ec19c01-2b6b-4be0-8f24-533c3437cf1e div.sk-parallel-item:first-child::after {align-self: flex-end;width: 50%;}#sk-6ec19c01-2b6b-4be0-8f24-533c3437cf1e div.sk-parallel-item:last-child::after {align-self: flex-start;width: 50%;}#sk-6ec19c01-2b6b-4be0-8f24-533c3437cf1e div.sk-parallel-item:only-child::after {width: 0;}#sk-6ec19c01-2b6b-4be0-8f24-533c3437cf1e div.sk-dashed-wrapped {border: 1px dashed gray;margin: 0 0.4em 0.5em 0.4em;box-sizing: border-box;padding-bottom: 0.4em;background-color: white;position: relative;}#sk-6ec19c01-2b6b-4be0-8f24-533c3437cf1e div.sk-label label {font-family: monospace;font-weight: bold;background-color: white;display: inline-block;line-height: 1.2em;}#sk-6ec19c01-2b6b-4be0-8f24-533c3437cf1e div.sk-label-container {position: relative;z-index: 2;text-align: center;}#sk-6ec19c01-2b6b-4be0-8f24-533c3437cf1e div.sk-container {display: inline-block;position: relative;}</style><div id=\"sk-6ec19c01-2b6b-4be0-8f24-533c3437cf1e\" class\"sk-top-container\"><div class=\"sk-container\"><div class=\"sk-item sk-dashed-wrapped\"><div class=\"sk-label-container\"><div class=\"sk-label sk-toggleable\"><input class=\"sk-toggleable__control sk-hidden--visually\" id=\"ff991dbf-d3f3-41a6-a47e-723eb1585464\" type=\"checkbox\" ><label class=\"sk-toggleable__label\" for=\"ff991dbf-d3f3-41a6-a47e-723eb1585464\">Pipeline</label><div class=\"sk-toggleable__content\"><pre>Pipeline(steps=[('column_transformer',\n",
       "                 ColumnTransformer(remainder=MinMaxScaler(),\n",
       "                                   transformers=[('countvectorizer',\n",
       "                                                  CountVectorizer(),\n",
       "                                                  'cleaned_comment_text'),\n",
       "                                                 ('tfidfvectorizer-1',\n",
       "                                                  TfidfVectorizer(),\n",
       "                                                  'cleaned_comment_text'),\n",
       "                                                 ('tfidfvectorizer-2',\n",
       "                                                  TfidfVectorizer(use_idf=False),\n",
       "                                                  'cleaned_comment_text')])),\n",
       "                ('dense', DenseTransformer()), ('clf', BernoulliNB())])</pre></div></div></div><div class=\"sk-serial\"><div class=\"sk-item sk-dashed-wrapped\"><div class=\"sk-label-container\"><div class=\"sk-label sk-toggleable\"><input class=\"sk-toggleable__control sk-hidden--visually\" id=\"80a4fa89-c540-47c3-a2b7-a0430819f35a\" type=\"checkbox\" ><label class=\"sk-toggleable__label\" for=\"80a4fa89-c540-47c3-a2b7-a0430819f35a\">column_transformer: ColumnTransformer</label><div class=\"sk-toggleable__content\"><pre>ColumnTransformer(remainder=MinMaxScaler(),\n",
       "                  transformers=[('countvectorizer', CountVectorizer(),\n",
       "                                 'cleaned_comment_text'),\n",
       "                                ('tfidfvectorizer-1', TfidfVectorizer(),\n",
       "                                 'cleaned_comment_text'),\n",
       "                                ('tfidfvectorizer-2',\n",
       "                                 TfidfVectorizer(use_idf=False),\n",
       "                                 'cleaned_comment_text')])</pre></div></div></div><div class=\"sk-parallel\"><div class=\"sk-parallel-item\"><div class=\"sk-item\"><div class=\"sk-label-container\"><div class=\"sk-label sk-toggleable\"><input class=\"sk-toggleable__control sk-hidden--visually\" id=\"a819d45c-80d0-4387-9ccf-7a1b35b7bb97\" type=\"checkbox\" ><label class=\"sk-toggleable__label\" for=\"a819d45c-80d0-4387-9ccf-7a1b35b7bb97\">countvectorizer</label><div class=\"sk-toggleable__content\"><pre>cleaned_comment_text</pre></div></div></div><div class=\"sk-serial\"><div class=\"sk-item\"><div class=\"sk-estimator sk-toggleable\"><input class=\"sk-toggleable__control sk-hidden--visually\" id=\"8e12f5f6-ceb9-49a1-b6a1-f75cf8bdac4e\" type=\"checkbox\" ><label class=\"sk-toggleable__label\" for=\"8e12f5f6-ceb9-49a1-b6a1-f75cf8bdac4e\">CountVectorizer</label><div class=\"sk-toggleable__content\"><pre>CountVectorizer()</pre></div></div></div></div></div></div><div class=\"sk-parallel-item\"><div class=\"sk-item\"><div class=\"sk-label-container\"><div class=\"sk-label sk-toggleable\"><input class=\"sk-toggleable__control sk-hidden--visually\" id=\"cba99250-e371-4346-aced-6eabaf45c365\" type=\"checkbox\" ><label class=\"sk-toggleable__label\" for=\"cba99250-e371-4346-aced-6eabaf45c365\">tfidfvectorizer-1</label><div class=\"sk-toggleable__content\"><pre>cleaned_comment_text</pre></div></div></div><div class=\"sk-serial\"><div class=\"sk-item\"><div class=\"sk-estimator sk-toggleable\"><input class=\"sk-toggleable__control sk-hidden--visually\" id=\"1422521b-9c0d-42f8-9308-6d55b514a183\" type=\"checkbox\" ><label class=\"sk-toggleable__label\" for=\"1422521b-9c0d-42f8-9308-6d55b514a183\">TfidfVectorizer</label><div class=\"sk-toggleable__content\"><pre>TfidfVectorizer()</pre></div></div></div></div></div></div><div class=\"sk-parallel-item\"><div class=\"sk-item\"><div class=\"sk-label-container\"><div class=\"sk-label sk-toggleable\"><input class=\"sk-toggleable__control sk-hidden--visually\" id=\"68694b3a-ae96-4988-9feb-0f0d43f1ecff\" type=\"checkbox\" ><label class=\"sk-toggleable__label\" for=\"68694b3a-ae96-4988-9feb-0f0d43f1ecff\">tfidfvectorizer-2</label><div class=\"sk-toggleable__content\"><pre>cleaned_comment_text</pre></div></div></div><div class=\"sk-serial\"><div class=\"sk-item\"><div class=\"sk-estimator sk-toggleable\"><input class=\"sk-toggleable__control sk-hidden--visually\" id=\"072c952a-dbef-4622-97c1-03bacfc57573\" type=\"checkbox\" ><label class=\"sk-toggleable__label\" for=\"072c952a-dbef-4622-97c1-03bacfc57573\">TfidfVectorizer</label><div class=\"sk-toggleable__content\"><pre>TfidfVectorizer(use_idf=False)</pre></div></div></div></div></div></div><div class=\"sk-parallel-item\"><div class=\"sk-item\"><div class=\"sk-label-container\"><div class=\"sk-label sk-toggleable\"><input class=\"sk-toggleable__control sk-hidden--visually\" id=\"43f93da1-a487-4177-a0d4-b1e66f6de667\" type=\"checkbox\" ><label class=\"sk-toggleable__label\" for=\"43f93da1-a487-4177-a0d4-b1e66f6de667\">remainder</label><div class=\"sk-toggleable__content\"><pre>['n_all_caps', 'perc_exclamations', 'num_exclamations']</pre></div></div></div><div class=\"sk-serial\"><div class=\"sk-item\"><div class=\"sk-estimator sk-toggleable\"><input class=\"sk-toggleable__control sk-hidden--visually\" id=\"ecefe3e9-7751-4e07-8af3-6439f0f8629a\" type=\"checkbox\" ><label class=\"sk-toggleable__label\" for=\"ecefe3e9-7751-4e07-8af3-6439f0f8629a\">MinMaxScaler</label><div class=\"sk-toggleable__content\"><pre>MinMaxScaler()</pre></div></div></div></div></div></div></div></div><div class=\"sk-item\"><div class=\"sk-estimator sk-toggleable\"><input class=\"sk-toggleable__control sk-hidden--visually\" id=\"3870a72d-1e2e-4557-9a64-ec2276c9014b\" type=\"checkbox\" ><label class=\"sk-toggleable__label\" for=\"3870a72d-1e2e-4557-9a64-ec2276c9014b\">DenseTransformer</label><div class=\"sk-toggleable__content\"><pre>DenseTransformer()</pre></div></div></div><div class=\"sk-item\"><div class=\"sk-estimator sk-toggleable\"><input class=\"sk-toggleable__control sk-hidden--visually\" id=\"d6e2d010-188f-4792-9766-c0f18825f85b\" type=\"checkbox\" ><label class=\"sk-toggleable__label\" for=\"d6e2d010-188f-4792-9766-c0f18825f85b\">BernoulliNB</label><div class=\"sk-toggleable__content\"><pre>BernoulliNB()</pre></div></div></div></div></div></div></div>"
      ],
      "text/plain": [
       "Pipeline(steps=[('column_transformer',\n",
       "                 ColumnTransformer(remainder=MinMaxScaler(),\n",
       "                                   transformers=[('countvectorizer',\n",
       "                                                  CountVectorizer(),\n",
       "                                                  'cleaned_comment_text'),\n",
       "                                                 ('tfidfvectorizer-1',\n",
       "                                                  TfidfVectorizer(),\n",
       "                                                  'cleaned_comment_text'),\n",
       "                                                 ('tfidfvectorizer-2',\n",
       "                                                  TfidfVectorizer(use_idf=False),\n",
       "                                                  'cleaned_comment_text')])),\n",
       "                ('dense', DenseTransformer()), ('clf', BernoulliNB())])"
      ]
     },
     "metadata": {},
     "output_type": "display_data"
    },
    {
     "name": "stdout",
     "output_type": "stream",
     "text": [
      "\n",
      "--------------------------------------------------------------------------------\n",
      "BernoulliNB_nosmote Sub3_FactClaiming :\n",
      "\n"
     ]
    },
    {
     "data": {
      "text/html": [
       "<style>#sk-c5ec02c3-5358-4028-b635-408735a4c9eb {color: black;background-color: white;}#sk-c5ec02c3-5358-4028-b635-408735a4c9eb pre{padding: 0;}#sk-c5ec02c3-5358-4028-b635-408735a4c9eb div.sk-toggleable {background-color: white;}#sk-c5ec02c3-5358-4028-b635-408735a4c9eb label.sk-toggleable__label {cursor: pointer;display: block;width: 100%;margin-bottom: 0;padding: 0.3em;box-sizing: border-box;text-align: center;}#sk-c5ec02c3-5358-4028-b635-408735a4c9eb div.sk-toggleable__content {max-height: 0;max-width: 0;overflow: hidden;text-align: left;background-color: #f0f8ff;}#sk-c5ec02c3-5358-4028-b635-408735a4c9eb div.sk-toggleable__content pre {margin: 0.2em;color: black;border-radius: 0.25em;background-color: #f0f8ff;}#sk-c5ec02c3-5358-4028-b635-408735a4c9eb input.sk-toggleable__control:checked~div.sk-toggleable__content {max-height: 200px;max-width: 100%;overflow: auto;}#sk-c5ec02c3-5358-4028-b635-408735a4c9eb div.sk-estimator input.sk-toggleable__control:checked~label.sk-toggleable__label {background-color: #d4ebff;}#sk-c5ec02c3-5358-4028-b635-408735a4c9eb div.sk-label input.sk-toggleable__control:checked~label.sk-toggleable__label {background-color: #d4ebff;}#sk-c5ec02c3-5358-4028-b635-408735a4c9eb input.sk-hidden--visually {border: 0;clip: rect(1px 1px 1px 1px);clip: rect(1px, 1px, 1px, 1px);height: 1px;margin: -1px;overflow: hidden;padding: 0;position: absolute;width: 1px;}#sk-c5ec02c3-5358-4028-b635-408735a4c9eb div.sk-estimator {font-family: monospace;background-color: #f0f8ff;border: 1px dotted black;border-radius: 0.25em;box-sizing: border-box;margin-bottom: 0.5em;}#sk-c5ec02c3-5358-4028-b635-408735a4c9eb div.sk-estimator:hover {background-color: #d4ebff;}#sk-c5ec02c3-5358-4028-b635-408735a4c9eb div.sk-parallel-item::after {content: \"\";width: 100%;border-bottom: 1px solid gray;flex-grow: 1;}#sk-c5ec02c3-5358-4028-b635-408735a4c9eb div.sk-label:hover label.sk-toggleable__label {background-color: #d4ebff;}#sk-c5ec02c3-5358-4028-b635-408735a4c9eb div.sk-serial::before {content: \"\";position: absolute;border-left: 1px solid gray;box-sizing: border-box;top: 2em;bottom: 0;left: 50%;}#sk-c5ec02c3-5358-4028-b635-408735a4c9eb div.sk-serial {display: flex;flex-direction: column;align-items: center;background-color: white;padding-right: 0.2em;padding-left: 0.2em;}#sk-c5ec02c3-5358-4028-b635-408735a4c9eb div.sk-item {z-index: 1;}#sk-c5ec02c3-5358-4028-b635-408735a4c9eb div.sk-parallel {display: flex;align-items: stretch;justify-content: center;background-color: white;}#sk-c5ec02c3-5358-4028-b635-408735a4c9eb div.sk-parallel::before {content: \"\";position: absolute;border-left: 1px solid gray;box-sizing: border-box;top: 2em;bottom: 0;left: 50%;}#sk-c5ec02c3-5358-4028-b635-408735a4c9eb div.sk-parallel-item {display: flex;flex-direction: column;position: relative;background-color: white;}#sk-c5ec02c3-5358-4028-b635-408735a4c9eb div.sk-parallel-item:first-child::after {align-self: flex-end;width: 50%;}#sk-c5ec02c3-5358-4028-b635-408735a4c9eb div.sk-parallel-item:last-child::after {align-self: flex-start;width: 50%;}#sk-c5ec02c3-5358-4028-b635-408735a4c9eb div.sk-parallel-item:only-child::after {width: 0;}#sk-c5ec02c3-5358-4028-b635-408735a4c9eb div.sk-dashed-wrapped {border: 1px dashed gray;margin: 0 0.4em 0.5em 0.4em;box-sizing: border-box;padding-bottom: 0.4em;background-color: white;position: relative;}#sk-c5ec02c3-5358-4028-b635-408735a4c9eb div.sk-label label {font-family: monospace;font-weight: bold;background-color: white;display: inline-block;line-height: 1.2em;}#sk-c5ec02c3-5358-4028-b635-408735a4c9eb div.sk-label-container {position: relative;z-index: 2;text-align: center;}#sk-c5ec02c3-5358-4028-b635-408735a4c9eb div.sk-container {display: inline-block;position: relative;}</style><div id=\"sk-c5ec02c3-5358-4028-b635-408735a4c9eb\" class\"sk-top-container\"><div class=\"sk-container\"><div class=\"sk-item sk-dashed-wrapped\"><div class=\"sk-label-container\"><div class=\"sk-label sk-toggleable\"><input class=\"sk-toggleable__control sk-hidden--visually\" id=\"57de1875-7f95-45b5-8636-fda6d55401b7\" type=\"checkbox\" ><label class=\"sk-toggleable__label\" for=\"57de1875-7f95-45b5-8636-fda6d55401b7\">Pipeline</label><div class=\"sk-toggleable__content\"><pre>Pipeline(steps=[('column_transformer',\n",
       "                 ColumnTransformer(remainder=MinMaxScaler(),\n",
       "                                   transformers=[('countvectorizer',\n",
       "                                                  CountVectorizer(),\n",
       "                                                  'cleaned_comment_text'),\n",
       "                                                 ('tfidfvectorizer-1',\n",
       "                                                  TfidfVectorizer(),\n",
       "                                                  'cleaned_comment_text'),\n",
       "                                                 ('tfidfvectorizer-2',\n",
       "                                                  TfidfVectorizer(use_idf=False),\n",
       "                                                  'cleaned_comment_text')])),\n",
       "                ('dense', DenseTransformer()), ('clf', BernoulliNB())])</pre></div></div></div><div class=\"sk-serial\"><div class=\"sk-item sk-dashed-wrapped\"><div class=\"sk-label-container\"><div class=\"sk-label sk-toggleable\"><input class=\"sk-toggleable__control sk-hidden--visually\" id=\"93efe6df-8990-452e-b4c8-c5f3335be87a\" type=\"checkbox\" ><label class=\"sk-toggleable__label\" for=\"93efe6df-8990-452e-b4c8-c5f3335be87a\">column_transformer: ColumnTransformer</label><div class=\"sk-toggleable__content\"><pre>ColumnTransformer(remainder=MinMaxScaler(),\n",
       "                  transformers=[('countvectorizer', CountVectorizer(),\n",
       "                                 'cleaned_comment_text'),\n",
       "                                ('tfidfvectorizer-1', TfidfVectorizer(),\n",
       "                                 'cleaned_comment_text'),\n",
       "                                ('tfidfvectorizer-2',\n",
       "                                 TfidfVectorizer(use_idf=False),\n",
       "                                 'cleaned_comment_text')])</pre></div></div></div><div class=\"sk-parallel\"><div class=\"sk-parallel-item\"><div class=\"sk-item\"><div class=\"sk-label-container\"><div class=\"sk-label sk-toggleable\"><input class=\"sk-toggleable__control sk-hidden--visually\" id=\"5d75a3b2-e704-43cf-905b-7292da479937\" type=\"checkbox\" ><label class=\"sk-toggleable__label\" for=\"5d75a3b2-e704-43cf-905b-7292da479937\">countvectorizer</label><div class=\"sk-toggleable__content\"><pre>cleaned_comment_text</pre></div></div></div><div class=\"sk-serial\"><div class=\"sk-item\"><div class=\"sk-estimator sk-toggleable\"><input class=\"sk-toggleable__control sk-hidden--visually\" id=\"96a4c94a-2c70-41b9-8344-438c925190bd\" type=\"checkbox\" ><label class=\"sk-toggleable__label\" for=\"96a4c94a-2c70-41b9-8344-438c925190bd\">CountVectorizer</label><div class=\"sk-toggleable__content\"><pre>CountVectorizer()</pre></div></div></div></div></div></div><div class=\"sk-parallel-item\"><div class=\"sk-item\"><div class=\"sk-label-container\"><div class=\"sk-label sk-toggleable\"><input class=\"sk-toggleable__control sk-hidden--visually\" id=\"872d198b-84ad-4180-b98d-032a2e0b20b9\" type=\"checkbox\" ><label class=\"sk-toggleable__label\" for=\"872d198b-84ad-4180-b98d-032a2e0b20b9\">tfidfvectorizer-1</label><div class=\"sk-toggleable__content\"><pre>cleaned_comment_text</pre></div></div></div><div class=\"sk-serial\"><div class=\"sk-item\"><div class=\"sk-estimator sk-toggleable\"><input class=\"sk-toggleable__control sk-hidden--visually\" id=\"069f4396-62b0-4209-bbac-4c6b6ef7c3ca\" type=\"checkbox\" ><label class=\"sk-toggleable__label\" for=\"069f4396-62b0-4209-bbac-4c6b6ef7c3ca\">TfidfVectorizer</label><div class=\"sk-toggleable__content\"><pre>TfidfVectorizer()</pre></div></div></div></div></div></div><div class=\"sk-parallel-item\"><div class=\"sk-item\"><div class=\"sk-label-container\"><div class=\"sk-label sk-toggleable\"><input class=\"sk-toggleable__control sk-hidden--visually\" id=\"a3e3d546-0fb9-4922-a2d0-3a1d0b5a5886\" type=\"checkbox\" ><label class=\"sk-toggleable__label\" for=\"a3e3d546-0fb9-4922-a2d0-3a1d0b5a5886\">tfidfvectorizer-2</label><div class=\"sk-toggleable__content\"><pre>cleaned_comment_text</pre></div></div></div><div class=\"sk-serial\"><div class=\"sk-item\"><div class=\"sk-estimator sk-toggleable\"><input class=\"sk-toggleable__control sk-hidden--visually\" id=\"81a353fa-0c52-4a40-adfb-020cf6e9b79f\" type=\"checkbox\" ><label class=\"sk-toggleable__label\" for=\"81a353fa-0c52-4a40-adfb-020cf6e9b79f\">TfidfVectorizer</label><div class=\"sk-toggleable__content\"><pre>TfidfVectorizer(use_idf=False)</pre></div></div></div></div></div></div><div class=\"sk-parallel-item\"><div class=\"sk-item\"><div class=\"sk-label-container\"><div class=\"sk-label sk-toggleable\"><input class=\"sk-toggleable__control sk-hidden--visually\" id=\"c5f9aa88-6c16-4584-9a39-d18ed47493fa\" type=\"checkbox\" ><label class=\"sk-toggleable__label\" for=\"c5f9aa88-6c16-4584-9a39-d18ed47493fa\">remainder</label><div class=\"sk-toggleable__content\"><pre>['n_all_caps', 'perc_exclamations', 'num_exclamations']</pre></div></div></div><div class=\"sk-serial\"><div class=\"sk-item\"><div class=\"sk-estimator sk-toggleable\"><input class=\"sk-toggleable__control sk-hidden--visually\" id=\"f8d542dc-0a75-45ff-94ac-c66852ded495\" type=\"checkbox\" ><label class=\"sk-toggleable__label\" for=\"f8d542dc-0a75-45ff-94ac-c66852ded495\">MinMaxScaler</label><div class=\"sk-toggleable__content\"><pre>MinMaxScaler()</pre></div></div></div></div></div></div></div></div><div class=\"sk-item\"><div class=\"sk-estimator sk-toggleable\"><input class=\"sk-toggleable__control sk-hidden--visually\" id=\"c90f7293-5b29-4a7b-b8ba-c05c145ecf7e\" type=\"checkbox\" ><label class=\"sk-toggleable__label\" for=\"c90f7293-5b29-4a7b-b8ba-c05c145ecf7e\">DenseTransformer</label><div class=\"sk-toggleable__content\"><pre>DenseTransformer()</pre></div></div></div><div class=\"sk-item\"><div class=\"sk-estimator sk-toggleable\"><input class=\"sk-toggleable__control sk-hidden--visually\" id=\"4dc85877-bba3-41e6-bfbc-29247f06f4d1\" type=\"checkbox\" ><label class=\"sk-toggleable__label\" for=\"4dc85877-bba3-41e6-bfbc-29247f06f4d1\">BernoulliNB</label><div class=\"sk-toggleable__content\"><pre>BernoulliNB()</pre></div></div></div></div></div></div></div>"
      ],
      "text/plain": [
       "Pipeline(steps=[('column_transformer',\n",
       "                 ColumnTransformer(remainder=MinMaxScaler(),\n",
       "                                   transformers=[('countvectorizer',\n",
       "                                                  CountVectorizer(),\n",
       "                                                  'cleaned_comment_text'),\n",
       "                                                 ('tfidfvectorizer-1',\n",
       "                                                  TfidfVectorizer(),\n",
       "                                                  'cleaned_comment_text'),\n",
       "                                                 ('tfidfvectorizer-2',\n",
       "                                                  TfidfVectorizer(use_idf=False),\n",
       "                                                  'cleaned_comment_text')])),\n",
       "                ('dense', DenseTransformer()), ('clf', BernoulliNB())])"
      ]
     },
     "metadata": {},
     "output_type": "display_data"
    },
    {
     "name": "stdout",
     "output_type": "stream",
     "text": [
      "\n",
      "--------------------------------------------------------------------------------\n",
      "Quadratic Discriminant Analysis Sub1_Toxic :\n",
      "\n"
     ]
    },
    {
     "data": {
      "text/html": [
       "<style>#sk-0be9953b-4109-48a3-bb5b-0c55e1f7881c {color: black;background-color: white;}#sk-0be9953b-4109-48a3-bb5b-0c55e1f7881c pre{padding: 0;}#sk-0be9953b-4109-48a3-bb5b-0c55e1f7881c div.sk-toggleable {background-color: white;}#sk-0be9953b-4109-48a3-bb5b-0c55e1f7881c label.sk-toggleable__label {cursor: pointer;display: block;width: 100%;margin-bottom: 0;padding: 0.3em;box-sizing: border-box;text-align: center;}#sk-0be9953b-4109-48a3-bb5b-0c55e1f7881c div.sk-toggleable__content {max-height: 0;max-width: 0;overflow: hidden;text-align: left;background-color: #f0f8ff;}#sk-0be9953b-4109-48a3-bb5b-0c55e1f7881c div.sk-toggleable__content pre {margin: 0.2em;color: black;border-radius: 0.25em;background-color: #f0f8ff;}#sk-0be9953b-4109-48a3-bb5b-0c55e1f7881c input.sk-toggleable__control:checked~div.sk-toggleable__content {max-height: 200px;max-width: 100%;overflow: auto;}#sk-0be9953b-4109-48a3-bb5b-0c55e1f7881c div.sk-estimator input.sk-toggleable__control:checked~label.sk-toggleable__label {background-color: #d4ebff;}#sk-0be9953b-4109-48a3-bb5b-0c55e1f7881c div.sk-label input.sk-toggleable__control:checked~label.sk-toggleable__label {background-color: #d4ebff;}#sk-0be9953b-4109-48a3-bb5b-0c55e1f7881c input.sk-hidden--visually {border: 0;clip: rect(1px 1px 1px 1px);clip: rect(1px, 1px, 1px, 1px);height: 1px;margin: -1px;overflow: hidden;padding: 0;position: absolute;width: 1px;}#sk-0be9953b-4109-48a3-bb5b-0c55e1f7881c div.sk-estimator {font-family: monospace;background-color: #f0f8ff;border: 1px dotted black;border-radius: 0.25em;box-sizing: border-box;margin-bottom: 0.5em;}#sk-0be9953b-4109-48a3-bb5b-0c55e1f7881c div.sk-estimator:hover {background-color: #d4ebff;}#sk-0be9953b-4109-48a3-bb5b-0c55e1f7881c div.sk-parallel-item::after {content: \"\";width: 100%;border-bottom: 1px solid gray;flex-grow: 1;}#sk-0be9953b-4109-48a3-bb5b-0c55e1f7881c div.sk-label:hover label.sk-toggleable__label {background-color: #d4ebff;}#sk-0be9953b-4109-48a3-bb5b-0c55e1f7881c div.sk-serial::before {content: \"\";position: absolute;border-left: 1px solid gray;box-sizing: border-box;top: 2em;bottom: 0;left: 50%;}#sk-0be9953b-4109-48a3-bb5b-0c55e1f7881c div.sk-serial {display: flex;flex-direction: column;align-items: center;background-color: white;padding-right: 0.2em;padding-left: 0.2em;}#sk-0be9953b-4109-48a3-bb5b-0c55e1f7881c div.sk-item {z-index: 1;}#sk-0be9953b-4109-48a3-bb5b-0c55e1f7881c div.sk-parallel {display: flex;align-items: stretch;justify-content: center;background-color: white;}#sk-0be9953b-4109-48a3-bb5b-0c55e1f7881c div.sk-parallel::before {content: \"\";position: absolute;border-left: 1px solid gray;box-sizing: border-box;top: 2em;bottom: 0;left: 50%;}#sk-0be9953b-4109-48a3-bb5b-0c55e1f7881c div.sk-parallel-item {display: flex;flex-direction: column;position: relative;background-color: white;}#sk-0be9953b-4109-48a3-bb5b-0c55e1f7881c div.sk-parallel-item:first-child::after {align-self: flex-end;width: 50%;}#sk-0be9953b-4109-48a3-bb5b-0c55e1f7881c div.sk-parallel-item:last-child::after {align-self: flex-start;width: 50%;}#sk-0be9953b-4109-48a3-bb5b-0c55e1f7881c div.sk-parallel-item:only-child::after {width: 0;}#sk-0be9953b-4109-48a3-bb5b-0c55e1f7881c div.sk-dashed-wrapped {border: 1px dashed gray;margin: 0 0.4em 0.5em 0.4em;box-sizing: border-box;padding-bottom: 0.4em;background-color: white;position: relative;}#sk-0be9953b-4109-48a3-bb5b-0c55e1f7881c div.sk-label label {font-family: monospace;font-weight: bold;background-color: white;display: inline-block;line-height: 1.2em;}#sk-0be9953b-4109-48a3-bb5b-0c55e1f7881c div.sk-label-container {position: relative;z-index: 2;text-align: center;}#sk-0be9953b-4109-48a3-bb5b-0c55e1f7881c div.sk-container {display: inline-block;position: relative;}</style><div id=\"sk-0be9953b-4109-48a3-bb5b-0c55e1f7881c\" class\"sk-top-container\"><div class=\"sk-container\"><div class=\"sk-item sk-dashed-wrapped\"><div class=\"sk-label-container\"><div class=\"sk-label sk-toggleable\"><input class=\"sk-toggleable__control sk-hidden--visually\" id=\"ecdb5554-bc4f-4d62-8ff4-5f81d9c6df7c\" type=\"checkbox\" ><label class=\"sk-toggleable__label\" for=\"ecdb5554-bc4f-4d62-8ff4-5f81d9c6df7c\">Pipeline</label><div class=\"sk-toggleable__content\"><pre>Pipeline(steps=[('column_transformer',\n",
       "                 ColumnTransformer(remainder=MinMaxScaler(),\n",
       "                                   transformers=[('countvectorizer',\n",
       "                                                  CountVectorizer(),\n",
       "                                                  'cleaned_comment_text'),\n",
       "                                                 ('tfidfvectorizer-1',\n",
       "                                                  TfidfVectorizer(),\n",
       "                                                  'cleaned_comment_text'),\n",
       "                                                 ('tfidfvectorizer-2',\n",
       "                                                  TfidfVectorizer(use_idf=False),\n",
       "                                                  'cleaned_comment_text')])),\n",
       "                ('dense', DenseTransformer()),\n",
       "                ('clf', QuadraticDiscriminantAnalysis())])</pre></div></div></div><div class=\"sk-serial\"><div class=\"sk-item sk-dashed-wrapped\"><div class=\"sk-label-container\"><div class=\"sk-label sk-toggleable\"><input class=\"sk-toggleable__control sk-hidden--visually\" id=\"8734d9b7-df67-4215-903c-294769bdf76c\" type=\"checkbox\" ><label class=\"sk-toggleable__label\" for=\"8734d9b7-df67-4215-903c-294769bdf76c\">column_transformer: ColumnTransformer</label><div class=\"sk-toggleable__content\"><pre>ColumnTransformer(remainder=MinMaxScaler(),\n",
       "                  transformers=[('countvectorizer', CountVectorizer(),\n",
       "                                 'cleaned_comment_text'),\n",
       "                                ('tfidfvectorizer-1', TfidfVectorizer(),\n",
       "                                 'cleaned_comment_text'),\n",
       "                                ('tfidfvectorizer-2',\n",
       "                                 TfidfVectorizer(use_idf=False),\n",
       "                                 'cleaned_comment_text')])</pre></div></div></div><div class=\"sk-parallel\"><div class=\"sk-parallel-item\"><div class=\"sk-item\"><div class=\"sk-label-container\"><div class=\"sk-label sk-toggleable\"><input class=\"sk-toggleable__control sk-hidden--visually\" id=\"95309b5b-4d10-40c1-9211-981253101a97\" type=\"checkbox\" ><label class=\"sk-toggleable__label\" for=\"95309b5b-4d10-40c1-9211-981253101a97\">countvectorizer</label><div class=\"sk-toggleable__content\"><pre>cleaned_comment_text</pre></div></div></div><div class=\"sk-serial\"><div class=\"sk-item\"><div class=\"sk-estimator sk-toggleable\"><input class=\"sk-toggleable__control sk-hidden--visually\" id=\"712b8062-cc8e-445c-a684-2b2162e764d6\" type=\"checkbox\" ><label class=\"sk-toggleable__label\" for=\"712b8062-cc8e-445c-a684-2b2162e764d6\">CountVectorizer</label><div class=\"sk-toggleable__content\"><pre>CountVectorizer()</pre></div></div></div></div></div></div><div class=\"sk-parallel-item\"><div class=\"sk-item\"><div class=\"sk-label-container\"><div class=\"sk-label sk-toggleable\"><input class=\"sk-toggleable__control sk-hidden--visually\" id=\"44895246-aab7-4448-89a3-0378536ed02e\" type=\"checkbox\" ><label class=\"sk-toggleable__label\" for=\"44895246-aab7-4448-89a3-0378536ed02e\">tfidfvectorizer-1</label><div class=\"sk-toggleable__content\"><pre>cleaned_comment_text</pre></div></div></div><div class=\"sk-serial\"><div class=\"sk-item\"><div class=\"sk-estimator sk-toggleable\"><input class=\"sk-toggleable__control sk-hidden--visually\" id=\"b83b1812-e242-4edc-8f4a-211120715422\" type=\"checkbox\" ><label class=\"sk-toggleable__label\" for=\"b83b1812-e242-4edc-8f4a-211120715422\">TfidfVectorizer</label><div class=\"sk-toggleable__content\"><pre>TfidfVectorizer()</pre></div></div></div></div></div></div><div class=\"sk-parallel-item\"><div class=\"sk-item\"><div class=\"sk-label-container\"><div class=\"sk-label sk-toggleable\"><input class=\"sk-toggleable__control sk-hidden--visually\" id=\"608aa2fe-c53f-47e5-ac0f-aa90073fa067\" type=\"checkbox\" ><label class=\"sk-toggleable__label\" for=\"608aa2fe-c53f-47e5-ac0f-aa90073fa067\">tfidfvectorizer-2</label><div class=\"sk-toggleable__content\"><pre>cleaned_comment_text</pre></div></div></div><div class=\"sk-serial\"><div class=\"sk-item\"><div class=\"sk-estimator sk-toggleable\"><input class=\"sk-toggleable__control sk-hidden--visually\" id=\"5d31214b-f725-412a-a02f-d73b2e458dd2\" type=\"checkbox\" ><label class=\"sk-toggleable__label\" for=\"5d31214b-f725-412a-a02f-d73b2e458dd2\">TfidfVectorizer</label><div class=\"sk-toggleable__content\"><pre>TfidfVectorizer(use_idf=False)</pre></div></div></div></div></div></div><div class=\"sk-parallel-item\"><div class=\"sk-item\"><div class=\"sk-label-container\"><div class=\"sk-label sk-toggleable\"><input class=\"sk-toggleable__control sk-hidden--visually\" id=\"4c525c53-0773-4b1c-8f85-4370c91c25fb\" type=\"checkbox\" ><label class=\"sk-toggleable__label\" for=\"4c525c53-0773-4b1c-8f85-4370c91c25fb\">remainder</label><div class=\"sk-toggleable__content\"><pre>['n_all_caps', 'perc_exclamations', 'num_exclamations']</pre></div></div></div><div class=\"sk-serial\"><div class=\"sk-item\"><div class=\"sk-estimator sk-toggleable\"><input class=\"sk-toggleable__control sk-hidden--visually\" id=\"fa27b6c3-8920-4454-8747-1662bdfd9639\" type=\"checkbox\" ><label class=\"sk-toggleable__label\" for=\"fa27b6c3-8920-4454-8747-1662bdfd9639\">MinMaxScaler</label><div class=\"sk-toggleable__content\"><pre>MinMaxScaler()</pre></div></div></div></div></div></div></div></div><div class=\"sk-item\"><div class=\"sk-estimator sk-toggleable\"><input class=\"sk-toggleable__control sk-hidden--visually\" id=\"b44359ba-f5ed-4db9-a58a-7a04f47ed099\" type=\"checkbox\" ><label class=\"sk-toggleable__label\" for=\"b44359ba-f5ed-4db9-a58a-7a04f47ed099\">DenseTransformer</label><div class=\"sk-toggleable__content\"><pre>DenseTransformer()</pre></div></div></div><div class=\"sk-item\"><div class=\"sk-estimator sk-toggleable\"><input class=\"sk-toggleable__control sk-hidden--visually\" id=\"7e6955ee-18a3-467d-87d2-51f593f5322f\" type=\"checkbox\" ><label class=\"sk-toggleable__label\" for=\"7e6955ee-18a3-467d-87d2-51f593f5322f\">QuadraticDiscriminantAnalysis</label><div class=\"sk-toggleable__content\"><pre>QuadraticDiscriminantAnalysis()</pre></div></div></div></div></div></div></div>"
      ],
      "text/plain": [
       "Pipeline(steps=[('column_transformer',\n",
       "                 ColumnTransformer(remainder=MinMaxScaler(),\n",
       "                                   transformers=[('countvectorizer',\n",
       "                                                  CountVectorizer(),\n",
       "                                                  'cleaned_comment_text'),\n",
       "                                                 ('tfidfvectorizer-1',\n",
       "                                                  TfidfVectorizer(),\n",
       "                                                  'cleaned_comment_text'),\n",
       "                                                 ('tfidfvectorizer-2',\n",
       "                                                  TfidfVectorizer(use_idf=False),\n",
       "                                                  'cleaned_comment_text')])),\n",
       "                ('dense', DenseTransformer()),\n",
       "                ('clf', QuadraticDiscriminantAnalysis())])"
      ]
     },
     "metadata": {},
     "output_type": "display_data"
    },
    {
     "name": "stdout",
     "output_type": "stream",
     "text": [
      "\n",
      "--------------------------------------------------------------------------------\n",
      "Quadratic Discriminant Analysis Sub2_Engaging :\n",
      "\n"
     ]
    },
    {
     "data": {
      "text/html": [
       "<style>#sk-49cf8e67-9bd2-405a-a5b0-035053ff7d99 {color: black;background-color: white;}#sk-49cf8e67-9bd2-405a-a5b0-035053ff7d99 pre{padding: 0;}#sk-49cf8e67-9bd2-405a-a5b0-035053ff7d99 div.sk-toggleable {background-color: white;}#sk-49cf8e67-9bd2-405a-a5b0-035053ff7d99 label.sk-toggleable__label {cursor: pointer;display: block;width: 100%;margin-bottom: 0;padding: 0.3em;box-sizing: border-box;text-align: center;}#sk-49cf8e67-9bd2-405a-a5b0-035053ff7d99 div.sk-toggleable__content {max-height: 0;max-width: 0;overflow: hidden;text-align: left;background-color: #f0f8ff;}#sk-49cf8e67-9bd2-405a-a5b0-035053ff7d99 div.sk-toggleable__content pre {margin: 0.2em;color: black;border-radius: 0.25em;background-color: #f0f8ff;}#sk-49cf8e67-9bd2-405a-a5b0-035053ff7d99 input.sk-toggleable__control:checked~div.sk-toggleable__content {max-height: 200px;max-width: 100%;overflow: auto;}#sk-49cf8e67-9bd2-405a-a5b0-035053ff7d99 div.sk-estimator input.sk-toggleable__control:checked~label.sk-toggleable__label {background-color: #d4ebff;}#sk-49cf8e67-9bd2-405a-a5b0-035053ff7d99 div.sk-label input.sk-toggleable__control:checked~label.sk-toggleable__label {background-color: #d4ebff;}#sk-49cf8e67-9bd2-405a-a5b0-035053ff7d99 input.sk-hidden--visually {border: 0;clip: rect(1px 1px 1px 1px);clip: rect(1px, 1px, 1px, 1px);height: 1px;margin: -1px;overflow: hidden;padding: 0;position: absolute;width: 1px;}#sk-49cf8e67-9bd2-405a-a5b0-035053ff7d99 div.sk-estimator {font-family: monospace;background-color: #f0f8ff;border: 1px dotted black;border-radius: 0.25em;box-sizing: border-box;margin-bottom: 0.5em;}#sk-49cf8e67-9bd2-405a-a5b0-035053ff7d99 div.sk-estimator:hover {background-color: #d4ebff;}#sk-49cf8e67-9bd2-405a-a5b0-035053ff7d99 div.sk-parallel-item::after {content: \"\";width: 100%;border-bottom: 1px solid gray;flex-grow: 1;}#sk-49cf8e67-9bd2-405a-a5b0-035053ff7d99 div.sk-label:hover label.sk-toggleable__label {background-color: #d4ebff;}#sk-49cf8e67-9bd2-405a-a5b0-035053ff7d99 div.sk-serial::before {content: \"\";position: absolute;border-left: 1px solid gray;box-sizing: border-box;top: 2em;bottom: 0;left: 50%;}#sk-49cf8e67-9bd2-405a-a5b0-035053ff7d99 div.sk-serial {display: flex;flex-direction: column;align-items: center;background-color: white;padding-right: 0.2em;padding-left: 0.2em;}#sk-49cf8e67-9bd2-405a-a5b0-035053ff7d99 div.sk-item {z-index: 1;}#sk-49cf8e67-9bd2-405a-a5b0-035053ff7d99 div.sk-parallel {display: flex;align-items: stretch;justify-content: center;background-color: white;}#sk-49cf8e67-9bd2-405a-a5b0-035053ff7d99 div.sk-parallel::before {content: \"\";position: absolute;border-left: 1px solid gray;box-sizing: border-box;top: 2em;bottom: 0;left: 50%;}#sk-49cf8e67-9bd2-405a-a5b0-035053ff7d99 div.sk-parallel-item {display: flex;flex-direction: column;position: relative;background-color: white;}#sk-49cf8e67-9bd2-405a-a5b0-035053ff7d99 div.sk-parallel-item:first-child::after {align-self: flex-end;width: 50%;}#sk-49cf8e67-9bd2-405a-a5b0-035053ff7d99 div.sk-parallel-item:last-child::after {align-self: flex-start;width: 50%;}#sk-49cf8e67-9bd2-405a-a5b0-035053ff7d99 div.sk-parallel-item:only-child::after {width: 0;}#sk-49cf8e67-9bd2-405a-a5b0-035053ff7d99 div.sk-dashed-wrapped {border: 1px dashed gray;margin: 0 0.4em 0.5em 0.4em;box-sizing: border-box;padding-bottom: 0.4em;background-color: white;position: relative;}#sk-49cf8e67-9bd2-405a-a5b0-035053ff7d99 div.sk-label label {font-family: monospace;font-weight: bold;background-color: white;display: inline-block;line-height: 1.2em;}#sk-49cf8e67-9bd2-405a-a5b0-035053ff7d99 div.sk-label-container {position: relative;z-index: 2;text-align: center;}#sk-49cf8e67-9bd2-405a-a5b0-035053ff7d99 div.sk-container {display: inline-block;position: relative;}</style><div id=\"sk-49cf8e67-9bd2-405a-a5b0-035053ff7d99\" class\"sk-top-container\"><div class=\"sk-container\"><div class=\"sk-item sk-dashed-wrapped\"><div class=\"sk-label-container\"><div class=\"sk-label sk-toggleable\"><input class=\"sk-toggleable__control sk-hidden--visually\" id=\"88a74e4b-50ff-41e9-b659-f2619294b582\" type=\"checkbox\" ><label class=\"sk-toggleable__label\" for=\"88a74e4b-50ff-41e9-b659-f2619294b582\">Pipeline</label><div class=\"sk-toggleable__content\"><pre>Pipeline(steps=[('column_transformer',\n",
       "                 ColumnTransformer(remainder=MinMaxScaler(),\n",
       "                                   transformers=[('countvectorizer',\n",
       "                                                  CountVectorizer(),\n",
       "                                                  'cleaned_comment_text'),\n",
       "                                                 ('tfidfvectorizer-1',\n",
       "                                                  TfidfVectorizer(),\n",
       "                                                  'cleaned_comment_text'),\n",
       "                                                 ('tfidfvectorizer-2',\n",
       "                                                  TfidfVectorizer(use_idf=False),\n",
       "                                                  'cleaned_comment_text')])),\n",
       "                ('dense', DenseTransformer()),\n",
       "                ('clf', QuadraticDiscriminantAnalysis())])</pre></div></div></div><div class=\"sk-serial\"><div class=\"sk-item sk-dashed-wrapped\"><div class=\"sk-label-container\"><div class=\"sk-label sk-toggleable\"><input class=\"sk-toggleable__control sk-hidden--visually\" id=\"8587add0-077f-4ec8-be71-bf37100dea74\" type=\"checkbox\" ><label class=\"sk-toggleable__label\" for=\"8587add0-077f-4ec8-be71-bf37100dea74\">column_transformer: ColumnTransformer</label><div class=\"sk-toggleable__content\"><pre>ColumnTransformer(remainder=MinMaxScaler(),\n",
       "                  transformers=[('countvectorizer', CountVectorizer(),\n",
       "                                 'cleaned_comment_text'),\n",
       "                                ('tfidfvectorizer-1', TfidfVectorizer(),\n",
       "                                 'cleaned_comment_text'),\n",
       "                                ('tfidfvectorizer-2',\n",
       "                                 TfidfVectorizer(use_idf=False),\n",
       "                                 'cleaned_comment_text')])</pre></div></div></div><div class=\"sk-parallel\"><div class=\"sk-parallel-item\"><div class=\"sk-item\"><div class=\"sk-label-container\"><div class=\"sk-label sk-toggleable\"><input class=\"sk-toggleable__control sk-hidden--visually\" id=\"0d5f89d0-90ea-48ee-8a94-ce3aaddcd8b9\" type=\"checkbox\" ><label class=\"sk-toggleable__label\" for=\"0d5f89d0-90ea-48ee-8a94-ce3aaddcd8b9\">countvectorizer</label><div class=\"sk-toggleable__content\"><pre>cleaned_comment_text</pre></div></div></div><div class=\"sk-serial\"><div class=\"sk-item\"><div class=\"sk-estimator sk-toggleable\"><input class=\"sk-toggleable__control sk-hidden--visually\" id=\"3ff31d71-bc91-4dbd-99dd-f4cc197e9cbd\" type=\"checkbox\" ><label class=\"sk-toggleable__label\" for=\"3ff31d71-bc91-4dbd-99dd-f4cc197e9cbd\">CountVectorizer</label><div class=\"sk-toggleable__content\"><pre>CountVectorizer()</pre></div></div></div></div></div></div><div class=\"sk-parallel-item\"><div class=\"sk-item\"><div class=\"sk-label-container\"><div class=\"sk-label sk-toggleable\"><input class=\"sk-toggleable__control sk-hidden--visually\" id=\"da630dd2-6f7a-4a2b-9191-e967d50d9705\" type=\"checkbox\" ><label class=\"sk-toggleable__label\" for=\"da630dd2-6f7a-4a2b-9191-e967d50d9705\">tfidfvectorizer-1</label><div class=\"sk-toggleable__content\"><pre>cleaned_comment_text</pre></div></div></div><div class=\"sk-serial\"><div class=\"sk-item\"><div class=\"sk-estimator sk-toggleable\"><input class=\"sk-toggleable__control sk-hidden--visually\" id=\"3c1c59b9-b006-4eef-b166-3c57526e8ec8\" type=\"checkbox\" ><label class=\"sk-toggleable__label\" for=\"3c1c59b9-b006-4eef-b166-3c57526e8ec8\">TfidfVectorizer</label><div class=\"sk-toggleable__content\"><pre>TfidfVectorizer()</pre></div></div></div></div></div></div><div class=\"sk-parallel-item\"><div class=\"sk-item\"><div class=\"sk-label-container\"><div class=\"sk-label sk-toggleable\"><input class=\"sk-toggleable__control sk-hidden--visually\" id=\"f7b4e95e-61fc-45d3-af5c-893b0b72301d\" type=\"checkbox\" ><label class=\"sk-toggleable__label\" for=\"f7b4e95e-61fc-45d3-af5c-893b0b72301d\">tfidfvectorizer-2</label><div class=\"sk-toggleable__content\"><pre>cleaned_comment_text</pre></div></div></div><div class=\"sk-serial\"><div class=\"sk-item\"><div class=\"sk-estimator sk-toggleable\"><input class=\"sk-toggleable__control sk-hidden--visually\" id=\"2a8551b5-4a7d-4fa7-ab90-351fcc120007\" type=\"checkbox\" ><label class=\"sk-toggleable__label\" for=\"2a8551b5-4a7d-4fa7-ab90-351fcc120007\">TfidfVectorizer</label><div class=\"sk-toggleable__content\"><pre>TfidfVectorizer(use_idf=False)</pre></div></div></div></div></div></div><div class=\"sk-parallel-item\"><div class=\"sk-item\"><div class=\"sk-label-container\"><div class=\"sk-label sk-toggleable\"><input class=\"sk-toggleable__control sk-hidden--visually\" id=\"fa701944-86bf-4094-af47-2753348e52ae\" type=\"checkbox\" ><label class=\"sk-toggleable__label\" for=\"fa701944-86bf-4094-af47-2753348e52ae\">remainder</label><div class=\"sk-toggleable__content\"><pre>['n_all_caps', 'perc_exclamations', 'num_exclamations']</pre></div></div></div><div class=\"sk-serial\"><div class=\"sk-item\"><div class=\"sk-estimator sk-toggleable\"><input class=\"sk-toggleable__control sk-hidden--visually\" id=\"495da9e4-d742-4291-bf69-d4198f1476d0\" type=\"checkbox\" ><label class=\"sk-toggleable__label\" for=\"495da9e4-d742-4291-bf69-d4198f1476d0\">MinMaxScaler</label><div class=\"sk-toggleable__content\"><pre>MinMaxScaler()</pre></div></div></div></div></div></div></div></div><div class=\"sk-item\"><div class=\"sk-estimator sk-toggleable\"><input class=\"sk-toggleable__control sk-hidden--visually\" id=\"69c94c4a-2016-4f75-bc1b-c44e1093b807\" type=\"checkbox\" ><label class=\"sk-toggleable__label\" for=\"69c94c4a-2016-4f75-bc1b-c44e1093b807\">DenseTransformer</label><div class=\"sk-toggleable__content\"><pre>DenseTransformer()</pre></div></div></div><div class=\"sk-item\"><div class=\"sk-estimator sk-toggleable\"><input class=\"sk-toggleable__control sk-hidden--visually\" id=\"4be93c1f-c958-47c5-a982-8e23783bebfa\" type=\"checkbox\" ><label class=\"sk-toggleable__label\" for=\"4be93c1f-c958-47c5-a982-8e23783bebfa\">QuadraticDiscriminantAnalysis</label><div class=\"sk-toggleable__content\"><pre>QuadraticDiscriminantAnalysis()</pre></div></div></div></div></div></div></div>"
      ],
      "text/plain": [
       "Pipeline(steps=[('column_transformer',\n",
       "                 ColumnTransformer(remainder=MinMaxScaler(),\n",
       "                                   transformers=[('countvectorizer',\n",
       "                                                  CountVectorizer(),\n",
       "                                                  'cleaned_comment_text'),\n",
       "                                                 ('tfidfvectorizer-1',\n",
       "                                                  TfidfVectorizer(),\n",
       "                                                  'cleaned_comment_text'),\n",
       "                                                 ('tfidfvectorizer-2',\n",
       "                                                  TfidfVectorizer(use_idf=False),\n",
       "                                                  'cleaned_comment_text')])),\n",
       "                ('dense', DenseTransformer()),\n",
       "                ('clf', QuadraticDiscriminantAnalysis())])"
      ]
     },
     "metadata": {},
     "output_type": "display_data"
    },
    {
     "name": "stdout",
     "output_type": "stream",
     "text": [
      "\n",
      "--------------------------------------------------------------------------------\n",
      "Quadratic Discriminant Analysis Sub3_FactClaiming :\n",
      "\n"
     ]
    },
    {
     "data": {
      "text/html": [
       "<style>#sk-3ff70fce-bf78-4229-9ed0-c879e2dc5950 {color: black;background-color: white;}#sk-3ff70fce-bf78-4229-9ed0-c879e2dc5950 pre{padding: 0;}#sk-3ff70fce-bf78-4229-9ed0-c879e2dc5950 div.sk-toggleable {background-color: white;}#sk-3ff70fce-bf78-4229-9ed0-c879e2dc5950 label.sk-toggleable__label {cursor: pointer;display: block;width: 100%;margin-bottom: 0;padding: 0.3em;box-sizing: border-box;text-align: center;}#sk-3ff70fce-bf78-4229-9ed0-c879e2dc5950 div.sk-toggleable__content {max-height: 0;max-width: 0;overflow: hidden;text-align: left;background-color: #f0f8ff;}#sk-3ff70fce-bf78-4229-9ed0-c879e2dc5950 div.sk-toggleable__content pre {margin: 0.2em;color: black;border-radius: 0.25em;background-color: #f0f8ff;}#sk-3ff70fce-bf78-4229-9ed0-c879e2dc5950 input.sk-toggleable__control:checked~div.sk-toggleable__content {max-height: 200px;max-width: 100%;overflow: auto;}#sk-3ff70fce-bf78-4229-9ed0-c879e2dc5950 div.sk-estimator input.sk-toggleable__control:checked~label.sk-toggleable__label {background-color: #d4ebff;}#sk-3ff70fce-bf78-4229-9ed0-c879e2dc5950 div.sk-label input.sk-toggleable__control:checked~label.sk-toggleable__label {background-color: #d4ebff;}#sk-3ff70fce-bf78-4229-9ed0-c879e2dc5950 input.sk-hidden--visually {border: 0;clip: rect(1px 1px 1px 1px);clip: rect(1px, 1px, 1px, 1px);height: 1px;margin: -1px;overflow: hidden;padding: 0;position: absolute;width: 1px;}#sk-3ff70fce-bf78-4229-9ed0-c879e2dc5950 div.sk-estimator {font-family: monospace;background-color: #f0f8ff;border: 1px dotted black;border-radius: 0.25em;box-sizing: border-box;margin-bottom: 0.5em;}#sk-3ff70fce-bf78-4229-9ed0-c879e2dc5950 div.sk-estimator:hover {background-color: #d4ebff;}#sk-3ff70fce-bf78-4229-9ed0-c879e2dc5950 div.sk-parallel-item::after {content: \"\";width: 100%;border-bottom: 1px solid gray;flex-grow: 1;}#sk-3ff70fce-bf78-4229-9ed0-c879e2dc5950 div.sk-label:hover label.sk-toggleable__label {background-color: #d4ebff;}#sk-3ff70fce-bf78-4229-9ed0-c879e2dc5950 div.sk-serial::before {content: \"\";position: absolute;border-left: 1px solid gray;box-sizing: border-box;top: 2em;bottom: 0;left: 50%;}#sk-3ff70fce-bf78-4229-9ed0-c879e2dc5950 div.sk-serial {display: flex;flex-direction: column;align-items: center;background-color: white;padding-right: 0.2em;padding-left: 0.2em;}#sk-3ff70fce-bf78-4229-9ed0-c879e2dc5950 div.sk-item {z-index: 1;}#sk-3ff70fce-bf78-4229-9ed0-c879e2dc5950 div.sk-parallel {display: flex;align-items: stretch;justify-content: center;background-color: white;}#sk-3ff70fce-bf78-4229-9ed0-c879e2dc5950 div.sk-parallel::before {content: \"\";position: absolute;border-left: 1px solid gray;box-sizing: border-box;top: 2em;bottom: 0;left: 50%;}#sk-3ff70fce-bf78-4229-9ed0-c879e2dc5950 div.sk-parallel-item {display: flex;flex-direction: column;position: relative;background-color: white;}#sk-3ff70fce-bf78-4229-9ed0-c879e2dc5950 div.sk-parallel-item:first-child::after {align-self: flex-end;width: 50%;}#sk-3ff70fce-bf78-4229-9ed0-c879e2dc5950 div.sk-parallel-item:last-child::after {align-self: flex-start;width: 50%;}#sk-3ff70fce-bf78-4229-9ed0-c879e2dc5950 div.sk-parallel-item:only-child::after {width: 0;}#sk-3ff70fce-bf78-4229-9ed0-c879e2dc5950 div.sk-dashed-wrapped {border: 1px dashed gray;margin: 0 0.4em 0.5em 0.4em;box-sizing: border-box;padding-bottom: 0.4em;background-color: white;position: relative;}#sk-3ff70fce-bf78-4229-9ed0-c879e2dc5950 div.sk-label label {font-family: monospace;font-weight: bold;background-color: white;display: inline-block;line-height: 1.2em;}#sk-3ff70fce-bf78-4229-9ed0-c879e2dc5950 div.sk-label-container {position: relative;z-index: 2;text-align: center;}#sk-3ff70fce-bf78-4229-9ed0-c879e2dc5950 div.sk-container {display: inline-block;position: relative;}</style><div id=\"sk-3ff70fce-bf78-4229-9ed0-c879e2dc5950\" class\"sk-top-container\"><div class=\"sk-container\"><div class=\"sk-item sk-dashed-wrapped\"><div class=\"sk-label-container\"><div class=\"sk-label sk-toggleable\"><input class=\"sk-toggleable__control sk-hidden--visually\" id=\"c369414d-bc6a-489b-b40c-dbaba3b5ec97\" type=\"checkbox\" ><label class=\"sk-toggleable__label\" for=\"c369414d-bc6a-489b-b40c-dbaba3b5ec97\">Pipeline</label><div class=\"sk-toggleable__content\"><pre>Pipeline(steps=[('column_transformer',\n",
       "                 ColumnTransformer(remainder=MinMaxScaler(),\n",
       "                                   transformers=[('countvectorizer',\n",
       "                                                  CountVectorizer(),\n",
       "                                                  'cleaned_comment_text'),\n",
       "                                                 ('tfidfvectorizer-1',\n",
       "                                                  TfidfVectorizer(),\n",
       "                                                  'cleaned_comment_text'),\n",
       "                                                 ('tfidfvectorizer-2',\n",
       "                                                  TfidfVectorizer(use_idf=False),\n",
       "                                                  'cleaned_comment_text')])),\n",
       "                ('dense', DenseTransformer()),\n",
       "                ('clf', QuadraticDiscriminantAnalysis())])</pre></div></div></div><div class=\"sk-serial\"><div class=\"sk-item sk-dashed-wrapped\"><div class=\"sk-label-container\"><div class=\"sk-label sk-toggleable\"><input class=\"sk-toggleable__control sk-hidden--visually\" id=\"3d4e4f32-711e-4b95-b630-9de397b93bd5\" type=\"checkbox\" ><label class=\"sk-toggleable__label\" for=\"3d4e4f32-711e-4b95-b630-9de397b93bd5\">column_transformer: ColumnTransformer</label><div class=\"sk-toggleable__content\"><pre>ColumnTransformer(remainder=MinMaxScaler(),\n",
       "                  transformers=[('countvectorizer', CountVectorizer(),\n",
       "                                 'cleaned_comment_text'),\n",
       "                                ('tfidfvectorizer-1', TfidfVectorizer(),\n",
       "                                 'cleaned_comment_text'),\n",
       "                                ('tfidfvectorizer-2',\n",
       "                                 TfidfVectorizer(use_idf=False),\n",
       "                                 'cleaned_comment_text')])</pre></div></div></div><div class=\"sk-parallel\"><div class=\"sk-parallel-item\"><div class=\"sk-item\"><div class=\"sk-label-container\"><div class=\"sk-label sk-toggleable\"><input class=\"sk-toggleable__control sk-hidden--visually\" id=\"0b6d8106-ef3f-4cc1-9b0d-7dc523c4b143\" type=\"checkbox\" ><label class=\"sk-toggleable__label\" for=\"0b6d8106-ef3f-4cc1-9b0d-7dc523c4b143\">countvectorizer</label><div class=\"sk-toggleable__content\"><pre>cleaned_comment_text</pre></div></div></div><div class=\"sk-serial\"><div class=\"sk-item\"><div class=\"sk-estimator sk-toggleable\"><input class=\"sk-toggleable__control sk-hidden--visually\" id=\"42ac6c83-4d2f-4bc0-ad58-bdb1ece26370\" type=\"checkbox\" ><label class=\"sk-toggleable__label\" for=\"42ac6c83-4d2f-4bc0-ad58-bdb1ece26370\">CountVectorizer</label><div class=\"sk-toggleable__content\"><pre>CountVectorizer()</pre></div></div></div></div></div></div><div class=\"sk-parallel-item\"><div class=\"sk-item\"><div class=\"sk-label-container\"><div class=\"sk-label sk-toggleable\"><input class=\"sk-toggleable__control sk-hidden--visually\" id=\"942f82f9-4b36-455b-8de4-a78c3719ad06\" type=\"checkbox\" ><label class=\"sk-toggleable__label\" for=\"942f82f9-4b36-455b-8de4-a78c3719ad06\">tfidfvectorizer-1</label><div class=\"sk-toggleable__content\"><pre>cleaned_comment_text</pre></div></div></div><div class=\"sk-serial\"><div class=\"sk-item\"><div class=\"sk-estimator sk-toggleable\"><input class=\"sk-toggleable__control sk-hidden--visually\" id=\"96767019-4e76-4359-9d4b-add4f9f134be\" type=\"checkbox\" ><label class=\"sk-toggleable__label\" for=\"96767019-4e76-4359-9d4b-add4f9f134be\">TfidfVectorizer</label><div class=\"sk-toggleable__content\"><pre>TfidfVectorizer()</pre></div></div></div></div></div></div><div class=\"sk-parallel-item\"><div class=\"sk-item\"><div class=\"sk-label-container\"><div class=\"sk-label sk-toggleable\"><input class=\"sk-toggleable__control sk-hidden--visually\" id=\"50b3711b-0608-48a5-95c3-26d0995ffffc\" type=\"checkbox\" ><label class=\"sk-toggleable__label\" for=\"50b3711b-0608-48a5-95c3-26d0995ffffc\">tfidfvectorizer-2</label><div class=\"sk-toggleable__content\"><pre>cleaned_comment_text</pre></div></div></div><div class=\"sk-serial\"><div class=\"sk-item\"><div class=\"sk-estimator sk-toggleable\"><input class=\"sk-toggleable__control sk-hidden--visually\" id=\"582be0d6-0ead-4e09-95e3-baa923037ad7\" type=\"checkbox\" ><label class=\"sk-toggleable__label\" for=\"582be0d6-0ead-4e09-95e3-baa923037ad7\">TfidfVectorizer</label><div class=\"sk-toggleable__content\"><pre>TfidfVectorizer(use_idf=False)</pre></div></div></div></div></div></div><div class=\"sk-parallel-item\"><div class=\"sk-item\"><div class=\"sk-label-container\"><div class=\"sk-label sk-toggleable\"><input class=\"sk-toggleable__control sk-hidden--visually\" id=\"77715e16-1a41-4fab-9a8f-4b1fc3fd79e8\" type=\"checkbox\" ><label class=\"sk-toggleable__label\" for=\"77715e16-1a41-4fab-9a8f-4b1fc3fd79e8\">remainder</label><div class=\"sk-toggleable__content\"><pre>['n_all_caps', 'perc_exclamations', 'num_exclamations']</pre></div></div></div><div class=\"sk-serial\"><div class=\"sk-item\"><div class=\"sk-estimator sk-toggleable\"><input class=\"sk-toggleable__control sk-hidden--visually\" id=\"ff9fed9d-c3f8-44d2-bb26-db0c286aaaed\" type=\"checkbox\" ><label class=\"sk-toggleable__label\" for=\"ff9fed9d-c3f8-44d2-bb26-db0c286aaaed\">MinMaxScaler</label><div class=\"sk-toggleable__content\"><pre>MinMaxScaler()</pre></div></div></div></div></div></div></div></div><div class=\"sk-item\"><div class=\"sk-estimator sk-toggleable\"><input class=\"sk-toggleable__control sk-hidden--visually\" id=\"2f6d29b6-1a2b-43dc-b07d-d42397665249\" type=\"checkbox\" ><label class=\"sk-toggleable__label\" for=\"2f6d29b6-1a2b-43dc-b07d-d42397665249\">DenseTransformer</label><div class=\"sk-toggleable__content\"><pre>DenseTransformer()</pre></div></div></div><div class=\"sk-item\"><div class=\"sk-estimator sk-toggleable\"><input class=\"sk-toggleable__control sk-hidden--visually\" id=\"ffc86096-f66e-4c9c-98c8-9c5bb35e5ab8\" type=\"checkbox\" ><label class=\"sk-toggleable__label\" for=\"ffc86096-f66e-4c9c-98c8-9c5bb35e5ab8\">QuadraticDiscriminantAnalysis</label><div class=\"sk-toggleable__content\"><pre>QuadraticDiscriminantAnalysis()</pre></div></div></div></div></div></div></div>"
      ],
      "text/plain": [
       "Pipeline(steps=[('column_transformer',\n",
       "                 ColumnTransformer(remainder=MinMaxScaler(),\n",
       "                                   transformers=[('countvectorizer',\n",
       "                                                  CountVectorizer(),\n",
       "                                                  'cleaned_comment_text'),\n",
       "                                                 ('tfidfvectorizer-1',\n",
       "                                                  TfidfVectorizer(),\n",
       "                                                  'cleaned_comment_text'),\n",
       "                                                 ('tfidfvectorizer-2',\n",
       "                                                  TfidfVectorizer(use_idf=False),\n",
       "                                                  'cleaned_comment_text')])),\n",
       "                ('dense', DenseTransformer()),\n",
       "                ('clf', QuadraticDiscriminantAnalysis())])"
      ]
     },
     "metadata": {},
     "output_type": "display_data"
    }
   ],
   "source": [
    "from sklearn.naive_bayes import MultinomialNB, CategoricalNB, BernoulliNB\n",
    "from sklearn.datasets import fetch_20newsgroups\n",
    "from sklearn.feature_extraction.text import CountVectorizer, TfidfVectorizer\n",
    "from sklearn.metrics import confusion_matrix, f1_score, accuracy_score\n",
    "from sklearn.model_selection import train_test_split\n",
    "from sklearn.linear_model import LogisticRegression\n",
    "#from sklearn.pipeline import Pipeline\n",
    "from imblearn.pipeline import Pipeline\n",
    "from imblearn.over_sampling import SMOTE \n",
    "from sklearn.decomposition import PCA\n",
    "from sklearn.preprocessing import StandardScaler, MinMaxScaler\n",
    "from sklearn.compose import make_column_transformer\n",
    "from sklearn.compose import ColumnTransformer\n",
    "from sklearn.svm import LinearSVC\n",
    "from sklearn.ensemble import RandomForestClassifier\n",
    "from mlxtend.preprocessing import DenseTransformer\n",
    "from sklearn.linear_model import Lasso\n",
    "from sklearn.linear_model import Ridge\n",
    "from sklearn.ensemble import AdaBoostClassifier\n",
    "from sklearn.svm import SVC\n",
    "from sklearn.discriminant_analysis import QuadraticDiscriminantAnalysis\n",
    "\n",
    "def get_feature_column_names(df):\n",
    "    return [cname for cname in df.columns if not cname.startswith('Sub')]\n",
    "\n",
    "def get_target_column_names(df):\n",
    "    return [cname for cname in df.columns if cname.startswith('Sub')]\n",
    "\n",
    "def is_text_column(colname:str)->bool:\n",
    "    if 'text' in colname:\n",
    "        return True\n",
    "    return False\n",
    "\n",
    "def get_text_columns(df)->list:\n",
    "    return [cn for cn in df.columns if is_text_column(cn)]\n",
    "\n",
    "def get_nontext_columns(df)->list:\n",
    "    return [cn for cn in df.columns if not is_text_column(cn)]\n",
    "\n",
    "def run_classification(                                                     \\\n",
    "                       dataset:pd.DataFrame,                                \\\n",
    "                       target_column:str,                                   \\\n",
    "                       clf_gen_fn,                                          \\\n",
    "                       use_smote=False)->tuple:\n",
    "    dataset = dataset[[cn for cn in dataset.columns if cn != 'comment_text']]\n",
    "    X = dataset[get_feature_column_names(dataset)]\n",
    "    y = dataset[target_column]\n",
    "    trainX, testX, trainY, testY = train_test_split(X, y, random_state=0)\n",
    "\n",
    "    def get_text_pipeline():\n",
    "        return Pipeline(                                                    \\\n",
    "                        [                                                   \\\n",
    "                            ('cv', CountVectorizer(),),                     \\\n",
    "                            ('tfid', TfidfVectorizer()),                    \\\n",
    "                        ])\n",
    "\n",
    "                        \n",
    "    column_trans = make_column_transformer(                                 \\\n",
    "                            (CountVectorizer(ngram_range=(1,1)), 'cleaned_comment_text'),   \\\n",
    "                            (TfidfVectorizer(use_idf=True), 'cleaned_comment_text'),    \\\n",
    "                            (TfidfVectorizer(use_idf=False), 'cleaned_comment_text'),    \\\n",
    "                            remainder=MinMaxScaler(),                       \\\n",
    "                        )\n",
    "\n",
    "    if use_smote:\n",
    "        classif_pipeline = Pipeline(                                        \\\n",
    "                                [                                           \\\n",
    "                                    ('column_transformer', column_trans),   \\\n",
    "                                    ('dense', DenseTransformer()),          \\\n",
    "                                    ('smote', SMOTE(n_jobs=-1)),            \\\n",
    "                                    ('clf', clf_gen_fn()),                  \\\n",
    "                                ])\n",
    "    else:\n",
    "        classif_pipeline = Pipeline(                                        \\\n",
    "                                [                                           \\\n",
    "                                    ('column_transformer', column_trans),   \\\n",
    "                                    ('dense', DenseTransformer()),          \\\n",
    "                                    ('clf', clf_gen_fn()),                  \\\n",
    "                                ])\n",
    "    \n",
    "    \n",
    "    classif_pipeline.fit(trainX, trainY)\n",
    "    y_pred = classif_pipeline.predict(testX)\n",
    "\n",
    "    return accuracy_score(testY, y_pred), f1_score(testY, y_pred), classif_pipeline\n",
    "\n",
    "def run_classifiers():\n",
    "\n",
    "    classifiers = {\n",
    "        \"LinearSVC_nosmote\": (False, lambda: LinearSVC(),),\n",
    "        \"LinearSVC\": (True, lambda: LinearSVC(),),\n",
    "        \"AdaBoost\": (False, lambda: AdaBoostClassifier(),),\n",
    "        'SVC': (False, lambda: SVC(),),\n",
    "        'RBF SVC': (False, lambda:  SVC(gamma=2, C=1),),\n",
    "        \"MultinomialNB_nosmote\": (False, lambda: MultinomialNB(),),\n",
    "        \"RandomForestClassifier\": (True, lambda: RandomForestClassifier(n_jobs=-1),),\n",
    "        \"RandomForestClassifier_nosmote\": (False, lambda: RandomForestClassifier(n_jobs=-1),),\n",
    "        \"BernoulliNB_nosmote\": (False, lambda: BernoulliNB(),),\n",
    "        \"Quadratic Discriminant Analysis\": (False, lambda: QuadraticDiscriminantAnalysis(),)\n",
    "    }\n",
    "\n",
    "    result_df = pd.DataFrame(                                                           \\\n",
    "                    {                                                       \\\n",
    "                        'classifier': pd.Series('str'),                     \\\n",
    "                        'task_name': pd.Series('str'),                      \\\n",
    "                        'metric': pd.Series('str'),                         \\\n",
    "                        'smote': pd.Series(int),                            \\\n",
    "                        'value': pd.Series(float),                          \\\n",
    "                    })\n",
    "\n",
    "    model_arr = list()\n",
    "    for clfname, value in classifiers.items():\n",
    "        use_smote, clfgen = value\n",
    "        for colname in ['Sub1_Toxic', 'Sub2_Engaging', 'Sub3_FactClaiming']:\n",
    "            accuracy, f1, model = run_classification(train_df, colname, clfgen, use_smote)\n",
    "            print(f\"{clfname:20.20s} {colname:20.20s} accuracy={accuracy:1.3f}              f1={f1:1.3f}   smote={use_smote}\")\n",
    "            result_dict = {\n",
    "                'classifier': clfname,\n",
    "                'task_name': colname,\n",
    "                'metric': 'accuracy',\n",
    "                'value': accuracy,\n",
    "                'smote': 1 if use_smote else 0\n",
    "            }\n",
    "            result_df = result_df.append(result_dict, ignore_index=True)\n",
    "            result_dict = {\n",
    "                'classifier': clfname,\n",
    "                'task_name': colname,\n",
    "                'metric': 'f1_score',\n",
    "                'value': f1,\n",
    "                'smote': 1 if use_smote else 0\n",
    "            }\n",
    "            result_df = result_df.append(result_dict, ignore_index=True)\n",
    "            model_arr.append((clfname, colname, model))\n",
    "\n",
    "        \n",
    "    return result_df, model_arr\n",
    "\n",
    "seed_random()\n",
    "result_df, model_arr = run_classifiers()\n",
    "\n",
    "print('=' * 80)\n",
    "print('=' * 80)\n",
    "\n",
    "from sklearn import set_config\n",
    "\n",
    "set_config(display=\"diagram\")\n",
    "import IPython\n",
    "for clfname, colname, model in model_arr:\n",
    "    print()\n",
    "    print('-' * 80)\n",
    "    print(clfname, colname, ':')\n",
    "    print()\n",
    "    IPython.display.display(model)"
   ]
  },
  {
   "cell_type": "code",
   "execution_count": 15,
   "metadata": {
    "colab": {
     "base_uri": "https://localhost:8080/"
    },
    "id": "8a1buL1EozuH",
    "outputId": "9ede50d2-e5ae-4152-dbb9-e175144330b4"
   },
   "outputs": [
    {
     "name": "stdout",
     "output_type": "stream",
     "text": [
      "================================================================================\n",
      "Sub1_Toxic\n",
      "----------\n",
      "\n",
      "               classifier   task_name    metric smote     value\n",
      "49    BernoulliNB_nosmote  Sub1_Toxic  accuracy     0   0.67209\n",
      "1       LinearSVC_nosmote  Sub1_Toxic  accuracy     0  0.662078\n",
      "31  MultinomialNB_nosmote  Sub1_Toxic  accuracy     0  0.659574\n",
      "\n",
      "                         classifier   task_name    metric smote     value\n",
      "2                 LinearSVC_nosmote  Sub1_Toxic  f1_score     0  0.470588\n",
      "8                         LinearSVC  Sub1_Toxic  f1_score     1  0.470149\n",
      "56  Quadratic Discriminant Analysis  Sub1_Toxic  f1_score     0  0.463104\n",
      "\n",
      "================================================================================\n",
      "Sub2_Engaging\n",
      "-------------\n",
      "\n",
      "                        classifier      task_name    metric smote     value\n",
      "39          RandomForestClassifier  Sub2_Engaging  accuracy     1  0.829787\n",
      "45  RandomForestClassifier_nosmote  Sub2_Engaging  accuracy     0  0.828536\n",
      "21                             SVC  Sub2_Engaging  accuracy     0  0.827284\n",
      "\n",
      "                classifier      task_name    metric smote     value\n",
      "40  RandomForestClassifier  Sub2_Engaging  f1_score     1  0.624309\n",
      "16                AdaBoost  Sub2_Engaging  f1_score     0  0.596774\n",
      "4        LinearSVC_nosmote  Sub2_Engaging  f1_score     0  0.583569\n",
      "\n",
      "================================================================================\n",
      "Sub3_FactClaiming\n",
      "-----------------\n",
      "\n",
      "                        classifier          task_name    metric smote     value\n",
      "47  RandomForestClassifier_nosmote  Sub3_FactClaiming  accuracy     0  0.755945\n",
      "11                       LinearSVC  Sub3_FactClaiming  accuracy     1  0.744681\n",
      "5                LinearSVC_nosmote  Sub3_FactClaiming  accuracy     0  0.740926\n",
      "\n",
      "               classifier          task_name    metric smote     value\n",
      "36  MultinomialNB_nosmote  Sub3_FactClaiming  f1_score     0       0.6\n",
      "12              LinearSVC  Sub3_FactClaiming  f1_score     1  0.587045\n",
      "6       LinearSVC_nosmote  Sub3_FactClaiming  f1_score     0  0.578411\n",
      "\n"
     ]
    }
   ],
   "source": [
    "def print_df(df, metric, task):\n",
    "    df = df[(df['metric'] == metric) & (df['task_name'] == task)]\n",
    "    df = df.sort_values(by=['value'], ascending=False)\n",
    "    print(df.head(3))\n",
    "    return df\n",
    "\n",
    "for task_name in ['Sub1_Toxic', 'Sub2_Engaging', 'Sub3_FactClaiming']:\n",
    "    print('=' * 80)\n",
    "    print(task_name)\n",
    "    print('-' * len(task_name))\n",
    "    print()\n",
    "    for metric in ['accuracy', 'f1_score']:\n",
    "        print_df(result_df, metric, task_name)\n",
    "        print()\n"
   ]
  },
  {
   "cell_type": "markdown",
   "metadata": {
    "id": "Hzgub_1VakyE"
   },
   "source": [
    "# Multinomial NB pipeline (Vectorization Approach 2)\n",
    "## In this method, word counts are used along with TF-IDF"
   ]
  },
  {
   "cell_type": "markdown",
   "metadata": {
    "id": "mV_S-WOU3sQp"
   },
   "source": []
  },
  {
   "cell_type": "code",
   "execution_count": 8,
   "metadata": {
    "colab": {
     "base_uri": "https://localhost:8080/",
     "height": 1000
    },
    "id": "PXqnV32AaoCL",
    "outputId": "a830d004-7dc3-4b4d-d438-be4448a7f826"
   },
   "outputs": [
    {
     "name": "stderr",
     "output_type": "stream",
     "text": [
      "/usr/local/lib/python3.7/dist-packages/sklearn/svm/_base.py:1208: ConvergenceWarning: Liblinear failed to converge, increase the number of iterations.\n",
      "  ConvergenceWarning,\n"
     ]
    },
    {
     "name": "stdout",
     "output_type": "stream",
     "text": [
      "LinearSVC_nosmote    Sub1_Toxic           accuracy=0.663              f1=0.476   smote=False\n"
     ]
    },
    {
     "name": "stderr",
     "output_type": "stream",
     "text": [
      "/usr/local/lib/python3.7/dist-packages/sklearn/svm/_base.py:1208: ConvergenceWarning: Liblinear failed to converge, increase the number of iterations.\n",
      "  ConvergenceWarning,\n"
     ]
    },
    {
     "name": "stdout",
     "output_type": "stream",
     "text": [
      "LinearSVC_nosmote    Sub2_Engaging        accuracy=0.821              f1=0.590   smote=False\n"
     ]
    },
    {
     "name": "stderr",
     "output_type": "stream",
     "text": [
      "/usr/local/lib/python3.7/dist-packages/sklearn/svm/_base.py:1208: ConvergenceWarning: Liblinear failed to converge, increase the number of iterations.\n",
      "  ConvergenceWarning,\n"
     ]
    },
    {
     "name": "stdout",
     "output_type": "stream",
     "text": [
      "LinearSVC_nosmote    Sub3_FactClaiming    accuracy=0.740              f1=0.574   smote=False\n",
      "MultinomialNB_nosmot Sub1_Toxic           accuracy=0.666              f1=0.303   smote=False\n",
      "MultinomialNB_nosmot Sub2_Engaging        accuracy=0.762              f1=0.541   smote=False\n",
      "MultinomialNB_nosmot Sub3_FactClaiming    accuracy=0.710              f1=0.577   smote=False\n",
      "RandomForestClassifi Sub1_Toxic           accuracy=0.662              f1=0.177   smote=True\n",
      "RandomForestClassifi Sub2_Engaging        accuracy=0.839              f1=0.583   smote=True\n",
      "RandomForestClassifi Sub3_FactClaiming    accuracy=0.757              f1=0.531   smote=True\n",
      "================================================================================\n",
      "================================================================================\n",
      "\n",
      "--------------------------------------------------------------------------------\n",
      "LinearSVC_nosmote Sub1_Toxic :\n",
      "\n"
     ]
    },
    {
     "data": {
      "text/html": [
       "<style>#sk-840b36ee-7127-4c8a-842f-50338d9af0ac {color: black;background-color: white;}#sk-840b36ee-7127-4c8a-842f-50338d9af0ac pre{padding: 0;}#sk-840b36ee-7127-4c8a-842f-50338d9af0ac div.sk-toggleable {background-color: white;}#sk-840b36ee-7127-4c8a-842f-50338d9af0ac label.sk-toggleable__label {cursor: pointer;display: block;width: 100%;margin-bottom: 0;padding: 0.3em;box-sizing: border-box;text-align: center;}#sk-840b36ee-7127-4c8a-842f-50338d9af0ac div.sk-toggleable__content {max-height: 0;max-width: 0;overflow: hidden;text-align: left;background-color: #f0f8ff;}#sk-840b36ee-7127-4c8a-842f-50338d9af0ac div.sk-toggleable__content pre {margin: 0.2em;color: black;border-radius: 0.25em;background-color: #f0f8ff;}#sk-840b36ee-7127-4c8a-842f-50338d9af0ac input.sk-toggleable__control:checked~div.sk-toggleable__content {max-height: 200px;max-width: 100%;overflow: auto;}#sk-840b36ee-7127-4c8a-842f-50338d9af0ac div.sk-estimator input.sk-toggleable__control:checked~label.sk-toggleable__label {background-color: #d4ebff;}#sk-840b36ee-7127-4c8a-842f-50338d9af0ac div.sk-label input.sk-toggleable__control:checked~label.sk-toggleable__label {background-color: #d4ebff;}#sk-840b36ee-7127-4c8a-842f-50338d9af0ac input.sk-hidden--visually {border: 0;clip: rect(1px 1px 1px 1px);clip: rect(1px, 1px, 1px, 1px);height: 1px;margin: -1px;overflow: hidden;padding: 0;position: absolute;width: 1px;}#sk-840b36ee-7127-4c8a-842f-50338d9af0ac div.sk-estimator {font-family: monospace;background-color: #f0f8ff;border: 1px dotted black;border-radius: 0.25em;box-sizing: border-box;margin-bottom: 0.5em;}#sk-840b36ee-7127-4c8a-842f-50338d9af0ac div.sk-estimator:hover {background-color: #d4ebff;}#sk-840b36ee-7127-4c8a-842f-50338d9af0ac div.sk-parallel-item::after {content: \"\";width: 100%;border-bottom: 1px solid gray;flex-grow: 1;}#sk-840b36ee-7127-4c8a-842f-50338d9af0ac div.sk-label:hover label.sk-toggleable__label {background-color: #d4ebff;}#sk-840b36ee-7127-4c8a-842f-50338d9af0ac div.sk-serial::before {content: \"\";position: absolute;border-left: 1px solid gray;box-sizing: border-box;top: 2em;bottom: 0;left: 50%;}#sk-840b36ee-7127-4c8a-842f-50338d9af0ac div.sk-serial {display: flex;flex-direction: column;align-items: center;background-color: white;padding-right: 0.2em;padding-left: 0.2em;}#sk-840b36ee-7127-4c8a-842f-50338d9af0ac div.sk-item {z-index: 1;}#sk-840b36ee-7127-4c8a-842f-50338d9af0ac div.sk-parallel {display: flex;align-items: stretch;justify-content: center;background-color: white;}#sk-840b36ee-7127-4c8a-842f-50338d9af0ac div.sk-parallel::before {content: \"\";position: absolute;border-left: 1px solid gray;box-sizing: border-box;top: 2em;bottom: 0;left: 50%;}#sk-840b36ee-7127-4c8a-842f-50338d9af0ac div.sk-parallel-item {display: flex;flex-direction: column;position: relative;background-color: white;}#sk-840b36ee-7127-4c8a-842f-50338d9af0ac div.sk-parallel-item:first-child::after {align-self: flex-end;width: 50%;}#sk-840b36ee-7127-4c8a-842f-50338d9af0ac div.sk-parallel-item:last-child::after {align-self: flex-start;width: 50%;}#sk-840b36ee-7127-4c8a-842f-50338d9af0ac div.sk-parallel-item:only-child::after {width: 0;}#sk-840b36ee-7127-4c8a-842f-50338d9af0ac div.sk-dashed-wrapped {border: 1px dashed gray;margin: 0 0.4em 0.5em 0.4em;box-sizing: border-box;padding-bottom: 0.4em;background-color: white;position: relative;}#sk-840b36ee-7127-4c8a-842f-50338d9af0ac div.sk-label label {font-family: monospace;font-weight: bold;background-color: white;display: inline-block;line-height: 1.2em;}#sk-840b36ee-7127-4c8a-842f-50338d9af0ac div.sk-label-container {position: relative;z-index: 2;text-align: center;}#sk-840b36ee-7127-4c8a-842f-50338d9af0ac div.sk-container {display: inline-block;position: relative;}</style><div id=\"sk-840b36ee-7127-4c8a-842f-50338d9af0ac\" class\"sk-top-container\"><div class=\"sk-container\"><div class=\"sk-item sk-dashed-wrapped\"><div class=\"sk-label-container\"><div class=\"sk-label sk-toggleable\"><input class=\"sk-toggleable__control sk-hidden--visually\" id=\"990c27a1-a115-49f6-aae5-5e0fcb204144\" type=\"checkbox\" ><label class=\"sk-toggleable__label\" for=\"990c27a1-a115-49f6-aae5-5e0fcb204144\">Pipeline</label><div class=\"sk-toggleable__content\"><pre>Pipeline(steps=[('prep',\n",
       "                 ColumnTransformer(transformers=[('text',\n",
       "                                                  CustomCountVectorizer(),\n",
       "                                                  ['cleaned_comment_text']),\n",
       "                                                 ('text2',\n",
       "                                                  CustomTfidVectorizer(),\n",
       "                                                  ['cleaned_comment_text']),\n",
       "                                                 ('num',\n",
       "                                                  StandardScaler(with_mean=False,\n",
       "                                                                 with_std=False),\n",
       "                                                  ['n_all_caps',\n",
       "                                                   'perc_exclamations',\n",
       "                                                   'num_exclamations'])])),\n",
       "                ('classif', LinearSVC())])</pre></div></div></div><div class=\"sk-serial\"><div class=\"sk-item sk-dashed-wrapped\"><div class=\"sk-label-container\"><div class=\"sk-label sk-toggleable\"><input class=\"sk-toggleable__control sk-hidden--visually\" id=\"dd59d2cb-0eff-40de-8c4b-fdea5a247e1d\" type=\"checkbox\" ><label class=\"sk-toggleable__label\" for=\"dd59d2cb-0eff-40de-8c4b-fdea5a247e1d\">prep: ColumnTransformer</label><div class=\"sk-toggleable__content\"><pre>ColumnTransformer(transformers=[('text', CustomCountVectorizer(),\n",
       "                                 ['cleaned_comment_text']),\n",
       "                                ('text2', CustomTfidVectorizer(),\n",
       "                                 ['cleaned_comment_text']),\n",
       "                                ('num',\n",
       "                                 StandardScaler(with_mean=False,\n",
       "                                                with_std=False),\n",
       "                                 ['n_all_caps', 'perc_exclamations',\n",
       "                                  'num_exclamations'])])</pre></div></div></div><div class=\"sk-parallel\"><div class=\"sk-parallel-item\"><div class=\"sk-item\"><div class=\"sk-label-container\"><div class=\"sk-label sk-toggleable\"><input class=\"sk-toggleable__control sk-hidden--visually\" id=\"5136484a-7e8a-414b-9dce-1cd331d03d68\" type=\"checkbox\" ><label class=\"sk-toggleable__label\" for=\"5136484a-7e8a-414b-9dce-1cd331d03d68\">text</label><div class=\"sk-toggleable__content\"><pre>['cleaned_comment_text']</pre></div></div></div><div class=\"sk-serial\"><div class=\"sk-item\"><div class=\"sk-estimator sk-toggleable\"><input class=\"sk-toggleable__control sk-hidden--visually\" id=\"9c40cb2f-5cc3-4d5d-a72c-56781e83df29\" type=\"checkbox\" ><label class=\"sk-toggleable__label\" for=\"9c40cb2f-5cc3-4d5d-a72c-56781e83df29\">CustomCountVectorizer</label><div class=\"sk-toggleable__content\"><pre>CustomCountVectorizer()</pre></div></div></div></div></div></div><div class=\"sk-parallel-item\"><div class=\"sk-item\"><div class=\"sk-label-container\"><div class=\"sk-label sk-toggleable\"><input class=\"sk-toggleable__control sk-hidden--visually\" id=\"799f7635-4261-4a40-a8c9-950ba2a5053b\" type=\"checkbox\" ><label class=\"sk-toggleable__label\" for=\"799f7635-4261-4a40-a8c9-950ba2a5053b\">text2</label><div class=\"sk-toggleable__content\"><pre>['cleaned_comment_text']</pre></div></div></div><div class=\"sk-serial\"><div class=\"sk-item\"><div class=\"sk-estimator sk-toggleable\"><input class=\"sk-toggleable__control sk-hidden--visually\" id=\"c4edd83d-5100-47fe-b1d0-7c2eabf8701f\" type=\"checkbox\" ><label class=\"sk-toggleable__label\" for=\"c4edd83d-5100-47fe-b1d0-7c2eabf8701f\">CustomTfidVectorizer</label><div class=\"sk-toggleable__content\"><pre>CustomTfidVectorizer()</pre></div></div></div></div></div></div><div class=\"sk-parallel-item\"><div class=\"sk-item\"><div class=\"sk-label-container\"><div class=\"sk-label sk-toggleable\"><input class=\"sk-toggleable__control sk-hidden--visually\" id=\"48d63640-8526-49d4-80b0-e58b9c63026a\" type=\"checkbox\" ><label class=\"sk-toggleable__label\" for=\"48d63640-8526-49d4-80b0-e58b9c63026a\">num</label><div class=\"sk-toggleable__content\"><pre>['n_all_caps', 'perc_exclamations', 'num_exclamations']</pre></div></div></div><div class=\"sk-serial\"><div class=\"sk-item\"><div class=\"sk-estimator sk-toggleable\"><input class=\"sk-toggleable__control sk-hidden--visually\" id=\"ad91a5bb-956c-459e-89aa-41302dd15442\" type=\"checkbox\" ><label class=\"sk-toggleable__label\" for=\"ad91a5bb-956c-459e-89aa-41302dd15442\">StandardScaler</label><div class=\"sk-toggleable__content\"><pre>StandardScaler(with_mean=False, with_std=False)</pre></div></div></div></div></div></div></div></div><div class=\"sk-item\"><div class=\"sk-estimator sk-toggleable\"><input class=\"sk-toggleable__control sk-hidden--visually\" id=\"e31a7e39-52ef-4d12-8b3e-d04daa507294\" type=\"checkbox\" ><label class=\"sk-toggleable__label\" for=\"e31a7e39-52ef-4d12-8b3e-d04daa507294\">LinearSVC</label><div class=\"sk-toggleable__content\"><pre>LinearSVC()</pre></div></div></div></div></div></div></div>"
      ],
      "text/plain": [
       "Pipeline(steps=[('prep',\n",
       "                 ColumnTransformer(transformers=[('text',\n",
       "                                                  CustomCountVectorizer(),\n",
       "                                                  ['cleaned_comment_text']),\n",
       "                                                 ('text2',\n",
       "                                                  CustomTfidVectorizer(),\n",
       "                                                  ['cleaned_comment_text']),\n",
       "                                                 ('num',\n",
       "                                                  StandardScaler(with_mean=False,\n",
       "                                                                 with_std=False),\n",
       "                                                  ['n_all_caps',\n",
       "                                                   'perc_exclamations',\n",
       "                                                   'num_exclamations'])])),\n",
       "                ('classif', LinearSVC())])"
      ]
     },
     "metadata": {},
     "output_type": "display_data"
    },
    {
     "name": "stdout",
     "output_type": "stream",
     "text": [
      "\n",
      "--------------------------------------------------------------------------------\n",
      "LinearSVC_nosmote Sub2_Engaging :\n",
      "\n"
     ]
    },
    {
     "data": {
      "text/html": [
       "<style>#sk-fe095d5a-91fc-48eb-9980-d964b4afca18 {color: black;background-color: white;}#sk-fe095d5a-91fc-48eb-9980-d964b4afca18 pre{padding: 0;}#sk-fe095d5a-91fc-48eb-9980-d964b4afca18 div.sk-toggleable {background-color: white;}#sk-fe095d5a-91fc-48eb-9980-d964b4afca18 label.sk-toggleable__label {cursor: pointer;display: block;width: 100%;margin-bottom: 0;padding: 0.3em;box-sizing: border-box;text-align: center;}#sk-fe095d5a-91fc-48eb-9980-d964b4afca18 div.sk-toggleable__content {max-height: 0;max-width: 0;overflow: hidden;text-align: left;background-color: #f0f8ff;}#sk-fe095d5a-91fc-48eb-9980-d964b4afca18 div.sk-toggleable__content pre {margin: 0.2em;color: black;border-radius: 0.25em;background-color: #f0f8ff;}#sk-fe095d5a-91fc-48eb-9980-d964b4afca18 input.sk-toggleable__control:checked~div.sk-toggleable__content {max-height: 200px;max-width: 100%;overflow: auto;}#sk-fe095d5a-91fc-48eb-9980-d964b4afca18 div.sk-estimator input.sk-toggleable__control:checked~label.sk-toggleable__label {background-color: #d4ebff;}#sk-fe095d5a-91fc-48eb-9980-d964b4afca18 div.sk-label input.sk-toggleable__control:checked~label.sk-toggleable__label {background-color: #d4ebff;}#sk-fe095d5a-91fc-48eb-9980-d964b4afca18 input.sk-hidden--visually {border: 0;clip: rect(1px 1px 1px 1px);clip: rect(1px, 1px, 1px, 1px);height: 1px;margin: -1px;overflow: hidden;padding: 0;position: absolute;width: 1px;}#sk-fe095d5a-91fc-48eb-9980-d964b4afca18 div.sk-estimator {font-family: monospace;background-color: #f0f8ff;border: 1px dotted black;border-radius: 0.25em;box-sizing: border-box;margin-bottom: 0.5em;}#sk-fe095d5a-91fc-48eb-9980-d964b4afca18 div.sk-estimator:hover {background-color: #d4ebff;}#sk-fe095d5a-91fc-48eb-9980-d964b4afca18 div.sk-parallel-item::after {content: \"\";width: 100%;border-bottom: 1px solid gray;flex-grow: 1;}#sk-fe095d5a-91fc-48eb-9980-d964b4afca18 div.sk-label:hover label.sk-toggleable__label {background-color: #d4ebff;}#sk-fe095d5a-91fc-48eb-9980-d964b4afca18 div.sk-serial::before {content: \"\";position: absolute;border-left: 1px solid gray;box-sizing: border-box;top: 2em;bottom: 0;left: 50%;}#sk-fe095d5a-91fc-48eb-9980-d964b4afca18 div.sk-serial {display: flex;flex-direction: column;align-items: center;background-color: white;padding-right: 0.2em;padding-left: 0.2em;}#sk-fe095d5a-91fc-48eb-9980-d964b4afca18 div.sk-item {z-index: 1;}#sk-fe095d5a-91fc-48eb-9980-d964b4afca18 div.sk-parallel {display: flex;align-items: stretch;justify-content: center;background-color: white;}#sk-fe095d5a-91fc-48eb-9980-d964b4afca18 div.sk-parallel::before {content: \"\";position: absolute;border-left: 1px solid gray;box-sizing: border-box;top: 2em;bottom: 0;left: 50%;}#sk-fe095d5a-91fc-48eb-9980-d964b4afca18 div.sk-parallel-item {display: flex;flex-direction: column;position: relative;background-color: white;}#sk-fe095d5a-91fc-48eb-9980-d964b4afca18 div.sk-parallel-item:first-child::after {align-self: flex-end;width: 50%;}#sk-fe095d5a-91fc-48eb-9980-d964b4afca18 div.sk-parallel-item:last-child::after {align-self: flex-start;width: 50%;}#sk-fe095d5a-91fc-48eb-9980-d964b4afca18 div.sk-parallel-item:only-child::after {width: 0;}#sk-fe095d5a-91fc-48eb-9980-d964b4afca18 div.sk-dashed-wrapped {border: 1px dashed gray;margin: 0 0.4em 0.5em 0.4em;box-sizing: border-box;padding-bottom: 0.4em;background-color: white;position: relative;}#sk-fe095d5a-91fc-48eb-9980-d964b4afca18 div.sk-label label {font-family: monospace;font-weight: bold;background-color: white;display: inline-block;line-height: 1.2em;}#sk-fe095d5a-91fc-48eb-9980-d964b4afca18 div.sk-label-container {position: relative;z-index: 2;text-align: center;}#sk-fe095d5a-91fc-48eb-9980-d964b4afca18 div.sk-container {display: inline-block;position: relative;}</style><div id=\"sk-fe095d5a-91fc-48eb-9980-d964b4afca18\" class\"sk-top-container\"><div class=\"sk-container\"><div class=\"sk-item sk-dashed-wrapped\"><div class=\"sk-label-container\"><div class=\"sk-label sk-toggleable\"><input class=\"sk-toggleable__control sk-hidden--visually\" id=\"b5fb19d5-87a1-4483-8370-72bc56bdddbc\" type=\"checkbox\" ><label class=\"sk-toggleable__label\" for=\"b5fb19d5-87a1-4483-8370-72bc56bdddbc\">Pipeline</label><div class=\"sk-toggleable__content\"><pre>Pipeline(steps=[('prep',\n",
       "                 ColumnTransformer(transformers=[('text',\n",
       "                                                  CustomCountVectorizer(),\n",
       "                                                  ['cleaned_comment_text']),\n",
       "                                                 ('text2',\n",
       "                                                  CustomTfidVectorizer(),\n",
       "                                                  ['cleaned_comment_text']),\n",
       "                                                 ('num',\n",
       "                                                  StandardScaler(with_mean=False,\n",
       "                                                                 with_std=False),\n",
       "                                                  ['n_all_caps',\n",
       "                                                   'perc_exclamations',\n",
       "                                                   'num_exclamations'])])),\n",
       "                ('classif', LinearSVC())])</pre></div></div></div><div class=\"sk-serial\"><div class=\"sk-item sk-dashed-wrapped\"><div class=\"sk-label-container\"><div class=\"sk-label sk-toggleable\"><input class=\"sk-toggleable__control sk-hidden--visually\" id=\"9b28d3e9-4e07-4f66-ba35-6d5e4486317c\" type=\"checkbox\" ><label class=\"sk-toggleable__label\" for=\"9b28d3e9-4e07-4f66-ba35-6d5e4486317c\">prep: ColumnTransformer</label><div class=\"sk-toggleable__content\"><pre>ColumnTransformer(transformers=[('text', CustomCountVectorizer(),\n",
       "                                 ['cleaned_comment_text']),\n",
       "                                ('text2', CustomTfidVectorizer(),\n",
       "                                 ['cleaned_comment_text']),\n",
       "                                ('num',\n",
       "                                 StandardScaler(with_mean=False,\n",
       "                                                with_std=False),\n",
       "                                 ['n_all_caps', 'perc_exclamations',\n",
       "                                  'num_exclamations'])])</pre></div></div></div><div class=\"sk-parallel\"><div class=\"sk-parallel-item\"><div class=\"sk-item\"><div class=\"sk-label-container\"><div class=\"sk-label sk-toggleable\"><input class=\"sk-toggleable__control sk-hidden--visually\" id=\"fdda9175-9e94-4eae-95a8-d56ba22022ef\" type=\"checkbox\" ><label class=\"sk-toggleable__label\" for=\"fdda9175-9e94-4eae-95a8-d56ba22022ef\">text</label><div class=\"sk-toggleable__content\"><pre>['cleaned_comment_text']</pre></div></div></div><div class=\"sk-serial\"><div class=\"sk-item\"><div class=\"sk-estimator sk-toggleable\"><input class=\"sk-toggleable__control sk-hidden--visually\" id=\"a1c21cae-7f52-44eb-b7db-831e34f746d9\" type=\"checkbox\" ><label class=\"sk-toggleable__label\" for=\"a1c21cae-7f52-44eb-b7db-831e34f746d9\">CustomCountVectorizer</label><div class=\"sk-toggleable__content\"><pre>CustomCountVectorizer()</pre></div></div></div></div></div></div><div class=\"sk-parallel-item\"><div class=\"sk-item\"><div class=\"sk-label-container\"><div class=\"sk-label sk-toggleable\"><input class=\"sk-toggleable__control sk-hidden--visually\" id=\"54f5560a-1ae4-4788-8c3e-0bfb45004eb6\" type=\"checkbox\" ><label class=\"sk-toggleable__label\" for=\"54f5560a-1ae4-4788-8c3e-0bfb45004eb6\">text2</label><div class=\"sk-toggleable__content\"><pre>['cleaned_comment_text']</pre></div></div></div><div class=\"sk-serial\"><div class=\"sk-item\"><div class=\"sk-estimator sk-toggleable\"><input class=\"sk-toggleable__control sk-hidden--visually\" id=\"7b8d41da-f17e-40e0-ac27-20ef4616372c\" type=\"checkbox\" ><label class=\"sk-toggleable__label\" for=\"7b8d41da-f17e-40e0-ac27-20ef4616372c\">CustomTfidVectorizer</label><div class=\"sk-toggleable__content\"><pre>CustomTfidVectorizer()</pre></div></div></div></div></div></div><div class=\"sk-parallel-item\"><div class=\"sk-item\"><div class=\"sk-label-container\"><div class=\"sk-label sk-toggleable\"><input class=\"sk-toggleable__control sk-hidden--visually\" id=\"93a661df-2253-469a-9262-b76372049ebd\" type=\"checkbox\" ><label class=\"sk-toggleable__label\" for=\"93a661df-2253-469a-9262-b76372049ebd\">num</label><div class=\"sk-toggleable__content\"><pre>['n_all_caps', 'perc_exclamations', 'num_exclamations']</pre></div></div></div><div class=\"sk-serial\"><div class=\"sk-item\"><div class=\"sk-estimator sk-toggleable\"><input class=\"sk-toggleable__control sk-hidden--visually\" id=\"6240bf9f-1ac6-44fd-acda-9ffb67373bf4\" type=\"checkbox\" ><label class=\"sk-toggleable__label\" for=\"6240bf9f-1ac6-44fd-acda-9ffb67373bf4\">StandardScaler</label><div class=\"sk-toggleable__content\"><pre>StandardScaler(with_mean=False, with_std=False)</pre></div></div></div></div></div></div></div></div><div class=\"sk-item\"><div class=\"sk-estimator sk-toggleable\"><input class=\"sk-toggleable__control sk-hidden--visually\" id=\"f6117832-0f86-4d07-9345-17aa6fc9b52b\" type=\"checkbox\" ><label class=\"sk-toggleable__label\" for=\"f6117832-0f86-4d07-9345-17aa6fc9b52b\">LinearSVC</label><div class=\"sk-toggleable__content\"><pre>LinearSVC()</pre></div></div></div></div></div></div></div>"
      ],
      "text/plain": [
       "Pipeline(steps=[('prep',\n",
       "                 ColumnTransformer(transformers=[('text',\n",
       "                                                  CustomCountVectorizer(),\n",
       "                                                  ['cleaned_comment_text']),\n",
       "                                                 ('text2',\n",
       "                                                  CustomTfidVectorizer(),\n",
       "                                                  ['cleaned_comment_text']),\n",
       "                                                 ('num',\n",
       "                                                  StandardScaler(with_mean=False,\n",
       "                                                                 with_std=False),\n",
       "                                                  ['n_all_caps',\n",
       "                                                   'perc_exclamations',\n",
       "                                                   'num_exclamations'])])),\n",
       "                ('classif', LinearSVC())])"
      ]
     },
     "metadata": {},
     "output_type": "display_data"
    },
    {
     "name": "stdout",
     "output_type": "stream",
     "text": [
      "\n",
      "--------------------------------------------------------------------------------\n",
      "LinearSVC_nosmote Sub3_FactClaiming :\n",
      "\n"
     ]
    },
    {
     "data": {
      "text/html": [
       "<style>#sk-8aeaf0d0-98bf-4037-bf79-a7c30a5930a8 {color: black;background-color: white;}#sk-8aeaf0d0-98bf-4037-bf79-a7c30a5930a8 pre{padding: 0;}#sk-8aeaf0d0-98bf-4037-bf79-a7c30a5930a8 div.sk-toggleable {background-color: white;}#sk-8aeaf0d0-98bf-4037-bf79-a7c30a5930a8 label.sk-toggleable__label {cursor: pointer;display: block;width: 100%;margin-bottom: 0;padding: 0.3em;box-sizing: border-box;text-align: center;}#sk-8aeaf0d0-98bf-4037-bf79-a7c30a5930a8 div.sk-toggleable__content {max-height: 0;max-width: 0;overflow: hidden;text-align: left;background-color: #f0f8ff;}#sk-8aeaf0d0-98bf-4037-bf79-a7c30a5930a8 div.sk-toggleable__content pre {margin: 0.2em;color: black;border-radius: 0.25em;background-color: #f0f8ff;}#sk-8aeaf0d0-98bf-4037-bf79-a7c30a5930a8 input.sk-toggleable__control:checked~div.sk-toggleable__content {max-height: 200px;max-width: 100%;overflow: auto;}#sk-8aeaf0d0-98bf-4037-bf79-a7c30a5930a8 div.sk-estimator input.sk-toggleable__control:checked~label.sk-toggleable__label {background-color: #d4ebff;}#sk-8aeaf0d0-98bf-4037-bf79-a7c30a5930a8 div.sk-label input.sk-toggleable__control:checked~label.sk-toggleable__label {background-color: #d4ebff;}#sk-8aeaf0d0-98bf-4037-bf79-a7c30a5930a8 input.sk-hidden--visually {border: 0;clip: rect(1px 1px 1px 1px);clip: rect(1px, 1px, 1px, 1px);height: 1px;margin: -1px;overflow: hidden;padding: 0;position: absolute;width: 1px;}#sk-8aeaf0d0-98bf-4037-bf79-a7c30a5930a8 div.sk-estimator {font-family: monospace;background-color: #f0f8ff;border: 1px dotted black;border-radius: 0.25em;box-sizing: border-box;margin-bottom: 0.5em;}#sk-8aeaf0d0-98bf-4037-bf79-a7c30a5930a8 div.sk-estimator:hover {background-color: #d4ebff;}#sk-8aeaf0d0-98bf-4037-bf79-a7c30a5930a8 div.sk-parallel-item::after {content: \"\";width: 100%;border-bottom: 1px solid gray;flex-grow: 1;}#sk-8aeaf0d0-98bf-4037-bf79-a7c30a5930a8 div.sk-label:hover label.sk-toggleable__label {background-color: #d4ebff;}#sk-8aeaf0d0-98bf-4037-bf79-a7c30a5930a8 div.sk-serial::before {content: \"\";position: absolute;border-left: 1px solid gray;box-sizing: border-box;top: 2em;bottom: 0;left: 50%;}#sk-8aeaf0d0-98bf-4037-bf79-a7c30a5930a8 div.sk-serial {display: flex;flex-direction: column;align-items: center;background-color: white;padding-right: 0.2em;padding-left: 0.2em;}#sk-8aeaf0d0-98bf-4037-bf79-a7c30a5930a8 div.sk-item {z-index: 1;}#sk-8aeaf0d0-98bf-4037-bf79-a7c30a5930a8 div.sk-parallel {display: flex;align-items: stretch;justify-content: center;background-color: white;}#sk-8aeaf0d0-98bf-4037-bf79-a7c30a5930a8 div.sk-parallel::before {content: \"\";position: absolute;border-left: 1px solid gray;box-sizing: border-box;top: 2em;bottom: 0;left: 50%;}#sk-8aeaf0d0-98bf-4037-bf79-a7c30a5930a8 div.sk-parallel-item {display: flex;flex-direction: column;position: relative;background-color: white;}#sk-8aeaf0d0-98bf-4037-bf79-a7c30a5930a8 div.sk-parallel-item:first-child::after {align-self: flex-end;width: 50%;}#sk-8aeaf0d0-98bf-4037-bf79-a7c30a5930a8 div.sk-parallel-item:last-child::after {align-self: flex-start;width: 50%;}#sk-8aeaf0d0-98bf-4037-bf79-a7c30a5930a8 div.sk-parallel-item:only-child::after {width: 0;}#sk-8aeaf0d0-98bf-4037-bf79-a7c30a5930a8 div.sk-dashed-wrapped {border: 1px dashed gray;margin: 0 0.4em 0.5em 0.4em;box-sizing: border-box;padding-bottom: 0.4em;background-color: white;position: relative;}#sk-8aeaf0d0-98bf-4037-bf79-a7c30a5930a8 div.sk-label label {font-family: monospace;font-weight: bold;background-color: white;display: inline-block;line-height: 1.2em;}#sk-8aeaf0d0-98bf-4037-bf79-a7c30a5930a8 div.sk-label-container {position: relative;z-index: 2;text-align: center;}#sk-8aeaf0d0-98bf-4037-bf79-a7c30a5930a8 div.sk-container {display: inline-block;position: relative;}</style><div id=\"sk-8aeaf0d0-98bf-4037-bf79-a7c30a5930a8\" class\"sk-top-container\"><div class=\"sk-container\"><div class=\"sk-item sk-dashed-wrapped\"><div class=\"sk-label-container\"><div class=\"sk-label sk-toggleable\"><input class=\"sk-toggleable__control sk-hidden--visually\" id=\"dd8bfdac-8fb3-4143-bac5-390b6627b197\" type=\"checkbox\" ><label class=\"sk-toggleable__label\" for=\"dd8bfdac-8fb3-4143-bac5-390b6627b197\">Pipeline</label><div class=\"sk-toggleable__content\"><pre>Pipeline(steps=[('prep',\n",
       "                 ColumnTransformer(transformers=[('text',\n",
       "                                                  CustomCountVectorizer(),\n",
       "                                                  ['cleaned_comment_text']),\n",
       "                                                 ('text2',\n",
       "                                                  CustomTfidVectorizer(),\n",
       "                                                  ['cleaned_comment_text']),\n",
       "                                                 ('num',\n",
       "                                                  StandardScaler(with_mean=False,\n",
       "                                                                 with_std=False),\n",
       "                                                  ['n_all_caps',\n",
       "                                                   'perc_exclamations',\n",
       "                                                   'num_exclamations'])])),\n",
       "                ('classif', LinearSVC())])</pre></div></div></div><div class=\"sk-serial\"><div class=\"sk-item sk-dashed-wrapped\"><div class=\"sk-label-container\"><div class=\"sk-label sk-toggleable\"><input class=\"sk-toggleable__control sk-hidden--visually\" id=\"5fdce5b9-bb39-4a38-8fa1-9ca098c5f2d3\" type=\"checkbox\" ><label class=\"sk-toggleable__label\" for=\"5fdce5b9-bb39-4a38-8fa1-9ca098c5f2d3\">prep: ColumnTransformer</label><div class=\"sk-toggleable__content\"><pre>ColumnTransformer(transformers=[('text', CustomCountVectorizer(),\n",
       "                                 ['cleaned_comment_text']),\n",
       "                                ('text2', CustomTfidVectorizer(),\n",
       "                                 ['cleaned_comment_text']),\n",
       "                                ('num',\n",
       "                                 StandardScaler(with_mean=False,\n",
       "                                                with_std=False),\n",
       "                                 ['n_all_caps', 'perc_exclamations',\n",
       "                                  'num_exclamations'])])</pre></div></div></div><div class=\"sk-parallel\"><div class=\"sk-parallel-item\"><div class=\"sk-item\"><div class=\"sk-label-container\"><div class=\"sk-label sk-toggleable\"><input class=\"sk-toggleable__control sk-hidden--visually\" id=\"a58762f0-e9c7-44b5-9b09-ebad4d69c1c8\" type=\"checkbox\" ><label class=\"sk-toggleable__label\" for=\"a58762f0-e9c7-44b5-9b09-ebad4d69c1c8\">text</label><div class=\"sk-toggleable__content\"><pre>['cleaned_comment_text']</pre></div></div></div><div class=\"sk-serial\"><div class=\"sk-item\"><div class=\"sk-estimator sk-toggleable\"><input class=\"sk-toggleable__control sk-hidden--visually\" id=\"f5c57829-72de-43fe-94fc-2a9af71b2cd2\" type=\"checkbox\" ><label class=\"sk-toggleable__label\" for=\"f5c57829-72de-43fe-94fc-2a9af71b2cd2\">CustomCountVectorizer</label><div class=\"sk-toggleable__content\"><pre>CustomCountVectorizer()</pre></div></div></div></div></div></div><div class=\"sk-parallel-item\"><div class=\"sk-item\"><div class=\"sk-label-container\"><div class=\"sk-label sk-toggleable\"><input class=\"sk-toggleable__control sk-hidden--visually\" id=\"27cb414a-70d2-48bc-bed9-954a27b7cebc\" type=\"checkbox\" ><label class=\"sk-toggleable__label\" for=\"27cb414a-70d2-48bc-bed9-954a27b7cebc\">text2</label><div class=\"sk-toggleable__content\"><pre>['cleaned_comment_text']</pre></div></div></div><div class=\"sk-serial\"><div class=\"sk-item\"><div class=\"sk-estimator sk-toggleable\"><input class=\"sk-toggleable__control sk-hidden--visually\" id=\"2de4a1da-634a-46bc-ba82-8e574ea8fac5\" type=\"checkbox\" ><label class=\"sk-toggleable__label\" for=\"2de4a1da-634a-46bc-ba82-8e574ea8fac5\">CustomTfidVectorizer</label><div class=\"sk-toggleable__content\"><pre>CustomTfidVectorizer()</pre></div></div></div></div></div></div><div class=\"sk-parallel-item\"><div class=\"sk-item\"><div class=\"sk-label-container\"><div class=\"sk-label sk-toggleable\"><input class=\"sk-toggleable__control sk-hidden--visually\" id=\"12f19cfd-dab7-4862-9de4-b2189138e048\" type=\"checkbox\" ><label class=\"sk-toggleable__label\" for=\"12f19cfd-dab7-4862-9de4-b2189138e048\">num</label><div class=\"sk-toggleable__content\"><pre>['n_all_caps', 'perc_exclamations', 'num_exclamations']</pre></div></div></div><div class=\"sk-serial\"><div class=\"sk-item\"><div class=\"sk-estimator sk-toggleable\"><input class=\"sk-toggleable__control sk-hidden--visually\" id=\"c6357c8c-d170-493a-9dd5-edc1840e0f1a\" type=\"checkbox\" ><label class=\"sk-toggleable__label\" for=\"c6357c8c-d170-493a-9dd5-edc1840e0f1a\">StandardScaler</label><div class=\"sk-toggleable__content\"><pre>StandardScaler(with_mean=False, with_std=False)</pre></div></div></div></div></div></div></div></div><div class=\"sk-item\"><div class=\"sk-estimator sk-toggleable\"><input class=\"sk-toggleable__control sk-hidden--visually\" id=\"aa049fdc-4172-48dd-a708-b75db6c11729\" type=\"checkbox\" ><label class=\"sk-toggleable__label\" for=\"aa049fdc-4172-48dd-a708-b75db6c11729\">LinearSVC</label><div class=\"sk-toggleable__content\"><pre>LinearSVC()</pre></div></div></div></div></div></div></div>"
      ],
      "text/plain": [
       "Pipeline(steps=[('prep',\n",
       "                 ColumnTransformer(transformers=[('text',\n",
       "                                                  CustomCountVectorizer(),\n",
       "                                                  ['cleaned_comment_text']),\n",
       "                                                 ('text2',\n",
       "                                                  CustomTfidVectorizer(),\n",
       "                                                  ['cleaned_comment_text']),\n",
       "                                                 ('num',\n",
       "                                                  StandardScaler(with_mean=False,\n",
       "                                                                 with_std=False),\n",
       "                                                  ['n_all_caps',\n",
       "                                                   'perc_exclamations',\n",
       "                                                   'num_exclamations'])])),\n",
       "                ('classif', LinearSVC())])"
      ]
     },
     "metadata": {},
     "output_type": "display_data"
    },
    {
     "name": "stdout",
     "output_type": "stream",
     "text": [
      "\n",
      "--------------------------------------------------------------------------------\n",
      "MultinomialNB_nosmote Sub1_Toxic :\n",
      "\n"
     ]
    },
    {
     "data": {
      "text/html": [
       "<style>#sk-268ad0cc-f3c2-4700-bb79-231277ae0d87 {color: black;background-color: white;}#sk-268ad0cc-f3c2-4700-bb79-231277ae0d87 pre{padding: 0;}#sk-268ad0cc-f3c2-4700-bb79-231277ae0d87 div.sk-toggleable {background-color: white;}#sk-268ad0cc-f3c2-4700-bb79-231277ae0d87 label.sk-toggleable__label {cursor: pointer;display: block;width: 100%;margin-bottom: 0;padding: 0.3em;box-sizing: border-box;text-align: center;}#sk-268ad0cc-f3c2-4700-bb79-231277ae0d87 div.sk-toggleable__content {max-height: 0;max-width: 0;overflow: hidden;text-align: left;background-color: #f0f8ff;}#sk-268ad0cc-f3c2-4700-bb79-231277ae0d87 div.sk-toggleable__content pre {margin: 0.2em;color: black;border-radius: 0.25em;background-color: #f0f8ff;}#sk-268ad0cc-f3c2-4700-bb79-231277ae0d87 input.sk-toggleable__control:checked~div.sk-toggleable__content {max-height: 200px;max-width: 100%;overflow: auto;}#sk-268ad0cc-f3c2-4700-bb79-231277ae0d87 div.sk-estimator input.sk-toggleable__control:checked~label.sk-toggleable__label {background-color: #d4ebff;}#sk-268ad0cc-f3c2-4700-bb79-231277ae0d87 div.sk-label input.sk-toggleable__control:checked~label.sk-toggleable__label {background-color: #d4ebff;}#sk-268ad0cc-f3c2-4700-bb79-231277ae0d87 input.sk-hidden--visually {border: 0;clip: rect(1px 1px 1px 1px);clip: rect(1px, 1px, 1px, 1px);height: 1px;margin: -1px;overflow: hidden;padding: 0;position: absolute;width: 1px;}#sk-268ad0cc-f3c2-4700-bb79-231277ae0d87 div.sk-estimator {font-family: monospace;background-color: #f0f8ff;border: 1px dotted black;border-radius: 0.25em;box-sizing: border-box;margin-bottom: 0.5em;}#sk-268ad0cc-f3c2-4700-bb79-231277ae0d87 div.sk-estimator:hover {background-color: #d4ebff;}#sk-268ad0cc-f3c2-4700-bb79-231277ae0d87 div.sk-parallel-item::after {content: \"\";width: 100%;border-bottom: 1px solid gray;flex-grow: 1;}#sk-268ad0cc-f3c2-4700-bb79-231277ae0d87 div.sk-label:hover label.sk-toggleable__label {background-color: #d4ebff;}#sk-268ad0cc-f3c2-4700-bb79-231277ae0d87 div.sk-serial::before {content: \"\";position: absolute;border-left: 1px solid gray;box-sizing: border-box;top: 2em;bottom: 0;left: 50%;}#sk-268ad0cc-f3c2-4700-bb79-231277ae0d87 div.sk-serial {display: flex;flex-direction: column;align-items: center;background-color: white;padding-right: 0.2em;padding-left: 0.2em;}#sk-268ad0cc-f3c2-4700-bb79-231277ae0d87 div.sk-item {z-index: 1;}#sk-268ad0cc-f3c2-4700-bb79-231277ae0d87 div.sk-parallel {display: flex;align-items: stretch;justify-content: center;background-color: white;}#sk-268ad0cc-f3c2-4700-bb79-231277ae0d87 div.sk-parallel::before {content: \"\";position: absolute;border-left: 1px solid gray;box-sizing: border-box;top: 2em;bottom: 0;left: 50%;}#sk-268ad0cc-f3c2-4700-bb79-231277ae0d87 div.sk-parallel-item {display: flex;flex-direction: column;position: relative;background-color: white;}#sk-268ad0cc-f3c2-4700-bb79-231277ae0d87 div.sk-parallel-item:first-child::after {align-self: flex-end;width: 50%;}#sk-268ad0cc-f3c2-4700-bb79-231277ae0d87 div.sk-parallel-item:last-child::after {align-self: flex-start;width: 50%;}#sk-268ad0cc-f3c2-4700-bb79-231277ae0d87 div.sk-parallel-item:only-child::after {width: 0;}#sk-268ad0cc-f3c2-4700-bb79-231277ae0d87 div.sk-dashed-wrapped {border: 1px dashed gray;margin: 0 0.4em 0.5em 0.4em;box-sizing: border-box;padding-bottom: 0.4em;background-color: white;position: relative;}#sk-268ad0cc-f3c2-4700-bb79-231277ae0d87 div.sk-label label {font-family: monospace;font-weight: bold;background-color: white;display: inline-block;line-height: 1.2em;}#sk-268ad0cc-f3c2-4700-bb79-231277ae0d87 div.sk-label-container {position: relative;z-index: 2;text-align: center;}#sk-268ad0cc-f3c2-4700-bb79-231277ae0d87 div.sk-container {display: inline-block;position: relative;}</style><div id=\"sk-268ad0cc-f3c2-4700-bb79-231277ae0d87\" class\"sk-top-container\"><div class=\"sk-container\"><div class=\"sk-item sk-dashed-wrapped\"><div class=\"sk-label-container\"><div class=\"sk-label sk-toggleable\"><input class=\"sk-toggleable__control sk-hidden--visually\" id=\"40440c86-3c06-40f9-a708-7794d2544540\" type=\"checkbox\" ><label class=\"sk-toggleable__label\" for=\"40440c86-3c06-40f9-a708-7794d2544540\">Pipeline</label><div class=\"sk-toggleable__content\"><pre>Pipeline(steps=[('prep',\n",
       "                 ColumnTransformer(transformers=[('text',\n",
       "                                                  CustomCountVectorizer(),\n",
       "                                                  ['cleaned_comment_text']),\n",
       "                                                 ('text2',\n",
       "                                                  CustomTfidVectorizer(),\n",
       "                                                  ['cleaned_comment_text']),\n",
       "                                                 ('num',\n",
       "                                                  StandardScaler(with_mean=False,\n",
       "                                                                 with_std=False),\n",
       "                                                  ['n_all_caps',\n",
       "                                                   'perc_exclamations',\n",
       "                                                   'num_exclamations'])])),\n",
       "                ('classif', MultinomialNB())])</pre></div></div></div><div class=\"sk-serial\"><div class=\"sk-item sk-dashed-wrapped\"><div class=\"sk-label-container\"><div class=\"sk-label sk-toggleable\"><input class=\"sk-toggleable__control sk-hidden--visually\" id=\"ff6dae03-94f8-4df6-a1cf-c7c47c1ab3b7\" type=\"checkbox\" ><label class=\"sk-toggleable__label\" for=\"ff6dae03-94f8-4df6-a1cf-c7c47c1ab3b7\">prep: ColumnTransformer</label><div class=\"sk-toggleable__content\"><pre>ColumnTransformer(transformers=[('text', CustomCountVectorizer(),\n",
       "                                 ['cleaned_comment_text']),\n",
       "                                ('text2', CustomTfidVectorizer(),\n",
       "                                 ['cleaned_comment_text']),\n",
       "                                ('num',\n",
       "                                 StandardScaler(with_mean=False,\n",
       "                                                with_std=False),\n",
       "                                 ['n_all_caps', 'perc_exclamations',\n",
       "                                  'num_exclamations'])])</pre></div></div></div><div class=\"sk-parallel\"><div class=\"sk-parallel-item\"><div class=\"sk-item\"><div class=\"sk-label-container\"><div class=\"sk-label sk-toggleable\"><input class=\"sk-toggleable__control sk-hidden--visually\" id=\"e378506d-7c40-403f-8147-6cc7241cec8c\" type=\"checkbox\" ><label class=\"sk-toggleable__label\" for=\"e378506d-7c40-403f-8147-6cc7241cec8c\">text</label><div class=\"sk-toggleable__content\"><pre>['cleaned_comment_text']</pre></div></div></div><div class=\"sk-serial\"><div class=\"sk-item\"><div class=\"sk-estimator sk-toggleable\"><input class=\"sk-toggleable__control sk-hidden--visually\" id=\"dbdf79fa-5b0a-42d0-bfa9-1cffe2088161\" type=\"checkbox\" ><label class=\"sk-toggleable__label\" for=\"dbdf79fa-5b0a-42d0-bfa9-1cffe2088161\">CustomCountVectorizer</label><div class=\"sk-toggleable__content\"><pre>CustomCountVectorizer()</pre></div></div></div></div></div></div><div class=\"sk-parallel-item\"><div class=\"sk-item\"><div class=\"sk-label-container\"><div class=\"sk-label sk-toggleable\"><input class=\"sk-toggleable__control sk-hidden--visually\" id=\"65f10b3c-5985-49df-a9a2-956ffaac7f86\" type=\"checkbox\" ><label class=\"sk-toggleable__label\" for=\"65f10b3c-5985-49df-a9a2-956ffaac7f86\">text2</label><div class=\"sk-toggleable__content\"><pre>['cleaned_comment_text']</pre></div></div></div><div class=\"sk-serial\"><div class=\"sk-item\"><div class=\"sk-estimator sk-toggleable\"><input class=\"sk-toggleable__control sk-hidden--visually\" id=\"e38a7c02-8d74-430e-97fd-df10c0c8e996\" type=\"checkbox\" ><label class=\"sk-toggleable__label\" for=\"e38a7c02-8d74-430e-97fd-df10c0c8e996\">CustomTfidVectorizer</label><div class=\"sk-toggleable__content\"><pre>CustomTfidVectorizer()</pre></div></div></div></div></div></div><div class=\"sk-parallel-item\"><div class=\"sk-item\"><div class=\"sk-label-container\"><div class=\"sk-label sk-toggleable\"><input class=\"sk-toggleable__control sk-hidden--visually\" id=\"086ac935-9521-4b40-8d6b-9edaa3f251fd\" type=\"checkbox\" ><label class=\"sk-toggleable__label\" for=\"086ac935-9521-4b40-8d6b-9edaa3f251fd\">num</label><div class=\"sk-toggleable__content\"><pre>['n_all_caps', 'perc_exclamations', 'num_exclamations']</pre></div></div></div><div class=\"sk-serial\"><div class=\"sk-item\"><div class=\"sk-estimator sk-toggleable\"><input class=\"sk-toggleable__control sk-hidden--visually\" id=\"c8557586-8c34-4ec5-b6fe-67c46884a212\" type=\"checkbox\" ><label class=\"sk-toggleable__label\" for=\"c8557586-8c34-4ec5-b6fe-67c46884a212\">StandardScaler</label><div class=\"sk-toggleable__content\"><pre>StandardScaler(with_mean=False, with_std=False)</pre></div></div></div></div></div></div></div></div><div class=\"sk-item\"><div class=\"sk-estimator sk-toggleable\"><input class=\"sk-toggleable__control sk-hidden--visually\" id=\"020f8d91-833c-4993-9c82-92b2d0fb8804\" type=\"checkbox\" ><label class=\"sk-toggleable__label\" for=\"020f8d91-833c-4993-9c82-92b2d0fb8804\">MultinomialNB</label><div class=\"sk-toggleable__content\"><pre>MultinomialNB()</pre></div></div></div></div></div></div></div>"
      ],
      "text/plain": [
       "Pipeline(steps=[('prep',\n",
       "                 ColumnTransformer(transformers=[('text',\n",
       "                                                  CustomCountVectorizer(),\n",
       "                                                  ['cleaned_comment_text']),\n",
       "                                                 ('text2',\n",
       "                                                  CustomTfidVectorizer(),\n",
       "                                                  ['cleaned_comment_text']),\n",
       "                                                 ('num',\n",
       "                                                  StandardScaler(with_mean=False,\n",
       "                                                                 with_std=False),\n",
       "                                                  ['n_all_caps',\n",
       "                                                   'perc_exclamations',\n",
       "                                                   'num_exclamations'])])),\n",
       "                ('classif', MultinomialNB())])"
      ]
     },
     "metadata": {},
     "output_type": "display_data"
    },
    {
     "name": "stdout",
     "output_type": "stream",
     "text": [
      "\n",
      "--------------------------------------------------------------------------------\n",
      "MultinomialNB_nosmote Sub2_Engaging :\n",
      "\n"
     ]
    },
    {
     "data": {
      "text/html": [
       "<style>#sk-69d3cba2-c1fc-47be-b1f6-fc98b91b2644 {color: black;background-color: white;}#sk-69d3cba2-c1fc-47be-b1f6-fc98b91b2644 pre{padding: 0;}#sk-69d3cba2-c1fc-47be-b1f6-fc98b91b2644 div.sk-toggleable {background-color: white;}#sk-69d3cba2-c1fc-47be-b1f6-fc98b91b2644 label.sk-toggleable__label {cursor: pointer;display: block;width: 100%;margin-bottom: 0;padding: 0.3em;box-sizing: border-box;text-align: center;}#sk-69d3cba2-c1fc-47be-b1f6-fc98b91b2644 div.sk-toggleable__content {max-height: 0;max-width: 0;overflow: hidden;text-align: left;background-color: #f0f8ff;}#sk-69d3cba2-c1fc-47be-b1f6-fc98b91b2644 div.sk-toggleable__content pre {margin: 0.2em;color: black;border-radius: 0.25em;background-color: #f0f8ff;}#sk-69d3cba2-c1fc-47be-b1f6-fc98b91b2644 input.sk-toggleable__control:checked~div.sk-toggleable__content {max-height: 200px;max-width: 100%;overflow: auto;}#sk-69d3cba2-c1fc-47be-b1f6-fc98b91b2644 div.sk-estimator input.sk-toggleable__control:checked~label.sk-toggleable__label {background-color: #d4ebff;}#sk-69d3cba2-c1fc-47be-b1f6-fc98b91b2644 div.sk-label input.sk-toggleable__control:checked~label.sk-toggleable__label {background-color: #d4ebff;}#sk-69d3cba2-c1fc-47be-b1f6-fc98b91b2644 input.sk-hidden--visually {border: 0;clip: rect(1px 1px 1px 1px);clip: rect(1px, 1px, 1px, 1px);height: 1px;margin: -1px;overflow: hidden;padding: 0;position: absolute;width: 1px;}#sk-69d3cba2-c1fc-47be-b1f6-fc98b91b2644 div.sk-estimator {font-family: monospace;background-color: #f0f8ff;border: 1px dotted black;border-radius: 0.25em;box-sizing: border-box;margin-bottom: 0.5em;}#sk-69d3cba2-c1fc-47be-b1f6-fc98b91b2644 div.sk-estimator:hover {background-color: #d4ebff;}#sk-69d3cba2-c1fc-47be-b1f6-fc98b91b2644 div.sk-parallel-item::after {content: \"\";width: 100%;border-bottom: 1px solid gray;flex-grow: 1;}#sk-69d3cba2-c1fc-47be-b1f6-fc98b91b2644 div.sk-label:hover label.sk-toggleable__label {background-color: #d4ebff;}#sk-69d3cba2-c1fc-47be-b1f6-fc98b91b2644 div.sk-serial::before {content: \"\";position: absolute;border-left: 1px solid gray;box-sizing: border-box;top: 2em;bottom: 0;left: 50%;}#sk-69d3cba2-c1fc-47be-b1f6-fc98b91b2644 div.sk-serial {display: flex;flex-direction: column;align-items: center;background-color: white;padding-right: 0.2em;padding-left: 0.2em;}#sk-69d3cba2-c1fc-47be-b1f6-fc98b91b2644 div.sk-item {z-index: 1;}#sk-69d3cba2-c1fc-47be-b1f6-fc98b91b2644 div.sk-parallel {display: flex;align-items: stretch;justify-content: center;background-color: white;}#sk-69d3cba2-c1fc-47be-b1f6-fc98b91b2644 div.sk-parallel::before {content: \"\";position: absolute;border-left: 1px solid gray;box-sizing: border-box;top: 2em;bottom: 0;left: 50%;}#sk-69d3cba2-c1fc-47be-b1f6-fc98b91b2644 div.sk-parallel-item {display: flex;flex-direction: column;position: relative;background-color: white;}#sk-69d3cba2-c1fc-47be-b1f6-fc98b91b2644 div.sk-parallel-item:first-child::after {align-self: flex-end;width: 50%;}#sk-69d3cba2-c1fc-47be-b1f6-fc98b91b2644 div.sk-parallel-item:last-child::after {align-self: flex-start;width: 50%;}#sk-69d3cba2-c1fc-47be-b1f6-fc98b91b2644 div.sk-parallel-item:only-child::after {width: 0;}#sk-69d3cba2-c1fc-47be-b1f6-fc98b91b2644 div.sk-dashed-wrapped {border: 1px dashed gray;margin: 0 0.4em 0.5em 0.4em;box-sizing: border-box;padding-bottom: 0.4em;background-color: white;position: relative;}#sk-69d3cba2-c1fc-47be-b1f6-fc98b91b2644 div.sk-label label {font-family: monospace;font-weight: bold;background-color: white;display: inline-block;line-height: 1.2em;}#sk-69d3cba2-c1fc-47be-b1f6-fc98b91b2644 div.sk-label-container {position: relative;z-index: 2;text-align: center;}#sk-69d3cba2-c1fc-47be-b1f6-fc98b91b2644 div.sk-container {display: inline-block;position: relative;}</style><div id=\"sk-69d3cba2-c1fc-47be-b1f6-fc98b91b2644\" class\"sk-top-container\"><div class=\"sk-container\"><div class=\"sk-item sk-dashed-wrapped\"><div class=\"sk-label-container\"><div class=\"sk-label sk-toggleable\"><input class=\"sk-toggleable__control sk-hidden--visually\" id=\"94eea8e9-86d4-4dd2-8aa1-c214e83cc456\" type=\"checkbox\" ><label class=\"sk-toggleable__label\" for=\"94eea8e9-86d4-4dd2-8aa1-c214e83cc456\">Pipeline</label><div class=\"sk-toggleable__content\"><pre>Pipeline(steps=[('prep',\n",
       "                 ColumnTransformer(transformers=[('text',\n",
       "                                                  CustomCountVectorizer(),\n",
       "                                                  ['cleaned_comment_text']),\n",
       "                                                 ('text2',\n",
       "                                                  CustomTfidVectorizer(),\n",
       "                                                  ['cleaned_comment_text']),\n",
       "                                                 ('num',\n",
       "                                                  StandardScaler(with_mean=False,\n",
       "                                                                 with_std=False),\n",
       "                                                  ['n_all_caps',\n",
       "                                                   'perc_exclamations',\n",
       "                                                   'num_exclamations'])])),\n",
       "                ('classif', MultinomialNB())])</pre></div></div></div><div class=\"sk-serial\"><div class=\"sk-item sk-dashed-wrapped\"><div class=\"sk-label-container\"><div class=\"sk-label sk-toggleable\"><input class=\"sk-toggleable__control sk-hidden--visually\" id=\"8028ce87-dc4d-464c-9a06-02054a3e5592\" type=\"checkbox\" ><label class=\"sk-toggleable__label\" for=\"8028ce87-dc4d-464c-9a06-02054a3e5592\">prep: ColumnTransformer</label><div class=\"sk-toggleable__content\"><pre>ColumnTransformer(transformers=[('text', CustomCountVectorizer(),\n",
       "                                 ['cleaned_comment_text']),\n",
       "                                ('text2', CustomTfidVectorizer(),\n",
       "                                 ['cleaned_comment_text']),\n",
       "                                ('num',\n",
       "                                 StandardScaler(with_mean=False,\n",
       "                                                with_std=False),\n",
       "                                 ['n_all_caps', 'perc_exclamations',\n",
       "                                  'num_exclamations'])])</pre></div></div></div><div class=\"sk-parallel\"><div class=\"sk-parallel-item\"><div class=\"sk-item\"><div class=\"sk-label-container\"><div class=\"sk-label sk-toggleable\"><input class=\"sk-toggleable__control sk-hidden--visually\" id=\"f772e275-335e-473b-9dcf-33b818fdc8f5\" type=\"checkbox\" ><label class=\"sk-toggleable__label\" for=\"f772e275-335e-473b-9dcf-33b818fdc8f5\">text</label><div class=\"sk-toggleable__content\"><pre>['cleaned_comment_text']</pre></div></div></div><div class=\"sk-serial\"><div class=\"sk-item\"><div class=\"sk-estimator sk-toggleable\"><input class=\"sk-toggleable__control sk-hidden--visually\" id=\"423fe650-9c33-484d-8647-48e51c660e6c\" type=\"checkbox\" ><label class=\"sk-toggleable__label\" for=\"423fe650-9c33-484d-8647-48e51c660e6c\">CustomCountVectorizer</label><div class=\"sk-toggleable__content\"><pre>CustomCountVectorizer()</pre></div></div></div></div></div></div><div class=\"sk-parallel-item\"><div class=\"sk-item\"><div class=\"sk-label-container\"><div class=\"sk-label sk-toggleable\"><input class=\"sk-toggleable__control sk-hidden--visually\" id=\"75eab5f1-ba8d-487a-8934-1902d1553b9a\" type=\"checkbox\" ><label class=\"sk-toggleable__label\" for=\"75eab5f1-ba8d-487a-8934-1902d1553b9a\">text2</label><div class=\"sk-toggleable__content\"><pre>['cleaned_comment_text']</pre></div></div></div><div class=\"sk-serial\"><div class=\"sk-item\"><div class=\"sk-estimator sk-toggleable\"><input class=\"sk-toggleable__control sk-hidden--visually\" id=\"bd8f3941-74ed-43ae-b04b-c8071ace9ca1\" type=\"checkbox\" ><label class=\"sk-toggleable__label\" for=\"bd8f3941-74ed-43ae-b04b-c8071ace9ca1\">CustomTfidVectorizer</label><div class=\"sk-toggleable__content\"><pre>CustomTfidVectorizer()</pre></div></div></div></div></div></div><div class=\"sk-parallel-item\"><div class=\"sk-item\"><div class=\"sk-label-container\"><div class=\"sk-label sk-toggleable\"><input class=\"sk-toggleable__control sk-hidden--visually\" id=\"b98f6635-fb9e-4090-8edd-0bebfcee379b\" type=\"checkbox\" ><label class=\"sk-toggleable__label\" for=\"b98f6635-fb9e-4090-8edd-0bebfcee379b\">num</label><div class=\"sk-toggleable__content\"><pre>['n_all_caps', 'perc_exclamations', 'num_exclamations']</pre></div></div></div><div class=\"sk-serial\"><div class=\"sk-item\"><div class=\"sk-estimator sk-toggleable\"><input class=\"sk-toggleable__control sk-hidden--visually\" id=\"96603a1a-a279-423f-9c89-8fcae98f5cc1\" type=\"checkbox\" ><label class=\"sk-toggleable__label\" for=\"96603a1a-a279-423f-9c89-8fcae98f5cc1\">StandardScaler</label><div class=\"sk-toggleable__content\"><pre>StandardScaler(with_mean=False, with_std=False)</pre></div></div></div></div></div></div></div></div><div class=\"sk-item\"><div class=\"sk-estimator sk-toggleable\"><input class=\"sk-toggleable__control sk-hidden--visually\" id=\"0151945d-6a8e-482e-aa64-cb3665f9a071\" type=\"checkbox\" ><label class=\"sk-toggleable__label\" for=\"0151945d-6a8e-482e-aa64-cb3665f9a071\">MultinomialNB</label><div class=\"sk-toggleable__content\"><pre>MultinomialNB()</pre></div></div></div></div></div></div></div>"
      ],
      "text/plain": [
       "Pipeline(steps=[('prep',\n",
       "                 ColumnTransformer(transformers=[('text',\n",
       "                                                  CustomCountVectorizer(),\n",
       "                                                  ['cleaned_comment_text']),\n",
       "                                                 ('text2',\n",
       "                                                  CustomTfidVectorizer(),\n",
       "                                                  ['cleaned_comment_text']),\n",
       "                                                 ('num',\n",
       "                                                  StandardScaler(with_mean=False,\n",
       "                                                                 with_std=False),\n",
       "                                                  ['n_all_caps',\n",
       "                                                   'perc_exclamations',\n",
       "                                                   'num_exclamations'])])),\n",
       "                ('classif', MultinomialNB())])"
      ]
     },
     "metadata": {},
     "output_type": "display_data"
    },
    {
     "name": "stdout",
     "output_type": "stream",
     "text": [
      "\n",
      "--------------------------------------------------------------------------------\n",
      "MultinomialNB_nosmote Sub3_FactClaiming :\n",
      "\n"
     ]
    },
    {
     "data": {
      "text/html": [
       "<style>#sk-5f754764-0a64-4440-bb4c-9faf603b6037 {color: black;background-color: white;}#sk-5f754764-0a64-4440-bb4c-9faf603b6037 pre{padding: 0;}#sk-5f754764-0a64-4440-bb4c-9faf603b6037 div.sk-toggleable {background-color: white;}#sk-5f754764-0a64-4440-bb4c-9faf603b6037 label.sk-toggleable__label {cursor: pointer;display: block;width: 100%;margin-bottom: 0;padding: 0.3em;box-sizing: border-box;text-align: center;}#sk-5f754764-0a64-4440-bb4c-9faf603b6037 div.sk-toggleable__content {max-height: 0;max-width: 0;overflow: hidden;text-align: left;background-color: #f0f8ff;}#sk-5f754764-0a64-4440-bb4c-9faf603b6037 div.sk-toggleable__content pre {margin: 0.2em;color: black;border-radius: 0.25em;background-color: #f0f8ff;}#sk-5f754764-0a64-4440-bb4c-9faf603b6037 input.sk-toggleable__control:checked~div.sk-toggleable__content {max-height: 200px;max-width: 100%;overflow: auto;}#sk-5f754764-0a64-4440-bb4c-9faf603b6037 div.sk-estimator input.sk-toggleable__control:checked~label.sk-toggleable__label {background-color: #d4ebff;}#sk-5f754764-0a64-4440-bb4c-9faf603b6037 div.sk-label input.sk-toggleable__control:checked~label.sk-toggleable__label {background-color: #d4ebff;}#sk-5f754764-0a64-4440-bb4c-9faf603b6037 input.sk-hidden--visually {border: 0;clip: rect(1px 1px 1px 1px);clip: rect(1px, 1px, 1px, 1px);height: 1px;margin: -1px;overflow: hidden;padding: 0;position: absolute;width: 1px;}#sk-5f754764-0a64-4440-bb4c-9faf603b6037 div.sk-estimator {font-family: monospace;background-color: #f0f8ff;border: 1px dotted black;border-radius: 0.25em;box-sizing: border-box;margin-bottom: 0.5em;}#sk-5f754764-0a64-4440-bb4c-9faf603b6037 div.sk-estimator:hover {background-color: #d4ebff;}#sk-5f754764-0a64-4440-bb4c-9faf603b6037 div.sk-parallel-item::after {content: \"\";width: 100%;border-bottom: 1px solid gray;flex-grow: 1;}#sk-5f754764-0a64-4440-bb4c-9faf603b6037 div.sk-label:hover label.sk-toggleable__label {background-color: #d4ebff;}#sk-5f754764-0a64-4440-bb4c-9faf603b6037 div.sk-serial::before {content: \"\";position: absolute;border-left: 1px solid gray;box-sizing: border-box;top: 2em;bottom: 0;left: 50%;}#sk-5f754764-0a64-4440-bb4c-9faf603b6037 div.sk-serial {display: flex;flex-direction: column;align-items: center;background-color: white;padding-right: 0.2em;padding-left: 0.2em;}#sk-5f754764-0a64-4440-bb4c-9faf603b6037 div.sk-item {z-index: 1;}#sk-5f754764-0a64-4440-bb4c-9faf603b6037 div.sk-parallel {display: flex;align-items: stretch;justify-content: center;background-color: white;}#sk-5f754764-0a64-4440-bb4c-9faf603b6037 div.sk-parallel::before {content: \"\";position: absolute;border-left: 1px solid gray;box-sizing: border-box;top: 2em;bottom: 0;left: 50%;}#sk-5f754764-0a64-4440-bb4c-9faf603b6037 div.sk-parallel-item {display: flex;flex-direction: column;position: relative;background-color: white;}#sk-5f754764-0a64-4440-bb4c-9faf603b6037 div.sk-parallel-item:first-child::after {align-self: flex-end;width: 50%;}#sk-5f754764-0a64-4440-bb4c-9faf603b6037 div.sk-parallel-item:last-child::after {align-self: flex-start;width: 50%;}#sk-5f754764-0a64-4440-bb4c-9faf603b6037 div.sk-parallel-item:only-child::after {width: 0;}#sk-5f754764-0a64-4440-bb4c-9faf603b6037 div.sk-dashed-wrapped {border: 1px dashed gray;margin: 0 0.4em 0.5em 0.4em;box-sizing: border-box;padding-bottom: 0.4em;background-color: white;position: relative;}#sk-5f754764-0a64-4440-bb4c-9faf603b6037 div.sk-label label {font-family: monospace;font-weight: bold;background-color: white;display: inline-block;line-height: 1.2em;}#sk-5f754764-0a64-4440-bb4c-9faf603b6037 div.sk-label-container {position: relative;z-index: 2;text-align: center;}#sk-5f754764-0a64-4440-bb4c-9faf603b6037 div.sk-container {display: inline-block;position: relative;}</style><div id=\"sk-5f754764-0a64-4440-bb4c-9faf603b6037\" class\"sk-top-container\"><div class=\"sk-container\"><div class=\"sk-item sk-dashed-wrapped\"><div class=\"sk-label-container\"><div class=\"sk-label sk-toggleable\"><input class=\"sk-toggleable__control sk-hidden--visually\" id=\"8958f454-0fb2-4208-916f-e768ea0300a0\" type=\"checkbox\" ><label class=\"sk-toggleable__label\" for=\"8958f454-0fb2-4208-916f-e768ea0300a0\">Pipeline</label><div class=\"sk-toggleable__content\"><pre>Pipeline(steps=[('prep',\n",
       "                 ColumnTransformer(transformers=[('text',\n",
       "                                                  CustomCountVectorizer(),\n",
       "                                                  ['cleaned_comment_text']),\n",
       "                                                 ('text2',\n",
       "                                                  CustomTfidVectorizer(),\n",
       "                                                  ['cleaned_comment_text']),\n",
       "                                                 ('num',\n",
       "                                                  StandardScaler(with_mean=False,\n",
       "                                                                 with_std=False),\n",
       "                                                  ['n_all_caps',\n",
       "                                                   'perc_exclamations',\n",
       "                                                   'num_exclamations'])])),\n",
       "                ('classif', MultinomialNB())])</pre></div></div></div><div class=\"sk-serial\"><div class=\"sk-item sk-dashed-wrapped\"><div class=\"sk-label-container\"><div class=\"sk-label sk-toggleable\"><input class=\"sk-toggleable__control sk-hidden--visually\" id=\"b70cc262-4f73-45dc-9d23-ab620f96d1f2\" type=\"checkbox\" ><label class=\"sk-toggleable__label\" for=\"b70cc262-4f73-45dc-9d23-ab620f96d1f2\">prep: ColumnTransformer</label><div class=\"sk-toggleable__content\"><pre>ColumnTransformer(transformers=[('text', CustomCountVectorizer(),\n",
       "                                 ['cleaned_comment_text']),\n",
       "                                ('text2', CustomTfidVectorizer(),\n",
       "                                 ['cleaned_comment_text']),\n",
       "                                ('num',\n",
       "                                 StandardScaler(with_mean=False,\n",
       "                                                with_std=False),\n",
       "                                 ['n_all_caps', 'perc_exclamations',\n",
       "                                  'num_exclamations'])])</pre></div></div></div><div class=\"sk-parallel\"><div class=\"sk-parallel-item\"><div class=\"sk-item\"><div class=\"sk-label-container\"><div class=\"sk-label sk-toggleable\"><input class=\"sk-toggleable__control sk-hidden--visually\" id=\"939caf60-ee52-42a5-bc2c-5a9bb9549f3d\" type=\"checkbox\" ><label class=\"sk-toggleable__label\" for=\"939caf60-ee52-42a5-bc2c-5a9bb9549f3d\">text</label><div class=\"sk-toggleable__content\"><pre>['cleaned_comment_text']</pre></div></div></div><div class=\"sk-serial\"><div class=\"sk-item\"><div class=\"sk-estimator sk-toggleable\"><input class=\"sk-toggleable__control sk-hidden--visually\" id=\"98715a9e-9055-4895-b6d0-23bb623d9797\" type=\"checkbox\" ><label class=\"sk-toggleable__label\" for=\"98715a9e-9055-4895-b6d0-23bb623d9797\">CustomCountVectorizer</label><div class=\"sk-toggleable__content\"><pre>CustomCountVectorizer()</pre></div></div></div></div></div></div><div class=\"sk-parallel-item\"><div class=\"sk-item\"><div class=\"sk-label-container\"><div class=\"sk-label sk-toggleable\"><input class=\"sk-toggleable__control sk-hidden--visually\" id=\"1c7742a9-3bb0-4b9b-a6a4-2e2150a6552b\" type=\"checkbox\" ><label class=\"sk-toggleable__label\" for=\"1c7742a9-3bb0-4b9b-a6a4-2e2150a6552b\">text2</label><div class=\"sk-toggleable__content\"><pre>['cleaned_comment_text']</pre></div></div></div><div class=\"sk-serial\"><div class=\"sk-item\"><div class=\"sk-estimator sk-toggleable\"><input class=\"sk-toggleable__control sk-hidden--visually\" id=\"54944861-c3fd-43a3-ad66-4c565fc64857\" type=\"checkbox\" ><label class=\"sk-toggleable__label\" for=\"54944861-c3fd-43a3-ad66-4c565fc64857\">CustomTfidVectorizer</label><div class=\"sk-toggleable__content\"><pre>CustomTfidVectorizer()</pre></div></div></div></div></div></div><div class=\"sk-parallel-item\"><div class=\"sk-item\"><div class=\"sk-label-container\"><div class=\"sk-label sk-toggleable\"><input class=\"sk-toggleable__control sk-hidden--visually\" id=\"3d9694a5-5d8b-4e81-b728-812eac2374bf\" type=\"checkbox\" ><label class=\"sk-toggleable__label\" for=\"3d9694a5-5d8b-4e81-b728-812eac2374bf\">num</label><div class=\"sk-toggleable__content\"><pre>['n_all_caps', 'perc_exclamations', 'num_exclamations']</pre></div></div></div><div class=\"sk-serial\"><div class=\"sk-item\"><div class=\"sk-estimator sk-toggleable\"><input class=\"sk-toggleable__control sk-hidden--visually\" id=\"96c81251-9691-45e2-8f10-972fd5e98e91\" type=\"checkbox\" ><label class=\"sk-toggleable__label\" for=\"96c81251-9691-45e2-8f10-972fd5e98e91\">StandardScaler</label><div class=\"sk-toggleable__content\"><pre>StandardScaler(with_mean=False, with_std=False)</pre></div></div></div></div></div></div></div></div><div class=\"sk-item\"><div class=\"sk-estimator sk-toggleable\"><input class=\"sk-toggleable__control sk-hidden--visually\" id=\"57c49626-9cda-4b09-970e-febdfdfe710c\" type=\"checkbox\" ><label class=\"sk-toggleable__label\" for=\"57c49626-9cda-4b09-970e-febdfdfe710c\">MultinomialNB</label><div class=\"sk-toggleable__content\"><pre>MultinomialNB()</pre></div></div></div></div></div></div></div>"
      ],
      "text/plain": [
       "Pipeline(steps=[('prep',\n",
       "                 ColumnTransformer(transformers=[('text',\n",
       "                                                  CustomCountVectorizer(),\n",
       "                                                  ['cleaned_comment_text']),\n",
       "                                                 ('text2',\n",
       "                                                  CustomTfidVectorizer(),\n",
       "                                                  ['cleaned_comment_text']),\n",
       "                                                 ('num',\n",
       "                                                  StandardScaler(with_mean=False,\n",
       "                                                                 with_std=False),\n",
       "                                                  ['n_all_caps',\n",
       "                                                   'perc_exclamations',\n",
       "                                                   'num_exclamations'])])),\n",
       "                ('classif', MultinomialNB())])"
      ]
     },
     "metadata": {},
     "output_type": "display_data"
    },
    {
     "name": "stdout",
     "output_type": "stream",
     "text": [
      "\n",
      "--------------------------------------------------------------------------------\n",
      "RandomForestClassifier Sub1_Toxic :\n",
      "\n"
     ]
    },
    {
     "data": {
      "text/html": [
       "<style>#sk-790f8f8b-29a9-47be-9199-ff568425083d {color: black;background-color: white;}#sk-790f8f8b-29a9-47be-9199-ff568425083d pre{padding: 0;}#sk-790f8f8b-29a9-47be-9199-ff568425083d div.sk-toggleable {background-color: white;}#sk-790f8f8b-29a9-47be-9199-ff568425083d label.sk-toggleable__label {cursor: pointer;display: block;width: 100%;margin-bottom: 0;padding: 0.3em;box-sizing: border-box;text-align: center;}#sk-790f8f8b-29a9-47be-9199-ff568425083d div.sk-toggleable__content {max-height: 0;max-width: 0;overflow: hidden;text-align: left;background-color: #f0f8ff;}#sk-790f8f8b-29a9-47be-9199-ff568425083d div.sk-toggleable__content pre {margin: 0.2em;color: black;border-radius: 0.25em;background-color: #f0f8ff;}#sk-790f8f8b-29a9-47be-9199-ff568425083d input.sk-toggleable__control:checked~div.sk-toggleable__content {max-height: 200px;max-width: 100%;overflow: auto;}#sk-790f8f8b-29a9-47be-9199-ff568425083d div.sk-estimator input.sk-toggleable__control:checked~label.sk-toggleable__label {background-color: #d4ebff;}#sk-790f8f8b-29a9-47be-9199-ff568425083d div.sk-label input.sk-toggleable__control:checked~label.sk-toggleable__label {background-color: #d4ebff;}#sk-790f8f8b-29a9-47be-9199-ff568425083d input.sk-hidden--visually {border: 0;clip: rect(1px 1px 1px 1px);clip: rect(1px, 1px, 1px, 1px);height: 1px;margin: -1px;overflow: hidden;padding: 0;position: absolute;width: 1px;}#sk-790f8f8b-29a9-47be-9199-ff568425083d div.sk-estimator {font-family: monospace;background-color: #f0f8ff;border: 1px dotted black;border-radius: 0.25em;box-sizing: border-box;margin-bottom: 0.5em;}#sk-790f8f8b-29a9-47be-9199-ff568425083d div.sk-estimator:hover {background-color: #d4ebff;}#sk-790f8f8b-29a9-47be-9199-ff568425083d div.sk-parallel-item::after {content: \"\";width: 100%;border-bottom: 1px solid gray;flex-grow: 1;}#sk-790f8f8b-29a9-47be-9199-ff568425083d div.sk-label:hover label.sk-toggleable__label {background-color: #d4ebff;}#sk-790f8f8b-29a9-47be-9199-ff568425083d div.sk-serial::before {content: \"\";position: absolute;border-left: 1px solid gray;box-sizing: border-box;top: 2em;bottom: 0;left: 50%;}#sk-790f8f8b-29a9-47be-9199-ff568425083d div.sk-serial {display: flex;flex-direction: column;align-items: center;background-color: white;padding-right: 0.2em;padding-left: 0.2em;}#sk-790f8f8b-29a9-47be-9199-ff568425083d div.sk-item {z-index: 1;}#sk-790f8f8b-29a9-47be-9199-ff568425083d div.sk-parallel {display: flex;align-items: stretch;justify-content: center;background-color: white;}#sk-790f8f8b-29a9-47be-9199-ff568425083d div.sk-parallel::before {content: \"\";position: absolute;border-left: 1px solid gray;box-sizing: border-box;top: 2em;bottom: 0;left: 50%;}#sk-790f8f8b-29a9-47be-9199-ff568425083d div.sk-parallel-item {display: flex;flex-direction: column;position: relative;background-color: white;}#sk-790f8f8b-29a9-47be-9199-ff568425083d div.sk-parallel-item:first-child::after {align-self: flex-end;width: 50%;}#sk-790f8f8b-29a9-47be-9199-ff568425083d div.sk-parallel-item:last-child::after {align-self: flex-start;width: 50%;}#sk-790f8f8b-29a9-47be-9199-ff568425083d div.sk-parallel-item:only-child::after {width: 0;}#sk-790f8f8b-29a9-47be-9199-ff568425083d div.sk-dashed-wrapped {border: 1px dashed gray;margin: 0 0.4em 0.5em 0.4em;box-sizing: border-box;padding-bottom: 0.4em;background-color: white;position: relative;}#sk-790f8f8b-29a9-47be-9199-ff568425083d div.sk-label label {font-family: monospace;font-weight: bold;background-color: white;display: inline-block;line-height: 1.2em;}#sk-790f8f8b-29a9-47be-9199-ff568425083d div.sk-label-container {position: relative;z-index: 2;text-align: center;}#sk-790f8f8b-29a9-47be-9199-ff568425083d div.sk-container {display: inline-block;position: relative;}</style><div id=\"sk-790f8f8b-29a9-47be-9199-ff568425083d\" class\"sk-top-container\"><div class=\"sk-container\"><div class=\"sk-item sk-dashed-wrapped\"><div class=\"sk-label-container\"><div class=\"sk-label sk-toggleable\"><input class=\"sk-toggleable__control sk-hidden--visually\" id=\"520618cf-532f-4a2c-b78d-cc065b004bb8\" type=\"checkbox\" ><label class=\"sk-toggleable__label\" for=\"520618cf-532f-4a2c-b78d-cc065b004bb8\">Pipeline</label><div class=\"sk-toggleable__content\"><pre>Pipeline(steps=[('prep',\n",
       "                 ColumnTransformer(transformers=[('text',\n",
       "                                                  CustomCountVectorizer(),\n",
       "                                                  ['cleaned_comment_text']),\n",
       "                                                 ('text2',\n",
       "                                                  CustomTfidVectorizer(),\n",
       "                                                  ['cleaned_comment_text']),\n",
       "                                                 ('num',\n",
       "                                                  StandardScaler(with_mean=False,\n",
       "                                                                 with_std=False),\n",
       "                                                  ['n_all_caps',\n",
       "                                                   'perc_exclamations',\n",
       "                                                   'num_exclamations'])])),\n",
       "                ('classif', RandomForestClassifier(n_jobs=-1))])</pre></div></div></div><div class=\"sk-serial\"><div class=\"sk-item sk-dashed-wrapped\"><div class=\"sk-label-container\"><div class=\"sk-label sk-toggleable\"><input class=\"sk-toggleable__control sk-hidden--visually\" id=\"c147ffbb-9e5e-4756-8a9a-dae37278bb67\" type=\"checkbox\" ><label class=\"sk-toggleable__label\" for=\"c147ffbb-9e5e-4756-8a9a-dae37278bb67\">prep: ColumnTransformer</label><div class=\"sk-toggleable__content\"><pre>ColumnTransformer(transformers=[('text', CustomCountVectorizer(),\n",
       "                                 ['cleaned_comment_text']),\n",
       "                                ('text2', CustomTfidVectorizer(),\n",
       "                                 ['cleaned_comment_text']),\n",
       "                                ('num',\n",
       "                                 StandardScaler(with_mean=False,\n",
       "                                                with_std=False),\n",
       "                                 ['n_all_caps', 'perc_exclamations',\n",
       "                                  'num_exclamations'])])</pre></div></div></div><div class=\"sk-parallel\"><div class=\"sk-parallel-item\"><div class=\"sk-item\"><div class=\"sk-label-container\"><div class=\"sk-label sk-toggleable\"><input class=\"sk-toggleable__control sk-hidden--visually\" id=\"dac19e95-e4d9-498c-8dd3-dae4b429782e\" type=\"checkbox\" ><label class=\"sk-toggleable__label\" for=\"dac19e95-e4d9-498c-8dd3-dae4b429782e\">text</label><div class=\"sk-toggleable__content\"><pre>['cleaned_comment_text']</pre></div></div></div><div class=\"sk-serial\"><div class=\"sk-item\"><div class=\"sk-estimator sk-toggleable\"><input class=\"sk-toggleable__control sk-hidden--visually\" id=\"0b468893-3897-46b4-b368-b46861cbc03d\" type=\"checkbox\" ><label class=\"sk-toggleable__label\" for=\"0b468893-3897-46b4-b368-b46861cbc03d\">CustomCountVectorizer</label><div class=\"sk-toggleable__content\"><pre>CustomCountVectorizer()</pre></div></div></div></div></div></div><div class=\"sk-parallel-item\"><div class=\"sk-item\"><div class=\"sk-label-container\"><div class=\"sk-label sk-toggleable\"><input class=\"sk-toggleable__control sk-hidden--visually\" id=\"4f88f37d-2987-4ad4-a1ec-e89242369370\" type=\"checkbox\" ><label class=\"sk-toggleable__label\" for=\"4f88f37d-2987-4ad4-a1ec-e89242369370\">text2</label><div class=\"sk-toggleable__content\"><pre>['cleaned_comment_text']</pre></div></div></div><div class=\"sk-serial\"><div class=\"sk-item\"><div class=\"sk-estimator sk-toggleable\"><input class=\"sk-toggleable__control sk-hidden--visually\" id=\"6041942a-9943-4b14-9dd2-49102ef001a4\" type=\"checkbox\" ><label class=\"sk-toggleable__label\" for=\"6041942a-9943-4b14-9dd2-49102ef001a4\">CustomTfidVectorizer</label><div class=\"sk-toggleable__content\"><pre>CustomTfidVectorizer()</pre></div></div></div></div></div></div><div class=\"sk-parallel-item\"><div class=\"sk-item\"><div class=\"sk-label-container\"><div class=\"sk-label sk-toggleable\"><input class=\"sk-toggleable__control sk-hidden--visually\" id=\"a9f7438c-d0c9-4cb9-800d-f1b857c75c4c\" type=\"checkbox\" ><label class=\"sk-toggleable__label\" for=\"a9f7438c-d0c9-4cb9-800d-f1b857c75c4c\">num</label><div class=\"sk-toggleable__content\"><pre>['n_all_caps', 'perc_exclamations', 'num_exclamations']</pre></div></div></div><div class=\"sk-serial\"><div class=\"sk-item\"><div class=\"sk-estimator sk-toggleable\"><input class=\"sk-toggleable__control sk-hidden--visually\" id=\"16043eed-3a1b-4941-923b-044b0f8b8bc2\" type=\"checkbox\" ><label class=\"sk-toggleable__label\" for=\"16043eed-3a1b-4941-923b-044b0f8b8bc2\">StandardScaler</label><div class=\"sk-toggleable__content\"><pre>StandardScaler(with_mean=False, with_std=False)</pre></div></div></div></div></div></div></div></div><div class=\"sk-item\"><div class=\"sk-estimator sk-toggleable\"><input class=\"sk-toggleable__control sk-hidden--visually\" id=\"19a8aef1-18a4-430f-bb9c-f3538e759070\" type=\"checkbox\" ><label class=\"sk-toggleable__label\" for=\"19a8aef1-18a4-430f-bb9c-f3538e759070\">RandomForestClassifier</label><div class=\"sk-toggleable__content\"><pre>RandomForestClassifier(n_jobs=-1)</pre></div></div></div></div></div></div></div>"
      ],
      "text/plain": [
       "Pipeline(steps=[('prep',\n",
       "                 ColumnTransformer(transformers=[('text',\n",
       "                                                  CustomCountVectorizer(),\n",
       "                                                  ['cleaned_comment_text']),\n",
       "                                                 ('text2',\n",
       "                                                  CustomTfidVectorizer(),\n",
       "                                                  ['cleaned_comment_text']),\n",
       "                                                 ('num',\n",
       "                                                  StandardScaler(with_mean=False,\n",
       "                                                                 with_std=False),\n",
       "                                                  ['n_all_caps',\n",
       "                                                   'perc_exclamations',\n",
       "                                                   'num_exclamations'])])),\n",
       "                ('classif', RandomForestClassifier(n_jobs=-1))])"
      ]
     },
     "metadata": {},
     "output_type": "display_data"
    },
    {
     "name": "stdout",
     "output_type": "stream",
     "text": [
      "\n",
      "--------------------------------------------------------------------------------\n",
      "RandomForestClassifier Sub2_Engaging :\n",
      "\n"
     ]
    },
    {
     "data": {
      "text/html": [
       "<style>#sk-b08e5a3e-14d5-433e-83cf-05d928b4028e {color: black;background-color: white;}#sk-b08e5a3e-14d5-433e-83cf-05d928b4028e pre{padding: 0;}#sk-b08e5a3e-14d5-433e-83cf-05d928b4028e div.sk-toggleable {background-color: white;}#sk-b08e5a3e-14d5-433e-83cf-05d928b4028e label.sk-toggleable__label {cursor: pointer;display: block;width: 100%;margin-bottom: 0;padding: 0.3em;box-sizing: border-box;text-align: center;}#sk-b08e5a3e-14d5-433e-83cf-05d928b4028e div.sk-toggleable__content {max-height: 0;max-width: 0;overflow: hidden;text-align: left;background-color: #f0f8ff;}#sk-b08e5a3e-14d5-433e-83cf-05d928b4028e div.sk-toggleable__content pre {margin: 0.2em;color: black;border-radius: 0.25em;background-color: #f0f8ff;}#sk-b08e5a3e-14d5-433e-83cf-05d928b4028e input.sk-toggleable__control:checked~div.sk-toggleable__content {max-height: 200px;max-width: 100%;overflow: auto;}#sk-b08e5a3e-14d5-433e-83cf-05d928b4028e div.sk-estimator input.sk-toggleable__control:checked~label.sk-toggleable__label {background-color: #d4ebff;}#sk-b08e5a3e-14d5-433e-83cf-05d928b4028e div.sk-label input.sk-toggleable__control:checked~label.sk-toggleable__label {background-color: #d4ebff;}#sk-b08e5a3e-14d5-433e-83cf-05d928b4028e input.sk-hidden--visually {border: 0;clip: rect(1px 1px 1px 1px);clip: rect(1px, 1px, 1px, 1px);height: 1px;margin: -1px;overflow: hidden;padding: 0;position: absolute;width: 1px;}#sk-b08e5a3e-14d5-433e-83cf-05d928b4028e div.sk-estimator {font-family: monospace;background-color: #f0f8ff;border: 1px dotted black;border-radius: 0.25em;box-sizing: border-box;margin-bottom: 0.5em;}#sk-b08e5a3e-14d5-433e-83cf-05d928b4028e div.sk-estimator:hover {background-color: #d4ebff;}#sk-b08e5a3e-14d5-433e-83cf-05d928b4028e div.sk-parallel-item::after {content: \"\";width: 100%;border-bottom: 1px solid gray;flex-grow: 1;}#sk-b08e5a3e-14d5-433e-83cf-05d928b4028e div.sk-label:hover label.sk-toggleable__label {background-color: #d4ebff;}#sk-b08e5a3e-14d5-433e-83cf-05d928b4028e div.sk-serial::before {content: \"\";position: absolute;border-left: 1px solid gray;box-sizing: border-box;top: 2em;bottom: 0;left: 50%;}#sk-b08e5a3e-14d5-433e-83cf-05d928b4028e div.sk-serial {display: flex;flex-direction: column;align-items: center;background-color: white;padding-right: 0.2em;padding-left: 0.2em;}#sk-b08e5a3e-14d5-433e-83cf-05d928b4028e div.sk-item {z-index: 1;}#sk-b08e5a3e-14d5-433e-83cf-05d928b4028e div.sk-parallel {display: flex;align-items: stretch;justify-content: center;background-color: white;}#sk-b08e5a3e-14d5-433e-83cf-05d928b4028e div.sk-parallel::before {content: \"\";position: absolute;border-left: 1px solid gray;box-sizing: border-box;top: 2em;bottom: 0;left: 50%;}#sk-b08e5a3e-14d5-433e-83cf-05d928b4028e div.sk-parallel-item {display: flex;flex-direction: column;position: relative;background-color: white;}#sk-b08e5a3e-14d5-433e-83cf-05d928b4028e div.sk-parallel-item:first-child::after {align-self: flex-end;width: 50%;}#sk-b08e5a3e-14d5-433e-83cf-05d928b4028e div.sk-parallel-item:last-child::after {align-self: flex-start;width: 50%;}#sk-b08e5a3e-14d5-433e-83cf-05d928b4028e div.sk-parallel-item:only-child::after {width: 0;}#sk-b08e5a3e-14d5-433e-83cf-05d928b4028e div.sk-dashed-wrapped {border: 1px dashed gray;margin: 0 0.4em 0.5em 0.4em;box-sizing: border-box;padding-bottom: 0.4em;background-color: white;position: relative;}#sk-b08e5a3e-14d5-433e-83cf-05d928b4028e div.sk-label label {font-family: monospace;font-weight: bold;background-color: white;display: inline-block;line-height: 1.2em;}#sk-b08e5a3e-14d5-433e-83cf-05d928b4028e div.sk-label-container {position: relative;z-index: 2;text-align: center;}#sk-b08e5a3e-14d5-433e-83cf-05d928b4028e div.sk-container {display: inline-block;position: relative;}</style><div id=\"sk-b08e5a3e-14d5-433e-83cf-05d928b4028e\" class\"sk-top-container\"><div class=\"sk-container\"><div class=\"sk-item sk-dashed-wrapped\"><div class=\"sk-label-container\"><div class=\"sk-label sk-toggleable\"><input class=\"sk-toggleable__control sk-hidden--visually\" id=\"41ba28f1-f972-4485-a108-af5886c85616\" type=\"checkbox\" ><label class=\"sk-toggleable__label\" for=\"41ba28f1-f972-4485-a108-af5886c85616\">Pipeline</label><div class=\"sk-toggleable__content\"><pre>Pipeline(steps=[('prep',\n",
       "                 ColumnTransformer(transformers=[('text',\n",
       "                                                  CustomCountVectorizer(),\n",
       "                                                  ['cleaned_comment_text']),\n",
       "                                                 ('text2',\n",
       "                                                  CustomTfidVectorizer(),\n",
       "                                                  ['cleaned_comment_text']),\n",
       "                                                 ('num',\n",
       "                                                  StandardScaler(with_mean=False,\n",
       "                                                                 with_std=False),\n",
       "                                                  ['n_all_caps',\n",
       "                                                   'perc_exclamations',\n",
       "                                                   'num_exclamations'])])),\n",
       "                ('classif', RandomForestClassifier(n_jobs=-1))])</pre></div></div></div><div class=\"sk-serial\"><div class=\"sk-item sk-dashed-wrapped\"><div class=\"sk-label-container\"><div class=\"sk-label sk-toggleable\"><input class=\"sk-toggleable__control sk-hidden--visually\" id=\"05b63a28-4cd2-492c-aa32-c20056290553\" type=\"checkbox\" ><label class=\"sk-toggleable__label\" for=\"05b63a28-4cd2-492c-aa32-c20056290553\">prep: ColumnTransformer</label><div class=\"sk-toggleable__content\"><pre>ColumnTransformer(transformers=[('text', CustomCountVectorizer(),\n",
       "                                 ['cleaned_comment_text']),\n",
       "                                ('text2', CustomTfidVectorizer(),\n",
       "                                 ['cleaned_comment_text']),\n",
       "                                ('num',\n",
       "                                 StandardScaler(with_mean=False,\n",
       "                                                with_std=False),\n",
       "                                 ['n_all_caps', 'perc_exclamations',\n",
       "                                  'num_exclamations'])])</pre></div></div></div><div class=\"sk-parallel\"><div class=\"sk-parallel-item\"><div class=\"sk-item\"><div class=\"sk-label-container\"><div class=\"sk-label sk-toggleable\"><input class=\"sk-toggleable__control sk-hidden--visually\" id=\"cb07a94d-7ff4-4fcb-8038-ca83332c9b25\" type=\"checkbox\" ><label class=\"sk-toggleable__label\" for=\"cb07a94d-7ff4-4fcb-8038-ca83332c9b25\">text</label><div class=\"sk-toggleable__content\"><pre>['cleaned_comment_text']</pre></div></div></div><div class=\"sk-serial\"><div class=\"sk-item\"><div class=\"sk-estimator sk-toggleable\"><input class=\"sk-toggleable__control sk-hidden--visually\" id=\"20da4e10-a127-44c6-8bac-8ef2f801d9f8\" type=\"checkbox\" ><label class=\"sk-toggleable__label\" for=\"20da4e10-a127-44c6-8bac-8ef2f801d9f8\">CustomCountVectorizer</label><div class=\"sk-toggleable__content\"><pre>CustomCountVectorizer()</pre></div></div></div></div></div></div><div class=\"sk-parallel-item\"><div class=\"sk-item\"><div class=\"sk-label-container\"><div class=\"sk-label sk-toggleable\"><input class=\"sk-toggleable__control sk-hidden--visually\" id=\"e9c52818-866d-4b82-a81d-9af637cc8a46\" type=\"checkbox\" ><label class=\"sk-toggleable__label\" for=\"e9c52818-866d-4b82-a81d-9af637cc8a46\">text2</label><div class=\"sk-toggleable__content\"><pre>['cleaned_comment_text']</pre></div></div></div><div class=\"sk-serial\"><div class=\"sk-item\"><div class=\"sk-estimator sk-toggleable\"><input class=\"sk-toggleable__control sk-hidden--visually\" id=\"0cb568df-92ee-48d3-aa26-0e1268e07aac\" type=\"checkbox\" ><label class=\"sk-toggleable__label\" for=\"0cb568df-92ee-48d3-aa26-0e1268e07aac\">CustomTfidVectorizer</label><div class=\"sk-toggleable__content\"><pre>CustomTfidVectorizer()</pre></div></div></div></div></div></div><div class=\"sk-parallel-item\"><div class=\"sk-item\"><div class=\"sk-label-container\"><div class=\"sk-label sk-toggleable\"><input class=\"sk-toggleable__control sk-hidden--visually\" id=\"616382a3-8bc9-4a71-8ed8-a1c8656a5dc9\" type=\"checkbox\" ><label class=\"sk-toggleable__label\" for=\"616382a3-8bc9-4a71-8ed8-a1c8656a5dc9\">num</label><div class=\"sk-toggleable__content\"><pre>['n_all_caps', 'perc_exclamations', 'num_exclamations']</pre></div></div></div><div class=\"sk-serial\"><div class=\"sk-item\"><div class=\"sk-estimator sk-toggleable\"><input class=\"sk-toggleable__control sk-hidden--visually\" id=\"b459affe-979f-4cd5-9429-c4717a380e5d\" type=\"checkbox\" ><label class=\"sk-toggleable__label\" for=\"b459affe-979f-4cd5-9429-c4717a380e5d\">StandardScaler</label><div class=\"sk-toggleable__content\"><pre>StandardScaler(with_mean=False, with_std=False)</pre></div></div></div></div></div></div></div></div><div class=\"sk-item\"><div class=\"sk-estimator sk-toggleable\"><input class=\"sk-toggleable__control sk-hidden--visually\" id=\"ba3d46eb-9f8a-4ee9-a3e0-427d0d47a508\" type=\"checkbox\" ><label class=\"sk-toggleable__label\" for=\"ba3d46eb-9f8a-4ee9-a3e0-427d0d47a508\">RandomForestClassifier</label><div class=\"sk-toggleable__content\"><pre>RandomForestClassifier(n_jobs=-1)</pre></div></div></div></div></div></div></div>"
      ],
      "text/plain": [
       "Pipeline(steps=[('prep',\n",
       "                 ColumnTransformer(transformers=[('text',\n",
       "                                                  CustomCountVectorizer(),\n",
       "                                                  ['cleaned_comment_text']),\n",
       "                                                 ('text2',\n",
       "                                                  CustomTfidVectorizer(),\n",
       "                                                  ['cleaned_comment_text']),\n",
       "                                                 ('num',\n",
       "                                                  StandardScaler(with_mean=False,\n",
       "                                                                 with_std=False),\n",
       "                                                  ['n_all_caps',\n",
       "                                                   'perc_exclamations',\n",
       "                                                   'num_exclamations'])])),\n",
       "                ('classif', RandomForestClassifier(n_jobs=-1))])"
      ]
     },
     "metadata": {},
     "output_type": "display_data"
    },
    {
     "name": "stdout",
     "output_type": "stream",
     "text": [
      "\n",
      "--------------------------------------------------------------------------------\n",
      "RandomForestClassifier Sub3_FactClaiming :\n",
      "\n"
     ]
    },
    {
     "data": {
      "text/html": [
       "<style>#sk-ef95bc06-1535-4f6a-8ded-98ab59f76ea2 {color: black;background-color: white;}#sk-ef95bc06-1535-4f6a-8ded-98ab59f76ea2 pre{padding: 0;}#sk-ef95bc06-1535-4f6a-8ded-98ab59f76ea2 div.sk-toggleable {background-color: white;}#sk-ef95bc06-1535-4f6a-8ded-98ab59f76ea2 label.sk-toggleable__label {cursor: pointer;display: block;width: 100%;margin-bottom: 0;padding: 0.3em;box-sizing: border-box;text-align: center;}#sk-ef95bc06-1535-4f6a-8ded-98ab59f76ea2 div.sk-toggleable__content {max-height: 0;max-width: 0;overflow: hidden;text-align: left;background-color: #f0f8ff;}#sk-ef95bc06-1535-4f6a-8ded-98ab59f76ea2 div.sk-toggleable__content pre {margin: 0.2em;color: black;border-radius: 0.25em;background-color: #f0f8ff;}#sk-ef95bc06-1535-4f6a-8ded-98ab59f76ea2 input.sk-toggleable__control:checked~div.sk-toggleable__content {max-height: 200px;max-width: 100%;overflow: auto;}#sk-ef95bc06-1535-4f6a-8ded-98ab59f76ea2 div.sk-estimator input.sk-toggleable__control:checked~label.sk-toggleable__label {background-color: #d4ebff;}#sk-ef95bc06-1535-4f6a-8ded-98ab59f76ea2 div.sk-label input.sk-toggleable__control:checked~label.sk-toggleable__label {background-color: #d4ebff;}#sk-ef95bc06-1535-4f6a-8ded-98ab59f76ea2 input.sk-hidden--visually {border: 0;clip: rect(1px 1px 1px 1px);clip: rect(1px, 1px, 1px, 1px);height: 1px;margin: -1px;overflow: hidden;padding: 0;position: absolute;width: 1px;}#sk-ef95bc06-1535-4f6a-8ded-98ab59f76ea2 div.sk-estimator {font-family: monospace;background-color: #f0f8ff;border: 1px dotted black;border-radius: 0.25em;box-sizing: border-box;margin-bottom: 0.5em;}#sk-ef95bc06-1535-4f6a-8ded-98ab59f76ea2 div.sk-estimator:hover {background-color: #d4ebff;}#sk-ef95bc06-1535-4f6a-8ded-98ab59f76ea2 div.sk-parallel-item::after {content: \"\";width: 100%;border-bottom: 1px solid gray;flex-grow: 1;}#sk-ef95bc06-1535-4f6a-8ded-98ab59f76ea2 div.sk-label:hover label.sk-toggleable__label {background-color: #d4ebff;}#sk-ef95bc06-1535-4f6a-8ded-98ab59f76ea2 div.sk-serial::before {content: \"\";position: absolute;border-left: 1px solid gray;box-sizing: border-box;top: 2em;bottom: 0;left: 50%;}#sk-ef95bc06-1535-4f6a-8ded-98ab59f76ea2 div.sk-serial {display: flex;flex-direction: column;align-items: center;background-color: white;padding-right: 0.2em;padding-left: 0.2em;}#sk-ef95bc06-1535-4f6a-8ded-98ab59f76ea2 div.sk-item {z-index: 1;}#sk-ef95bc06-1535-4f6a-8ded-98ab59f76ea2 div.sk-parallel {display: flex;align-items: stretch;justify-content: center;background-color: white;}#sk-ef95bc06-1535-4f6a-8ded-98ab59f76ea2 div.sk-parallel::before {content: \"\";position: absolute;border-left: 1px solid gray;box-sizing: border-box;top: 2em;bottom: 0;left: 50%;}#sk-ef95bc06-1535-4f6a-8ded-98ab59f76ea2 div.sk-parallel-item {display: flex;flex-direction: column;position: relative;background-color: white;}#sk-ef95bc06-1535-4f6a-8ded-98ab59f76ea2 div.sk-parallel-item:first-child::after {align-self: flex-end;width: 50%;}#sk-ef95bc06-1535-4f6a-8ded-98ab59f76ea2 div.sk-parallel-item:last-child::after {align-self: flex-start;width: 50%;}#sk-ef95bc06-1535-4f6a-8ded-98ab59f76ea2 div.sk-parallel-item:only-child::after {width: 0;}#sk-ef95bc06-1535-4f6a-8ded-98ab59f76ea2 div.sk-dashed-wrapped {border: 1px dashed gray;margin: 0 0.4em 0.5em 0.4em;box-sizing: border-box;padding-bottom: 0.4em;background-color: white;position: relative;}#sk-ef95bc06-1535-4f6a-8ded-98ab59f76ea2 div.sk-label label {font-family: monospace;font-weight: bold;background-color: white;display: inline-block;line-height: 1.2em;}#sk-ef95bc06-1535-4f6a-8ded-98ab59f76ea2 div.sk-label-container {position: relative;z-index: 2;text-align: center;}#sk-ef95bc06-1535-4f6a-8ded-98ab59f76ea2 div.sk-container {display: inline-block;position: relative;}</style><div id=\"sk-ef95bc06-1535-4f6a-8ded-98ab59f76ea2\" class\"sk-top-container\"><div class=\"sk-container\"><div class=\"sk-item sk-dashed-wrapped\"><div class=\"sk-label-container\"><div class=\"sk-label sk-toggleable\"><input class=\"sk-toggleable__control sk-hidden--visually\" id=\"dd88a0ae-2645-4d66-b1ee-290c59884967\" type=\"checkbox\" ><label class=\"sk-toggleable__label\" for=\"dd88a0ae-2645-4d66-b1ee-290c59884967\">Pipeline</label><div class=\"sk-toggleable__content\"><pre>Pipeline(steps=[('prep',\n",
       "                 ColumnTransformer(transformers=[('text',\n",
       "                                                  CustomCountVectorizer(),\n",
       "                                                  ['cleaned_comment_text']),\n",
       "                                                 ('text2',\n",
       "                                                  CustomTfidVectorizer(),\n",
       "                                                  ['cleaned_comment_text']),\n",
       "                                                 ('num',\n",
       "                                                  StandardScaler(with_mean=False,\n",
       "                                                                 with_std=False),\n",
       "                                                  ['n_all_caps',\n",
       "                                                   'perc_exclamations',\n",
       "                                                   'num_exclamations'])])),\n",
       "                ('classif', RandomForestClassifier(n_jobs=-1))])</pre></div></div></div><div class=\"sk-serial\"><div class=\"sk-item sk-dashed-wrapped\"><div class=\"sk-label-container\"><div class=\"sk-label sk-toggleable\"><input class=\"sk-toggleable__control sk-hidden--visually\" id=\"a67d5eae-46c4-4f27-99a2-855558576af6\" type=\"checkbox\" ><label class=\"sk-toggleable__label\" for=\"a67d5eae-46c4-4f27-99a2-855558576af6\">prep: ColumnTransformer</label><div class=\"sk-toggleable__content\"><pre>ColumnTransformer(transformers=[('text', CustomCountVectorizer(),\n",
       "                                 ['cleaned_comment_text']),\n",
       "                                ('text2', CustomTfidVectorizer(),\n",
       "                                 ['cleaned_comment_text']),\n",
       "                                ('num',\n",
       "                                 StandardScaler(with_mean=False,\n",
       "                                                with_std=False),\n",
       "                                 ['n_all_caps', 'perc_exclamations',\n",
       "                                  'num_exclamations'])])</pre></div></div></div><div class=\"sk-parallel\"><div class=\"sk-parallel-item\"><div class=\"sk-item\"><div class=\"sk-label-container\"><div class=\"sk-label sk-toggleable\"><input class=\"sk-toggleable__control sk-hidden--visually\" id=\"11a289c8-48ad-409e-b7e5-51d186b64a08\" type=\"checkbox\" ><label class=\"sk-toggleable__label\" for=\"11a289c8-48ad-409e-b7e5-51d186b64a08\">text</label><div class=\"sk-toggleable__content\"><pre>['cleaned_comment_text']</pre></div></div></div><div class=\"sk-serial\"><div class=\"sk-item\"><div class=\"sk-estimator sk-toggleable\"><input class=\"sk-toggleable__control sk-hidden--visually\" id=\"5e1df0c2-8e7d-4acd-be12-a40c9f3495cf\" type=\"checkbox\" ><label class=\"sk-toggleable__label\" for=\"5e1df0c2-8e7d-4acd-be12-a40c9f3495cf\">CustomCountVectorizer</label><div class=\"sk-toggleable__content\"><pre>CustomCountVectorizer()</pre></div></div></div></div></div></div><div class=\"sk-parallel-item\"><div class=\"sk-item\"><div class=\"sk-label-container\"><div class=\"sk-label sk-toggleable\"><input class=\"sk-toggleable__control sk-hidden--visually\" id=\"7cad401d-f763-4806-b056-6875cf9543f5\" type=\"checkbox\" ><label class=\"sk-toggleable__label\" for=\"7cad401d-f763-4806-b056-6875cf9543f5\">text2</label><div class=\"sk-toggleable__content\"><pre>['cleaned_comment_text']</pre></div></div></div><div class=\"sk-serial\"><div class=\"sk-item\"><div class=\"sk-estimator sk-toggleable\"><input class=\"sk-toggleable__control sk-hidden--visually\" id=\"869c8b47-e955-4467-862b-eb2911b02431\" type=\"checkbox\" ><label class=\"sk-toggleable__label\" for=\"869c8b47-e955-4467-862b-eb2911b02431\">CustomTfidVectorizer</label><div class=\"sk-toggleable__content\"><pre>CustomTfidVectorizer()</pre></div></div></div></div></div></div><div class=\"sk-parallel-item\"><div class=\"sk-item\"><div class=\"sk-label-container\"><div class=\"sk-label sk-toggleable\"><input class=\"sk-toggleable__control sk-hidden--visually\" id=\"ba163821-d57c-4632-b2da-27ec9c6ae70f\" type=\"checkbox\" ><label class=\"sk-toggleable__label\" for=\"ba163821-d57c-4632-b2da-27ec9c6ae70f\">num</label><div class=\"sk-toggleable__content\"><pre>['n_all_caps', 'perc_exclamations', 'num_exclamations']</pre></div></div></div><div class=\"sk-serial\"><div class=\"sk-item\"><div class=\"sk-estimator sk-toggleable\"><input class=\"sk-toggleable__control sk-hidden--visually\" id=\"c4caaaaf-6bb0-45b5-bf70-f19937d0b5a5\" type=\"checkbox\" ><label class=\"sk-toggleable__label\" for=\"c4caaaaf-6bb0-45b5-bf70-f19937d0b5a5\">StandardScaler</label><div class=\"sk-toggleable__content\"><pre>StandardScaler(with_mean=False, with_std=False)</pre></div></div></div></div></div></div></div></div><div class=\"sk-item\"><div class=\"sk-estimator sk-toggleable\"><input class=\"sk-toggleable__control sk-hidden--visually\" id=\"74588a72-5d07-4e3d-9731-b47e8883fde0\" type=\"checkbox\" ><label class=\"sk-toggleable__label\" for=\"74588a72-5d07-4e3d-9731-b47e8883fde0\">RandomForestClassifier</label><div class=\"sk-toggleable__content\"><pre>RandomForestClassifier(n_jobs=-1)</pre></div></div></div></div></div></div></div>"
      ],
      "text/plain": [
       "Pipeline(steps=[('prep',\n",
       "                 ColumnTransformer(transformers=[('text',\n",
       "                                                  CustomCountVectorizer(),\n",
       "                                                  ['cleaned_comment_text']),\n",
       "                                                 ('text2',\n",
       "                                                  CustomTfidVectorizer(),\n",
       "                                                  ['cleaned_comment_text']),\n",
       "                                                 ('num',\n",
       "                                                  StandardScaler(with_mean=False,\n",
       "                                                                 with_std=False),\n",
       "                                                  ['n_all_caps',\n",
       "                                                   'perc_exclamations',\n",
       "                                                   'num_exclamations'])])),\n",
       "                ('classif', RandomForestClassifier(n_jobs=-1))])"
      ]
     },
     "metadata": {},
     "output_type": "display_data"
    }
   ],
   "source": [
    "import sklearn\n",
    "from sklearn.naive_bayes import MultinomialNB, CategoricalNB, BernoulliNB\n",
    "from sklearn.datasets import fetch_20newsgroups\n",
    "from sklearn.feature_extraction.text import CountVectorizer, TfidfVectorizer, TfidfTransformer\n",
    "from sklearn.metrics import confusion_matrix, f1_score, accuracy_score\n",
    "from sklearn.model_selection import train_test_split\n",
    "from sklearn.linear_model import LogisticRegression\n",
    "from sklearn.pipeline import Pipeline\n",
    "#from imblearn.pipeline import Pipeline\n",
    "from sklearn.decomposition import PCA\n",
    "from sklearn.preprocessing import StandardScaler, MinMaxScaler\n",
    "from sklearn.compose import make_column_transformer\n",
    "from sklearn.compose import ColumnTransformer\n",
    "from sklearn.svm import LinearSVC\n",
    "from sklearn.ensemble import RandomForestClassifier\n",
    "from mlxtend.preprocessing import DenseTransformer\n",
    "from sklearn.linear_model import Lasso\n",
    "from sklearn.linear_model import Ridge\n",
    "from sklearn.ensemble import AdaBoostClassifier\n",
    "from sklearn.ensemble import StackingClassifier\n",
    "from sklearn.tree import DecisionTreeClassifier\n",
    "from sklearn.base import TransformerMixin, BaseEstimator\n",
    "import sklearn\n",
    "import itertools\n",
    "\n",
    "MAX_COMBINATION_NUMBER=3\n",
    "\n",
    "def get_feature_column_names(df):\n",
    "    return [cname for cname in df.columns if not cname.startswith('Sub')]\n",
    "\n",
    "def get_target_column_names(df):\n",
    "    return [cname for cname in df.columns if cname.startswith('Sub')]\n",
    "\n",
    "def is_text_column(colname:str)->bool:\n",
    "    if 'text' in colname:\n",
    "        return True\n",
    "    return False\n",
    "\n",
    "def get_text_columns(df)->list:\n",
    "    return [cn for cn in df.columns if is_text_column(cn)]\n",
    "\n",
    "def get_nontext_columns(df)->list:\n",
    "    return [cn for cn in df.columns if not is_text_column(cn)]\n",
    "\n",
    "class CustomTextProcessor(BaseEstimator, TransformerMixin):\n",
    "    def __init__(self, use_tfid=True):\n",
    "        vect = CountVectorizer() if use_tfid == False else TfidfVectorizer()\n",
    "        self.tweet_text_transformer = Pipeline(steps=[\n",
    "                                        ('vect', vect),\n",
    "                        ])\n",
    "\n",
    "class CustomCountVectorizer(CountVectorizer):\n",
    "    # The only difference here is that we don't return a sparse array\n",
    "    # So that this can work with a transformer\n",
    "    # Instead we return a dense array\n",
    "    def __init__(self):\n",
    "        super(CustomCountVectorizer, self).__init__()\n",
    "    \n",
    "    def fit_transform(self, X, y=None):\n",
    "        return super(CustomCountVectorizer, self).fit_transform(X.squeeze(), y).toarray()\n",
    "    \n",
    "    def fit(self, X, y=None):\n",
    "        return super(CustomCountVectorizer, self).fit(X, y)\n",
    "\n",
    "    def transform(self, X):\n",
    "        return super(CustomCountVectorizer, self).transform(X.squeeze()).toarray()\n",
    "\n",
    "class CustomTfidVectorizer(TfidfVectorizer):\n",
    "    # The only difference here is that we don't return a sparse array\n",
    "    # So that this can work with a transformer\n",
    "    # Instead we return a dense array\n",
    "    def __init__(self):\n",
    "        super(CustomTfidVectorizer, self).__init__()\n",
    "    \n",
    "    def fit_transform(self, X, y=None):\n",
    "        return super(CustomTfidVectorizer, self).fit_transform(X.squeeze(), y).toarray()\n",
    "    \n",
    "    def fit(self, X, y=None):\n",
    "        return super(CustomTfidVectorizer, self).fit(X, y)\n",
    "\n",
    "    def transform(self, X):\n",
    "        return super(CustomTfidVectorizer, self).transform(X.squeeze()).toarray()\n",
    "\n",
    "def run_classification(                                                     \\\n",
    "                       dataset:pd.DataFrame,                                \\\n",
    "                       target_column:str,                                   \\\n",
    "                       clf_gen_fn,                                          \\\n",
    "                       use_smote=False)->tuple:\n",
    "\n",
    "    dataset = dataset[[cn for cn in dataset.columns if cn != 'comment_text']]\n",
    "\n",
    "    X = dataset[get_feature_column_names(dataset)]\n",
    "    y = dataset[target_column]\n",
    "    trainX, testX, trainY, testY = train_test_split(X, y, random_state=0)\n",
    "\n",
    "    text_columns = ['cleaned_comment_text']\n",
    "    numeric_columns = ['n_all_caps', 'perc_exclamations', 'num_exclamations']\n",
    "\n",
    "    preprocessor = ColumnTransformer(\n",
    "                        remainder='drop',\n",
    "                        transformers =                                      \\\n",
    "                                    [                                       \\\n",
    "                                        ('text', CustomCountVectorizer(), text_columns), \\\n",
    "                                        ('text2', CustomTfidVectorizer(), text_columns), \\\n",
    "                                        ('num', StandardScaler(with_mean=False, with_std=False), numeric_columns)\n",
    "                                    ])\n",
    "    classif_pipeline = Pipeline([('prep', preprocessor), ('classif', clf_gen_fn())])\n",
    "\n",
    "    classif_pipeline.fit(trainX, trainY)\n",
    "    y_pred = classif_pipeline.predict(testX)\n",
    "\n",
    "    return accuracy_score(testY, y_pred), f1_score(testY, y_pred), classif_pipeline\n",
    "\n",
    "\n",
    "\n",
    "def run_classifiers():\n",
    "\n",
    "    classifiers = {\n",
    "        \"LinearSVC_nosmote\": (False, lambda: LinearSVC(),),\n",
    "        \"MultinomialNB_nosmote\": (False, lambda: MultinomialNB(),),\n",
    "        \"RandomForestClassifier\": (True, lambda: RandomForestClassifier(n_jobs=-1),),\n",
    "    }\n",
    "\n",
    "    result_df = pd.DataFrame(                                                           \\\n",
    "                    {                                                       \\\n",
    "                        'classifier': pd.Series('str'),                     \\\n",
    "                        'task_name': pd.Series('str'),                      \\\n",
    "                        'metric': pd.Series('str'),                         \\\n",
    "                        'smote': pd.Series(int),                            \\\n",
    "                        'value': pd.Series(float),                          \\\n",
    "                    })\n",
    "\n",
    "    model_arr = list()\n",
    "    for clfname, value in classifiers.items():\n",
    "        use_smote, clfgen = value\n",
    "        for colname in ['Sub1_Toxic', 'Sub2_Engaging', 'Sub3_FactClaiming']:\n",
    "            accuracy, f1, model = run_classification(train_df, colname, clfgen, use_smote)\n",
    "            print(f\"{clfname:20.20s} {colname:20.20s} accuracy={accuracy:1.3f}              f1={f1:1.3f}   smote={use_smote}\")\n",
    "            result_dict = {\n",
    "                'classifier': clfname,\n",
    "                'task_name': colname,\n",
    "                'metric': 'accuracy',\n",
    "                'value': accuracy,\n",
    "                'smote': 1 if use_smote else 0\n",
    "            }\n",
    "            result_df = result_df.append(result_dict, ignore_index=True)\n",
    "            result_dict = {\n",
    "                'classifier': clfname,\n",
    "                'task_name': colname,\n",
    "                'metric': 'f1_score',\n",
    "                'value': f1,\n",
    "                'smote': 1 if use_smote else 0\n",
    "            }\n",
    "            result_df = result_df.append(result_dict, ignore_index=True)\n",
    "            model_arr.append((clfname, colname, model))\n",
    "\n",
    "        \n",
    "    return result_df, model_arr\n",
    "\n",
    "seed_random()\n",
    "result_df, model_arr = run_classifiers()\n",
    "\n",
    "\n",
    "print('=' * 80)\n",
    "print('=' * 80)\n",
    "\n",
    "import IPython\n",
    "\n",
    "\n",
    "for clfname, colname, model in model_arr:\n",
    "    print()\n",
    "    print('-' * 80)\n",
    "    print(clfname, colname, \":\")\n",
    "    print()\n",
    "    IPython.display.display(model)"
   ]
  },
  {
   "cell_type": "code",
   "execution_count": 9,
   "metadata": {
    "colab": {
     "base_uri": "https://localhost:8080/"
    },
    "id": "3EiRR4fd9sb7",
    "outputId": "68857e97-b008-4e38-a61d-7ee18ddb7273"
   },
   "outputs": [
    {
     "name": "stdout",
     "output_type": "stream",
     "text": [
      "================================================================================\n",
      "Sub1_Toxic\n",
      "----------\n",
      "\n",
      "                classifier   task_name    metric smote     value\n",
      "7    MultinomialNB_nosmote  Sub1_Toxic  accuracy     0  0.665832\n",
      "1        LinearSVC_nosmote  Sub1_Toxic  accuracy     0  0.663329\n",
      "13  RandomForestClassifier  Sub1_Toxic  accuracy     1  0.662078\n",
      "\n",
      "                classifier   task_name    metric smote     value\n",
      "2        LinearSVC_nosmote  Sub1_Toxic  f1_score     0  0.475634\n",
      "8    MultinomialNB_nosmote  Sub1_Toxic  f1_score     0  0.302872\n",
      "14  RandomForestClassifier  Sub1_Toxic  f1_score     1  0.176829\n",
      "\n",
      "================================================================================\n",
      "Sub2_Engaging\n",
      "-------------\n",
      "\n",
      "                classifier      task_name    metric smote     value\n",
      "15  RandomForestClassifier  Sub2_Engaging  accuracy     1  0.838548\n",
      "3        LinearSVC_nosmote  Sub2_Engaging  accuracy     0  0.821026\n",
      "9    MultinomialNB_nosmote  Sub2_Engaging  accuracy     0  0.762203\n",
      "\n",
      "                classifier      task_name    metric smote     value\n",
      "4        LinearSVC_nosmote  Sub2_Engaging  f1_score     0  0.590258\n",
      "16  RandomForestClassifier  Sub2_Engaging  f1_score     1  0.582524\n",
      "10   MultinomialNB_nosmote  Sub2_Engaging  f1_score     0  0.541063\n",
      "\n",
      "================================================================================\n",
      "Sub3_FactClaiming\n",
      "-----------------\n",
      "\n",
      "                classifier          task_name    metric smote     value\n",
      "17  RandomForestClassifier  Sub3_FactClaiming  accuracy     1  0.757196\n",
      "5        LinearSVC_nosmote  Sub3_FactClaiming  accuracy     0  0.739675\n",
      "11   MultinomialNB_nosmote  Sub3_FactClaiming  accuracy     0  0.709637\n",
      "\n",
      "                classifier          task_name    metric smote     value\n",
      "12   MultinomialNB_nosmote  Sub3_FactClaiming  f1_score     0  0.576642\n",
      "6        LinearSVC_nosmote  Sub3_FactClaiming  f1_score     0   0.57377\n",
      "18  RandomForestClassifier  Sub3_FactClaiming  f1_score     1  0.531401\n",
      "\n"
     ]
    }
   ],
   "source": [
    "def print_df(df, metric, task):\n",
    "    df = df[(df['metric'] == metric) & (df['task_name'] == task)]\n",
    "    df = df.sort_values(by=['value'], ascending=False)\n",
    "    print(df.head(3))\n",
    "    return df\n",
    "\n",
    "for task_name in ['Sub1_Toxic', 'Sub2_Engaging', 'Sub3_FactClaiming']:\n",
    "    print('=' * 80)\n",
    "    print(task_name)\n",
    "    print('-' * len(task_name))\n",
    "    print()\n",
    "    for metric in ['accuracy', 'f1_score']:\n",
    "        print_df(result_df, metric, task_name)\n",
    "        print()\n"
   ]
  },
  {
   "cell_type": "code",
   "execution_count": 10,
   "metadata": {
    "colab": {
     "base_uri": "https://localhost:8080/",
     "height": 331
    },
    "id": "5mvNlGAA-eN9",
    "outputId": "8a98292b-cc87-4754-cbf2-52ce9fad7889"
   },
   "outputs": [
    {
     "data": {
      "text/html": [
       "<div>\n",
       "<style scoped>\n",
       "    .dataframe tbody tr th:only-of-type {\n",
       "        vertical-align: middle;\n",
       "    }\n",
       "\n",
       "    .dataframe tbody tr th {\n",
       "        vertical-align: top;\n",
       "    }\n",
       "\n",
       "    .dataframe thead th {\n",
       "        text-align: right;\n",
       "    }\n",
       "</style>\n",
       "<table border=\"1\" class=\"dataframe\">\n",
       "  <thead>\n",
       "    <tr style=\"text-align: right;\">\n",
       "      <th></th>\n",
       "      <th>classifier</th>\n",
       "      <th>task_name</th>\n",
       "      <th>metric</th>\n",
       "      <th>smote</th>\n",
       "      <th>value</th>\n",
       "    </tr>\n",
       "  </thead>\n",
       "  <tbody>\n",
       "    <tr>\n",
       "      <th>4</th>\n",
       "      <td>LinearSVC_nosmote</td>\n",
       "      <td>Sub2_Engaging</td>\n",
       "      <td>f1_score</td>\n",
       "      <td>0</td>\n",
       "      <td>0.590258</td>\n",
       "    </tr>\n",
       "    <tr>\n",
       "      <th>16</th>\n",
       "      <td>RandomForestClassifier</td>\n",
       "      <td>Sub2_Engaging</td>\n",
       "      <td>f1_score</td>\n",
       "      <td>1</td>\n",
       "      <td>0.582524</td>\n",
       "    </tr>\n",
       "    <tr>\n",
       "      <th>12</th>\n",
       "      <td>MultinomialNB_nosmote</td>\n",
       "      <td>Sub3_FactClaiming</td>\n",
       "      <td>f1_score</td>\n",
       "      <td>0</td>\n",
       "      <td>0.576642</td>\n",
       "    </tr>\n",
       "    <tr>\n",
       "      <th>6</th>\n",
       "      <td>LinearSVC_nosmote</td>\n",
       "      <td>Sub3_FactClaiming</td>\n",
       "      <td>f1_score</td>\n",
       "      <td>0</td>\n",
       "      <td>0.57377</td>\n",
       "    </tr>\n",
       "    <tr>\n",
       "      <th>10</th>\n",
       "      <td>MultinomialNB_nosmote</td>\n",
       "      <td>Sub2_Engaging</td>\n",
       "      <td>f1_score</td>\n",
       "      <td>0</td>\n",
       "      <td>0.541063</td>\n",
       "    </tr>\n",
       "    <tr>\n",
       "      <th>18</th>\n",
       "      <td>RandomForestClassifier</td>\n",
       "      <td>Sub3_FactClaiming</td>\n",
       "      <td>f1_score</td>\n",
       "      <td>1</td>\n",
       "      <td>0.531401</td>\n",
       "    </tr>\n",
       "    <tr>\n",
       "      <th>2</th>\n",
       "      <td>LinearSVC_nosmote</td>\n",
       "      <td>Sub1_Toxic</td>\n",
       "      <td>f1_score</td>\n",
       "      <td>0</td>\n",
       "      <td>0.475634</td>\n",
       "    </tr>\n",
       "    <tr>\n",
       "      <th>8</th>\n",
       "      <td>MultinomialNB_nosmote</td>\n",
       "      <td>Sub1_Toxic</td>\n",
       "      <td>f1_score</td>\n",
       "      <td>0</td>\n",
       "      <td>0.302872</td>\n",
       "    </tr>\n",
       "    <tr>\n",
       "      <th>14</th>\n",
       "      <td>RandomForestClassifier</td>\n",
       "      <td>Sub1_Toxic</td>\n",
       "      <td>f1_score</td>\n",
       "      <td>1</td>\n",
       "      <td>0.176829</td>\n",
       "    </tr>\n",
       "  </tbody>\n",
       "</table>\n",
       "</div>"
      ],
      "text/plain": [
       "                classifier          task_name    metric smote     value\n",
       "4        LinearSVC_nosmote      Sub2_Engaging  f1_score     0  0.590258\n",
       "16  RandomForestClassifier      Sub2_Engaging  f1_score     1  0.582524\n",
       "12   MultinomialNB_nosmote  Sub3_FactClaiming  f1_score     0  0.576642\n",
       "6        LinearSVC_nosmote  Sub3_FactClaiming  f1_score     0   0.57377\n",
       "10   MultinomialNB_nosmote      Sub2_Engaging  f1_score     0  0.541063\n",
       "18  RandomForestClassifier  Sub3_FactClaiming  f1_score     1  0.531401\n",
       "2        LinearSVC_nosmote         Sub1_Toxic  f1_score     0  0.475634\n",
       "8    MultinomialNB_nosmote         Sub1_Toxic  f1_score     0  0.302872\n",
       "14  RandomForestClassifier         Sub1_Toxic  f1_score     1  0.176829"
      ]
     },
     "execution_count": 10,
     "metadata": {},
     "output_type": "execute_result"
    }
   ],
   "source": [
    "#result_df\n",
    "result_df[result_df['metric'] == 'f1_score'].sort_values(by='value', ascending=False)\n"
   ]
  }
 ],
 "metadata": {
  "colab": {
   "authorship_tag": "ABX9TyNGLSU+zLp/AExUmaG9KQ4X",
   "include_colab_link": true,
   "name": "baseline_comparison.ipynb",
   "provenance": [],
   "toc_visible": true
  },
  "kernelspec": {
   "display_name": "Python 3 (ipykernel)",
   "language": "python",
   "name": "python3"
  },
  "language_info": {
   "codemirror_mode": {
    "name": "ipython",
    "version": 3
   },
   "file_extension": ".py",
   "mimetype": "text/x-python",
   "name": "python",
   "nbconvert_exporter": "python",
   "pygments_lexer": "ipython3",
   "version": "3.8.2"
  }
 },
 "nbformat": 4,
 "nbformat_minor": 1
}
