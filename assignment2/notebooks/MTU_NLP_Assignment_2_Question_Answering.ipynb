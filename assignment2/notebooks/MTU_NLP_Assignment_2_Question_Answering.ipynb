{
  "nbformat": 4,
  "nbformat_minor": 0,
  "metadata": {
    "colab": {
      "name": "MTU-NLP-Assignment-2-Question-Answering",
      "provenance": [],
      "machine_shape": "hm",
      "authorship_tag": "ABX9TyOdRr4Y/Q+GbVcV5CtDAcTq",
      "include_colab_link": true
    },
    "kernelspec": {
      "name": "python3",
      "display_name": "Python 3"
    },
    "language_info": {
      "name": "python"
    },
    "accelerator": "GPU"
  },
  "cells": [
    {
      "cell_type": "markdown",
      "metadata": {
        "id": "view-in-github",
        "colab_type": "text"
      },
      "source": [
        "<a href=\"https://colab.research.google.com/github/bhattacharjee/mtu-nlp-assignment/blob/main/assignment2/notebooks/MTU_NLP_Assignment_2_Question_Answering.ipynb\" target=\"_parent\"><img src=\"https://colab.research.google.com/assets/colab-badge.svg\" alt=\"Open In Colab\"/></a>"
      ]
    },
    {
      "cell_type": "code",
      "execution_count": null,
      "metadata": {
        "id": "2nEpGzfbvwj-",
        "colab": {
          "base_uri": "https://localhost:8080/"
        },
        "outputId": "e25ad072-5725-4704-c80d-2e8699ecdb26"
      },
      "outputs": [
        {
          "output_type": "stream",
          "name": "stdout",
          "text": [
            "\u001b[K     |████████████████████████████████| 12.8 MB 5.2 MB/s \n",
            "\u001b[K     |███████▌                        | 183.3 MB 1.4 MB/s eta 0:06:54"
          ]
        }
      ],
      "source": [
        "!pip install torchvision==0.8.2  -q\n",
        "!pip install torchtext==0.8.1    -q\n",
        "!pip install torchaudio==0.7.2   -q\n",
        "!pip install torch==1.7.1        -q\n",
        "!pip install tqdm==4.49.0        -q\n",
        "!pip install transformers==4.2.2 -q\n",
        "!pip install tensorflow          -q\n",
        "!pip install tensorboard         -q\n",
        "!pip install tensorboardX        -q\n",
        "!pip install --upgrade virtualenv"
      ]
    },
    {
      "cell_type": "code",
      "source": [
        "!pwd"
      ],
      "metadata": {
        "colab": {
          "base_uri": "https://localhost:8080/"
        },
        "id": "vDtkhWtMyuZR",
        "outputId": "4d2ebba8-c144-408c-8d5b-2f52c2c9afdc"
      },
      "execution_count": null,
      "outputs": [
        {
          "output_type": "stream",
          "name": "stdout",
          "text": [
            "/content\n"
          ]
        }
      ]
    },
    {
      "cell_type": "code",
      "source": [
        "!python --version\n"
      ],
      "metadata": {
        "colab": {
          "base_uri": "https://localhost:8080/"
        },
        "id": "tooBuOQ60pRn",
        "outputId": "ac13ede5-0c9a-470a-cd5b-412d2b61094a"
      },
      "execution_count": null,
      "outputs": [
        {
          "output_type": "stream",
          "name": "stdout",
          "text": [
            "Python 3.7.12\n"
          ]
        }
      ]
    },
    {
      "cell_type": "code",
      "source": [
        "!git clone https://github.com/bhattacharjee/mtu-nlp-assignment.git"
      ],
      "metadata": {
        "colab": {
          "base_uri": "https://localhost:8080/"
        },
        "id": "SOK9thHC0rC1",
        "outputId": "58f7c958-0785-4a3e-8d5d-9c272c7f1f1d"
      },
      "execution_count": null,
      "outputs": [
        {
          "output_type": "stream",
          "name": "stdout",
          "text": [
            "Cloning into 'mtu-nlp-assignment'...\n",
            "remote: Enumerating objects: 595, done.\u001b[K\n",
            "remote: Counting objects: 100% (595/595), done.\u001b[K\n",
            "remote: Compressing objects: 100% (519/519), done.\u001b[K\n",
            "remote: Total 595 (delta 258), reused 210 (delta 72), pack-reused 0\u001b[K\n",
            "Receiving objects: 100% (595/595), 68.66 MiB | 4.02 MiB/s, done.\n",
            "Resolving deltas: 100% (258/258), done.\n"
          ]
        }
      ]
    },
    {
      "cell_type": "code",
      "source": [
        "!ls"
      ],
      "metadata": {
        "colab": {
          "base_uri": "https://localhost:8080/"
        },
        "id": "QMHF6tfZ9zLl",
        "outputId": "97570c30-5cc4-497d-a181-9526bd993a72"
      },
      "execution_count": null,
      "outputs": [
        {
          "output_type": "stream",
          "name": "stdout",
          "text": [
            "mtu-nlp-assignment  sample_data\n"
          ]
        }
      ]
    },
    {
      "cell_type": "code",
      "source": [
        "%%writefile run.sh\n",
        "#!/bin/bash\n",
        "\n",
        "export PATH=$PATH:/usr/lib/python3.6/venv/scripts/common/:/usr/lib/python3.7/venv/scripts/common/activate\n",
        "cd mtu-nlp-assignment/assignment2/\n",
        "rm -rf robustqa\n",
        "unzip -o robustqa.zip\n",
        "cd robustqa\n",
        "mv datasets_50k.tar.gz  datasets_50k.tar\n",
        "tar -xf datasets_50k.tar\n",
        "source activate robustqa\n",
        "python train.py --do-train --run-name baseline"
      ],
      "metadata": {
        "colab": {
          "base_uri": "https://localhost:8080/"
        },
        "id": "QZQpzgaT95wt",
        "outputId": "bf20f8e7-31ab-4511-d872-5aa5a8489aae"
      },
      "execution_count": null,
      "outputs": [
        {
          "output_type": "stream",
          "name": "stdout",
          "text": [
            "Overwriting run.sh\n"
          ]
        }
      ]
    },
    {
      "cell_type": "code",
      "source": [
        "!ls sample_data"
      ],
      "metadata": {
        "colab": {
          "base_uri": "https://localhost:8080/"
        },
        "id": "B3PogJTU-lE3",
        "outputId": "a3339914-90f3-4b88-e94a-ee26f059b473"
      },
      "execution_count": 5,
      "outputs": [
        {
          "output_type": "stream",
          "name": "stdout",
          "text": [
            "anscombe.json\t\t      mnist_test.csv\n",
            "california_housing_test.csv   mnist_train_small.csv\n",
            "california_housing_train.csv  README.md\n"
          ]
        }
      ]
    },
    {
      "cell_type": "code",
      "source": [
        ""
      ],
      "metadata": {
        "id": "V7BYx8jAEQCj"
      },
      "execution_count": null,
      "outputs": []
    }
  ]
}