{
  "nbformat": 4,
  "nbformat_minor": 0,
  "metadata": {
    "colab": {
      "name": "bert_qa_rahul_agarwal.ipynb",
      "provenance": [],
      "authorship_tag": "ABX9TyORjpE4cPs00Kdf41NReu3g",
      "include_colab_link": true
    },
    "kernelspec": {
      "name": "python3",
      "display_name": "Python 3"
    },
    "language_info": {
      "name": "python"
    },
    "accelerator": "GPU"
  },
  "cells": [
    {
      "cell_type": "markdown",
      "metadata": {
        "id": "view-in-github",
        "colab_type": "text"
      },
      "source": [
        "<a href=\"https://colab.research.google.com/github/bhattacharjee/mtu-nlp-assignment/blob/main/web-examples/bert_qa_rahul_agarwal.ipynb\" target=\"_parent\"><img src=\"https://colab.research.google.com/assets/colab-badge.svg\" alt=\"Open In Colab\"/></a>"
      ]
    },
    {
      "cell_type": "code",
      "source": [
        "!pip install torch -q -q -q\n",
        "!pip install transformers -q -q -q\n"
      ],
      "metadata": {
        "colab": {
          "base_uri": "https://localhost:8080/"
        },
        "id": "Rna0-Tcd03L2",
        "outputId": "b07bce8a-dba8-460a-8174-04d09f877df4"
      },
      "execution_count": 1,
      "outputs": [
        {
          "output_type": "stream",
          "name": "stdout",
          "text": [
            "\u001b[K     |████████████████████████████████| 3.4 MB 5.1 MB/s \n",
            "\u001b[K     |████████████████████████████████| 895 kB 63.0 MB/s \n",
            "\u001b[K     |████████████████████████████████| 596 kB 70.9 MB/s \n",
            "\u001b[K     |████████████████████████████████| 61 kB 652 kB/s \n",
            "\u001b[K     |████████████████████████████████| 3.3 MB 39.4 MB/s \n",
            "\u001b[?25h"
          ]
        }
      ]
    },
    {
      "cell_type": "code",
      "execution_count": 2,
      "metadata": {
        "id": "t_JMQ1o-0ra6"
      },
      "outputs": [],
      "source": [
        "import torch\n",
        "from torch.utils.data import Dataset\n",
        "from torchvision import datasets\n",
        "from torchvision.transforms import ToTensor\n",
        "import matplotlib.pyplot as plt\n",
        "#from datasets import load_dataset, load_metric\n",
        "import random\n",
        "from transformers import AutoTokenizer\n",
        "import transformers\n",
        "from transformers import AutoModelForQuestionAnswering, TrainingArguments, Trainer\n",
        "import torch\n",
        "from transformers import default_data_collator\n",
        "from transformers import AutoTokenizer, AutoModelForQuestionAnswering\n",
        "import torch\n",
        "\n",
        "# Use cuda by default\n",
        "cuda = torch.device('cuda')\n",
        "torch.set_default_tensor_type('torch.cuda.FloatTensor')\n",
        "\n"
      ]
    },
    {
      "cell_type": "markdown",
      "source": [
        "# Use the default BERT pretrained on SQUAD for examples"
      ],
      "metadata": {
        "id": "-rPsBsuW8icn"
      }
    },
    {
      "cell_type": "code",
      "source": [
        "import time\n",
        "\n",
        "bert_model_name = \"bert-large-uncased-whole-word-masking-finetuned-squad\"\n",
        "tokenizer = AutoTokenizer.from_pretrained(bert_model_name)\n",
        "model = AutoModelForQuestionAnswering.from_pretrained(bert_model_name)\n",
        "\n",
        "text = r\"\"\"\n",
        "🤗 Transformers (formerly known as pytorch-transformers and pytorch-pretrained-bert) provides general-purpose\n",
        "architectures (BERT, GPT-2, RoBERTa, XLM, DistilBert, XLNet…) for Natural Language Understanding (NLU) and Natural\n",
        "Language Generation (NLG) with over 32+ pretrained models in 100+ languages and deep interoperability between\n",
        "TensorFlow 2.0 and PyTorch.\n",
        "\"\"\"\n",
        "questions = [\n",
        "    \"How many pretrained models are available in Transformers?\",\n",
        "    \"What does Transformers provide?\",\n",
        "    \"Transformers provides interoperability between which frameworks?\",\n",
        "]\n",
        "for question in questions:\n",
        "    t1 = time.monotonic()\n",
        "    inputs = tokenizer.encode_plus(\\\n",
        "                question,\\\n",
        "                text,\\\n",
        "                add_special_tokens=True,\\\n",
        "                return_tensors=\"pt\")\n",
        "\n",
        "    input_ids = inputs[\"input_ids\"].tolist()[0]\n",
        "    text_tokens = tokenizer.convert_ids_to_tokens(input_ids)\n",
        "\n",
        "    pred = model(**inputs)\n",
        "    answer_start_scores = pred['start_logits'][0]\n",
        "    answer_end_scores = pred['end_logits'][0]\n",
        "\n",
        "    # Get the most likely beginning of answer with the argmax of the score\n",
        "    answer_start = torch.argmax(answer_start_scores)\n",
        "    # Get the most likely end of answer with the argmax of the score\n",
        "    answer_end = torch.argmax(answer_end_scores) + 1\n",
        "\n",
        "    #print(answer_start_scores.detach().cpu().numpy().shape)\n",
        "    #print(answer_end_scores.detach().cpu().numpy().shape)\n",
        "    #print(answer_start, answer_end)\n",
        "\n",
        "    #print(\"--->\\n\", inputs['input_ids'].detach().cpu().numpy())\n",
        "\n",
        "\n",
        "    answer = tokenizer\\\n",
        "                    .convert_tokens_to_string(\\\n",
        "                        tokenizer.convert_ids_to_tokens(\\\n",
        "                            input_ids[answer_start:answer_end]))\n",
        "\n",
        "    print(f\"Time taken = {time.monotonic() - t1}\")\n",
        "    print(f\"Question: {question}\")\n",
        "    print(f\"Answer: {answer}\\n\")"
      ],
      "metadata": {
        "colab": {
          "base_uri": "https://localhost:8080/"
        },
        "id": "vvXNHYJD05Fm",
        "outputId": "02bdf2c1-0cb2-4970-9568-7ee0480c26e1"
      },
      "execution_count": 6,
      "outputs": [
        {
          "output_type": "stream",
          "name": "stdout",
          "text": [
            "Time taken = 0.02152902400007406\n",
            "Question: How many pretrained models are available in Transformers?\n",
            "Answer: over 32 +\n",
            "\n",
            "Time taken = 0.0221108450000429\n",
            "Question: What does Transformers provide?\n",
            "Answer: general - purpose architectures\n",
            "\n",
            "Time taken = 0.02412749400014036\n",
            "Question: Transformers provides interoperability between which frameworks?\n",
            "Answer: tensorflow 2. 0 and pytorch\n",
            "\n"
          ]
        }
      ]
    },
    {
      "cell_type": "code",
      "source": [
        ""
      ],
      "metadata": {
        "id": "YsSopevr3_pc"
      },
      "execution_count": 4,
      "outputs": []
    }
  ]
}