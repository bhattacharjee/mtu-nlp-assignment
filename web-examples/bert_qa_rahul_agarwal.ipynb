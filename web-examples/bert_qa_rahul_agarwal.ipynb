{
  "nbformat": 4,
  "nbformat_minor": 0,
  "metadata": {
    "colab": {
      "name": "bert_qa_rahul_agarwal.ipynb",
      "provenance": [],
      "authorship_tag": "ABX9TyPYB2oVWpkf/3CyGwdY6ee5",
      "include_colab_link": true
    },
    "kernelspec": {
      "name": "python3",
      "display_name": "Python 3"
    },
    "language_info": {
      "name": "python"
    },
    "accelerator": "GPU"
  },
  "cells": [
    {
      "cell_type": "markdown",
      "metadata": {
        "id": "view-in-github",
        "colab_type": "text"
      },
      "source": [
        "<a href=\"https://colab.research.google.com/github/bhattacharjee/mtu-nlp-assignment/blob/main/web-examples/bert_qa_rahul_agarwal.ipynb\" target=\"_parent\"><img src=\"https://colab.research.google.com/assets/colab-badge.svg\" alt=\"Open In Colab\"/></a>"
      ]
    },
    {
      "cell_type": "code",
      "source": [
        "!pip install torch\n",
        "!pip install transformers\n"
      ],
      "metadata": {
        "colab": {
          "base_uri": "https://localhost:8080/"
        },
        "id": "Rna0-Tcd03L2",
        "outputId": "d1eb48a7-0a5d-4f8d-a966-bc6dedf379bf"
      },
      "execution_count": 1,
      "outputs": [
        {
          "output_type": "stream",
          "name": "stdout",
          "text": [
            "Requirement already satisfied: torch in /usr/local/lib/python3.7/dist-packages (1.10.0+cu111)\n",
            "Requirement already satisfied: typing-extensions in /usr/local/lib/python3.7/dist-packages (from torch) (3.10.0.2)\n",
            "Collecting transformers\n",
            "  Downloading transformers-4.14.1-py3-none-any.whl (3.4 MB)\n",
            "\u001b[K     |████████████████████████████████| 3.4 MB 15.6 MB/s \n",
            "\u001b[?25hRequirement already satisfied: importlib-metadata in /usr/local/lib/python3.7/dist-packages (from transformers) (4.8.2)\n",
            "Collecting sacremoses\n",
            "  Downloading sacremoses-0.0.46-py3-none-any.whl (895 kB)\n",
            "\u001b[K     |████████████████████████████████| 895 kB 59.5 MB/s \n",
            "\u001b[?25hRequirement already satisfied: numpy>=1.17 in /usr/local/lib/python3.7/dist-packages (from transformers) (1.19.5)\n",
            "Collecting pyyaml>=5.1\n",
            "  Downloading PyYAML-6.0-cp37-cp37m-manylinux_2_5_x86_64.manylinux1_x86_64.manylinux_2_12_x86_64.manylinux2010_x86_64.whl (596 kB)\n",
            "\u001b[K     |████████████████████████████████| 596 kB 60.0 MB/s \n",
            "\u001b[?25hCollecting tokenizers<0.11,>=0.10.1\n",
            "  Downloading tokenizers-0.10.3-cp37-cp37m-manylinux_2_5_x86_64.manylinux1_x86_64.manylinux_2_12_x86_64.manylinux2010_x86_64.whl (3.3 MB)\n",
            "\u001b[K     |████████████████████████████████| 3.3 MB 17.4 MB/s \n",
            "\u001b[?25hRequirement already satisfied: filelock in /usr/local/lib/python3.7/dist-packages (from transformers) (3.4.0)\n",
            "Requirement already satisfied: packaging>=20.0 in /usr/local/lib/python3.7/dist-packages (from transformers) (21.3)\n",
            "Collecting huggingface-hub<1.0,>=0.1.0\n",
            "  Downloading huggingface_hub-0.2.1-py3-none-any.whl (61 kB)\n",
            "\u001b[K     |████████████████████████████████| 61 kB 662 kB/s \n",
            "\u001b[?25hRequirement already satisfied: regex!=2019.12.17 in /usr/local/lib/python3.7/dist-packages (from transformers) (2019.12.20)\n",
            "Requirement already satisfied: requests in /usr/local/lib/python3.7/dist-packages (from transformers) (2.23.0)\n",
            "Requirement already satisfied: tqdm>=4.27 in /usr/local/lib/python3.7/dist-packages (from transformers) (4.62.3)\n",
            "Requirement already satisfied: typing-extensions>=3.7.4.3 in /usr/local/lib/python3.7/dist-packages (from huggingface-hub<1.0,>=0.1.0->transformers) (3.10.0.2)\n",
            "Requirement already satisfied: pyparsing!=3.0.5,>=2.0.2 in /usr/local/lib/python3.7/dist-packages (from packaging>=20.0->transformers) (3.0.6)\n",
            "Requirement already satisfied: zipp>=0.5 in /usr/local/lib/python3.7/dist-packages (from importlib-metadata->transformers) (3.6.0)\n",
            "Requirement already satisfied: idna<3,>=2.5 in /usr/local/lib/python3.7/dist-packages (from requests->transformers) (2.10)\n",
            "Requirement already satisfied: certifi>=2017.4.17 in /usr/local/lib/python3.7/dist-packages (from requests->transformers) (2021.10.8)\n",
            "Requirement already satisfied: chardet<4,>=3.0.2 in /usr/local/lib/python3.7/dist-packages (from requests->transformers) (3.0.4)\n",
            "Requirement already satisfied: urllib3!=1.25.0,!=1.25.1,<1.26,>=1.21.1 in /usr/local/lib/python3.7/dist-packages (from requests->transformers) (1.24.3)\n",
            "Requirement already satisfied: joblib in /usr/local/lib/python3.7/dist-packages (from sacremoses->transformers) (1.1.0)\n",
            "Requirement already satisfied: click in /usr/local/lib/python3.7/dist-packages (from sacremoses->transformers) (7.1.2)\n",
            "Requirement already satisfied: six in /usr/local/lib/python3.7/dist-packages (from sacremoses->transformers) (1.15.0)\n",
            "Installing collected packages: pyyaml, tokenizers, sacremoses, huggingface-hub, transformers\n",
            "  Attempting uninstall: pyyaml\n",
            "    Found existing installation: PyYAML 3.13\n",
            "    Uninstalling PyYAML-3.13:\n",
            "      Successfully uninstalled PyYAML-3.13\n",
            "Successfully installed huggingface-hub-0.2.1 pyyaml-6.0 sacremoses-0.0.46 tokenizers-0.10.3 transformers-4.14.1\n"
          ]
        }
      ]
    },
    {
      "cell_type": "code",
      "execution_count": 19,
      "metadata": {
        "id": "t_JMQ1o-0ra6"
      },
      "outputs": [],
      "source": [
        "import torch\n",
        "from torch.utils.data import Dataset\n",
        "from torchvision import datasets\n",
        "from torchvision.transforms import ToTensor\n",
        "import matplotlib.pyplot as plt\n",
        "#from datasets import load_dataset, load_metric\n",
        "import random\n",
        "from transformers import AutoTokenizer\n",
        "import transformers\n",
        "from transformers import AutoModelForQuestionAnswering, TrainingArguments, Trainer\n",
        "import torch\n",
        "from transformers import default_data_collator\n",
        "from transformers import AutoTokenizer, AutoModelForQuestionAnswering\n",
        "import torch\n",
        "\n",
        "cuda = torch.device('cuda')\n",
        "torch.set_default_tensor_type('torch.cuda.FloatTensor')\n",
        "bert_model_name = \"bert-large-uncased-whole-word-masking-finetuned-squad\"\n",
        "tokenizer = AutoTokenizer.from_pretrained(bert_model_name)\n",
        "model = AutoModelForQuestionAnswering.from_pretrained(bert_model_name)\n"
      ]
    },
    {
      "cell_type": "code",
      "source": [
        "import time\n",
        "text = r\"\"\"\n",
        "🤗 Transformers (formerly known as pytorch-transformers and pytorch-pretrained-bert) provides general-purpose\n",
        "architectures (BERT, GPT-2, RoBERTa, XLM, DistilBert, XLNet…) for Natural Language Understanding (NLU) and Natural\n",
        "Language Generation (NLG) with over 32+ pretrained models in 100+ languages and deep interoperability between\n",
        "TensorFlow 2.0 and PyTorch.\n",
        "\"\"\"\n",
        "questions = [\n",
        "    \"How many pretrained models are available in Transformers?\",\n",
        "    \"What does Transformers provide?\",\n",
        "    \"Transformers provides interoperability between which frameworks?\",\n",
        "]\n",
        "for question in questions:\n",
        "    t1 = time.monotonic()\n",
        "    inputs = tokenizer.encode_plus(\\\n",
        "                question,\\\n",
        "                text,\\\n",
        "                add_special_tokens=True,\\\n",
        "                return_tensors=\"pt\")\n",
        "\n",
        "    input_ids = inputs[\"input_ids\"].tolist()[0]\n",
        "    text_tokens = tokenizer.convert_ids_to_tokens(input_ids)\n",
        "\n",
        "    pred = model(**inputs)\n",
        "    answer_start_scores = pred['start_logits'][0]\n",
        "    answer_end_scores = pred['end_logits'][0]\n",
        "\n",
        "    # Get the most likely beginning of answer with the argmax of the score\n",
        "    answer_start = torch.argmax(answer_start_scores)\n",
        "    # Get the most likely end of answer with the argmax of the score\n",
        "    answer_end = torch.argmax(answer_end_scores) + 1\n",
        "\n",
        "    print(answer_start_scores.detach().cpu().numpy().shape)\n",
        "    print(answer_end_scores.detach().cpu().numpy().shape)\n",
        "    print(answer_start, answer_end)\n",
        "\n",
        "    print(\"--->\\n\", inputs['input_ids'].detach().cpu().numpy())\n",
        "\n",
        "\n",
        "    answer = tokenizer\\\n",
        "                    .convert_tokens_to_string(\\\n",
        "                        tokenizer.convert_ids_to_tokens(\\\n",
        "                            input_ids[answer_start:answer_end]))\n",
        "    print(f\"Question: {question}\")\n",
        "    print(f\"Answer: {answer}\\n\")\n",
        "    print(f\"Time taken = {time.monotonic() - t1}\")"
      ],
      "metadata": {
        "colab": {
          "base_uri": "https://localhost:8080/"
        },
        "id": "vvXNHYJD05Fm",
        "outputId": "c49cc6e3-26c2-4db9-e7a4-9aa3739f707c"
      },
      "execution_count": 22,
      "outputs": [
        {
          "output_type": "stream",
          "name": "stdout",
          "text": [
            "(110,)\n",
            "(110,)\n",
            "tensor(81) tensor(84)\n",
            "--->\n",
            " [[  101  2129  2116  3653 23654  2098  4275  2024  2800  1999 19081  1029\n",
            "    102   100 19081  1006  3839  2124  2004  1052 22123  2953  2818  1011\n",
            "  19081  1998  1052 22123  2953  2818  1011  3653 23654  2098  1011 14324\n",
            "   1007  3640  2236  1011  3800  4294  2015  1006 14324  1010 14246  2102\n",
            "   1011  1016  1010 23455  1010 28712  2213  1010  4487 16643 23373  1010\n",
            "  28712  7159  1529  1007  2005  3019  2653  4824  1006 17953  2226  1007\n",
            "   1998  3019  2653  4245  1006 17953  2290  1007  2007  2058  3590  1009\n",
            "   3653 23654  2098  4275  1999  2531  1009  4155  1998  2784  6970 25918\n",
            "   8010  2090 23435 12314  1016  1012  1014  1998  1052 22123  2953  2818\n",
            "   1012   102]]\n",
            "Question: How many pretrained models are available in Transformers?\n",
            "Answer: over 32 +\n",
            "\n",
            "Time taken = 0.054235806999940905\n",
            "(104,)\n",
            "(104,)\n",
            "tensor(32) tensor(37)\n",
            "--->\n",
            " [[  101  2054  2515 19081  3073  1029   102   100 19081  1006  3839  2124\n",
            "   2004  1052 22123  2953  2818  1011 19081  1998  1052 22123  2953  2818\n",
            "   1011  3653 23654  2098  1011 14324  1007  3640  2236  1011  3800  4294\n",
            "   2015  1006 14324  1010 14246  2102  1011  1016  1010 23455  1010 28712\n",
            "   2213  1010  4487 16643 23373  1010 28712  7159  1529  1007  2005  3019\n",
            "   2653  4824  1006 17953  2226  1007  1998  3019  2653  4245  1006 17953\n",
            "   2290  1007  2007  2058  3590  1009  3653 23654  2098  4275  1999  2531\n",
            "   1009  4155  1998  2784  6970 25918  8010  2090 23435 12314  1016  1012\n",
            "   1014  1998  1052 22123  2953  2818  1012   102]]\n",
            "Question: What does Transformers provide?\n",
            "Answer: general - purpose architectures\n",
            "\n",
            "Time taken = 0.054389869000033286\n",
            "(109,)\n",
            "(109,)\n",
            "tensor(97) tensor(107)\n",
            "--->\n",
            " [[  101 19081  3640  6970 25918  8010  2090  2029  7705  2015  1029   102\n",
            "    100 19081  1006  3839  2124  2004  1052 22123  2953  2818  1011 19081\n",
            "   1998  1052 22123  2953  2818  1011  3653 23654  2098  1011 14324  1007\n",
            "   3640  2236  1011  3800  4294  2015  1006 14324  1010 14246  2102  1011\n",
            "   1016  1010 23455  1010 28712  2213  1010  4487 16643 23373  1010 28712\n",
            "   7159  1529  1007  2005  3019  2653  4824  1006 17953  2226  1007  1998\n",
            "   3019  2653  4245  1006 17953  2290  1007  2007  2058  3590  1009  3653\n",
            "  23654  2098  4275  1999  2531  1009  4155  1998  2784  6970 25918  8010\n",
            "   2090 23435 12314  1016  1012  1014  1998  1052 22123  2953  2818  1012\n",
            "    102]]\n",
            "Question: Transformers provides interoperability between which frameworks?\n",
            "Answer: tensorflow 2. 0 and pytorch\n",
            "\n",
            "Time taken = 0.031039932000112458\n"
          ]
        }
      ]
    },
    {
      "cell_type": "code",
      "source": [
        "!nvidia-smi"
      ],
      "metadata": {
        "colab": {
          "base_uri": "https://localhost:8080/"
        },
        "id": "qTS5DAXV20Gm",
        "outputId": "6b3d3762-a497-425c-f0da-a8e7379afce6"
      },
      "execution_count": 6,
      "outputs": [
        {
          "output_type": "stream",
          "name": "stdout",
          "text": [
            "Fri Dec 17 19:33:44 2021       \n",
            "+-----------------------------------------------------------------------------+\n",
            "| NVIDIA-SMI 495.44       Driver Version: 460.32.03    CUDA Version: 11.2     |\n",
            "|-------------------------------+----------------------+----------------------+\n",
            "| GPU  Name        Persistence-M| Bus-Id        Disp.A | Volatile Uncorr. ECC |\n",
            "| Fan  Temp  Perf  Pwr:Usage/Cap|         Memory-Usage | GPU-Util  Compute M. |\n",
            "|                               |                      |               MIG M. |\n",
            "|===============================+======================+======================|\n",
            "|   0  Tesla P100-PCIE...  Off  | 00000000:00:04.0 Off |                    0 |\n",
            "| N/A   31C    P0    25W / 250W |      0MiB / 16280MiB |      0%      Default |\n",
            "|                               |                      |                  N/A |\n",
            "+-------------------------------+----------------------+----------------------+\n",
            "                                                                               \n",
            "+-----------------------------------------------------------------------------+\n",
            "| Processes:                                                                  |\n",
            "|  GPU   GI   CI        PID   Type   Process name                  GPU Memory |\n",
            "|        ID   ID                                                   Usage      |\n",
            "|=============================================================================|\n",
            "|  No running processes found                                                 |\n",
            "+-----------------------------------------------------------------------------+\n"
          ]
        }
      ]
    },
    {
      "cell_type": "code",
      "source": [
        ""
      ],
      "metadata": {
        "id": "YsSopevr3_pc"
      },
      "execution_count": null,
      "outputs": []
    }
  ]
}